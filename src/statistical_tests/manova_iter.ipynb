{
 "cells": [
  {
   "cell_type": "code",
   "execution_count": 1,
   "metadata": {},
   "outputs": [],
   "source": [
    "import pandas as pd\n",
    "from statsmodels.multivariate.manova import MANOVA\n",
    "from scipy import stats"
   ]
  },
  {
   "cell_type": "code",
   "execution_count": 2,
   "metadata": {},
   "outputs": [],
   "source": [
    "#TEST MANOVA PARA EVALUAR SI LA HIPOTESIS NULA DE LOS GRTUPOS NO TIENEN DIFERENCIAS MULTIVARIANTES.\n",
    "#Un valor cercano a 1 indica que los grupos son similares; cercano a 0, los grupos son diferentes.\n",
    "'''El Intercept representa el término constante en el modelo. Es el valor promedio de las variables \n",
    "dependientes cuando todas las variables independientes son cero (en este caso, antes de considerar la influencia de target)'''\n",
    "def manova_test(df, name_columns, name):\n",
    "    formula = ' + '.join(name_columns) + ' ~ target'\n",
    "    manova = MANOVA.from_formula(formula, data=df)\n",
    "    result = manova.mv_test()\n",
    "    #Solo toma los resultados del target\n",
    "    stat_table = result.results['target']['stat']\n",
    "    df_stats = pd.DataFrame(stat_table).reset_index().rename(columns={'index': 'Test'})\n",
    "    return df_stats"
   ]
  },
  {
   "cell_type": "code",
   "execution_count": 3,
   "metadata": {},
   "outputs": [],
   "source": [
    "df=pd.read_csv('../../data/described/described_antiviral_homology_90.csv')"
   ]
  },
  {
   "cell_type": "code",
   "execution_count": 4,
   "metadata": {},
   "outputs": [],
   "source": [
    "df['target'] = df['target'].astype(str)\n",
    "df = df.rename(columns=lambda x: x.replace(\" \", \"_\"))"
   ]
  },
  {
   "cell_type": "code",
   "execution_count": 5,
   "metadata": {},
   "outputs": [],
   "source": [
    "df_high = df[df['target'] == '2']\n",
    "df_mid = df[df['target'] == '1']\n",
    "df_low = df[df['target'] == '0']"
   ]
  },
  {
   "cell_type": "code",
   "execution_count": 6,
   "metadata": {},
   "outputs": [],
   "source": [
    "all_col = [\n",
    "    'Molecular_Weight', 'Isoelectric_point', 'Charge_density', 'Charge',\n",
    "    'Instability_index', 'Aromaticity', 'Aliphatic_index', 'Boman_index', 'Hydrophobic_ratio',\n",
    "    'freq_A', 'freq_C', 'freq_D', 'freq_E', 'freq_F', 'freq_G', 'freq_H', 'freq_I',\n",
    "    'freq_N', 'freq_K', 'freq_L', 'freq_M', 'freq_P', 'freq_Q', 'freq_R',\n",
    "    'freq_S', 'freq_T', 'freq_V', 'freq_W', 'freq_Y'\n",
    "]"
   ]
  },
  {
   "cell_type": "code",
   "execution_count": 7,
   "metadata": {},
   "outputs": [],
   "source": [
    "property_columns = [\n",
    "    'Molecular_Weight', 'Isoelectric_point', 'Charge_density', 'Charge',\n",
    "    'Instability_index', 'Aromaticity', 'Aliphatic_index', 'Boman_index', 'Hydrophobic_ratio'\n",
    "]\n",
    "\n",
    "aminoacid_columns = [\n",
    "    'freq_A', 'freq_C', 'freq_D', 'freq_E', 'freq_F', 'freq_G', 'freq_H', 'freq_I',\n",
    "    'freq_N', 'freq_K', 'freq_L', 'freq_M', 'freq_P', 'freq_Q', 'freq_R',\n",
    "    'freq_S', 'freq_T', 'freq_V', 'freq_W', 'freq_Y'\n",
    "]"
   ]
  },
  {
   "cell_type": "code",
   "execution_count": 8,
   "metadata": {},
   "outputs": [],
   "source": [
    "n_iterations = 1000\n",
    "n_samples = min(len(df_high), len(df_mid), len(df_low)) \n",
    "i=0\n",
    "results_list = []\n",
    "post_hoc_results_list = []"
   ]
  },
  {
   "cell_type": "code",
   "execution_count": 9,
   "metadata": {},
   "outputs": [],
   "source": [
    "res_prop=manova_test(df, property_columns, 'prop')\n",
    "res_amino=manova_test(df, aminoacid_columns, 'amino')\n",
    "res_all=manova_test(df, all_col, 'all')"
   ]
  },
  {
   "cell_type": "code",
   "execution_count": 10,
   "metadata": {},
   "outputs": [],
   "source": [
    "res_prop_list= []\n",
    "res_amino_list= []\n",
    "res_all_list= []"
   ]
  },
  {
   "cell_type": "code",
   "execution_count": 11,
   "metadata": {},
   "outputs": [],
   "source": [
    "for i in range(n_iterations):\n",
    "    high_sample = df_high.sample(n=n_samples, replace=False, random_state=i)\n",
    "    mid_sample = df_mid.sample(n=n_samples, replace=False, random_state=i)\n",
    "    low_sample = df_low.sample(n=n_samples, replace=False, random_state=i)\n",
    "    df_sample = pd.concat([high_sample, mid_sample, low_sample], axis=0)\n",
    "\n",
    "    res_prop_list.append(manova_test(df_sample, property_columns, 'prop'))\n",
    "    res_amino_list.append(manova_test(df_sample, aminoacid_columns, 'amino'))\n",
    "    res_all_list.append(manova_test(df_sample, all_col, 'all'))"
   ]
  },
  {
   "cell_type": "code",
   "execution_count": 12,
   "metadata": {},
   "outputs": [],
   "source": [
    "res_prop_list = pd.concat(res_prop_list, axis=0).reset_index(drop=True)\n",
    "res_amino_list = pd.concat(res_amino_list, axis=0).reset_index(drop=True)\n",
    "res_all_list = pd.concat(res_all_list, axis=0).reset_index(drop=True)"
   ]
  },
  {
   "cell_type": "code",
   "execution_count": 13,
   "metadata": {},
   "outputs": [
    {
     "data": {
      "application/vnd.microsoft.datawrangler.viewer.v0+json": {
       "columns": [
        {
         "name": "index",
         "rawType": "int64",
         "type": "integer"
        },
        {
         "name": "Test",
         "rawType": "object",
         "type": "string"
        },
        {
         "name": "Value",
         "rawType": "object",
         "type": "unknown"
        },
        {
         "name": "Num DF",
         "rawType": "object",
         "type": "unknown"
        },
        {
         "name": "Den DF",
         "rawType": "object",
         "type": "unknown"
        },
        {
         "name": "F Value",
         "rawType": "object",
         "type": "unknown"
        },
        {
         "name": "Pr > F",
         "rawType": "object",
         "type": "unknown"
        }
       ],
       "conversionMethod": "pd.DataFrame",
       "ref": "19f9f285-6c08-4dd6-b71d-a0deb30d4009",
       "rows": [
        [
         "0",
         "Wilks' lambda",
         "0.8679088663141944",
         "18",
         "1166.0",
         "4.7549044759678525",
         "2.3897702203779687e-10"
        ],
        [
         "1",
         "Pillai's trace",
         "0.13530800974965468",
         "18.0",
         "1168.0",
         "4.7085451411432695",
         "3.2789477253718627e-10"
        ],
        [
         "2",
         "Hotelling-Lawley trace",
         "0.14848823721464582",
         "18",
         "967.8958810068611",
         "4.802794520057915",
         "2.0912701419258641e-10"
        ],
        [
         "3",
         "Roy's greatest root",
         "0.1167379014593284",
         "9",
         "584",
         "7.57499271691642",
         "1.5341450212062686e-10"
        ],
        [
         "4",
         "Wilks' lambda",
         "0.8674158025339782",
         "18",
         "1166.0",
         "4.774663844218988",
         "2.0866533731421113e-10"
        ],
        [
         "5",
         "Pillai's trace",
         "0.13588387029106017",
         "18.0",
         "1168.0",
         "4.730045097826347",
         "2.829585077874376e-10"
        ],
        [
         "6",
         "Hotelling-Lawley trace",
         "0.14904561833356617",
         "18",
         "967.8958810068611",
         "4.820822796463841",
         "1.8506965651249024e-10"
        ],
        [
         "7",
         "Roy's greatest root",
         "0.1163512975594821",
         "9",
         "584",
         "7.549906419415283",
         "1.6804032868079025e-10"
        ],
        [
         "8",
         "Wilks' lambda",
         "0.8364181572702137",
         "18",
         "1166.0",
         "6.051745584852049",
         "2.8418654248316957e-14"
        ],
        [
         "9",
         "Pillai's trace",
         "0.1682161614100969",
         "18.0",
         "1168.0",
         "5.958868932623491",
         "5.4523714776395784e-14"
        ],
        [
         "10",
         "Hotelling-Lawley trace",
         "0.1900335647521411",
         "18",
         "967.8958810068611",
         "6.146562047869962",
         "2.049665331265839e-14"
        ],
        [
         "11",
         "Roy's greatest root",
         "0.1540719846357715",
         "9",
         "584",
         "9.997559891921172",
         "2.3783453690648768e-14"
        ],
        [
         "12",
         "Wilks' lambda",
         "0.8637013736001952",
         "18",
         "1166.0",
         "4.924061797666206",
         "7.463732814563055e-11"
        ],
        [
         "13",
         "Pillai's trace",
         "0.13916806833030915",
         "18.0",
         "1168.0",
         "4.852916144159164",
         "1.2164356188971987e-10"
        ],
        [
         "14",
         "Hotelling-Lawley trace",
         "0.15448532160267742",
         "18",
         "967.8958810068611",
         "4.99676789179057",
         "5.598330066677822e-11"
        ],
        [
         "15",
         "Roy's greatest root",
         "0.12866412539440683",
         "9",
         "584",
         "8.348872136703731",
         "9.250540108861775e-12"
        ],
        [
         "16",
         "Wilks' lambda",
         "0.8350480829079652",
         "18",
         "1166.0",
         "6.10982723562845",
         "1.8868060250264947e-14"
        ],
        [
         "17",
         "Pillai's trace",
         "0.16800602191001243",
         "18.0",
         "1168.0",
         "5.9507423161669015",
         "5.773450336913267e-14"
        ],
        [
         "18",
         "Hotelling-Lawley trace",
         "0.19387843117999315",
         "18",
         "967.8958810068611",
         "6.270922763280362",
         "8.648121251356456e-15"
        ],
        [
         "19",
         "Roy's greatest root",
         "0.17270075971129925",
         "9",
         "584",
         "11.206360407933195",
         "3.0976597121984006e-16"
        ],
        [
         "20",
         "Wilks' lambda",
         "0.8672869854842407",
         "18",
         "1166.0",
         "4.779828920957779",
         "2.013940063451778e-10"
        ],
        [
         "21",
         "Pillai's trace",
         "0.13463543208929699",
         "18.0",
         "1168.0",
         "4.683451022732279",
         "3.8939629271019683e-10"
        ],
        [
         "22",
         "Hotelling-Lawley trace",
         "0.1508042886971215",
         "18",
         "967.8958810068611",
         "4.877706308202633",
         "1.2580698114954349e-10"
        ],
        [
         "23",
         "Roy's greatest root",
         "0.1342994768613407",
         "9",
         "584",
         "8.71454383189144",
         "2.4569866030703713e-12"
        ],
        [
         "24",
         "Wilks' lambda",
         "0.8381192920368995",
         "18",
         "1166.0",
         "5.979827560746002",
         "4.717024908199603e-14"
        ],
        [
         "25",
         "Pillai's trace",
         "0.16610113296156048",
         "18.0",
         "1168.0",
         "5.877160488389866",
         "9.689647154600104e-14"
        ],
        [
         "26",
         "Hotelling-Lawley trace",
         "0.18811198413232466",
         "18",
         "967.8958810068611",
         "6.084409266991009",
         "3.1536826187191254e-14"
        ],
        [
         "27",
         "Roy's greatest root",
         "0.15578880178248056",
         "9",
         "584",
         "10.108962248996516",
         "1.5920848680851457e-14"
        ],
        [
         "28",
         "Wilks' lambda",
         "0.8387053592760462",
         "18",
         "1166.0",
         "5.9551013796031125",
         "5.614091954199691e-14"
        ],
        [
         "29",
         "Pillai's trace",
         "0.1652038559308671",
         "18.0",
         "1168.0",
         "5.842553509917409",
         "1.2359101020977817e-13"
        ],
        [
         "30",
         "Hotelling-Lawley trace",
         "0.18765281964204059",
         "18",
         "967.8958810068611",
         "6.069557769396936",
         "3.4955631129457604e-14"
        ],
        [
         "31",
         "Roy's greatest root",
         "0.15818776328983464",
         "9",
         "584",
         "10.264628195695936",
         "9.090319949823404e-15"
        ],
        [
         "32",
         "Wilks' lambda",
         "0.841419770980846",
         "18",
         "1166.0",
         "5.840917438349789",
         "1.2534443096115103e-13"
        ],
        [
         "33",
         "Pillai's trace",
         "0.16173960160269787",
         "18.0",
         "1168.0",
         "5.7092580825223855",
         "3.1514129848061603e-13"
        ],
        [
         "34",
         "Hotelling-Lawley trace",
         "0.18471262715212375",
         "18",
         "967.8958810068611",
         "5.974458382109609",
         "6.754262491830191e-14"
        ],
        [
         "35",
         "Roy's greatest root",
         "0.1614567999378186",
         "9",
         "584",
         "10.476752351520673",
         "4.2390531436833465e-15"
        ],
        [
         "36",
         "Wilks' lambda",
         "0.8648114129394504",
         "18",
         "1166.0",
         "4.879314106659485",
         "1.0159946330835748e-10"
        ],
        [
         "37",
         "Pillai's trace",
         "0.1376271615057011",
         "18.0",
         "1168.0",
         "4.795212540930719",
         "1.8090016812697528e-10"
        ],
        [
         "38",
         "Hotelling-Lawley trace",
         "0.15350168907251988",
         "18",
         "967.8958810068611",
         "4.964952678584406",
         "6.952235159259323e-11"
        ],
        [
         "39",
         "Roy's greatest root",
         "0.13216669210700477",
         "9",
         "584",
         "8.57614979894342",
         "4.057371633878376e-12"
        ],
        [
         "40",
         "Wilks' lambda",
         "0.8232706836314432",
         "18",
         "1166.0",
         "6.615072334914775",
         "5.290918224333163e-16"
        ],
        [
         "41",
         "Pillai's trace",
         "0.18240279903614018",
         "18.0",
         "1168.0",
         "6.511847043669477",
         "1.0961252952291306e-15"
        ],
        [
         "42",
         "Hotelling-Lawley trace",
         "0.2077759321471852",
         "18",
         "967.8958810068611",
         "6.720432049266729",
         "3.7963455169365985e-16"
        ],
        [
         "43",
         "Roy's greatest root",
         "0.16634847738280162",
         "9",
         "584",
         "10.79416786572846",
         "1.3561218181507541e-15"
        ],
        [
         "44",
         "Wilks' lambda",
         "0.8440067144176109",
         "18",
         "1166.0",
         "5.732608600924685",
         "2.681830381561173e-13"
        ],
        [
         "45",
         "Pillai's trace",
         "0.15932581385628994",
         "18.0",
         "1168.0",
         "5.616678448733032",
         "6.030196383118984e-13"
        ],
        [
         "46",
         "Hotelling-Lawley trace",
         "0.1808762355804581",
         "18",
         "967.8958810068611",
         "5.8503717826400665",
         "1.59359197710363e-13"
        ],
        [
         "47",
         "Roy's greatest root",
         "0.15548111392194788",
         "9",
         "584",
         "10.088996725601952",
         "1.7107952053837752e-14"
        ],
        [
         "48",
         "Wilks' lambda",
         "0.8615282591197688",
         "18",
         "1166.0",
         "5.011914215001502",
         "4.0693619721291005e-11"
        ],
        [
         "49",
         "Pillai's trace",
         "0.14172461915563858",
         "18.0",
         "1168.0",
         "4.948864500928648",
         "6.278811613827912e-11"
        ]
       ],
       "shape": {
        "columns": 6,
        "rows": 4000
       }
      },
      "text/html": [
       "<div>\n",
       "<style scoped>\n",
       "    .dataframe tbody tr th:only-of-type {\n",
       "        vertical-align: middle;\n",
       "    }\n",
       "\n",
       "    .dataframe tbody tr th {\n",
       "        vertical-align: top;\n",
       "    }\n",
       "\n",
       "    .dataframe thead th {\n",
       "        text-align: right;\n",
       "    }\n",
       "</style>\n",
       "<table border=\"1\" class=\"dataframe\">\n",
       "  <thead>\n",
       "    <tr style=\"text-align: right;\">\n",
       "      <th></th>\n",
       "      <th>Test</th>\n",
       "      <th>Value</th>\n",
       "      <th>Num DF</th>\n",
       "      <th>Den DF</th>\n",
       "      <th>F Value</th>\n",
       "      <th>Pr &gt; F</th>\n",
       "    </tr>\n",
       "  </thead>\n",
       "  <tbody>\n",
       "    <tr>\n",
       "      <th>0</th>\n",
       "      <td>Wilks' lambda</td>\n",
       "      <td>0.867909</td>\n",
       "      <td>18</td>\n",
       "      <td>1166.0</td>\n",
       "      <td>4.754904</td>\n",
       "      <td>0.0</td>\n",
       "    </tr>\n",
       "    <tr>\n",
       "      <th>1</th>\n",
       "      <td>Pillai's trace</td>\n",
       "      <td>0.135308</td>\n",
       "      <td>18.0</td>\n",
       "      <td>1168.0</td>\n",
       "      <td>4.708545</td>\n",
       "      <td>0.0</td>\n",
       "    </tr>\n",
       "    <tr>\n",
       "      <th>2</th>\n",
       "      <td>Hotelling-Lawley trace</td>\n",
       "      <td>0.148488</td>\n",
       "      <td>18</td>\n",
       "      <td>967.895881</td>\n",
       "      <td>4.802795</td>\n",
       "      <td>0.0</td>\n",
       "    </tr>\n",
       "    <tr>\n",
       "      <th>3</th>\n",
       "      <td>Roy's greatest root</td>\n",
       "      <td>0.116738</td>\n",
       "      <td>9</td>\n",
       "      <td>584</td>\n",
       "      <td>7.574993</td>\n",
       "      <td>0.0</td>\n",
       "    </tr>\n",
       "    <tr>\n",
       "      <th>4</th>\n",
       "      <td>Wilks' lambda</td>\n",
       "      <td>0.867416</td>\n",
       "      <td>18</td>\n",
       "      <td>1166.0</td>\n",
       "      <td>4.774664</td>\n",
       "      <td>0.0</td>\n",
       "    </tr>\n",
       "    <tr>\n",
       "      <th>...</th>\n",
       "      <td>...</td>\n",
       "      <td>...</td>\n",
       "      <td>...</td>\n",
       "      <td>...</td>\n",
       "      <td>...</td>\n",
       "      <td>...</td>\n",
       "    </tr>\n",
       "    <tr>\n",
       "      <th>3995</th>\n",
       "      <td>Roy's greatest root</td>\n",
       "      <td>0.152446</td>\n",
       "      <td>9</td>\n",
       "      <td>584</td>\n",
       "      <td>9.892066</td>\n",
       "      <td>0.0</td>\n",
       "    </tr>\n",
       "    <tr>\n",
       "      <th>3996</th>\n",
       "      <td>Wilks' lambda</td>\n",
       "      <td>0.853073</td>\n",
       "      <td>18</td>\n",
       "      <td>1166.0</td>\n",
       "      <td>5.356924</td>\n",
       "      <td>0.0</td>\n",
       "    </tr>\n",
       "    <tr>\n",
       "      <th>3997</th>\n",
       "      <td>Pillai's trace</td>\n",
       "      <td>0.150218</td>\n",
       "      <td>18.0</td>\n",
       "      <td>1168.0</td>\n",
       "      <td>5.269522</td>\n",
       "      <td>0.0</td>\n",
       "    </tr>\n",
       "    <tr>\n",
       "      <th>3998</th>\n",
       "      <td>Hotelling-Lawley trace</td>\n",
       "      <td>0.168375</td>\n",
       "      <td>18</td>\n",
       "      <td>967.895881</td>\n",
       "      <td>5.446027</td>\n",
       "      <td>0.0</td>\n",
       "    </tr>\n",
       "    <tr>\n",
       "      <th>3999</th>\n",
       "      <td>Roy's greatest root</td>\n",
       "      <td>0.14102</td>\n",
       "      <td>9</td>\n",
       "      <td>584</td>\n",
       "      <td>9.150645</td>\n",
       "      <td>0.0</td>\n",
       "    </tr>\n",
       "  </tbody>\n",
       "</table>\n",
       "<p>4000 rows × 6 columns</p>\n",
       "</div>"
      ],
      "text/plain": [
       "                        Test     Value Num DF      Den DF   F Value Pr > F\n",
       "0              Wilks' lambda  0.867909     18      1166.0  4.754904    0.0\n",
       "1             Pillai's trace  0.135308   18.0      1168.0  4.708545    0.0\n",
       "2     Hotelling-Lawley trace  0.148488     18  967.895881  4.802795    0.0\n",
       "3        Roy's greatest root  0.116738      9         584  7.574993    0.0\n",
       "4              Wilks' lambda  0.867416     18      1166.0  4.774664    0.0\n",
       "...                      ...       ...    ...         ...       ...    ...\n",
       "3995     Roy's greatest root  0.152446      9         584  9.892066    0.0\n",
       "3996           Wilks' lambda  0.853073     18      1166.0  5.356924    0.0\n",
       "3997          Pillai's trace  0.150218   18.0      1168.0  5.269522    0.0\n",
       "3998  Hotelling-Lawley trace  0.168375     18  967.895881  5.446027    0.0\n",
       "3999     Roy's greatest root   0.14102      9         584  9.150645    0.0\n",
       "\n",
       "[4000 rows x 6 columns]"
      ]
     },
     "execution_count": 13,
     "metadata": {},
     "output_type": "execute_result"
    }
   ],
   "source": [
    "res_prop_list"
   ]
  },
  {
   "cell_type": "code",
   "execution_count": 14,
   "metadata": {},
   "outputs": [],
   "source": [
    "res_prop_list.to_csv(\"../../rest/manova_prop.csv\", index=False)\n",
    "res_amino_list.to_csv(\"../../rest/manova_amino.csv\", index=False)\n",
    "res_all_list.to_csv(\"../../rest/manova_all.csv\", index=False)"
   ]
  },
  {
   "cell_type": "code",
   "execution_count": 15,
   "metadata": {},
   "outputs": [],
   "source": [
    "cols = [\"Value\", \"Num DF\", \"Den DF\", \"F Value\", \"Pr > F\"]\n",
    "res_prop_list[cols] = res_prop_list[cols].apply(pd.to_numeric, errors='coerce')\n",
    "res_amino_list[cols] = res_amino_list[cols].apply(pd.to_numeric, errors='coerce')\n",
    "res_all_list[cols] = res_all_list[cols].apply(pd.to_numeric, errors='coerce')"
   ]
  },
  {
   "cell_type": "code",
   "execution_count": 31,
   "metadata": {},
   "outputs": [
    {
     "data": {
      "application/vnd.microsoft.datawrangler.viewer.v0+json": {
       "columns": [
        {
         "name": "index",
         "rawType": "int64",
         "type": "integer"
        },
        {
         "name": "Test",
         "rawType": "object",
         "type": "string"
        },
        {
         "name": "Value",
         "rawType": "float64",
         "type": "float"
        },
        {
         "name": "Num DF",
         "rawType": "float64",
         "type": "float"
        },
        {
         "name": "Den DF",
         "rawType": "float64",
         "type": "float"
        },
        {
         "name": "F Value",
         "rawType": "float64",
         "type": "float"
        },
        {
         "name": "Pr > F",
         "rawType": "float64",
         "type": "float"
        }
       ],
       "conversionMethod": "pd.DataFrame",
       "ref": "092dfc35-79b7-44c4-a3e8-4a236d599e1a",
       "rows": [
        [
         "0",
         "Hotelling-Lawley trace",
         "0.40598",
         "48.0",
         "1046.87764",
         "4.79634",
         "0.0"
        ],
        [
         "1",
         "Pillai's trace",
         "0.32343",
         "48.0",
         "1138.0",
         "4.57904",
         "0.0"
        ],
        [
         "2",
         "Roy's greatest root",
         "0.31063",
         "24.0",
         "569.0",
         "7.3646",
         "0.0"
        ],
        [
         "3",
         "Wilks' lambda",
         "0.69712",
         "48.0",
         "1136.0",
         "4.68728",
         "0.0"
        ]
       ],
       "shape": {
        "columns": 6,
        "rows": 4
       }
      },
      "text/html": [
       "<div>\n",
       "<style scoped>\n",
       "    .dataframe tbody tr th:only-of-type {\n",
       "        vertical-align: middle;\n",
       "    }\n",
       "\n",
       "    .dataframe tbody tr th {\n",
       "        vertical-align: top;\n",
       "    }\n",
       "\n",
       "    .dataframe thead th {\n",
       "        text-align: right;\n",
       "    }\n",
       "</style>\n",
       "<table border=\"1\" class=\"dataframe\">\n",
       "  <thead>\n",
       "    <tr style=\"text-align: right;\">\n",
       "      <th></th>\n",
       "      <th>Test</th>\n",
       "      <th>Value</th>\n",
       "      <th>Num DF</th>\n",
       "      <th>Den DF</th>\n",
       "      <th>F Value</th>\n",
       "      <th>Pr &gt; F</th>\n",
       "    </tr>\n",
       "  </thead>\n",
       "  <tbody>\n",
       "    <tr>\n",
       "      <th>0</th>\n",
       "      <td>Hotelling-Lawley trace</td>\n",
       "      <td>0.40598</td>\n",
       "      <td>48.0</td>\n",
       "      <td>1046.87764</td>\n",
       "      <td>4.79634</td>\n",
       "      <td>0.0</td>\n",
       "    </tr>\n",
       "    <tr>\n",
       "      <th>1</th>\n",
       "      <td>Pillai's trace</td>\n",
       "      <td>0.32343</td>\n",
       "      <td>48.0</td>\n",
       "      <td>1138.00000</td>\n",
       "      <td>4.57904</td>\n",
       "      <td>0.0</td>\n",
       "    </tr>\n",
       "    <tr>\n",
       "      <th>2</th>\n",
       "      <td>Roy's greatest root</td>\n",
       "      <td>0.31063</td>\n",
       "      <td>24.0</td>\n",
       "      <td>569.00000</td>\n",
       "      <td>7.36460</td>\n",
       "      <td>0.0</td>\n",
       "    </tr>\n",
       "    <tr>\n",
       "      <th>3</th>\n",
       "      <td>Wilks' lambda</td>\n",
       "      <td>0.69712</td>\n",
       "      <td>48.0</td>\n",
       "      <td>1136.00000</td>\n",
       "      <td>4.68728</td>\n",
       "      <td>0.0</td>\n",
       "    </tr>\n",
       "  </tbody>\n",
       "</table>\n",
       "</div>"
      ],
      "text/plain": [
       "                     Test    Value  Num DF      Den DF  F Value  Pr > F\n",
       "0  Hotelling-Lawley trace  0.40598    48.0  1046.87764  4.79634     0.0\n",
       "1          Pillai's trace  0.32343    48.0  1138.00000  4.57904     0.0\n",
       "2     Roy's greatest root  0.31063    24.0   569.00000  7.36460     0.0\n",
       "3           Wilks' lambda  0.69712    48.0  1136.00000  4.68728     0.0"
      ]
     },
     "execution_count": 31,
     "metadata": {},
     "output_type": "execute_result"
    }
   ],
   "source": [
    "promedios = res_all_list.groupby('Test').mean(numeric_only=True).reset_index()\n",
    "promedios.round(5)"
   ]
  },
  {
   "cell_type": "code",
   "execution_count": 32,
   "metadata": {},
   "outputs": [
    {
     "data": {
      "application/vnd.microsoft.datawrangler.viewer.v0+json": {
       "columns": [
        {
         "name": "index",
         "rawType": "int64",
         "type": "integer"
        },
        {
         "name": "Test",
         "rawType": "object",
         "type": "string"
        },
        {
         "name": "Pr > F",
         "rawType": "float64",
         "type": "float"
        }
       ],
       "conversionMethod": "pd.DataFrame",
       "ref": "0281cabf-1992-426c-903c-0ba068db7dae",
       "rows": [
        [
         "0",
         "Hotelling-Lawley trace",
         "1.9334876267752828e-15"
        ],
        [
         "1",
         "Pillai's trace",
         "1.1188398166772297e-14"
        ],
        [
         "2",
         "Roy's greatest root",
         "1.3577284733647672e-16"
        ],
        [
         "3",
         "Wilks' lambda",
         "4.189726321266044e-15"
        ]
       ],
       "shape": {
        "columns": 2,
        "rows": 4
       }
      },
      "text/html": [
       "<div>\n",
       "<style scoped>\n",
       "    .dataframe tbody tr th:only-of-type {\n",
       "        vertical-align: middle;\n",
       "    }\n",
       "\n",
       "    .dataframe tbody tr th {\n",
       "        vertical-align: top;\n",
       "    }\n",
       "\n",
       "    .dataframe thead th {\n",
       "        text-align: right;\n",
       "    }\n",
       "</style>\n",
       "<table border=\"1\" class=\"dataframe\">\n",
       "  <thead>\n",
       "    <tr style=\"text-align: right;\">\n",
       "      <th></th>\n",
       "      <th>Test</th>\n",
       "      <th>Pr &gt; F</th>\n",
       "    </tr>\n",
       "  </thead>\n",
       "  <tbody>\n",
       "    <tr>\n",
       "      <th>0</th>\n",
       "      <td>Hotelling-Lawley trace</td>\n",
       "      <td>1.933488e-15</td>\n",
       "    </tr>\n",
       "    <tr>\n",
       "      <th>1</th>\n",
       "      <td>Pillai's trace</td>\n",
       "      <td>1.118840e-14</td>\n",
       "    </tr>\n",
       "    <tr>\n",
       "      <th>2</th>\n",
       "      <td>Roy's greatest root</td>\n",
       "      <td>1.357728e-16</td>\n",
       "    </tr>\n",
       "    <tr>\n",
       "      <th>3</th>\n",
       "      <td>Wilks' lambda</td>\n",
       "      <td>4.189726e-15</td>\n",
       "    </tr>\n",
       "  </tbody>\n",
       "</table>\n",
       "</div>"
      ],
      "text/plain": [
       "                     Test        Pr > F\n",
       "0  Hotelling-Lawley trace  1.933488e-15\n",
       "1          Pillai's trace  1.118840e-14\n",
       "2     Roy's greatest root  1.357728e-16\n",
       "3           Wilks' lambda  4.189726e-15"
      ]
     },
     "execution_count": 32,
     "metadata": {},
     "output_type": "execute_result"
    }
   ],
   "source": [
    "promedios_filtered = promedios[[\"Test\", \"Pr > F\"]]\n",
    "promedios_filtered"
   ]
  }
 ],
 "metadata": {
  "kernelspec": {
   "display_name": "ML_Class",
   "language": "python",
   "name": "python3"
  },
  "language_info": {
   "codemirror_mode": {
    "name": "ipython",
    "version": 3
   },
   "file_extension": ".py",
   "mimetype": "text/x-python",
   "name": "python",
   "nbconvert_exporter": "python",
   "pygments_lexer": "ipython3",
   "version": "3.9.21"
  }
 },
 "nbformat": 4,
 "nbformat_minor": 2
}
