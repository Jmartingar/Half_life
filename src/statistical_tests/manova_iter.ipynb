{
 "cells": [
  {
   "cell_type": "code",
   "execution_count": 35,
   "metadata": {},
   "outputs": [],
   "source": [
    "import pandas as pd\n",
    "from statsmodels.multivariate.manova import MANOVA\n",
    "from scipy import stats"
   ]
  },
  {
   "cell_type": "code",
   "execution_count": 36,
   "metadata": {},
   "outputs": [],
   "source": [
    "#TEST MANOVA PARA EVALUAR SI LA HIPOTESIS NULA DE LOS GRTUPOS NO TIENEN DIFERENCIAS MULTIVARIANTES.\n",
    "#Un valor cercano a 1 indica que los grupos son similares; cercano a 0, los grupos son diferentes.\n",
    "'''El Intercept representa el término constante en el modelo. Es el valor promedio de las variables \n",
    "dependientes cuando todas las variables independientes son cero (en este caso, antes de considerar la influencia de target)'''\n",
    "def manova_test(df, name_columns, name):\n",
    "    formula = ' + '.join(name_columns) + ' ~ target'\n",
    "    manova = MANOVA.from_formula(formula, data=df)\n",
    "    result = manova.mv_test()\n",
    "    #Solo toma los resultados del target\n",
    "    stat_table = result.results['target']['stat']\n",
    "    df_stats = pd.DataFrame(stat_table).reset_index().rename(columns={'index': 'Test'})\n",
    "    return df_stats"
   ]
  },
  {
   "cell_type": "code",
   "execution_count": 37,
   "metadata": {},
   "outputs": [],
   "source": [
    "df=pd.read_csv('../../data/described/described_antiviral_homology_90.csv')"
   ]
  },
  {
   "cell_type": "code",
   "execution_count": 38,
   "metadata": {},
   "outputs": [],
   "source": [
    "df['target'] = df['target'].astype(str)\n",
    "df = df.rename(columns=lambda x: x.replace(\" \", \"_\"))"
   ]
  },
  {
   "cell_type": "code",
   "execution_count": 39,
   "metadata": {},
   "outputs": [],
   "source": [
    "df_high = df[df['target'] == '2']\n",
    "df_mid = df[df['target'] == '1']\n",
    "df_low = df[df['target'] == '0']"
   ]
  },
  {
   "cell_type": "code",
   "execution_count": 40,
   "metadata": {},
   "outputs": [],
   "source": [
    "all_col = [\n",
    "    'Molecular_Weight', 'Isoelectric_point', 'Charge_density', 'Charge',\n",
    "    'Instability_index', 'Aromaticity', 'Aliphatic_index', 'Boman_index', 'Hydrophobic_ratio',\n",
    "    'freq_A', 'freq_C', 'freq_D', 'freq_E', 'freq_F', 'freq_G', 'freq_H', 'freq_I',\n",
    "    'freq_N', 'freq_K', 'freq_L', 'freq_M', 'freq_P', 'freq_Q', 'freq_R',\n",
    "    'freq_S', 'freq_T', 'freq_V', 'freq_W', 'freq_Y'\n",
    "]"
   ]
  },
  {
   "cell_type": "code",
   "execution_count": 41,
   "metadata": {},
   "outputs": [],
   "source": [
    "property_columns = [\n",
    "    'Molecular_Weight', 'Isoelectric_point', 'Charge_density', 'Charge',\n",
    "    'Instability_index', 'Aromaticity', 'Aliphatic_index', 'Boman_index', 'Hydrophobic_ratio'\n",
    "]\n",
    "\n",
    "aminoacid_columns = [\n",
    "    'freq_A', 'freq_C', 'freq_D', 'freq_E', 'freq_F', 'freq_G', 'freq_H', 'freq_I',\n",
    "    'freq_N', 'freq_K', 'freq_L', 'freq_M', 'freq_P', 'freq_Q', 'freq_R',\n",
    "    'freq_S', 'freq_T', 'freq_V', 'freq_W', 'freq_Y'\n",
    "]"
   ]
  },
  {
   "cell_type": "code",
   "execution_count": 42,
   "metadata": {},
   "outputs": [],
   "source": [
    "n_iterations = 1000\n",
    "n_samples = min(len(df_high), len(df_mid), len(df_low)) \n",
    "i=0\n",
    "results_list = []\n",
    "post_hoc_results_list = []"
   ]
  },
  {
   "cell_type": "code",
   "execution_count": 43,
   "metadata": {},
   "outputs": [],
   "source": [
    "res_prop=manova_test(df, property_columns, 'prop')\n",
    "res_amino=manova_test(df, aminoacid_columns, 'amino')\n",
    "res_all=manova_test(df, all_col, 'all')"
   ]
  },
  {
   "cell_type": "code",
   "execution_count": 44,
   "metadata": {},
   "outputs": [],
   "source": [
    "res_prop_list= []\n",
    "res_amino_list= []\n",
    "res_all_list= []"
   ]
  },
  {
   "cell_type": "code",
   "execution_count": 45,
   "metadata": {},
   "outputs": [],
   "source": [
    "for i in range(n_iterations):\n",
    "    high_sample = df_high.sample(n=n_samples, replace=False, random_state=i)\n",
    "    mid_sample = df_mid.sample(n=n_samples, replace=False, random_state=i)\n",
    "    low_sample = df_low.sample(n=n_samples, replace=False, random_state=i)\n",
    "    df_sample = pd.concat([high_sample, mid_sample, low_sample], axis=0)\n",
    "\n",
    "    res_prop_list.append(manova_test(df_sample, property_columns, 'prop'))\n",
    "    res_amino_list.append(manova_test(df_sample, aminoacid_columns, 'amino'))\n",
    "    res_all_list.append(manova_test(df_sample, all_col, 'all'))"
   ]
  },
  {
   "cell_type": "code",
   "execution_count": 46,
   "metadata": {},
   "outputs": [],
   "source": [
    "res_prop_list = pd.concat(res_prop_list, axis=0).reset_index(drop=True)\n",
    "res_amino_list = pd.concat(res_amino_list, axis=0).reset_index(drop=True)\n",
    "res_all_list = pd.concat(res_all_list, axis=0).reset_index(drop=True)"
   ]
  },
  {
   "cell_type": "code",
   "execution_count": 47,
   "metadata": {},
   "outputs": [
    {
     "data": {
      "application/vnd.microsoft.datawrangler.viewer.v0+json": {
       "columns": [
        {
         "name": "index",
         "rawType": "int64",
         "type": "integer"
        },
        {
         "name": "Test",
         "rawType": "object",
         "type": "string"
        },
        {
         "name": "Value",
         "rawType": "object",
         "type": "unknown"
        },
        {
         "name": "Num DF",
         "rawType": "object",
         "type": "unknown"
        },
        {
         "name": "Den DF",
         "rawType": "object",
         "type": "unknown"
        },
        {
         "name": "F Value",
         "rawType": "object",
         "type": "unknown"
        },
        {
         "name": "Pr > F",
         "rawType": "object",
         "type": "unknown"
        }
       ],
       "conversionMethod": "pd.DataFrame",
       "ref": "86eda999-faf5-4950-91f6-93ef30c6d03a",
       "rows": [
        [
         "0",
         "Wilks' lambda",
         "0.8679088663141945",
         "18",
         "1166.0",
         "4.7549044759678445",
         "2.3897702203780876e-10"
        ],
        [
         "1",
         "Pillai's trace",
         "0.13530800974965462",
         "18.0",
         "1168.0",
         "4.708545141143268",
         "3.2789477253718627e-10"
        ],
        [
         "2",
         "Hotelling-Lawley trace",
         "0.1484882372146459",
         "18",
         "967.8958810068611",
         "4.802794520057918",
         "2.0912701419258641e-10"
        ],
        [
         "3",
         "Roy's greatest root",
         "0.11673790145932948",
         "9",
         "584",
         "7.574992716916491",
         "1.534145021205887e-10"
        ],
        [
         "4",
         "Wilks' lambda",
         "0.8674158025339801",
         "18",
         "1166.0",
         "4.774663844218915",
         "2.0866533731431713e-10"
        ],
        [
         "5",
         "Pillai's trace",
         "0.13588387029105808",
         "18.0",
         "1168.0",
         "4.730045097826269",
         "2.8295850778758034e-10"
        ],
        [
         "6",
         "Hotelling-Lawley trace",
         "0.1490456183335639",
         "18",
         "967.8958810068611",
         "4.8208227964637675",
         "1.8506965651258624e-10"
        ],
        [
         "7",
         "Roy's greatest root",
         "0.11635129755948179",
         "9",
         "584",
         "7.5499064194152625",
         "1.6804032868079622e-10"
        ],
        [
         "8",
         "Wilks' lambda",
         "0.836418157270215",
         "18",
         "1166.0",
         "6.051745584851997",
         "2.8418654248327458e-14"
        ],
        [
         "9",
         "Pillai's trace",
         "0.1682161614100954",
         "18.0",
         "1168.0",
         "5.9588689326234325",
         "5.452371477641884e-14"
        ],
        [
         "10",
         "Hotelling-Lawley trace",
         "0.19003356475213948",
         "18",
         "967.8958810068611",
         "6.146562047869911",
         "2.0496653312664727e-14"
        ],
        [
         "11",
         "Roy's greatest root",
         "0.15407198463577143",
         "9",
         "584",
         "9.997559891921169",
         "2.378345369065029e-14"
        ],
        [
         "12",
         "Wilks' lambda",
         "0.8637013736001969",
         "18",
         "1166.0",
         "4.9240617976661305",
         "7.463732814566874e-11"
        ],
        [
         "13",
         "Pillai's trace",
         "0.13916806833030732",
         "18.0",
         "1168.0",
         "4.852916144159096",
         "1.2164356188978253e-10"
        ],
        [
         "14",
         "Hotelling-Lawley trace",
         "0.15448532160267542",
         "18",
         "967.8958810068611",
         "4.996767891790505",
         "5.598330066680249e-11"
        ],
        [
         "15",
         "Roy's greatest root",
         "0.12866412539440614",
         "9",
         "584",
         "8.348872136703687",
         "9.250540108862992e-12"
        ],
        [
         "16",
         "Wilks' lambda",
         "0.8350480829079635",
         "18",
         "1166.0",
         "6.109827235628528",
         "1.886806025025563e-14"
        ],
        [
         "17",
         "Pillai's trace",
         "0.16800602191001407",
         "18.0",
         "1168.0",
         "5.9507423161669655",
         "5.773450336910477e-14"
        ],
        [
         "18",
         "Hotelling-Lawley trace",
         "0.19387843117999556",
         "18",
         "967.8958810068611",
         "6.27092276328044",
         "8.64812125135105e-15"
        ],
        [
         "19",
         "Roy's greatest root",
         "0.17270075971130214",
         "9",
         "584",
         "11.206360407933383",
         "3.0976597121961114e-16"
        ],
        [
         "20",
         "Wilks' lambda",
         "0.8672869854842411",
         "18",
         "1166.0",
         "4.779828920957763",
         "2.0139400634518853e-10"
        ],
        [
         "21",
         "Pillai's trace",
         "0.13463543208929651",
         "18.0",
         "1168.0",
         "4.683451022732261",
         "3.893962927102411e-10"
        ],
        [
         "22",
         "Hotelling-Lawley trace",
         "0.15080428869712115",
         "18",
         "967.8958810068611",
         "4.8777063082026215",
         "1.2580698114955421e-10"
        ],
        [
         "23",
         "Roy's greatest root",
         "0.13429947686134144",
         "9",
         "584",
         "8.714543831891488",
         "2.456986603069865e-12"
        ],
        [
         "24",
         "Wilks' lambda",
         "0.8381192920368997",
         "18",
         "1166.0",
         "5.979827560745992",
         "4.7170249081998704e-14"
        ],
        [
         "25",
         "Pillai's trace",
         "0.1661011329615602",
         "18.0",
         "1168.0",
         "5.877160488389856",
         "9.68964715460076e-14"
        ],
        [
         "26",
         "Hotelling-Lawley trace",
         "0.1881119841323245",
         "18",
         "967.8958810068611",
         "6.0844092669910035",
         "3.15368261871926e-14"
        ],
        [
         "27",
         "Roy's greatest root",
         "0.15578880178248128",
         "9",
         "584",
         "10.108962248996562",
         "1.5920848680848687e-14"
        ],
        [
         "28",
         "Wilks' lambda",
         "0.8387053592760464",
         "18",
         "1166.0",
         "5.955101379603104",
         "5.614091954200429e-14"
        ],
        [
         "29",
         "Pillai's trace",
         "0.1652038559308667",
         "18.0",
         "1168.0",
         "5.842553509917394",
         "1.2359101020978562e-13"
        ],
        [
         "30",
         "Hotelling-Lawley trace",
         "0.1876528196420401",
         "18",
         "967.8958810068611",
         "6.069557769396919",
         "3.495563112946468e-14"
        ],
        [
         "31",
         "Roy's greatest root",
         "0.15818776328983422",
         "9",
         "584",
         "10.26462819569591",
         "9.090319949824631e-15"
        ],
        [
         "32",
         "Wilks' lambda",
         "0.8414197709808464",
         "18",
         "1166.0",
         "5.840917438349772",
         "1.2534443096115903e-13"
        ],
        [
         "33",
         "Pillai's trace",
         "0.1617396016026973",
         "18.0",
         "1168.0",
         "5.709258082522363",
         "3.151412984806698e-13"
        ],
        [
         "34",
         "Hotelling-Lawley trace",
         "0.18471262715212325",
         "18",
         "967.8958810068611",
         "5.974458382109593",
         "6.754262491830888e-14"
        ],
        [
         "35",
         "Roy's greatest root",
         "0.16145679993781903",
         "9",
         "584",
         "10.476752351520702",
         "4.239053143683015e-15"
        ],
        [
         "36",
         "Wilks' lambda",
         "0.8648114129394509",
         "18",
         "1166.0",
         "4.879314106659468",
         "1.0159946330836759e-10"
        ],
        [
         "37",
         "Pillai's trace",
         "0.13762716150570042",
         "18.0",
         "1168.0",
         "4.795212540930695",
         "1.809001681270158e-10"
        ],
        [
         "38",
         "Hotelling-Lawley trace",
         "0.1535016890725195",
         "18",
         "967.8958810068611",
         "4.9649526785843925",
         "6.95223515925994e-11"
        ],
        [
         "39",
         "Roy's greatest root",
         "0.13216669210700613",
         "9",
         "584",
         "8.576149798943508",
         "4.057371633877021e-12"
        ],
        [
         "40",
         "Wilks' lambda",
         "0.823270683631445",
         "18",
         "1166.0",
         "6.615072334914704",
         "5.290918224335756e-16"
        ],
        [
         "41",
         "Pillai's trace",
         "0.1824027990361382",
         "18.0",
         "1168.0",
         "6.511847043669401",
         "1.0961252952296912e-15"
        ],
        [
         "42",
         "Hotelling-Lawley trace",
         "0.20777593214718287",
         "18",
         "967.8958810068611",
         "6.720432049266653",
         "3.7963455169385943e-16"
        ],
        [
         "43",
         "Roy's greatest root",
         "0.1663484773828009",
         "9",
         "584",
         "10.794167865728413",
         "1.3561218181509084e-15"
        ],
        [
         "44",
         "Wilks' lambda",
         "0.844006714417612",
         "18",
         "1166.0",
         "5.7326086009246335",
         "2.681830381561983e-13"
        ],
        [
         "45",
         "Pillai's trace",
         "0.15932581385628858",
         "18.0",
         "1168.0",
         "5.616678448732981",
         "6.030196383121147e-13"
        ],
        [
         "46",
         "Hotelling-Lawley trace",
         "0.1808762355804569",
         "18",
         "967.8958810068611",
         "5.850371782640028",
         "1.5935919771040378e-13"
        ],
        [
         "47",
         "Roy's greatest root",
         "0.15548111392194888",
         "9",
         "584",
         "10.088996725602016",
         "1.7107952053834227e-14"
        ],
        [
         "48",
         "Wilks' lambda",
         "0.8615282591197684",
         "18",
         "1166.0",
         "5.011914215001518",
         "4.069361972128898e-11"
        ],
        [
         "49",
         "Pillai's trace",
         "0.14172461915563905",
         "18.0",
         "1168.0",
         "4.948864500928667",
         "6.278811613826864e-11"
        ]
       ],
       "shape": {
        "columns": 6,
        "rows": 4000
       }
      },
      "text/html": [
       "<div>\n",
       "<style scoped>\n",
       "    .dataframe tbody tr th:only-of-type {\n",
       "        vertical-align: middle;\n",
       "    }\n",
       "\n",
       "    .dataframe tbody tr th {\n",
       "        vertical-align: top;\n",
       "    }\n",
       "\n",
       "    .dataframe thead th {\n",
       "        text-align: right;\n",
       "    }\n",
       "</style>\n",
       "<table border=\"1\" class=\"dataframe\">\n",
       "  <thead>\n",
       "    <tr style=\"text-align: right;\">\n",
       "      <th></th>\n",
       "      <th>Test</th>\n",
       "      <th>Value</th>\n",
       "      <th>Num DF</th>\n",
       "      <th>Den DF</th>\n",
       "      <th>F Value</th>\n",
       "      <th>Pr &gt; F</th>\n",
       "    </tr>\n",
       "  </thead>\n",
       "  <tbody>\n",
       "    <tr>\n",
       "      <th>0</th>\n",
       "      <td>Wilks' lambda</td>\n",
       "      <td>0.867909</td>\n",
       "      <td>18</td>\n",
       "      <td>1166.0</td>\n",
       "      <td>4.754904</td>\n",
       "      <td>0.0</td>\n",
       "    </tr>\n",
       "    <tr>\n",
       "      <th>1</th>\n",
       "      <td>Pillai's trace</td>\n",
       "      <td>0.135308</td>\n",
       "      <td>18.0</td>\n",
       "      <td>1168.0</td>\n",
       "      <td>4.708545</td>\n",
       "      <td>0.0</td>\n",
       "    </tr>\n",
       "    <tr>\n",
       "      <th>2</th>\n",
       "      <td>Hotelling-Lawley trace</td>\n",
       "      <td>0.148488</td>\n",
       "      <td>18</td>\n",
       "      <td>967.895881</td>\n",
       "      <td>4.802795</td>\n",
       "      <td>0.0</td>\n",
       "    </tr>\n",
       "    <tr>\n",
       "      <th>3</th>\n",
       "      <td>Roy's greatest root</td>\n",
       "      <td>0.116738</td>\n",
       "      <td>9</td>\n",
       "      <td>584</td>\n",
       "      <td>7.574993</td>\n",
       "      <td>0.0</td>\n",
       "    </tr>\n",
       "    <tr>\n",
       "      <th>4</th>\n",
       "      <td>Wilks' lambda</td>\n",
       "      <td>0.867416</td>\n",
       "      <td>18</td>\n",
       "      <td>1166.0</td>\n",
       "      <td>4.774664</td>\n",
       "      <td>0.0</td>\n",
       "    </tr>\n",
       "    <tr>\n",
       "      <th>...</th>\n",
       "      <td>...</td>\n",
       "      <td>...</td>\n",
       "      <td>...</td>\n",
       "      <td>...</td>\n",
       "      <td>...</td>\n",
       "      <td>...</td>\n",
       "    </tr>\n",
       "    <tr>\n",
       "      <th>3995</th>\n",
       "      <td>Roy's greatest root</td>\n",
       "      <td>0.152446</td>\n",
       "      <td>9</td>\n",
       "      <td>584</td>\n",
       "      <td>9.892066</td>\n",
       "      <td>0.0</td>\n",
       "    </tr>\n",
       "    <tr>\n",
       "      <th>3996</th>\n",
       "      <td>Wilks' lambda</td>\n",
       "      <td>0.853073</td>\n",
       "      <td>18</td>\n",
       "      <td>1166.0</td>\n",
       "      <td>5.356924</td>\n",
       "      <td>0.0</td>\n",
       "    </tr>\n",
       "    <tr>\n",
       "      <th>3997</th>\n",
       "      <td>Pillai's trace</td>\n",
       "      <td>0.150218</td>\n",
       "      <td>18.0</td>\n",
       "      <td>1168.0</td>\n",
       "      <td>5.269522</td>\n",
       "      <td>0.0</td>\n",
       "    </tr>\n",
       "    <tr>\n",
       "      <th>3998</th>\n",
       "      <td>Hotelling-Lawley trace</td>\n",
       "      <td>0.168375</td>\n",
       "      <td>18</td>\n",
       "      <td>967.895881</td>\n",
       "      <td>5.446027</td>\n",
       "      <td>0.0</td>\n",
       "    </tr>\n",
       "    <tr>\n",
       "      <th>3999</th>\n",
       "      <td>Roy's greatest root</td>\n",
       "      <td>0.14102</td>\n",
       "      <td>9</td>\n",
       "      <td>584</td>\n",
       "      <td>9.150645</td>\n",
       "      <td>0.0</td>\n",
       "    </tr>\n",
       "  </tbody>\n",
       "</table>\n",
       "<p>4000 rows × 6 columns</p>\n",
       "</div>"
      ],
      "text/plain": [
       "                        Test     Value Num DF      Den DF   F Value Pr > F\n",
       "0              Wilks' lambda  0.867909     18      1166.0  4.754904    0.0\n",
       "1             Pillai's trace  0.135308   18.0      1168.0  4.708545    0.0\n",
       "2     Hotelling-Lawley trace  0.148488     18  967.895881  4.802795    0.0\n",
       "3        Roy's greatest root  0.116738      9         584  7.574993    0.0\n",
       "4              Wilks' lambda  0.867416     18      1166.0  4.774664    0.0\n",
       "...                      ...       ...    ...         ...       ...    ...\n",
       "3995     Roy's greatest root  0.152446      9         584  9.892066    0.0\n",
       "3996           Wilks' lambda  0.853073     18      1166.0  5.356924    0.0\n",
       "3997          Pillai's trace  0.150218   18.0      1168.0  5.269522    0.0\n",
       "3998  Hotelling-Lawley trace  0.168375     18  967.895881  5.446027    0.0\n",
       "3999     Roy's greatest root   0.14102      9         584  9.150645    0.0\n",
       "\n",
       "[4000 rows x 6 columns]"
      ]
     },
     "execution_count": 47,
     "metadata": {},
     "output_type": "execute_result"
    }
   ],
   "source": [
    "res_prop_list"
   ]
  },
  {
   "cell_type": "code",
   "execution_count": 48,
   "metadata": {},
   "outputs": [],
   "source": [
    "res_prop_list.to_csv(\"../../rest/manova_prop.csv\", index=False)\n",
    "res_amino_list.to_csv(\"../../rest/manova_amino.csv\", index=False)\n",
    "res_all_list.to_csv(\"../../rest/manova_all.csv\", index=False)"
   ]
  },
  {
   "cell_type": "code",
   "execution_count": 49,
   "metadata": {},
   "outputs": [],
   "source": [
    "cols = [\"Value\", \"Num DF\", \"Den DF\", \"F Value\", \"Pr > F\"]\n",
    "res_prop_list[cols] = res_prop_list[cols].apply(pd.to_numeric, errors='coerce')\n",
    "res_amino_list[cols] = res_amino_list[cols].apply(pd.to_numeric, errors='coerce')\n",
    "res_all_list[cols] = res_all_list[cols].apply(pd.to_numeric, errors='coerce')"
   ]
  },
  {
   "cell_type": "code",
   "execution_count": 50,
   "metadata": {},
   "outputs": [
    {
     "data": {
      "application/vnd.microsoft.datawrangler.viewer.v0+json": {
       "columns": [
        {
         "name": "index",
         "rawType": "int64",
         "type": "integer"
        },
        {
         "name": "Test",
         "rawType": "object",
         "type": "string"
        },
        {
         "name": "Value",
         "rawType": "float64",
         "type": "float"
        },
        {
         "name": "Num DF",
         "rawType": "float64",
         "type": "float"
        },
        {
         "name": "Den DF",
         "rawType": "float64",
         "type": "float"
        },
        {
         "name": "F Value",
         "rawType": "float64",
         "type": "float"
        },
        {
         "name": "Pr > F",
         "rawType": "float64",
         "type": "float"
        }
       ],
       "conversionMethod": "pd.DataFrame",
       "ref": "3570130c-1bce-453a-9651-15ac9891c5ca",
       "rows": [
        [
         "0",
         "Hotelling-Lawley trace",
         "0.40598",
         "48.0",
         "1046.87764",
         "4.79634",
         "0.0"
        ],
        [
         "1",
         "Pillai's trace",
         "0.32343",
         "48.0",
         "1138.0",
         "4.57904",
         "0.0"
        ],
        [
         "2",
         "Roy's greatest root",
         "0.31063",
         "24.0",
         "569.0",
         "7.3646",
         "0.0"
        ],
        [
         "3",
         "Wilks' lambda",
         "0.69712",
         "48.0",
         "1136.0",
         "4.68728",
         "0.0"
        ]
       ],
       "shape": {
        "columns": 6,
        "rows": 4
       }
      },
      "text/html": [
       "<div>\n",
       "<style scoped>\n",
       "    .dataframe tbody tr th:only-of-type {\n",
       "        vertical-align: middle;\n",
       "    }\n",
       "\n",
       "    .dataframe tbody tr th {\n",
       "        vertical-align: top;\n",
       "    }\n",
       "\n",
       "    .dataframe thead th {\n",
       "        text-align: right;\n",
       "    }\n",
       "</style>\n",
       "<table border=\"1\" class=\"dataframe\">\n",
       "  <thead>\n",
       "    <tr style=\"text-align: right;\">\n",
       "      <th></th>\n",
       "      <th>Test</th>\n",
       "      <th>Value</th>\n",
       "      <th>Num DF</th>\n",
       "      <th>Den DF</th>\n",
       "      <th>F Value</th>\n",
       "      <th>Pr &gt; F</th>\n",
       "    </tr>\n",
       "  </thead>\n",
       "  <tbody>\n",
       "    <tr>\n",
       "      <th>0</th>\n",
       "      <td>Hotelling-Lawley trace</td>\n",
       "      <td>0.40598</td>\n",
       "      <td>48.0</td>\n",
       "      <td>1046.87764</td>\n",
       "      <td>4.79634</td>\n",
       "      <td>0.0</td>\n",
       "    </tr>\n",
       "    <tr>\n",
       "      <th>1</th>\n",
       "      <td>Pillai's trace</td>\n",
       "      <td>0.32343</td>\n",
       "      <td>48.0</td>\n",
       "      <td>1138.00000</td>\n",
       "      <td>4.57904</td>\n",
       "      <td>0.0</td>\n",
       "    </tr>\n",
       "    <tr>\n",
       "      <th>2</th>\n",
       "      <td>Roy's greatest root</td>\n",
       "      <td>0.31063</td>\n",
       "      <td>24.0</td>\n",
       "      <td>569.00000</td>\n",
       "      <td>7.36460</td>\n",
       "      <td>0.0</td>\n",
       "    </tr>\n",
       "    <tr>\n",
       "      <th>3</th>\n",
       "      <td>Wilks' lambda</td>\n",
       "      <td>0.69712</td>\n",
       "      <td>48.0</td>\n",
       "      <td>1136.00000</td>\n",
       "      <td>4.68728</td>\n",
       "      <td>0.0</td>\n",
       "    </tr>\n",
       "  </tbody>\n",
       "</table>\n",
       "</div>"
      ],
      "text/plain": [
       "                     Test    Value  Num DF      Den DF  F Value  Pr > F\n",
       "0  Hotelling-Lawley trace  0.40598    48.0  1046.87764  4.79634     0.0\n",
       "1          Pillai's trace  0.32343    48.0  1138.00000  4.57904     0.0\n",
       "2     Roy's greatest root  0.31063    24.0   569.00000  7.36460     0.0\n",
       "3           Wilks' lambda  0.69712    48.0  1136.00000  4.68728     0.0"
      ]
     },
     "execution_count": 50,
     "metadata": {},
     "output_type": "execute_result"
    }
   ],
   "source": [
    "promedios = res_all_list.groupby('Test').mean(numeric_only=True).reset_index()\n",
    "promedios.round(5)"
   ]
  },
  {
   "cell_type": "code",
   "execution_count": 52,
   "metadata": {},
   "outputs": [
    {
     "data": {
      "application/vnd.microsoft.datawrangler.viewer.v0+json": {
       "columns": [
        {
         "name": "index",
         "rawType": "int64",
         "type": "integer"
        },
        {
         "name": "Test",
         "rawType": "object",
         "type": "string"
        },
        {
         "name": "Pr > F",
         "rawType": "float64",
         "type": "float"
        }
       ],
       "conversionMethod": "pd.DataFrame",
       "ref": "b0228420-7c05-4c39-9da6-80e67d46a571",
       "rows": [
        [
         "0",
         "Hotelling-Lawley trace",
         "1.933489353916341e-15"
        ],
        [
         "1",
         "Pillai's trace",
         "1.1188406997033705e-14"
        ],
        [
         "2",
         "Roy's greatest root",
         "1.357729822329666e-16"
        ],
        [
         "3",
         "Wilks' lambda",
         "4.1897298541900745e-15"
        ]
       ],
       "shape": {
        "columns": 2,
        "rows": 4
       }
      },
      "text/html": [
       "<div>\n",
       "<style scoped>\n",
       "    .dataframe tbody tr th:only-of-type {\n",
       "        vertical-align: middle;\n",
       "    }\n",
       "\n",
       "    .dataframe tbody tr th {\n",
       "        vertical-align: top;\n",
       "    }\n",
       "\n",
       "    .dataframe thead th {\n",
       "        text-align: right;\n",
       "    }\n",
       "</style>\n",
       "<table border=\"1\" class=\"dataframe\">\n",
       "  <thead>\n",
       "    <tr style=\"text-align: right;\">\n",
       "      <th></th>\n",
       "      <th>Test</th>\n",
       "      <th>Pr &gt; F</th>\n",
       "    </tr>\n",
       "  </thead>\n",
       "  <tbody>\n",
       "    <tr>\n",
       "      <th>0</th>\n",
       "      <td>Hotelling-Lawley trace</td>\n",
       "      <td>1.933489e-15</td>\n",
       "    </tr>\n",
       "    <tr>\n",
       "      <th>1</th>\n",
       "      <td>Pillai's trace</td>\n",
       "      <td>1.118841e-14</td>\n",
       "    </tr>\n",
       "    <tr>\n",
       "      <th>2</th>\n",
       "      <td>Roy's greatest root</td>\n",
       "      <td>1.357730e-16</td>\n",
       "    </tr>\n",
       "    <tr>\n",
       "      <th>3</th>\n",
       "      <td>Wilks' lambda</td>\n",
       "      <td>4.189730e-15</td>\n",
       "    </tr>\n",
       "  </tbody>\n",
       "</table>\n",
       "</div>"
      ],
      "text/plain": [
       "                     Test        Pr > F\n",
       "0  Hotelling-Lawley trace  1.933489e-15\n",
       "1          Pillai's trace  1.118841e-14\n",
       "2     Roy's greatest root  1.357730e-16\n",
       "3           Wilks' lambda  4.189730e-15"
      ]
     },
     "execution_count": 52,
     "metadata": {},
     "output_type": "execute_result"
    }
   ],
   "source": [
    "promedios_filtered = promedios[[\"Test\", \"Pr > F\"]]\n",
    "promedios_filtered"
   ]
  }
 ],
 "metadata": {
  "kernelspec": {
   "display_name": "ML_Class",
   "language": "python",
   "name": "python3"
  },
  "language_info": {
   "codemirror_mode": {
    "name": "ipython",
    "version": 3
   },
   "file_extension": ".py",
   "mimetype": "text/x-python",
   "name": "python",
   "nbconvert_exporter": "python",
   "pygments_lexer": "ipython3",
   "version": "3.9.20"
  }
 },
 "nbformat": 4,
 "nbformat_minor": 2
}
