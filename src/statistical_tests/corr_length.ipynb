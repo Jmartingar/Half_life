{
 "cells": [
  {
   "cell_type": "code",
   "execution_count": null,
   "id": "ed9be698",
   "metadata": {},
   "outputs": [],
   "source": [
    "import pandas as pd\n",
    "import matplotlib.pyplot as plt\n",
    "from scipy.stats import kruskal\n",
    "import scikit_posthocs as sp"
   ]
  },
  {
   "cell_type": "code",
   "execution_count": 86,
   "id": "9fb201f4",
   "metadata": {},
   "outputs": [],
   "source": [
    "df_all=pd.read_csv('../../data/antiviral_homology_90.csv')"
   ]
  },
  {
   "cell_type": "code",
   "execution_count": 87,
   "id": "2ad30cfe",
   "metadata": {},
   "outputs": [
    {
     "data": {
      "application/vnd.microsoft.datawrangler.viewer.v0+json": {
       "columns": [
        {
         "name": "index",
         "rawType": "int64",
         "type": "integer"
        },
        {
         "name": "sequence",
         "rawType": "object",
         "type": "string"
        },
        {
         "name": "experimental_characteristics",
         "rawType": "object",
         "type": "string"
        },
        {
         "name": "half_life_seconds",
         "rawType": "float64",
         "type": "float"
        },
        {
         "name": "length_sequence",
         "rawType": "int64",
         "type": "integer"
        },
        {
         "name": "target",
         "rawType": "int64",
         "type": "integer"
        }
       ],
       "conversionMethod": "pd.DataFrame",
       "ref": "a94425a3-e09d-4714-9cd4-bbe84a2349ec",
       "rows": [
        [
         "0",
         "AAAMSQVTN",
         "Mammalian",
         "15840.0",
         "9",
         "1"
        ],
        [
         "1",
         "AACEVAKNLNESLIDLQELGKYEQYIKW",
         "Mammalian",
         "15840.0",
         "28",
         "1"
        ],
        [
         "2",
         "AAGAVVNDL",
         "Mammalian",
         "15840.0",
         "9",
         "1"
        ],
        [
         "3",
         "AAHLIDALYAEFLGGRVLTTPVVHRALFYASAVLRQPFLAGVPSA",
         "Mammalian",
         "15840.0",
         "45",
         "1"
        ],
        [
         "4",
         "AAKAWKKAKAWKKAKWWKKAA",
         "Mammalian",
         "15840.0",
         "21",
         "1"
        ],
        [
         "5",
         "AALGDTAWDFGSIGGVFNSIGRAVHQVFGGAFRTL",
         "Mammalian",
         "15840.0",
         "35",
         "1"
        ],
        [
         "6",
         "AAQRRGRIGRNPSQVGD",
         "Mammalian",
         "15840.0",
         "17",
         "1"
        ],
        [
         "7",
         "AAQRRGRVGRNPNQVGD",
         "Mammalian",
         "15840.0",
         "17",
         "1"
        ],
        [
         "8",
         "AAWWAGIKQEF",
         "Mammalian",
         "15840.0",
         "11",
         "1"
        ],
        [
         "9",
         "AAYFLLKLAGRW",
         "Mammalian",
         "15840.0",
         "12",
         "1"
        ],
        [
         "10",
         "ACAWAGIKQEF",
         "Mammalian",
         "15840.0",
         "11",
         "1"
        ],
        [
         "11",
         "ACELKWESEFWRWTEQLA",
         "Mammalian",
         "15840.0",
         "18",
         "1"
        ],
        [
         "12",
         "ACFPWGKEYCGGK",
         "Mammalian",
         "15840.0",
         "13",
         "1"
        ],
        [
         "13",
         "ACWAAGIKQEF",
         "Mammalian",
         "15840.0",
         "11",
         "1"
        ],
        [
         "14",
         "ACWWAAIKQEF",
         "Mammalian",
         "15840.0",
         "11",
         "1"
        ],
        [
         "15",
         "ACWWAGAKQEF",
         "Mammalian",
         "15840.0",
         "11",
         "1"
        ],
        [
         "16",
         "ACWWAGIAQEF",
         "Mammalian",
         "15840.0",
         "11",
         "1"
        ],
        [
         "17",
         "ACWWAGIKAEF",
         "Mammalian",
         "15840.0",
         "11",
         "1"
        ],
        [
         "18",
         "ACWWAGIKQAF",
         "Mammalian",
         "15840.0",
         "11",
         "1"
        ],
        [
         "19",
         "ACWWAGIKQEA",
         "Mammalian",
         "15840.0",
         "11",
         "1"
        ],
        [
         "20",
         "ADLEVVAATFVLVA",
         "Mammalian",
         "15840.0",
         "14",
         "1"
        ],
        [
         "21",
         "ADLEVVAATYAAAA",
         "Mammalian",
         "15840.0",
         "14",
         "1"
        ],
        [
         "22",
         "ADLEVVAATYKKKK",
         "Mammalian",
         "15840.0",
         "14",
         "1"
        ],
        [
         "23",
         "ADLEVVAATYVDDA",
         "Mammalian",
         "15840.0",
         "14",
         "1"
        ],
        [
         "24",
         "ADLEVVAATYVDVD",
         "Mammalian",
         "15840.0",
         "14",
         "1"
        ],
        [
         "25",
         "ADVILMCFSIDSPDSLENI",
         "Mammalian",
         "15840.0",
         "19",
         "1"
        ],
        [
         "26",
         "AEAASQVTNTATIM",
         "Mammalian",
         "15840.0",
         "14",
         "1"
        ],
        [
         "27",
         "AEAIPMSIPPEVKFNKPFVF",
         "Mammalian",
         "15840.0",
         "20",
         "1"
        ],
        [
         "28",
         "AEAMAQVTN",
         "Mammalian",
         "15840.0",
         "9",
         "1"
        ],
        [
         "29",
         "AEAMSQVANTATIM",
         "Mammalian",
         "15840.0",
         "14",
         "1"
        ],
        [
         "30",
         "AEAMSQVTN",
         "Mammalian",
         "15840.0",
         "9",
         "1"
        ],
        [
         "31",
         "AECVVSCSMSYTKA",
         "Mammalian",
         "15840.0",
         "14",
         "1"
        ],
        [
         "32",
         "AEDWVRWI",
         "Mammalian",
         "15840.0",
         "8",
         "1"
        ],
        [
         "33",
         "AEPERRNIKYL",
         "Mammalian",
         "15840.0",
         "11",
         "1"
        ],
        [
         "34",
         "AFLGWIGAIVSTALPQWR",
         "Mammalian",
         "15840.0",
         "18",
         "1"
        ],
        [
         "35",
         "AGAGTGATAIGMVTQYHQVL",
         "Mammalian",
         "15840.0",
         "20",
         "1"
        ],
        [
         "36",
         "AGALMFAWLLLGLQGIFN",
         "Mammalian",
         "15840.0",
         "18",
         "1"
        ],
        [
         "37",
         "AGDDQGLDKCVPNSKEK",
         "Mammalian",
         "15840.0",
         "17",
         "1"
        ],
        [
         "38",
         "AGHNKVGSLQYLALA",
         "Mammalian",
         "15840.0",
         "15",
         "1"
        ],
        [
         "39",
         "AGVKDGKLDF",
         "Mammalian",
         "15840.0",
         "10",
         "1"
        ],
        [
         "40",
         "AGVSGHGQHGVHG",
         "Mammalian",
         "15840.0",
         "13",
         "1"
        ],
        [
         "41",
         "AIGWGDPITHWSHGQNRW",
         "Mammalian",
         "15840.0",
         "18",
         "1"
        ],
        [
         "42",
         "AKDLEVVCSTYVLVEA",
         "Mammalian",
         "15840.0",
         "16",
         "1"
        ],
        [
         "43",
         "AKKAAKKAKKAAKKAKKAAKK",
         "Mammalian",
         "15840.0",
         "21",
         "1"
        ],
        [
         "44",
         "AKKAKKKAKKAAKKIKKKAKK",
         "Mammalian",
         "15840.0",
         "21",
         "1"
        ],
        [
         "45",
         "AKLKVVAATYVLKK",
         "Mammalian",
         "15840.0",
         "14",
         "1"
        ],
        [
         "46",
         "AKTIRLESEVTAIKNALKKTNEAVSTLGNGVRVLATAVRELKDFVSKN",
         "Mammalian",
         "15840.0",
         "48",
         "1"
        ],
        [
         "47",
         "AKVNGQSGRMEFFWTILK",
         "Mammalian",
         "15840.0",
         "18",
         "1"
        ],
        [
         "48",
         "AKVTMTCSAS",
         "Mammalian",
         "15840.0",
         "10",
         "1"
        ],
        [
         "49",
         "ALAALITPKKIKPPL",
         "Mammalian",
         "15840.0",
         "15",
         "1"
        ]
       ],
       "shape": {
        "columns": 5,
        "rows": 1313
       }
      },
      "text/html": [
       "<div>\n",
       "<style scoped>\n",
       "    .dataframe tbody tr th:only-of-type {\n",
       "        vertical-align: middle;\n",
       "    }\n",
       "\n",
       "    .dataframe tbody tr th {\n",
       "        vertical-align: top;\n",
       "    }\n",
       "\n",
       "    .dataframe thead th {\n",
       "        text-align: right;\n",
       "    }\n",
       "</style>\n",
       "<table border=\"1\" class=\"dataframe\">\n",
       "  <thead>\n",
       "    <tr style=\"text-align: right;\">\n",
       "      <th></th>\n",
       "      <th>sequence</th>\n",
       "      <th>experimental_characteristics</th>\n",
       "      <th>half_life_seconds</th>\n",
       "      <th>length_sequence</th>\n",
       "      <th>target</th>\n",
       "    </tr>\n",
       "  </thead>\n",
       "  <tbody>\n",
       "    <tr>\n",
       "      <th>0</th>\n",
       "      <td>AAAMSQVTN</td>\n",
       "      <td>Mammalian</td>\n",
       "      <td>15840.0</td>\n",
       "      <td>9</td>\n",
       "      <td>1</td>\n",
       "    </tr>\n",
       "    <tr>\n",
       "      <th>1</th>\n",
       "      <td>AACEVAKNLNESLIDLQELGKYEQYIKW</td>\n",
       "      <td>Mammalian</td>\n",
       "      <td>15840.0</td>\n",
       "      <td>28</td>\n",
       "      <td>1</td>\n",
       "    </tr>\n",
       "    <tr>\n",
       "      <th>2</th>\n",
       "      <td>AAGAVVNDL</td>\n",
       "      <td>Mammalian</td>\n",
       "      <td>15840.0</td>\n",
       "      <td>9</td>\n",
       "      <td>1</td>\n",
       "    </tr>\n",
       "    <tr>\n",
       "      <th>3</th>\n",
       "      <td>AAHLIDALYAEFLGGRVLTTPVVHRALFYASAVLRQPFLAGVPSA</td>\n",
       "      <td>Mammalian</td>\n",
       "      <td>15840.0</td>\n",
       "      <td>45</td>\n",
       "      <td>1</td>\n",
       "    </tr>\n",
       "    <tr>\n",
       "      <th>4</th>\n",
       "      <td>AAKAWKKAKAWKKAKWWKKAA</td>\n",
       "      <td>Mammalian</td>\n",
       "      <td>15840.0</td>\n",
       "      <td>21</td>\n",
       "      <td>1</td>\n",
       "    </tr>\n",
       "    <tr>\n",
       "      <th>...</th>\n",
       "      <td>...</td>\n",
       "      <td>...</td>\n",
       "      <td>...</td>\n",
       "      <td>...</td>\n",
       "      <td>...</td>\n",
       "    </tr>\n",
       "    <tr>\n",
       "      <th>1308</th>\n",
       "      <td>YVREHGVPIHADKYFEQVLK</td>\n",
       "      <td>Mammalian</td>\n",
       "      <td>10080.0</td>\n",
       "      <td>20</td>\n",
       "      <td>1</td>\n",
       "    </tr>\n",
       "    <tr>\n",
       "      <th>1309</th>\n",
       "      <td>YWILEYLWKVPFDFWRGV</td>\n",
       "      <td>E_coli</td>\n",
       "      <td>7200.0</td>\n",
       "      <td>18</td>\n",
       "      <td>0</td>\n",
       "    </tr>\n",
       "    <tr>\n",
       "      <th>1310</th>\n",
       "      <td>YWILEYLWKVPFDFWRGV</td>\n",
       "      <td>Mammalian</td>\n",
       "      <td>10080.0</td>\n",
       "      <td>18</td>\n",
       "      <td>1</td>\n",
       "    </tr>\n",
       "    <tr>\n",
       "      <th>1311</th>\n",
       "      <td>YWILEYLWKVPFDFWRGV</td>\n",
       "      <td>Yeast</td>\n",
       "      <td>36000.0</td>\n",
       "      <td>18</td>\n",
       "      <td>2</td>\n",
       "    </tr>\n",
       "    <tr>\n",
       "      <th>1312</th>\n",
       "      <td>YAGAVVNDL</td>\n",
       "      <td>E_coli</td>\n",
       "      <td>7200.0</td>\n",
       "      <td>9</td>\n",
       "      <td>0</td>\n",
       "    </tr>\n",
       "  </tbody>\n",
       "</table>\n",
       "<p>1313 rows × 5 columns</p>\n",
       "</div>"
      ],
      "text/plain": [
       "                                           sequence  \\\n",
       "0                                         AAAMSQVTN   \n",
       "1                      AACEVAKNLNESLIDLQELGKYEQYIKW   \n",
       "2                                         AAGAVVNDL   \n",
       "3     AAHLIDALYAEFLGGRVLTTPVVHRALFYASAVLRQPFLAGVPSA   \n",
       "4                             AAKAWKKAKAWKKAKWWKKAA   \n",
       "...                                             ...   \n",
       "1308                           YVREHGVPIHADKYFEQVLK   \n",
       "1309                             YWILEYLWKVPFDFWRGV   \n",
       "1310                             YWILEYLWKVPFDFWRGV   \n",
       "1311                             YWILEYLWKVPFDFWRGV   \n",
       "1312                                      YAGAVVNDL   \n",
       "\n",
       "     experimental_characteristics  half_life_seconds  length_sequence  target  \n",
       "0                       Mammalian            15840.0                9       1  \n",
       "1                       Mammalian            15840.0               28       1  \n",
       "2                       Mammalian            15840.0                9       1  \n",
       "3                       Mammalian            15840.0               45       1  \n",
       "4                       Mammalian            15840.0               21       1  \n",
       "...                           ...                ...              ...     ...  \n",
       "1308                    Mammalian            10080.0               20       1  \n",
       "1309                       E_coli             7200.0               18       0  \n",
       "1310                    Mammalian            10080.0               18       1  \n",
       "1311                        Yeast            36000.0               18       2  \n",
       "1312                       E_coli             7200.0                9       0  \n",
       "\n",
       "[1313 rows x 5 columns]"
      ]
     },
     "execution_count": 87,
     "metadata": {},
     "output_type": "execute_result"
    }
   ],
   "source": [
    "df_all"
   ]
  },
  {
   "cell_type": "code",
   "execution_count": 88,
   "id": "98459830",
   "metadata": {},
   "outputs": [],
   "source": [
    "df_all=df_all.filter(items=['sequence', 'half_life_seconds', 'target'])"
   ]
  },
  {
   "cell_type": "code",
   "execution_count": 89,
   "id": "7c6e5bc9",
   "metadata": {},
   "outputs": [],
   "source": [
    "df_all['length']=df_all['sequence'].apply(len)"
   ]
  },
  {
   "cell_type": "code",
   "execution_count": 90,
   "id": "a141ba9a",
   "metadata": {},
   "outputs": [],
   "source": [
    "df_h=df_all[df_all['target']==2]\n",
    "df_m=df_all[df_all['target']==1]\n",
    "df_l=df_all[df_all['target']==0]"
   ]
  },
  {
   "cell_type": "code",
   "execution_count": 91,
   "id": "36159b53",
   "metadata": {},
   "outputs": [],
   "source": [
    "corr_all = df_all['length'].corr(df_all['half_life_seconds'])\n",
    "corr1 = df_h['length'].corr(df_h['half_life_seconds'])\n",
    "corr2= df_m['length'].corr(df_m['half_life_seconds'])\n",
    "corr3= df_l['length'].corr(df_l['half_life_seconds'])"
   ]
  },
  {
   "cell_type": "code",
   "execution_count": 92,
   "id": "3aff14c5",
   "metadata": {},
   "outputs": [
    {
     "data": {
      "image/png": "[encoded data removed]",
      "text/plain": [
       "<Figure size 600x500 with 1 Axes>"
      ]
     },
     "metadata": {},
     "output_type": "display_data"
    }
   ],
   "source": [
    "corr_values = [corr_all, corr1, corr2, corr3]\n",
    "groups = ['All', 'High', 'Medium', 'Low']\n",
    "\n",
    "# Crear scatter plot de solo 3 puntos\n",
    "plt.figure(figsize=(6, 5))\n",
    "plt.scatter(groups, corr_values, color=['green', 'red', 'orange', 'blue'], s=100)\n",
    "\n",
    "# Agregar etiquetas\n",
    "for i, value in enumerate(corr_values):\n",
    "    plt.text(groups[i], value + 0.02, f\"{value:.2f}\", ha='center', va='bottom', fontsize=10)\n",
    "\n",
    "plt.ylim(-1, 1)  # Porque las correlaciones están entre -1 y 1\n",
    "plt.ylabel('Correlation (length vs half-life)')\n",
    "plt.title('Correlation per Group')\n",
    "plt.grid(True, linestyle='--', alpha=0.5)\n",
    "plt.savefig(f\"../../img/antiviral/stat/correlation_length.png\", dpi=300)\n",
    "plt.show()\n"
   ]
  },
  {
   "cell_type": "code",
   "execution_count": 93,
   "id": "552aac6f",
   "metadata": {},
   "outputs": [
    {
     "data": {
      "application/vnd.microsoft.datawrangler.viewer.v0+json": {
       "columns": [
        {
         "name": "index",
         "rawType": "int64",
         "type": "integer"
        },
        {
         "name": "sequence",
         "rawType": "object",
         "type": "string"
        },
        {
         "name": "half_life_seconds",
         "rawType": "float64",
         "type": "float"
        },
        {
         "name": "target",
         "rawType": "int64",
         "type": "integer"
        },
        {
         "name": "length",
         "rawType": "int64",
         "type": "integer"
        }
       ],
       "conversionMethod": "pd.DataFrame",
       "ref": "667479b0-a72b-4ddb-ace0-204013b6e4c2",
       "rows": [
        [
         "0",
         "AAAMSQVTN",
         "15840.0",
         "1",
         "9"
        ],
        [
         "1",
         "AACEVAKNLNESLIDLQELGKYEQYIKW",
         "15840.0",
         "1",
         "28"
        ],
        [
         "2",
         "AAGAVVNDL",
         "15840.0",
         "1",
         "9"
        ],
        [
         "3",
         "AAHLIDALYAEFLGGRVLTTPVVHRALFYASAVLRQPFLAGVPSA",
         "15840.0",
         "1",
         "45"
        ],
        [
         "4",
         "AAKAWKKAKAWKKAKWWKKAA",
         "15840.0",
         "1",
         "21"
        ],
        [
         "5",
         "AALGDTAWDFGSIGGVFNSIGRAVHQVFGGAFRTL",
         "15840.0",
         "1",
         "35"
        ],
        [
         "6",
         "AAQRRGRIGRNPSQVGD",
         "15840.0",
         "1",
         "17"
        ],
        [
         "7",
         "AAQRRGRVGRNPNQVGD",
         "15840.0",
         "1",
         "17"
        ],
        [
         "8",
         "AAWWAGIKQEF",
         "15840.0",
         "1",
         "11"
        ],
        [
         "9",
         "AAYFLLKLAGRW",
         "15840.0",
         "1",
         "12"
        ],
        [
         "10",
         "ACAWAGIKQEF",
         "15840.0",
         "1",
         "11"
        ],
        [
         "11",
         "ACELKWESEFWRWTEQLA",
         "15840.0",
         "1",
         "18"
        ],
        [
         "12",
         "ACFPWGKEYCGGK",
         "15840.0",
         "1",
         "13"
        ],
        [
         "13",
         "ACWAAGIKQEF",
         "15840.0",
         "1",
         "11"
        ],
        [
         "14",
         "ACWWAAIKQEF",
         "15840.0",
         "1",
         "11"
        ],
        [
         "15",
         "ACWWAGAKQEF",
         "15840.0",
         "1",
         "11"
        ],
        [
         "16",
         "ACWWAGIAQEF",
         "15840.0",
         "1",
         "11"
        ],
        [
         "17",
         "ACWWAGIKAEF",
         "15840.0",
         "1",
         "11"
        ],
        [
         "18",
         "ACWWAGIKQAF",
         "15840.0",
         "1",
         "11"
        ],
        [
         "19",
         "ACWWAGIKQEA",
         "15840.0",
         "1",
         "11"
        ],
        [
         "20",
         "ADLEVVAATFVLVA",
         "15840.0",
         "1",
         "14"
        ],
        [
         "21",
         "ADLEVVAATYAAAA",
         "15840.0",
         "1",
         "14"
        ],
        [
         "22",
         "ADLEVVAATYKKKK",
         "15840.0",
         "1",
         "14"
        ],
        [
         "23",
         "ADLEVVAATYVDDA",
         "15840.0",
         "1",
         "14"
        ],
        [
         "24",
         "ADLEVVAATYVDVD",
         "15840.0",
         "1",
         "14"
        ],
        [
         "25",
         "ADVILMCFSIDSPDSLENI",
         "15840.0",
         "1",
         "19"
        ],
        [
         "26",
         "AEAASQVTNTATIM",
         "15840.0",
         "1",
         "14"
        ],
        [
         "27",
         "AEAIPMSIPPEVKFNKPFVF",
         "15840.0",
         "1",
         "20"
        ],
        [
         "28",
         "AEAMAQVTN",
         "15840.0",
         "1",
         "9"
        ],
        [
         "29",
         "AEAMSQVANTATIM",
         "15840.0",
         "1",
         "14"
        ],
        [
         "30",
         "AEAMSQVTN",
         "15840.0",
         "1",
         "9"
        ],
        [
         "31",
         "AECVVSCSMSYTKA",
         "15840.0",
         "1",
         "14"
        ],
        [
         "32",
         "AEDWVRWI",
         "15840.0",
         "1",
         "8"
        ],
        [
         "33",
         "AEPERRNIKYL",
         "15840.0",
         "1",
         "11"
        ],
        [
         "34",
         "AFLGWIGAIVSTALPQWR",
         "15840.0",
         "1",
         "18"
        ],
        [
         "35",
         "AGAGTGATAIGMVTQYHQVL",
         "15840.0",
         "1",
         "20"
        ],
        [
         "36",
         "AGALMFAWLLLGLQGIFN",
         "15840.0",
         "1",
         "18"
        ],
        [
         "37",
         "AGDDQGLDKCVPNSKEK",
         "15840.0",
         "1",
         "17"
        ],
        [
         "38",
         "AGHNKVGSLQYLALA",
         "15840.0",
         "1",
         "15"
        ],
        [
         "39",
         "AGVKDGKLDF",
         "15840.0",
         "1",
         "10"
        ],
        [
         "40",
         "AGVSGHGQHGVHG",
         "15840.0",
         "1",
         "13"
        ],
        [
         "41",
         "AIGWGDPITHWSHGQNRW",
         "15840.0",
         "1",
         "18"
        ],
        [
         "42",
         "AKDLEVVCSTYVLVEA",
         "15840.0",
         "1",
         "16"
        ],
        [
         "43",
         "AKKAAKKAKKAAKKAKKAAKK",
         "15840.0",
         "1",
         "21"
        ],
        [
         "44",
         "AKKAKKKAKKAAKKIKKKAKK",
         "15840.0",
         "1",
         "21"
        ],
        [
         "45",
         "AKLKVVAATYVLKK",
         "15840.0",
         "1",
         "14"
        ],
        [
         "46",
         "AKTIRLESEVTAIKNALKKTNEAVSTLGNGVRVLATAVRELKDFVSKN",
         "15840.0",
         "1",
         "48"
        ],
        [
         "47",
         "AKVNGQSGRMEFFWTILK",
         "15840.0",
         "1",
         "18"
        ],
        [
         "48",
         "AKVTMTCSAS",
         "15840.0",
         "1",
         "10"
        ],
        [
         "49",
         "ALAALITPKKIKPPL",
         "15840.0",
         "1",
         "15"
        ]
       ],
       "shape": {
        "columns": 4,
        "rows": 437
       }
      },
      "text/html": [
       "<div>\n",
       "<style scoped>\n",
       "    .dataframe tbody tr th:only-of-type {\n",
       "        vertical-align: middle;\n",
       "    }\n",
       "\n",
       "    .dataframe tbody tr th {\n",
       "        vertical-align: top;\n",
       "    }\n",
       "\n",
       "    .dataframe thead th {\n",
       "        text-align: right;\n",
       "    }\n",
       "</style>\n",
       "<table border=\"1\" class=\"dataframe\">\n",
       "  <thead>\n",
       "    <tr style=\"text-align: right;\">\n",
       "      <th></th>\n",
       "      <th>sequence</th>\n",
       "      <th>half_life_seconds</th>\n",
       "      <th>target</th>\n",
       "      <th>length</th>\n",
       "    </tr>\n",
       "  </thead>\n",
       "  <tbody>\n",
       "    <tr>\n",
       "      <th>0</th>\n",
       "      <td>AAAMSQVTN</td>\n",
       "      <td>15840.0</td>\n",
       "      <td>1</td>\n",
       "      <td>9</td>\n",
       "    </tr>\n",
       "    <tr>\n",
       "      <th>1</th>\n",
       "      <td>AACEVAKNLNESLIDLQELGKYEQYIKW</td>\n",
       "      <td>15840.0</td>\n",
       "      <td>1</td>\n",
       "      <td>28</td>\n",
       "    </tr>\n",
       "    <tr>\n",
       "      <th>2</th>\n",
       "      <td>AAGAVVNDL</td>\n",
       "      <td>15840.0</td>\n",
       "      <td>1</td>\n",
       "      <td>9</td>\n",
       "    </tr>\n",
       "    <tr>\n",
       "      <th>3</th>\n",
       "      <td>AAHLIDALYAEFLGGRVLTTPVVHRALFYASAVLRQPFLAGVPSA</td>\n",
       "      <td>15840.0</td>\n",
       "      <td>1</td>\n",
       "      <td>45</td>\n",
       "    </tr>\n",
       "    <tr>\n",
       "      <th>4</th>\n",
       "      <td>AAKAWKKAKAWKKAKWWKKAA</td>\n",
       "      <td>15840.0</td>\n",
       "      <td>1</td>\n",
       "      <td>21</td>\n",
       "    </tr>\n",
       "    <tr>\n",
       "      <th>...</th>\n",
       "      <td>...</td>\n",
       "      <td>...</td>\n",
       "      <td>...</td>\n",
       "      <td>...</td>\n",
       "    </tr>\n",
       "    <tr>\n",
       "      <th>1297</th>\n",
       "      <td>YRWWRWARRWYRWWRWARRW</td>\n",
       "      <td>10080.0</td>\n",
       "      <td>1</td>\n",
       "      <td>20</td>\n",
       "    </tr>\n",
       "    <tr>\n",
       "      <th>1300</th>\n",
       "      <td>YTMLVVDDL</td>\n",
       "      <td>10080.0</td>\n",
       "      <td>1</td>\n",
       "      <td>9</td>\n",
       "    </tr>\n",
       "    <tr>\n",
       "      <th>1303</th>\n",
       "      <td>YTSLIHSLIEEAQNQQEKNEQELLELDKWASLWNWF</td>\n",
       "      <td>10080.0</td>\n",
       "      <td>1</td>\n",
       "      <td>36</td>\n",
       "    </tr>\n",
       "    <tr>\n",
       "      <th>1308</th>\n",
       "      <td>YVREHGVPIHADKYFEQVLK</td>\n",
       "      <td>10080.0</td>\n",
       "      <td>1</td>\n",
       "      <td>20</td>\n",
       "    </tr>\n",
       "    <tr>\n",
       "      <th>1310</th>\n",
       "      <td>YWILEYLWKVPFDFWRGV</td>\n",
       "      <td>10080.0</td>\n",
       "      <td>1</td>\n",
       "      <td>18</td>\n",
       "    </tr>\n",
       "  </tbody>\n",
       "</table>\n",
       "<p>437 rows × 4 columns</p>\n",
       "</div>"
      ],
      "text/plain": [
       "                                           sequence  half_life_seconds  \\\n",
       "0                                         AAAMSQVTN            15840.0   \n",
       "1                      AACEVAKNLNESLIDLQELGKYEQYIKW            15840.0   \n",
       "2                                         AAGAVVNDL            15840.0   \n",
       "3     AAHLIDALYAEFLGGRVLTTPVVHRALFYASAVLRQPFLAGVPSA            15840.0   \n",
       "4                             AAKAWKKAKAWKKAKWWKKAA            15840.0   \n",
       "...                                             ...                ...   \n",
       "1297                           YRWWRWARRWYRWWRWARRW            10080.0   \n",
       "1300                                      YTMLVVDDL            10080.0   \n",
       "1303           YTSLIHSLIEEAQNQQEKNEQELLELDKWASLWNWF            10080.0   \n",
       "1308                           YVREHGVPIHADKYFEQVLK            10080.0   \n",
       "1310                             YWILEYLWKVPFDFWRGV            10080.0   \n",
       "\n",
       "      target  length  \n",
       "0          1       9  \n",
       "1          1      28  \n",
       "2          1       9  \n",
       "3          1      45  \n",
       "4          1      21  \n",
       "...      ...     ...  \n",
       "1297       1      20  \n",
       "1300       1       9  \n",
       "1303       1      36  \n",
       "1308       1      20  \n",
       "1310       1      18  \n",
       "\n",
       "[437 rows x 4 columns]"
      ]
     },
     "execution_count": 93,
     "metadata": {},
     "output_type": "execute_result"
    }
   ],
   "source": [
    "df_m"
   ]
  },
  {
   "cell_type": "code",
   "execution_count": 94,
   "id": "11b580fe",
   "metadata": {},
   "outputs": [],
   "source": [
    "n_iterations = 1000\n",
    "n_samples = min(len(df_h), len(df_m), len(df_l)) \n",
    "i=0\n",
    "results_list = []\n",
    "post_hoc_results_list = []"
   ]
  },
  {
   "cell_type": "code",
   "execution_count": 96,
   "id": "a9a919f1",
   "metadata": {},
   "outputs": [],
   "source": [
    "for i in range(n_iterations):\n",
    "    high_sample = df_h.sample(n=n_samples, replace=False, random_state=i)\n",
    "    mid_sample = df_m.sample(n=n_samples, replace=False, random_state=i)\n",
    "    low_sample = df_l.sample(n=n_samples, replace=False, random_state=i)\n",
    "    \n",
    "    stat, p_value = kruskal(high_sample['length'], mid_sample['length'], low_sample['length'])\n",
    "        \n",
    "    results_list.append({\n",
    "        'Iteration': i, 'P_value': p_value\n",
    "    })\n",
    "        \n",
    "    if p_value < 0.05:\n",
    "        combined_samples = [high_sample['length'], mid_sample['length'], low_sample['length']]\n",
    "        pvals_dunn = sp.posthoc_dunn(combined_samples, p_adjust='bonferroni')\n",
    "        \n",
    "        dunn_results = pvals_dunn.to_dict()  #Convertir el DataFrame de Dunn en un diccionario\n",
    "        dunn_results = {\n",
    "            'High_vs_Mid': pvals_dunn.iloc[2, 1],\n",
    "            'High_vs_Low': pvals_dunn.iloc[2, 0],\n",
    "            'Mid_vs_Low': pvals_dunn.iloc[1, 0]\n",
    "        }\n",
    "\n",
    "        post_hoc_results_list.append({\n",
    "            'Iteration': i, 'PostHoc_Pvalues': dunn_results\n",
    "        })\n",
    "\n",
    "results = pd.DataFrame(results_list)\n",
    "dunn = pd.DataFrame(post_hoc_results_list)"
   ]
  },
  {
   "cell_type": "code",
   "execution_count": 97,
   "id": "bf31076b",
   "metadata": {},
   "outputs": [
    {
     "data": {
      "application/vnd.microsoft.datawrangler.viewer.v0+json": {
       "columns": [
        {
         "name": "index",
         "rawType": "int64",
         "type": "integer"
        },
        {
         "name": "Iteration",
         "rawType": "int64",
         "type": "integer"
        },
        {
         "name": "P_value",
         "rawType": "float64",
         "type": "float"
        }
       ],
       "conversionMethod": "pd.DataFrame",
       "ref": "0ab269a8-71b4-44f7-9aa5-2753c66a0ccb",
       "rows": [
        [
         "0",
         "0",
         "0.0031158697462683117"
        ],
        [
         "1",
         "1",
         "0.028442834945801566"
        ],
        [
         "2",
         "2",
         "0.01571261744045088"
        ],
        [
         "3",
         "3",
         "0.12111556147521317"
        ],
        [
         "4",
         "4",
         "0.08923403053950045"
        ],
        [
         "5",
         "5",
         "0.016394346758661065"
        ],
        [
         "6",
         "6",
         "0.007037243772061412"
        ],
        [
         "7",
         "7",
         "0.0352563564544426"
        ],
        [
         "8",
         "8",
         "0.10930660396125493"
        ],
        [
         "9",
         "9",
         "0.0470607906531781"
        ],
        [
         "10",
         "10",
         "0.019086361613775128"
        ],
        [
         "11",
         "11",
         "0.0019330586323559134"
        ],
        [
         "12",
         "12",
         "0.041706144563375284"
        ],
        [
         "13",
         "13",
         "0.07475035726382533"
        ],
        [
         "14",
         "14",
         "0.0008934080665212002"
        ],
        [
         "15",
         "15",
         "0.005502044121659786"
        ],
        [
         "16",
         "16",
         "0.005554735315344519"
        ],
        [
         "17",
         "17",
         "0.04185982770860609"
        ],
        [
         "18",
         "18",
         "0.007995838224911433"
        ],
        [
         "19",
         "19",
         "0.0013193955582795677"
        ],
        [
         "20",
         "20",
         "5.5119375362354e-05"
        ],
        [
         "21",
         "21",
         "0.001301457918992098"
        ],
        [
         "22",
         "22",
         "0.02297690323337715"
        ],
        [
         "23",
         "23",
         "0.007008712232363378"
        ],
        [
         "24",
         "24",
         "0.00459463995826595"
        ],
        [
         "25",
         "25",
         "0.006190236794102815"
        ],
        [
         "26",
         "26",
         "0.005248285922160031"
        ],
        [
         "27",
         "27",
         "0.017625052156712482"
        ],
        [
         "28",
         "28",
         "0.002483004285322436"
        ],
        [
         "29",
         "29",
         "0.005062763047095698"
        ],
        [
         "30",
         "30",
         "0.03156580712324455"
        ],
        [
         "31",
         "31",
         "0.0020156378766113038"
        ],
        [
         "32",
         "32",
         "0.0004389444722556716"
        ],
        [
         "33",
         "33",
         "0.006843313867101819"
        ],
        [
         "34",
         "34",
         "0.004047847873329576"
        ],
        [
         "35",
         "35",
         "0.13067743856271605"
        ],
        [
         "36",
         "36",
         "0.04678820621465615"
        ],
        [
         "37",
         "37",
         "0.006233976335314243"
        ],
        [
         "38",
         "38",
         "0.006121726380639754"
        ],
        [
         "39",
         "39",
         "0.011537264475500634"
        ],
        [
         "40",
         "40",
         "0.0007936006261463955"
        ],
        [
         "41",
         "41",
         "0.0034193211419919593"
        ],
        [
         "42",
         "42",
         "0.019818354488213733"
        ],
        [
         "43",
         "43",
         "0.008904082234028996"
        ],
        [
         "44",
         "44",
         "0.025486437759290492"
        ],
        [
         "45",
         "45",
         "0.0008973583724316358"
        ],
        [
         "46",
         "46",
         "0.0026627706770997596"
        ],
        [
         "47",
         "47",
         "2.3859150647522197e-05"
        ],
        [
         "48",
         "48",
         "0.016544839507221482"
        ],
        [
         "49",
         "49",
         "0.08150945029613237"
        ]
       ],
       "shape": {
        "columns": 2,
        "rows": 1000
       }
      },
      "text/html": [
       "<div>\n",
       "<style scoped>\n",
       "    .dataframe tbody tr th:only-of-type {\n",
       "        vertical-align: middle;\n",
       "    }\n",
       "\n",
       "    .dataframe tbody tr th {\n",
       "        vertical-align: top;\n",
       "    }\n",
       "\n",
       "    .dataframe thead th {\n",
       "        text-align: right;\n",
       "    }\n",
       "</style>\n",
       "<table border=\"1\" class=\"dataframe\">\n",
       "  <thead>\n",
       "    <tr style=\"text-align: right;\">\n",
       "      <th></th>\n",
       "      <th>Iteration</th>\n",
       "      <th>P_value</th>\n",
       "    </tr>\n",
       "  </thead>\n",
       "  <tbody>\n",
       "    <tr>\n",
       "      <th>0</th>\n",
       "      <td>0</td>\n",
       "      <td>0.003116</td>\n",
       "    </tr>\n",
       "    <tr>\n",
       "      <th>1</th>\n",
       "      <td>1</td>\n",
       "      <td>0.028443</td>\n",
       "    </tr>\n",
       "    <tr>\n",
       "      <th>2</th>\n",
       "      <td>2</td>\n",
       "      <td>0.015713</td>\n",
       "    </tr>\n",
       "    <tr>\n",
       "      <th>3</th>\n",
       "      <td>3</td>\n",
       "      <td>0.121116</td>\n",
       "    </tr>\n",
       "    <tr>\n",
       "      <th>4</th>\n",
       "      <td>4</td>\n",
       "      <td>0.089234</td>\n",
       "    </tr>\n",
       "    <tr>\n",
       "      <th>...</th>\n",
       "      <td>...</td>\n",
       "      <td>...</td>\n",
       "    </tr>\n",
       "    <tr>\n",
       "      <th>995</th>\n",
       "      <td>995</td>\n",
       "      <td>0.133724</td>\n",
       "    </tr>\n",
       "    <tr>\n",
       "      <th>996</th>\n",
       "      <td>996</td>\n",
       "      <td>0.052610</td>\n",
       "    </tr>\n",
       "    <tr>\n",
       "      <th>997</th>\n",
       "      <td>997</td>\n",
       "      <td>0.024747</td>\n",
       "    </tr>\n",
       "    <tr>\n",
       "      <th>998</th>\n",
       "      <td>998</td>\n",
       "      <td>0.198836</td>\n",
       "    </tr>\n",
       "    <tr>\n",
       "      <th>999</th>\n",
       "      <td>999</td>\n",
       "      <td>0.003550</td>\n",
       "    </tr>\n",
       "  </tbody>\n",
       "</table>\n",
       "<p>1000 rows × 2 columns</p>\n",
       "</div>"
      ],
      "text/plain": [
       "     Iteration   P_value\n",
       "0            0  0.003116\n",
       "1            1  0.028443\n",
       "2            2  0.015713\n",
       "3            3  0.121116\n",
       "4            4  0.089234\n",
       "..         ...       ...\n",
       "995        995  0.133724\n",
       "996        996  0.052610\n",
       "997        997  0.024747\n",
       "998        998  0.198836\n",
       "999        999  0.003550\n",
       "\n",
       "[1000 rows x 2 columns]"
      ]
     },
     "execution_count": 97,
     "metadata": {},
     "output_type": "execute_result"
    }
   ],
   "source": [
    "results"
   ]
  },
  {
   "cell_type": "code",
   "execution_count": 98,
   "id": "88cca989",
   "metadata": {},
   "outputs": [
    {
     "data": {
      "text/plain": [
       "Iteration    499.50000\n",
       "P_value        0.03173\n",
       "dtype: float64"
      ]
     },
     "execution_count": 98,
     "metadata": {},
     "output_type": "execute_result"
    }
   ],
   "source": [
    "results.mean()"
   ]
  }
 ],
 "metadata": {
  "kernelspec": {
   "display_name": "ML_Class",
   "language": "python",
   "name": "python3"
  },
  "language_info": {
   "codemirror_mode": {
    "name": "ipython",
    "version": 3
   },
   "file_extension": ".py",
   "mimetype": "text/x-python",
   "name": "python",
   "nbconvert_exporter": "python",
   "pygments_lexer": "ipython3",
   "version": "3.9.20"
  }
 },
 "nbformat": 4,
 "nbformat_minor": 5
}
