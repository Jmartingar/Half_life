{
 "cells": [
  {
   "cell_type": "code",
   "execution_count": 1,
   "metadata": {},
   "outputs": [],
   "source": [
    "import pandas as pd\n",
    "import seaborn as sns\n",
    "import matplotlib.pyplot as plt\n",
    "from sklearn.utils import shuffle\n",
    "from matplotlib.colors import LinearSegmentedColormap\n",
    "import os\n",
    "folder = '../../data/canon/'"
   ]
  },
  {
   "cell_type": "code",
   "execution_count": 2,
   "metadata": {},
   "outputs": [],
   "source": [
    "dataframes = {}\n",
    "for archive in os.listdir(folder):\n",
    "    if archive.endswith('.csv') and os.path.isfile(os.path.join(folder, archive)):\n",
    "        df = pd.read_csv(os.path.join(folder, archive))\n",
    "        df.reset_index(inplace=True)\n",
    "        df = df[['sequence', 'half_life_seconds']]\n",
    "        dataframes[archive] = df"
   ]
  },
  {
   "cell_type": "code",
   "execution_count": 3,
   "metadata": {},
   "outputs": [],
   "source": [
    "for key in dataframes:\n",
    "    dataframes[key]['source'] = key\n",
    "df_concat=pd.concat(dataframes.values(), ignore_index=True)"
   ]
  },
  {
   "cell_type": "code",
   "execution_count": 4,
   "metadata": {},
   "outputs": [
    {
     "data": {
      "application/vnd.microsoft.datawrangler.viewer.v0+json": {
       "columns": [
        {
         "name": "index",
         "rawType": "int64",
         "type": "integer"
        },
        {
         "name": "sequence",
         "rawType": "object",
         "type": "string"
        },
        {
         "name": "half_life_seconds",
         "rawType": "float64",
         "type": "float"
        },
        {
         "name": "source",
         "rawType": "object",
         "type": "string"
        }
       ],
       "conversionMethod": "pd.DataFrame",
       "ref": "2ef3baf9-812c-4554-9a1f-f14b94f76016",
       "rows": [
        [
         "0",
         "AAAMSQVTN",
         "15840.0",
         "Antiviral_canon.csv"
        ],
        [
         "1",
         "AACEVAKNLNESLIDLQELGKYEQYIKW",
         "15840.0",
         "Antiviral_canon.csv"
        ],
        [
         "2",
         "AAGAVVNDL",
         "15840.0",
         "Antiviral_canon.csv"
        ],
        [
         "3",
         "AAHLIDALYAEFLGGRVLTT",
         "15840.0",
         "Antiviral_canon.csv"
        ],
        [
         "4",
         "AAHLIDALYAEFLGGRVLTTPVVHRALFYASAVLRQPFLAGVPSA",
         "15840.0",
         "Antiviral_canon.csv"
        ],
        [
         "5",
         "AAKAWKKAKAWKKAKWWKKAA",
         "15840.0",
         "Antiviral_canon.csv"
        ],
        [
         "6",
         "AALGDTAWDFGSIGGVFNSIGRAVHQVFGGAFRTL",
         "15840.0",
         "Antiviral_canon.csv"
        ],
        [
         "7",
         "AAQRRGRIGRNPSQVGD",
         "15840.0",
         "Antiviral_canon.csv"
        ],
        [
         "8",
         "AAQRRGRVGRNPNQVGD",
         "15840.0",
         "Antiviral_canon.csv"
        ],
        [
         "9",
         "AAWWAGIKQEF",
         "15840.0",
         "Antiviral_canon.csv"
        ],
        [
         "10",
         "AAYFLLKLAGRW",
         "15840.0",
         "Antiviral_canon.csv"
        ],
        [
         "11",
         "ACAWAGIKQEF",
         "15840.0",
         "Antiviral_canon.csv"
        ],
        [
         "12",
         "ACELKWESEFWRWTEQLA",
         "15840.0",
         "Antiviral_canon.csv"
        ],
        [
         "13",
         "ACFPWGKEYCGGK",
         "15840.0",
         "Antiviral_canon.csv"
        ],
        [
         "14",
         "ACWAAGIKQEF",
         "15840.0",
         "Antiviral_canon.csv"
        ],
        [
         "15",
         "ACWWAAIKQEF",
         "15840.0",
         "Antiviral_canon.csv"
        ],
        [
         "16",
         "ACWWAGAKQEF",
         "15840.0",
         "Antiviral_canon.csv"
        ],
        [
         "17",
         "ACWWAGIAQEF",
         "15840.0",
         "Antiviral_canon.csv"
        ],
        [
         "18",
         "ACWWAGIKAEF",
         "15840.0",
         "Antiviral_canon.csv"
        ],
        [
         "19",
         "ACWWAGIKQAF",
         "15840.0",
         "Antiviral_canon.csv"
        ],
        [
         "20",
         "ACWWAGIKQEA",
         "15840.0",
         "Antiviral_canon.csv"
        ],
        [
         "21",
         "ADLEVVAATFVLVA",
         "15840.0",
         "Antiviral_canon.csv"
        ],
        [
         "22",
         "ADLEVVAATHVLVA",
         "15840.0",
         "Antiviral_canon.csv"
        ],
        [
         "23",
         "ADLEVVAATYAAAA",
         "15840.0",
         "Antiviral_canon.csv"
        ],
        [
         "24",
         "ADLEVVAATYKKKK",
         "15840.0",
         "Antiviral_canon.csv"
        ],
        [
         "25",
         "ADLEVVAATYV",
         "15840.0",
         "Antiviral_canon.csv"
        ],
        [
         "26",
         "ADLEVVAATYVDDA",
         "15840.0",
         "Antiviral_canon.csv"
        ],
        [
         "27",
         "ADLEVVAATYVDDD",
         "15840.0",
         "Antiviral_canon.csv"
        ],
        [
         "28",
         "ADLEVVAATYVDVA",
         "15840.0",
         "Antiviral_canon.csv"
        ],
        [
         "29",
         "ADLEVVAATYVDVD",
         "15840.0",
         "Antiviral_canon.csv"
        ],
        [
         "30",
         "ADLEVVAATYVKKK",
         "15840.0",
         "Antiviral_canon.csv"
        ],
        [
         "31",
         "ADLEVVAATYVLDA",
         "15840.0",
         "Antiviral_canon.csv"
        ],
        [
         "32",
         "ADLEVVAATYVLDD",
         "15840.0",
         "Antiviral_canon.csv"
        ],
        [
         "33",
         "ADLEVVAATYVLVA",
         "15840.0",
         "Antiviral_canon.csv"
        ],
        [
         "34",
         "ADLEVVAATYVLVD",
         "15840.0",
         "Antiviral_canon.csv"
        ],
        [
         "35",
         "ADVILMCFSIDSPDSLENI",
         "15840.0",
         "Antiviral_canon.csv"
        ],
        [
         "36",
         "AEAASQVTNTATIM",
         "15840.0",
         "Antiviral_canon.csv"
        ],
        [
         "37",
         "AEAIPMSIPPEVKFNKPFVF",
         "15840.0",
         "Antiviral_canon.csv"
        ],
        [
         "38",
         "AEAMAQVTN",
         "15840.0",
         "Antiviral_canon.csv"
        ],
        [
         "39",
         "AEAMSQVANTATIM",
         "15840.0",
         "Antiviral_canon.csv"
        ],
        [
         "40",
         "AEAMSQVTN",
         "15840.0",
         "Antiviral_canon.csv"
        ],
        [
         "41",
         "AEAMSQVTNTATIM",
         "15840.0",
         "Antiviral_canon.csv"
        ],
        [
         "42",
         "AEASQVTNTATIM",
         "15840.0",
         "Antiviral_canon.csv"
        ],
        [
         "43",
         "AECVVSCSMSYTKA",
         "15840.0",
         "Antiviral_canon.csv"
        ],
        [
         "44",
         "AEDWVRWI",
         "15840.0",
         "Antiviral_canon.csv"
        ],
        [
         "45",
         "AEPERRNIKYL",
         "15840.0",
         "Antiviral_canon.csv"
        ],
        [
         "46",
         "AFLGWIGAIVSTALPQWR",
         "15840.0",
         "Antiviral_canon.csv"
        ],
        [
         "47",
         "AGAGTGATAIGMVTQYHQVL",
         "15840.0",
         "Antiviral_canon.csv"
        ],
        [
         "48",
         "AGALMFAWLLLGLQGIFN",
         "15840.0",
         "Antiviral_canon.csv"
        ],
        [
         "49",
         "AGAVVNDL",
         "15840.0",
         "Antiviral_canon.csv"
        ]
       ],
       "shape": {
        "columns": 3,
        "rows": 2937
       }
      },
      "text/html": [
       "<div>\n",
       "<style scoped>\n",
       "    .dataframe tbody tr th:only-of-type {\n",
       "        vertical-align: middle;\n",
       "    }\n",
       "\n",
       "    .dataframe tbody tr th {\n",
       "        vertical-align: top;\n",
       "    }\n",
       "\n",
       "    .dataframe thead th {\n",
       "        text-align: right;\n",
       "    }\n",
       "</style>\n",
       "<table border=\"1\" class=\"dataframe\">\n",
       "  <thead>\n",
       "    <tr style=\"text-align: right;\">\n",
       "      <th></th>\n",
       "      <th>sequence</th>\n",
       "      <th>half_life_seconds</th>\n",
       "      <th>source</th>\n",
       "    </tr>\n",
       "  </thead>\n",
       "  <tbody>\n",
       "    <tr>\n",
       "      <th>0</th>\n",
       "      <td>AAAMSQVTN</td>\n",
       "      <td>15840.0</td>\n",
       "      <td>Antiviral_canon.csv</td>\n",
       "    </tr>\n",
       "    <tr>\n",
       "      <th>1</th>\n",
       "      <td>AACEVAKNLNESLIDLQELGKYEQYIKW</td>\n",
       "      <td>15840.0</td>\n",
       "      <td>Antiviral_canon.csv</td>\n",
       "    </tr>\n",
       "    <tr>\n",
       "      <th>2</th>\n",
       "      <td>AAGAVVNDL</td>\n",
       "      <td>15840.0</td>\n",
       "      <td>Antiviral_canon.csv</td>\n",
       "    </tr>\n",
       "    <tr>\n",
       "      <th>3</th>\n",
       "      <td>AAHLIDALYAEFLGGRVLTT</td>\n",
       "      <td>15840.0</td>\n",
       "      <td>Antiviral_canon.csv</td>\n",
       "    </tr>\n",
       "    <tr>\n",
       "      <th>4</th>\n",
       "      <td>AAHLIDALYAEFLGGRVLTTPVVHRALFYASAVLRQPFLAGVPSA</td>\n",
       "      <td>15840.0</td>\n",
       "      <td>Antiviral_canon.csv</td>\n",
       "    </tr>\n",
       "    <tr>\n",
       "      <th>...</th>\n",
       "      <td>...</td>\n",
       "      <td>...</td>\n",
       "      <td>...</td>\n",
       "    </tr>\n",
       "    <tr>\n",
       "      <th>2932</th>\n",
       "      <td>SLRRSSCFGGRMDRIGAQSGLGCNSFRY</td>\n",
       "      <td>156.0</td>\n",
       "      <td>Serum_canon.csv</td>\n",
       "    </tr>\n",
       "    <tr>\n",
       "      <th>2933</th>\n",
       "      <td>MCMPCFTTDHQMARKCDDCCGGKGRGKCYGPQCLCR</td>\n",
       "      <td>50400.0</td>\n",
       "      <td>Serum_canon.csv</td>\n",
       "    </tr>\n",
       "    <tr>\n",
       "      <th>2934</th>\n",
       "      <td>KRFKKFFKKVKKSVKKRLKKIFKKPMVIGVTIPF</td>\n",
       "      <td>4260.0</td>\n",
       "      <td>Serum_canon.csv</td>\n",
       "    </tr>\n",
       "    <tr>\n",
       "      <th>2935</th>\n",
       "      <td>KRFKKFFKKVKKSV</td>\n",
       "      <td>1260.0</td>\n",
       "      <td>Serum_canon.csv</td>\n",
       "    </tr>\n",
       "    <tr>\n",
       "      <th>2936</th>\n",
       "      <td>KKRLKKIFKKPMVIGVTIPF</td>\n",
       "      <td>46200.0</td>\n",
       "      <td>Serum_canon.csv</td>\n",
       "    </tr>\n",
       "  </tbody>\n",
       "</table>\n",
       "<p>2937 rows × 3 columns</p>\n",
       "</div>"
      ],
      "text/plain": [
       "                                           sequence  half_life_seconds  \\\n",
       "0                                         AAAMSQVTN            15840.0   \n",
       "1                      AACEVAKNLNESLIDLQELGKYEQYIKW            15840.0   \n",
       "2                                         AAGAVVNDL            15840.0   \n",
       "3                              AAHLIDALYAEFLGGRVLTT            15840.0   \n",
       "4     AAHLIDALYAEFLGGRVLTTPVVHRALFYASAVLRQPFLAGVPSA            15840.0   \n",
       "...                                             ...                ...   \n",
       "2932                   SLRRSSCFGGRMDRIGAQSGLGCNSFRY              156.0   \n",
       "2933           MCMPCFTTDHQMARKCDDCCGGKGRGKCYGPQCLCR            50400.0   \n",
       "2934             KRFKKFFKKVKKSVKKRLKKIFKKPMVIGVTIPF             4260.0   \n",
       "2935                                 KRFKKFFKKVKKSV             1260.0   \n",
       "2936                           KKRLKKIFKKPMVIGVTIPF            46200.0   \n",
       "\n",
       "                   source  \n",
       "0     Antiviral_canon.csv  \n",
       "1     Antiviral_canon.csv  \n",
       "2     Antiviral_canon.csv  \n",
       "3     Antiviral_canon.csv  \n",
       "4     Antiviral_canon.csv  \n",
       "...                   ...  \n",
       "2932      Serum_canon.csv  \n",
       "2933      Serum_canon.csv  \n",
       "2934      Serum_canon.csv  \n",
       "2935      Serum_canon.csv  \n",
       "2936      Serum_canon.csv  \n",
       "\n",
       "[2937 rows x 3 columns]"
      ]
     },
     "execution_count": 4,
     "metadata": {},
     "output_type": "execute_result"
    }
   ],
   "source": [
    "df_concat"
   ]
  },
  {
   "cell_type": "code",
   "execution_count": 7,
   "metadata": {},
   "outputs": [
    {
     "data": {
      "text/plain": [
       "source\n",
       "Antiviral_canon.csv    2181\n",
       "HLP_10_canon.csv        189\n",
       "PEP_LIFE_canon.csv      188\n",
       "HLP_16_canon.csv        186\n",
       "Plifepred_canon.csv     176\n",
       "Serum_canon.csv          17\n",
       "Name: count, dtype: int64"
      ]
     },
     "execution_count": 7,
     "metadata": {},
     "output_type": "execute_result"
    }
   ],
   "source": [
    "df_concat['source'].value_counts()"
   ]
  },
  {
   "cell_type": "code",
   "execution_count": 5,
   "metadata": {},
   "outputs": [
    {
     "ename": "KeyboardInterrupt",
     "evalue": "",
     "output_type": "error",
     "traceback": [
      "\u001b[0;31m---------------------------------------------------------------------------\u001b[0m",
      "\u001b[0;31mKeyboardInterrupt\u001b[0m                         Traceback (most recent call last)",
      "Cell \u001b[0;32mIn[5], line 10\u001b[0m\n\u001b[1;32m      8\u001b[0m \u001b[38;5;28;01mfor\u001b[39;00m j \u001b[38;5;129;01min\u001b[39;00m \u001b[38;5;28mrange\u001b[39m(\u001b[38;5;28mlen\u001b[39m(keys)):\n\u001b[1;32m      9\u001b[0m     df\u001b[38;5;241m=\u001b[39mdf_concat[df_concat[\u001b[38;5;124m'\u001b[39m\u001b[38;5;124msource\u001b[39m\u001b[38;5;124m'\u001b[39m]\u001b[38;5;241m==\u001b[39mkeys[j]]\n\u001b[0;32m---> 10\u001b[0m     df_values[keys[j]] \u001b[38;5;241m=\u001b[39m \u001b[43mshuffle\u001b[49m\u001b[43m(\u001b[49m\u001b[43mdf\u001b[49m\u001b[43m[\u001b[49m\u001b[38;5;124;43m'\u001b[39;49m\u001b[38;5;124;43mhalf_life_seconds\u001b[39;49m\u001b[38;5;124;43m'\u001b[39;49m\u001b[43m]\u001b[49m\u001b[38;5;241;43m.\u001b[39;49m\u001b[43mvalues\u001b[49m\u001b[43m,\u001b[49m\u001b[43m \u001b[49m\u001b[43mrandom_state\u001b[49m\u001b[38;5;241;43m=\u001b[39;49m\u001b[43mi\u001b[49m\u001b[43m,\u001b[49m\u001b[43m \u001b[49m\u001b[43mn_samples\u001b[49m\u001b[38;5;241;43m=\u001b[39;49m\u001b[38;5;241;43m17\u001b[39;49m\u001b[43m)\u001b[49m\n\u001b[1;32m     11\u001b[0m corr_data\u001b[38;5;241m.\u001b[39mappend(df_values\u001b[38;5;241m.\u001b[39mcorr())\n\u001b[1;32m     12\u001b[0m corr_iter \u001b[38;5;241m=\u001b[39m df_values\u001b[38;5;241m.\u001b[39mcorr()\n",
      "File \u001b[0;32m~/.miniforge3/envs/ML_Class/lib/python3.9/site-packages/sklearn/utils/_indexing.py:636\u001b[0m, in \u001b[0;36mshuffle\u001b[0;34m(random_state, n_samples, *arrays)\u001b[0m\n\u001b[1;32m    570\u001b[0m \u001b[38;5;28;01mdef\u001b[39;00m \u001b[38;5;21mshuffle\u001b[39m(\u001b[38;5;241m*\u001b[39marrays, random_state\u001b[38;5;241m=\u001b[39m\u001b[38;5;28;01mNone\u001b[39;00m, n_samples\u001b[38;5;241m=\u001b[39m\u001b[38;5;28;01mNone\u001b[39;00m):\n\u001b[1;32m    571\u001b[0m \u001b[38;5;250m    \u001b[39m\u001b[38;5;124;03m\"\"\"Shuffle arrays or sparse matrices in a consistent way.\u001b[39;00m\n\u001b[1;32m    572\u001b[0m \n\u001b[1;32m    573\u001b[0m \u001b[38;5;124;03m    This is a convenience alias to ``resample(*arrays, replace=False)`` to do\u001b[39;00m\n\u001b[0;32m   (...)\u001b[0m\n\u001b[1;32m    634\u001b[0m \u001b[38;5;124;03m      array([0, 1])\u001b[39;00m\n\u001b[1;32m    635\u001b[0m \u001b[38;5;124;03m    \"\"\"\u001b[39;00m\n\u001b[0;32m--> 636\u001b[0m     \u001b[38;5;28;01mreturn\u001b[39;00m \u001b[43mresample\u001b[49m\u001b[43m(\u001b[49m\n\u001b[1;32m    637\u001b[0m \u001b[43m        \u001b[49m\u001b[38;5;241;43m*\u001b[39;49m\u001b[43marrays\u001b[49m\u001b[43m,\u001b[49m\u001b[43m \u001b[49m\u001b[43mreplace\u001b[49m\u001b[38;5;241;43m=\u001b[39;49m\u001b[38;5;28;43;01mFalse\u001b[39;49;00m\u001b[43m,\u001b[49m\u001b[43m \u001b[49m\u001b[43mn_samples\u001b[49m\u001b[38;5;241;43m=\u001b[39;49m\u001b[43mn_samples\u001b[49m\u001b[43m,\u001b[49m\u001b[43m \u001b[49m\u001b[43mrandom_state\u001b[49m\u001b[38;5;241;43m=\u001b[39;49m\u001b[43mrandom_state\u001b[49m\n\u001b[1;32m    638\u001b[0m \u001b[43m    \u001b[49m\u001b[43m)\u001b[49m\n",
      "File \u001b[0;32m~/.miniforge3/envs/ML_Class/lib/python3.9/site-packages/sklearn/utils/_param_validation.py:216\u001b[0m, in \u001b[0;36mvalidate_params.<locals>.decorator.<locals>.wrapper\u001b[0;34m(*args, **kwargs)\u001b[0m\n\u001b[1;32m    210\u001b[0m \u001b[38;5;28;01mtry\u001b[39;00m:\n\u001b[1;32m    211\u001b[0m     \u001b[38;5;28;01mwith\u001b[39;00m config_context(\n\u001b[1;32m    212\u001b[0m         skip_parameter_validation\u001b[38;5;241m=\u001b[39m(\n\u001b[1;32m    213\u001b[0m             prefer_skip_nested_validation \u001b[38;5;129;01mor\u001b[39;00m global_skip_validation\n\u001b[1;32m    214\u001b[0m         )\n\u001b[1;32m    215\u001b[0m     ):\n\u001b[0;32m--> 216\u001b[0m         \u001b[38;5;28;01mreturn\u001b[39;00m \u001b[43mfunc\u001b[49m\u001b[43m(\u001b[49m\u001b[38;5;241;43m*\u001b[39;49m\u001b[43margs\u001b[49m\u001b[43m,\u001b[49m\u001b[43m \u001b[49m\u001b[38;5;241;43m*\u001b[39;49m\u001b[38;5;241;43m*\u001b[39;49m\u001b[43mkwargs\u001b[49m\u001b[43m)\u001b[49m\n\u001b[1;32m    217\u001b[0m \u001b[38;5;28;01mexcept\u001b[39;00m InvalidParameterError \u001b[38;5;28;01mas\u001b[39;00m e:\n\u001b[1;32m    218\u001b[0m     \u001b[38;5;66;03m# When the function is just a wrapper around an estimator, we allow\u001b[39;00m\n\u001b[1;32m    219\u001b[0m     \u001b[38;5;66;03m# the function to delegate validation to the estimator, but we replace\u001b[39;00m\n\u001b[1;32m    220\u001b[0m     \u001b[38;5;66;03m# the name of the estimator by the name of the function in the error\u001b[39;00m\n\u001b[1;32m    221\u001b[0m     \u001b[38;5;66;03m# message to avoid confusion.\u001b[39;00m\n\u001b[1;32m    222\u001b[0m     msg \u001b[38;5;241m=\u001b[39m re\u001b[38;5;241m.\u001b[39msub(\n\u001b[1;32m    223\u001b[0m         \u001b[38;5;124mr\u001b[39m\u001b[38;5;124m\"\u001b[39m\u001b[38;5;124mparameter of \u001b[39m\u001b[38;5;124m\\\u001b[39m\u001b[38;5;124mw+ must be\u001b[39m\u001b[38;5;124m\"\u001b[39m,\n\u001b[1;32m    224\u001b[0m         \u001b[38;5;124mf\u001b[39m\u001b[38;5;124m\"\u001b[39m\u001b[38;5;124mparameter of \u001b[39m\u001b[38;5;132;01m{\u001b[39;00mfunc\u001b[38;5;241m.\u001b[39m\u001b[38;5;18m__qualname__\u001b[39m\u001b[38;5;132;01m}\u001b[39;00m\u001b[38;5;124m must be\u001b[39m\u001b[38;5;124m\"\u001b[39m,\n\u001b[1;32m    225\u001b[0m         \u001b[38;5;28mstr\u001b[39m(e),\n\u001b[1;32m    226\u001b[0m     )\n",
      "File \u001b[0;32m~/.miniforge3/envs/ML_Class/lib/python3.9/site-packages/sklearn/utils/_indexing.py:506\u001b[0m, in \u001b[0;36mresample\u001b[0;34m(replace, n_samples, random_state, stratify, *arrays)\u001b[0m\n\u001b[1;32m    421\u001b[0m \u001b[38;5;250m\u001b[39m\u001b[38;5;124;03m\"\"\"Resample arrays or sparse matrices in a consistent way.\u001b[39;00m\n\u001b[1;32m    422\u001b[0m \n\u001b[1;32m    423\u001b[0m \u001b[38;5;124;03mThe default strategy implements one step of the bootstrapping\u001b[39;00m\n\u001b[0;32m   (...)\u001b[0m\n\u001b[1;32m    503\u001b[0m \u001b[38;5;124;03m  [1, 1, 1, 0, 1]\u001b[39;00m\n\u001b[1;32m    504\u001b[0m \u001b[38;5;124;03m\"\"\"\u001b[39;00m\n\u001b[1;32m    505\u001b[0m max_n_samples \u001b[38;5;241m=\u001b[39m n_samples\n\u001b[0;32m--> 506\u001b[0m random_state \u001b[38;5;241m=\u001b[39m \u001b[43mcheck_random_state\u001b[49m\u001b[43m(\u001b[49m\u001b[43mrandom_state\u001b[49m\u001b[43m)\u001b[49m\n\u001b[1;32m    508\u001b[0m \u001b[38;5;28;01mif\u001b[39;00m \u001b[38;5;28mlen\u001b[39m(arrays) \u001b[38;5;241m==\u001b[39m \u001b[38;5;241m0\u001b[39m:\n\u001b[1;32m    509\u001b[0m     \u001b[38;5;28;01mreturn\u001b[39;00m \u001b[38;5;28;01mNone\u001b[39;00m\n",
      "File \u001b[0;32m~/.miniforge3/envs/ML_Class/lib/python3.9/site-packages/sklearn/utils/validation.py:1515\u001b[0m, in \u001b[0;36mcheck_random_state\u001b[0;34m(seed)\u001b[0m\n\u001b[1;32m   1513\u001b[0m     \u001b[38;5;28;01mreturn\u001b[39;00m np\u001b[38;5;241m.\u001b[39mrandom\u001b[38;5;241m.\u001b[39mmtrand\u001b[38;5;241m.\u001b[39m_rand\n\u001b[1;32m   1514\u001b[0m \u001b[38;5;28;01mif\u001b[39;00m \u001b[38;5;28misinstance\u001b[39m(seed, numbers\u001b[38;5;241m.\u001b[39mIntegral):\n\u001b[0;32m-> 1515\u001b[0m     \u001b[38;5;28;01mreturn\u001b[39;00m \u001b[43mnp\u001b[49m\u001b[38;5;241;43m.\u001b[39;49m\u001b[43mrandom\u001b[49m\u001b[38;5;241;43m.\u001b[39;49m\u001b[43mRandomState\u001b[49m\u001b[43m(\u001b[49m\u001b[43mseed\u001b[49m\u001b[43m)\u001b[49m\n\u001b[1;32m   1516\u001b[0m \u001b[38;5;28;01mif\u001b[39;00m \u001b[38;5;28misinstance\u001b[39m(seed, np\u001b[38;5;241m.\u001b[39mrandom\u001b[38;5;241m.\u001b[39mRandomState):\n\u001b[1;32m   1517\u001b[0m     \u001b[38;5;28;01mreturn\u001b[39;00m seed\n",
      "File \u001b[0;32mnumpy/random/mtrand.pyx:184\u001b[0m, in \u001b[0;36mnumpy.random.mtrand.RandomState.__init__\u001b[0;34m()\u001b[0m\n",
      "File \u001b[0;32m_mt19937.pyx:132\u001b[0m, in \u001b[0;36mnumpy.random._mt19937.MT19937.__init__\u001b[0;34m()\u001b[0m\n",
      "File \u001b[0;32m~/.miniforge3/envs/ML_Class/lib/python3.9/contextlib.py:76\u001b[0m, in \u001b[0;36mContextDecorator.__call__.<locals>.inner\u001b[0;34m(*args, **kwds)\u001b[0m\n\u001b[1;32m     75\u001b[0m \u001b[38;5;28;01mdef\u001b[39;00m \u001b[38;5;21m__call__\u001b[39m(\u001b[38;5;28mself\u001b[39m, func):\n\u001b[0;32m---> 76\u001b[0m     \u001b[38;5;129m@wraps\u001b[39m(func)\n\u001b[1;32m     77\u001b[0m     \u001b[38;5;28;01mdef\u001b[39;00m \u001b[38;5;21minner\u001b[39m(\u001b[38;5;241m*\u001b[39margs, \u001b[38;5;241m*\u001b[39m\u001b[38;5;241m*\u001b[39mkwds):\n\u001b[1;32m     78\u001b[0m         \u001b[38;5;28;01mwith\u001b[39;00m \u001b[38;5;28mself\u001b[39m\u001b[38;5;241m.\u001b[39m_recreate_cm():\n\u001b[1;32m     79\u001b[0m             \u001b[38;5;28;01mreturn\u001b[39;00m func(\u001b[38;5;241m*\u001b[39margs, \u001b[38;5;241m*\u001b[39m\u001b[38;5;241m*\u001b[39mkwds)\n",
      "\u001b[0;31mKeyboardInterrupt\u001b[0m: "
     ]
    }
   ],
   "source": [
    "#se crea un diccionario y una variable para guardar las keys\n",
    "sum_correlations = None\n",
    "corr_data=[]\n",
    "keys = list(dataframes.keys())\n",
    "df_values=pd.DataFrame()\n",
    "for i in range(1000):\n",
    "#Se recorren las keys y se guardan los valores de half_life_seconds en un diccionario\n",
    "    for j in range(len(keys)):\n",
    "        df=df_concat[df_concat['source']==keys[j]]\n",
    "        df_values[keys[j]] = shuffle(df['half_life_seconds'].values, random_state=i, n_samples=17)\n",
    "    corr_data.append(df_values.corr())\n",
    "    corr_iter = df_values.corr()\n",
    "    if sum_correlations is None:\n",
    "        sum_correlations = corr_iter\n",
    "    else:\n",
    "        sum_correlations += corr_iter"
   ]
  },
  {
   "cell_type": "code",
   "execution_count": null,
   "metadata": {},
   "outputs": [],
   "source": [
    "df_correlation=pd.DataFrame()\n",
    "df_correlation=pd.concat(corr_data)\n",
    "df_correlation=df_correlation.sort_index()"
   ]
  },
  {
   "cell_type": "code",
   "execution_count": null,
   "metadata": {},
   "outputs": [
    {
     "data": {
      "application/vnd.microsoft.datawrangler.viewer.v0+json": {
       "columns": [
        {
         "name": "index",
         "rawType": "object",
         "type": "string"
        },
        {
         "name": "Antiviral_canon.csv",
         "rawType": "float64",
         "type": "float"
        },
        {
         "name": "HLP_10_canon.csv",
         "rawType": "float64",
         "type": "float"
        },
        {
         "name": "HLP_16_canon.csv",
         "rawType": "float64",
         "type": "float"
        },
        {
         "name": "PEP_LIFE_canon.csv",
         "rawType": "float64",
         "type": "float"
        },
        {
         "name": "Plifepred_canon.csv",
         "rawType": "float64",
         "type": "float"
        },
        {
         "name": "Serum_canon.csv",
         "rawType": "float64",
         "type": "float"
        }
       ],
       "conversionMethod": "pd.DataFrame",
       "ref": "8d8caed7-c7fe-447f-9a93-548c8092147d",
       "rows": [
        [
         "Antiviral_canon.csv",
         "1.0",
         "0.6605895815225379",
         "-0.160855192894422",
         "0.08689182050072679",
         "0.14527063012534625",
         "-0.24265034907577981"
        ],
        [
         "Antiviral_canon.csv",
         "1.0",
         "0.649657379663951",
         "0.17059803804235427",
         "-0.1894398098318812",
         "-0.1259445968691194",
         "0.20482959175188128"
        ],
        [
         "Antiviral_canon.csv",
         "1.0",
         "0.4778386426728201",
         "0.2543670519923619",
         "0.3308834395651437",
         "0.36758828080488665",
         "-0.33291507126360576"
        ],
        [
         "Antiviral_canon.csv",
         "1.0",
         "-0.17124900684686287",
         "-0.23075145961464427",
         "0.10244780515884959",
         "-0.2378212603063541",
         "-0.1499749732268075"
        ],
        [
         "Antiviral_canon.csv",
         "1.0",
         "0.6376452804273668",
         "-0.35061643674137255",
         "-0.0831571209760576",
         "-0.12997267928291034",
         "0.1296139734911372"
        ],
        [
         "Antiviral_canon.csv",
         "1.0",
         "0.08940061331633134",
         "0.00290216650955942",
         "-0.052791371664459324",
         "-0.0021010190520831095",
         "0.3091252254290932"
        ],
        [
         "Antiviral_canon.csv",
         "1.0",
         "-0.09866822260992901",
         "0.12583896819404208",
         "-0.15276113673033895",
         "0.14497405316132686",
         "0.22869428609290907"
        ],
        [
         "Antiviral_canon.csv",
         "1.0",
         "-0.15079030792357537",
         "-0.26926210020799285",
         "0.16202885307748782",
         "-0.1833400272181169",
         "0.18940937771230887"
        ],
        [
         "Antiviral_canon.csv",
         "1.0",
         "-0.385336348850204",
         "-0.039012265123132925",
         "0.09474527527277277",
         "0.36287058835400515",
         "0.2727327346415395"
        ],
        [
         "Antiviral_canon.csv",
         "1.0",
         "-0.10970201496132131",
         "-0.15230037869339835",
         "0.07602803777523183",
         "0.008239836914467284",
         "0.4191999909388363"
        ],
        [
         "Antiviral_canon.csv",
         "1.0",
         "-0.08668522470152021",
         "-0.1492441130008155",
         "0.09352369839974085",
         "0.2833105483482197",
         "-0.14903014703500042"
        ],
        [
         "Antiviral_canon.csv",
         "1.0",
         "-0.19118021177095718",
         "0.12509980984594526",
         "0.3638142424859945",
         "0.006966139859927976",
         "0.15535025909308098"
        ],
        [
         "Antiviral_canon.csv",
         "1.0",
         "-0.24391455829244615",
         "-0.09170404168049816",
         "-0.12336446879956049",
         "0.4930480740577719",
         "0.45601035761193465"
        ],
        [
         "Antiviral_canon.csv",
         "1.0",
         "-0.13446335868070894",
         "0.09479573262766759",
         "0.030884434981939303",
         "-0.15386592847145628",
         "0.4223542082166194"
        ],
        [
         "Antiviral_canon.csv",
         "1.0",
         "0.40705823908205313",
         "0.22282763514271264",
         "0.3062330167747498",
         "-0.23240602333453678",
         "-0.19256719442302317"
        ],
        [
         "Antiviral_canon.csv",
         "1.0",
         "0.989575261627066",
         "0.9921845500071785",
         "-0.09560411812878206",
         "0.9907170503450298",
         "-0.03188485693051693"
        ],
        [
         "Antiviral_canon.csv",
         "1.0",
         "0.391703607508246",
         "-0.1366786527561778",
         "-0.11571697664579118",
         "0.07294532471331376",
         "0.45592298430633627"
        ],
        [
         "Antiviral_canon.csv",
         "1.0",
         "-0.08542096646541204",
         "-0.0065743316687916584",
         "-0.19505149804153105",
         "0.42073571545225236",
         "0.1451658679772112"
        ],
        [
         "Antiviral_canon.csv",
         "1.0",
         "-0.23394591746420862",
         "-0.1667213943655291",
         "0.20240441152449865",
         "0.5249240192972514",
         "0.1564607046103386"
        ],
        [
         "Antiviral_canon.csv",
         "1.0",
         "-0.09663573698846263",
         "-0.08527942354452697",
         "-0.073526745322922",
         "-0.22553955435724463",
         "-0.2116108743564076"
        ],
        [
         "Antiviral_canon.csv",
         "1.0",
         "-0.009720580487736758",
         "0.1167083490016116",
         "0.9164376177650669",
         "-0.052700826116446324",
         "-0.01860968141717711"
        ],
        [
         "Antiviral_canon.csv",
         "1.0",
         "-0.21588825124023545",
         "0.16005435573342555",
         "0.03918308970634946",
         "0.20805860779046245",
         "0.0007325697448639911"
        ],
        [
         "Antiviral_canon.csv",
         "1.0",
         "-0.11592371021766458",
         "-0.24244590886745404",
         "-0.13079692333693801",
         "0.3456743893375759",
         "-0.25834830120613755"
        ],
        [
         "Antiviral_canon.csv",
         "1.0",
         "0.4902113492658979",
         "0.3324118853080809",
         "-0.12960083890493207",
         "-0.15945198198719368",
         "0.4095995438737266"
        ],
        [
         "Antiviral_canon.csv",
         "1.0",
         "-0.10678720769407496",
         "0.25663697725997825",
         "-0.15115185229653083",
         "-0.12840135377787806",
         "-0.30923774074757976"
        ],
        [
         "Antiviral_canon.csv",
         "1.0",
         "-0.15685877017490538",
         "-0.08704329627659392",
         "-0.06000349292276439",
         "0.0025402896995889677",
         "-0.022430814401313493"
        ],
        [
         "Antiviral_canon.csv",
         "1.0",
         "-0.13385439303387536",
         "0.09231298764439383",
         "0.463020514345063",
         "-0.2533529938642188",
         "-0.20142970234581697"
        ],
        [
         "Antiviral_canon.csv",
         "1.0",
         "-0.12932477978257875",
         "-0.12210467132867124",
         "-0.20099631240082336",
         "-0.08892485088140652",
         "-0.12838393590117736"
        ],
        [
         "Antiviral_canon.csv",
         "1.0",
         "-0.0815866850163426",
         "0.3176531097212603",
         "0.5635176974713424",
         "-0.12963626323210795",
         "-0.06795560008846893"
        ],
        [
         "Antiviral_canon.csv",
         "1.0",
         "0.932359978762301",
         "0.03921254454089203",
         "-0.14405271025574176",
         "0.2178428726764275",
         "-0.2584597477909188"
        ],
        [
         "Antiviral_canon.csv",
         "1.0",
         "-0.13432124691537453",
         "0.09200047124214956",
         "-0.16513086857718898",
         "-0.14074076576027292",
         "-0.1372443487029032"
        ],
        [
         "Antiviral_canon.csv",
         "1.0",
         "-0.023964933550296823",
         "-0.018737365273356267",
         "-0.0966699718407665",
         "-0.14141922676814872",
         "0.24042042362239865"
        ],
        [
         "Antiviral_canon.csv",
         "1.0",
         "-0.05598993104111793",
         "0.34366708743315116",
         "-0.1555505956283958",
         "0.25700753375933216",
         "-0.0675421659258147"
        ],
        [
         "Antiviral_canon.csv",
         "1.0",
         "0.954380279806048",
         "0.1906889758907104",
         "-0.14119614596626584",
         "-0.12059634315887996",
         "-0.02944841062275439"
        ],
        [
         "Antiviral_canon.csv",
         "1.0",
         "0.10293614483304948",
         "-0.21564424276985578",
         "0.29632486457142604",
         "-0.22627445809001107",
         "0.10965403087305604"
        ],
        [
         "Antiviral_canon.csv",
         "1.0",
         "-0.0594226125336339",
         "-0.11762748855329345",
         "-0.14652014767671928",
         "-0.1474757804240985",
         "-0.1792328916066966"
        ],
        [
         "Antiviral_canon.csv",
         "1.0",
         "0.1264243742024108",
         "-0.05181517384516318",
         "0.10026271731393287",
         "-0.15080833664391674",
         "-0.19781401998082287"
        ],
        [
         "Antiviral_canon.csv",
         "1.0",
         "-0.14055428083046564",
         "-0.11738558098720989",
         "-0.12079487509169363",
         "0.24163655246891855",
         "0.3345380000990232"
        ],
        [
         "Antiviral_canon.csv",
         "1.0",
         "-0.23490169447969797",
         "-0.11693463781088322",
         "0.6268855145813995",
         "-0.1134561623416601",
         "-0.18800830479137542"
        ],
        [
         "Antiviral_canon.csv",
         "1.0",
         "0.007174052999654603",
         "-0.12656159391152114",
         "0.18336315035686052",
         "-0.04704223645178543",
         "-0.2222244726424496"
        ],
        [
         "Antiviral_canon.csv",
         "1.0",
         "-0.15455793965434997",
         "0.5935875779179576",
         "-0.10643929308089377",
         "-0.14198691208674283",
         "-0.34153816679433396"
        ],
        [
         "Antiviral_canon.csv",
         "1.0",
         "0.0909434715869827",
         "-0.013278011642573445",
         "-0.15132997069521376",
         "0.7022112779407895",
         "-0.15581140704082452"
        ],
        [
         "Antiviral_canon.csv",
         "1.0",
         "-0.11904432332890359",
         "0.07663175699057731",
         "-0.2621900154510071",
         "-0.0521869800151283",
         "-0.03148716224205977"
        ],
        [
         "Antiviral_canon.csv",
         "1.0",
         "0.06391945344834558",
         "-0.1775686003043451",
         "-0.22310597096328552",
         "0.406095562680872",
         "-0.3635721419769492"
        ],
        [
         "Antiviral_canon.csv",
         "1.0",
         "-0.002574049790393135",
         "-0.10766029567177443",
         "-0.17150003946450065",
         "-0.09864444915631448",
         "-0.08683580569531683"
        ],
        [
         "Antiviral_canon.csv",
         "1.0",
         "-0.18042290397285413",
         "-0.153489228232934",
         "-0.23294843009745797",
         "-0.25576320016941095",
         "-0.2583509524474212"
        ],
        [
         "Antiviral_canon.csv",
         "1.0",
         "-0.25928846209370615",
         "0.33617333873975647",
         "-0.20032376570195498",
         "0.31704882624722336",
         "-0.056389481417275476"
        ],
        [
         "Antiviral_canon.csv",
         "1.0",
         "0.365371416826199",
         "-0.05394144289416391",
         "-0.15451218973001177",
         "-0.17513517915635454",
         "-0.17784178519215066"
        ],
        [
         "Antiviral_canon.csv",
         "1.0",
         "0.2926383651975949",
         "-0.05019189023564486",
         "-0.1310700224191312",
         "0.14929733489377117",
         "-0.21201857744392105"
        ],
        [
         "Antiviral_canon.csv",
         "1.0",
         "0.11666427376209791",
         "0.06711854080337373",
         "0.020841175790884205",
         "0.38983054405951223",
         "-0.2922989177973983"
        ]
       ],
       "shape": {
        "columns": 6,
        "rows": 6000
       }
      },
      "text/html": [
       "<div>\n",
       "<style scoped>\n",
       "    .dataframe tbody tr th:only-of-type {\n",
       "        vertical-align: middle;\n",
       "    }\n",
       "\n",
       "    .dataframe tbody tr th {\n",
       "        vertical-align: top;\n",
       "    }\n",
       "\n",
       "    .dataframe thead th {\n",
       "        text-align: right;\n",
       "    }\n",
       "</style>\n",
       "<table border=\"1\" class=\"dataframe\">\n",
       "  <thead>\n",
       "    <tr style=\"text-align: right;\">\n",
       "      <th></th>\n",
       "      <th>Antiviral_canon.csv</th>\n",
       "      <th>HLP_10_canon.csv</th>\n",
       "      <th>HLP_16_canon.csv</th>\n",
       "      <th>PEP_LIFE_canon.csv</th>\n",
       "      <th>Plifepred_canon.csv</th>\n",
       "      <th>Serum_canon.csv</th>\n",
       "    </tr>\n",
       "  </thead>\n",
       "  <tbody>\n",
       "    <tr>\n",
       "      <th>Antiviral_canon.csv</th>\n",
       "      <td>1.000000</td>\n",
       "      <td>0.660590</td>\n",
       "      <td>-0.160855</td>\n",
       "      <td>0.086892</td>\n",
       "      <td>0.145271</td>\n",
       "      <td>-0.242650</td>\n",
       "    </tr>\n",
       "    <tr>\n",
       "      <th>Antiviral_canon.csv</th>\n",
       "      <td>1.000000</td>\n",
       "      <td>0.649657</td>\n",
       "      <td>0.170598</td>\n",
       "      <td>-0.189440</td>\n",
       "      <td>-0.125945</td>\n",
       "      <td>0.204830</td>\n",
       "    </tr>\n",
       "    <tr>\n",
       "      <th>Antiviral_canon.csv</th>\n",
       "      <td>1.000000</td>\n",
       "      <td>0.477839</td>\n",
       "      <td>0.254367</td>\n",
       "      <td>0.330883</td>\n",
       "      <td>0.367588</td>\n",
       "      <td>-0.332915</td>\n",
       "    </tr>\n",
       "    <tr>\n",
       "      <th>Antiviral_canon.csv</th>\n",
       "      <td>1.000000</td>\n",
       "      <td>-0.171249</td>\n",
       "      <td>-0.230751</td>\n",
       "      <td>0.102448</td>\n",
       "      <td>-0.237821</td>\n",
       "      <td>-0.149975</td>\n",
       "    </tr>\n",
       "    <tr>\n",
       "      <th>Antiviral_canon.csv</th>\n",
       "      <td>1.000000</td>\n",
       "      <td>0.637645</td>\n",
       "      <td>-0.350616</td>\n",
       "      <td>-0.083157</td>\n",
       "      <td>-0.129973</td>\n",
       "      <td>0.129614</td>\n",
       "    </tr>\n",
       "    <tr>\n",
       "      <th>...</th>\n",
       "      <td>...</td>\n",
       "      <td>...</td>\n",
       "      <td>...</td>\n",
       "      <td>...</td>\n",
       "      <td>...</td>\n",
       "      <td>...</td>\n",
       "    </tr>\n",
       "    <tr>\n",
       "      <th>Serum_canon.csv</th>\n",
       "      <td>-0.185623</td>\n",
       "      <td>0.375137</td>\n",
       "      <td>-0.085541</td>\n",
       "      <td>-0.037843</td>\n",
       "      <td>-0.075575</td>\n",
       "      <td>1.000000</td>\n",
       "    </tr>\n",
       "    <tr>\n",
       "      <th>Serum_canon.csv</th>\n",
       "      <td>0.430446</td>\n",
       "      <td>0.051428</td>\n",
       "      <td>0.136627</td>\n",
       "      <td>0.218554</td>\n",
       "      <td>-0.210469</td>\n",
       "      <td>1.000000</td>\n",
       "    </tr>\n",
       "    <tr>\n",
       "      <th>Serum_canon.csv</th>\n",
       "      <td>-0.040647</td>\n",
       "      <td>-0.209133</td>\n",
       "      <td>-0.207910</td>\n",
       "      <td>0.284956</td>\n",
       "      <td>0.266336</td>\n",
       "      <td>1.000000</td>\n",
       "    </tr>\n",
       "    <tr>\n",
       "      <th>Serum_canon.csv</th>\n",
       "      <td>0.240558</td>\n",
       "      <td>-0.155683</td>\n",
       "      <td>-0.195328</td>\n",
       "      <td>0.009381</td>\n",
       "      <td>-0.264521</td>\n",
       "      <td>1.000000</td>\n",
       "    </tr>\n",
       "    <tr>\n",
       "      <th>Serum_canon.csv</th>\n",
       "      <td>0.415584</td>\n",
       "      <td>-0.193636</td>\n",
       "      <td>-0.222631</td>\n",
       "      <td>-0.228331</td>\n",
       "      <td>-0.068582</td>\n",
       "      <td>1.000000</td>\n",
       "    </tr>\n",
       "  </tbody>\n",
       "</table>\n",
       "<p>6000 rows × 6 columns</p>\n",
       "</div>"
      ],
      "text/plain": [
       "                     Antiviral_canon.csv  HLP_10_canon.csv  HLP_16_canon.csv  \\\n",
       "Antiviral_canon.csv             1.000000          0.660590         -0.160855   \n",
       "Antiviral_canon.csv             1.000000          0.649657          0.170598   \n",
       "Antiviral_canon.csv             1.000000          0.477839          0.254367   \n",
       "Antiviral_canon.csv             1.000000         -0.171249         -0.230751   \n",
       "Antiviral_canon.csv             1.000000          0.637645         -0.350616   \n",
       "...                                  ...               ...               ...   \n",
       "Serum_canon.csv                -0.185623          0.375137         -0.085541   \n",
       "Serum_canon.csv                 0.430446          0.051428          0.136627   \n",
       "Serum_canon.csv                -0.040647         -0.209133         -0.207910   \n",
       "Serum_canon.csv                 0.240558         -0.155683         -0.195328   \n",
       "Serum_canon.csv                 0.415584         -0.193636         -0.222631   \n",
       "\n",
       "                     PEP_LIFE_canon.csv  Plifepred_canon.csv  Serum_canon.csv  \n",
       "Antiviral_canon.csv            0.086892             0.145271        -0.242650  \n",
       "Antiviral_canon.csv           -0.189440            -0.125945         0.204830  \n",
       "Antiviral_canon.csv            0.330883             0.367588        -0.332915  \n",
       "Antiviral_canon.csv            0.102448            -0.237821        -0.149975  \n",
       "Antiviral_canon.csv           -0.083157            -0.129973         0.129614  \n",
       "...                                 ...                  ...              ...  \n",
       "Serum_canon.csv               -0.037843            -0.075575         1.000000  \n",
       "Serum_canon.csv                0.218554            -0.210469         1.000000  \n",
       "Serum_canon.csv                0.284956             0.266336         1.000000  \n",
       "Serum_canon.csv                0.009381            -0.264521         1.000000  \n",
       "Serum_canon.csv               -0.228331            -0.068582         1.000000  \n",
       "\n",
       "[6000 rows x 6 columns]"
      ]
     },
     "execution_count": 7,
     "metadata": {},
     "output_type": "execute_result"
    }
   ],
   "source": [
    "df_correlation"
   ]
  },
  {
   "cell_type": "code",
   "execution_count": null,
   "metadata": {},
   "outputs": [
    {
     "data": {
      "application/vnd.microsoft.datawrangler.viewer.v0+json": {
       "columns": [
        {
         "name": "index",
         "rawType": "object",
         "type": "string"
        },
        {
         "name": "Antiviral_canon.csv",
         "rawType": "float64",
         "type": "float"
        },
        {
         "name": "HLP_10_canon.csv",
         "rawType": "float64",
         "type": "float"
        },
        {
         "name": "HLP_16_canon.csv",
         "rawType": "float64",
         "type": "float"
        },
        {
         "name": "PEP_LIFE_canon.csv",
         "rawType": "float64",
         "type": "float"
        },
        {
         "name": "Plifepred_canon.csv",
         "rawType": "float64",
         "type": "float"
        },
        {
         "name": "Serum_canon.csv",
         "rawType": "float64",
         "type": "float"
        }
       ],
       "conversionMethod": "pd.DataFrame",
       "ref": "1fc1e3dc-1623-4320-86c5-7df592e811f8",
       "rows": [
        [
         "Antiviral_canon.csv",
         "1.0",
         "0.0027632316795584565",
         "-0.007228366053721727",
         "0.0007148355409692219",
         "-0.00232986181813327",
         "-0.004100589858761454"
        ],
        [
         "HLP_10_canon.csv",
         "0.0027632316795584565",
         "1.0",
         "0.12304538239888958",
         "-0.04451518502857246",
         "0.017284291150490023",
         "-0.004999914477875059"
        ],
        [
         "HLP_16_canon.csv",
         "-0.007228366053721727",
         "0.12304538239888958",
         "1.0",
         "-0.01280709892932439",
         "0.003000323516340943",
         "-0.006485974275701066"
        ],
        [
         "PEP_LIFE_canon.csv",
         "0.0007148355409692219",
         "-0.04451518502857246",
         "-0.01280709892932439",
         "1.0",
         "-0.008193731671465697",
         "0.005176950671185365"
        ],
        [
         "Plifepred_canon.csv",
         "-0.00232986181813327",
         "0.017284291150490023",
         "0.003000323516340943",
         "-0.008193731671465697",
         "1.0",
         "-0.003763193952831344"
        ],
        [
         "Serum_canon.csv",
         "-0.004100589858761454",
         "-0.004999914477875059",
         "-0.006485974275701066",
         "0.005176950671185365",
         "-0.003763193952831344",
         "1.0"
        ]
       ],
       "shape": {
        "columns": 6,
        "rows": 6
       }
      },
      "text/html": [
       "<div>\n",
       "<style scoped>\n",
       "    .dataframe tbody tr th:only-of-type {\n",
       "        vertical-align: middle;\n",
       "    }\n",
       "\n",
       "    .dataframe tbody tr th {\n",
       "        vertical-align: top;\n",
       "    }\n",
       "\n",
       "    .dataframe thead th {\n",
       "        text-align: right;\n",
       "    }\n",
       "</style>\n",
       "<table border=\"1\" class=\"dataframe\">\n",
       "  <thead>\n",
       "    <tr style=\"text-align: right;\">\n",
       "      <th></th>\n",
       "      <th>Antiviral_canon.csv</th>\n",
       "      <th>HLP_10_canon.csv</th>\n",
       "      <th>HLP_16_canon.csv</th>\n",
       "      <th>PEP_LIFE_canon.csv</th>\n",
       "      <th>Plifepred_canon.csv</th>\n",
       "      <th>Serum_canon.csv</th>\n",
       "    </tr>\n",
       "  </thead>\n",
       "  <tbody>\n",
       "    <tr>\n",
       "      <th>Antiviral_canon.csv</th>\n",
       "      <td>1.000000</td>\n",
       "      <td>0.002763</td>\n",
       "      <td>-0.007228</td>\n",
       "      <td>0.000715</td>\n",
       "      <td>-0.002330</td>\n",
       "      <td>-0.004101</td>\n",
       "    </tr>\n",
       "    <tr>\n",
       "      <th>HLP_10_canon.csv</th>\n",
       "      <td>0.002763</td>\n",
       "      <td>1.000000</td>\n",
       "      <td>0.123045</td>\n",
       "      <td>-0.044515</td>\n",
       "      <td>0.017284</td>\n",
       "      <td>-0.005000</td>\n",
       "    </tr>\n",
       "    <tr>\n",
       "      <th>HLP_16_canon.csv</th>\n",
       "      <td>-0.007228</td>\n",
       "      <td>0.123045</td>\n",
       "      <td>1.000000</td>\n",
       "      <td>-0.012807</td>\n",
       "      <td>0.003000</td>\n",
       "      <td>-0.006486</td>\n",
       "    </tr>\n",
       "    <tr>\n",
       "      <th>PEP_LIFE_canon.csv</th>\n",
       "      <td>0.000715</td>\n",
       "      <td>-0.044515</td>\n",
       "      <td>-0.012807</td>\n",
       "      <td>1.000000</td>\n",
       "      <td>-0.008194</td>\n",
       "      <td>0.005177</td>\n",
       "    </tr>\n",
       "    <tr>\n",
       "      <th>Plifepred_canon.csv</th>\n",
       "      <td>-0.002330</td>\n",
       "      <td>0.017284</td>\n",
       "      <td>0.003000</td>\n",
       "      <td>-0.008194</td>\n",
       "      <td>1.000000</td>\n",
       "      <td>-0.003763</td>\n",
       "    </tr>\n",
       "    <tr>\n",
       "      <th>Serum_canon.csv</th>\n",
       "      <td>-0.004101</td>\n",
       "      <td>-0.005000</td>\n",
       "      <td>-0.006486</td>\n",
       "      <td>0.005177</td>\n",
       "      <td>-0.003763</td>\n",
       "      <td>1.000000</td>\n",
       "    </tr>\n",
       "  </tbody>\n",
       "</table>\n",
       "</div>"
      ],
      "text/plain": [
       "                     Antiviral_canon.csv  HLP_10_canon.csv  HLP_16_canon.csv  \\\n",
       "Antiviral_canon.csv             1.000000          0.002763         -0.007228   \n",
       "HLP_10_canon.csv                0.002763          1.000000          0.123045   \n",
       "HLP_16_canon.csv               -0.007228          0.123045          1.000000   \n",
       "PEP_LIFE_canon.csv              0.000715         -0.044515         -0.012807   \n",
       "Plifepred_canon.csv            -0.002330          0.017284          0.003000   \n",
       "Serum_canon.csv                -0.004101         -0.005000         -0.006486   \n",
       "\n",
       "                     PEP_LIFE_canon.csv  Plifepred_canon.csv  Serum_canon.csv  \n",
       "Antiviral_canon.csv            0.000715            -0.002330        -0.004101  \n",
       "HLP_10_canon.csv              -0.044515             0.017284        -0.005000  \n",
       "HLP_16_canon.csv              -0.012807             0.003000        -0.006486  \n",
       "PEP_LIFE_canon.csv             1.000000            -0.008194         0.005177  \n",
       "Plifepred_canon.csv           -0.008194             1.000000        -0.003763  \n",
       "Serum_canon.csv                0.005177            -0.003763         1.000000  "
      ]
     },
     "execution_count": 8,
     "metadata": {},
     "output_type": "execute_result"
    }
   ],
   "source": [
    "avg_correlation = sum_correlations / 1000\n",
    "avg_correlation"
   ]
  },
  {
   "cell_type": "code",
   "execution_count": null,
   "metadata": {},
   "outputs": [
    {
     "data": {
      "image/png": "[encoded data removed]",
      "text/plain": [
       "<Figure size 1200x1000 with 2 Axes>"
      ]
     },
     "metadata": {},
     "output_type": "display_data"
    }
   ],
   "source": [
    "new_labels = [label.replace('_canon.csv', '') for label in avg_correlation.index]\n",
    "avg_correlation.index = new_labels\n",
    "avg_correlation.columns = new_labels\n",
    "\n",
    "# Crear la figura con ejes\n",
    "fig, ax = plt.subplots(figsize=(12, 10))\n",
    "\n",
    "# Crear el mapa de calor con la paleta 'cubehelix'\n",
    "sns.heatmap(\n",
    "    avg_correlation, annot=True, fmt=\".2f\", cmap=\"Blues\", vmin=-1, vmax=1, center=0,\n",
    "    cbar_kws={'label': 'Correlación', 'shrink': 0.8},  # Ajuste de la barra de color\n",
    "    annot_kws={'size': 15, 'weight': 'bold', 'color': 'black'},  # Estilo de los números\n",
    "    linewidths=0.5, linecolor='gray',  # Líneas finas entre celdas\n",
    "    square=True,  # Hacer cuadrado el gráfico\n",
    "    xticklabels=True, yticklabels=True,  # Etiquetas visibles\n",
    "    mask=avg_correlation.isnull(),  # Enmascarar valores nulos si los hay\n",
    "    ax=ax  # Asegurarse de que el gráfico se dibuje en los ejes correctos\n",
    ")\n",
    "\n",
    "# Títulos y etiquetas con un estilo más destacado\n",
    "ax.set_title('Mapa de calor de la matriz de correlación', fontsize=18, weight='bold')\n",
    "ax.set_xlabel('Variables', fontsize=14, weight='bold')\n",
    "ax.set_ylabel('Variables', fontsize=14, weight='bold')\n",
    "\n",
    "# Mejorar la visualización de las etiquetas\n",
    "plt.xticks(rotation=45, ha='right', fontsize=12)\n",
    "plt.yticks(rotation=0, fontsize=12)\n",
    "\n",
    "# Ajustar el layout para evitar que se corten las etiquetas\n",
    "plt.tight_layout()\n",
    "\n",
    "# Guardar la imagen con un nombre más descriptivo\n",
    "plt.savefig(\"../../img/datasets/correlation_heatmap.png\", dpi=300)\n",
    "\n",
    "# Mostrar el gráfico\n",
    "plt.show()"
   ]
  },
  {
   "cell_type": "code",
   "execution_count": null,
   "metadata": {},
   "outputs": [
    {
     "data": {
      "image/png": "[encoded data removed]",
      "text/plain": [
       "<Figure size 1000x800 with 1 Axes>"
      ]
     },
     "metadata": {},
     "output_type": "display_data"
    }
   ],
   "source": [
    "# Si df_correlation es un DataFrame con nombres en el índice\n",
    "custom_colors = [\"#03045e\", \"#262d79\", \"#475492\", \"#677bab\", \"#88a2c4\", \"#a9c9dd\", \"#caf0f6\"]\n",
    "custom_cmap = LinearSegmentedColormap.from_list(\"custom_cmap\", custom_colors)\n",
    "if isinstance(df_correlation, pd.DataFrame):\n",
    "    df_correlation.index = [label.replace('_canon.csv', '') for label in df_correlation.index]\n",
    "    df_correlation.columns = [label.replace('_canon.csv', '') for label in df_correlation.columns]\n",
    "\n",
    "plt.figure(figsize=(10, 8))  \n",
    "\n",
    "# Solo dibujar el KDE con el gradiente de colores\n",
    "sns.kdeplot(df_correlation, color=custom_cmap(0.6), linewidth=2)\n",
    "\n",
    "plt.savefig(\"../../img/datasets/correlation_kde.png\", dpi=300)\n",
    "# Mostrar el gráfico\n",
    "plt.show()\n"
   ]
  }
 ],
 "metadata": {
  "kernelspec": {
   "display_name": "ML_Class",
   "language": "python",
   "name": "python3"
  },
  "language_info": {
   "codemirror_mode": {
    "name": "ipython",
    "version": 3
   },
   "file_extension": ".py",
   "mimetype": "text/x-python",
   "name": "python",
   "nbconvert_exporter": "python",
   "pygments_lexer": "ipython3",
   "version": "3.9.20"
  }
 },
 "nbformat": 4,
 "nbformat_minor": 2
}
