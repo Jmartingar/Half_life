{
 "cells": [
  {
   "cell_type": "code",
   "execution_count": 21,
   "metadata": {},
   "outputs": [],
   "source": [
    "import pandas as pd\n",
    "import ast\n",
    "import importlib.util\n",
    "import os\n",
    "\n",
    "funct_path= os.path.abspath('../../utils/functions.py')"
   ]
  },
  {
   "cell_type": "code",
   "execution_count": 22,
   "metadata": {},
   "outputs": [],
   "source": [
    "# Importa funciones desde archivo externo\n",
    "spec = importlib.util.spec_from_file_location(\"functions\", funct_path)\n",
    "funct = importlib.util.module_from_spec(spec)\n",
    "spec.loader.exec_module(funct)"
   ]
  },
  {
   "cell_type": "code",
   "execution_count": 23,
   "metadata": {},
   "outputs": [],
   "source": [
    "# Se lee el archivo\n",
    "with open('../../data/raw/PEP_LIFE.data', 'r') as f:\n",
    "    content = f.read()"
   ]
  },
  {
   "cell_type": "code",
   "execution_count": 24,
   "metadata": {},
   "outputs": [],
   "source": [
    "# Convierte una cadena de texto a un diccionario\n",
    "data = ast.literal_eval(content)"
   ]
  },
  {
   "cell_type": "code",
   "execution_count": 25,
   "metadata": {},
   "outputs": [],
   "source": [
    "rows = []\n",
    "for key, value in data.items():\n",
    "    sequence, modifications = key\n",
    "    half_life_data = value['half_life_data']\n",
    "    references = value['references']\n",
    "    url_sources = value['url_sources']\n",
    "    \n",
    "    # Extraer datos de cada entrada en half_life_data\n",
    "    for entry, url in half_life_data:\n",
    "        row = {\n",
    "            'Sequence': sequence,\n",
    "            'Modifications': modifications,\n",
    "            'Test Sample': entry['test_sample'],\n",
    "            'Vivo/Vitro': entry['vivo_vitro'],\n",
    "            'Half Life (seconds)': entry['half_life_seconds'],\n",
    "            'Reference URL': references[0] if references else None,\n",
    "            'Source URL': url,\n",
    "            'Other Sources': ', '.join(url_sources)\n",
    "        }\n",
    "        rows.append(row)"
   ]
  },
  {
   "cell_type": "code",
   "execution_count": 26,
   "metadata": {},
   "outputs": [],
   "source": [
    "df = pd.DataFrame(data)"
   ]
  },
  {
   "cell_type": "code",
   "execution_count": 27,
   "metadata": {},
   "outputs": [],
   "source": [
    "df=df.transpose()\n",
    "df=df.reset_index()"
   ]
  },
  {
   "cell_type": "code",
   "execution_count": 28,
   "metadata": {},
   "outputs": [],
   "source": [
    "df['half_life_data'] = df['half_life_data'].astype(str).str.replace(r'[\\[\\]():{}]', '', regex=True)\n",
    "df['modifications'] = df['modifications'].astype(str).str.replace(r'[\\'()]', '', regex=True)\n",
    "df['modifications'] = df['modifications'].str.rstrip(',')"
   ]
  },
  {
   "cell_type": "code",
   "execution_count": 29,
   "metadata": {},
   "outputs": [],
   "source": [
    "extracted_data = df['half_life_data'].apply(funct.extract_data)\n",
    "df_expanded = pd.DataFrame(extracted_data.tolist())\n",
    "df['half_life_data'] = df_expanded[1]"
   ]
  },
  {
   "cell_type": "code",
   "execution_count": 30,
   "metadata": {},
   "outputs": [],
   "source": [
    "df_concat = pd.concat([df, df_expanded], axis=1)\n",
    "df_concat.drop(columns=[1], inplace=True)"
   ]
  },
  {
   "cell_type": "code",
   "execution_count": 31,
   "metadata": {},
   "outputs": [],
   "source": [
    "#renombra columnas, cambia a mayusculas la secuencia y pone en mayusculas la primera letra de las modificaciones, ademas de agregar columna is_mod\n",
    "df_concat = df_concat.rename(columns={'level_0': 'sequence', 'half_life_data': 'half_life_seconds', 3: 'experimental_characteristics', 5: 'vivo_or_vitro'})\n",
    "funct.mod_torf(df_concat)\n",
    "df_concat['sequence'] = df_concat['sequence'].str.upper()\n",
    "df_concat['modifications'] = df_concat['modifications'].str.title()"
   ]
  },
  {
   "cell_type": "code",
   "execution_count": 32,
   "metadata": {},
   "outputs": [],
   "source": [
    "df_concat.dropna(subset=['sequence', 'half_life_seconds'], inplace=True)"
   ]
  },
  {
   "cell_type": "code",
   "execution_count": 33,
   "metadata": {},
   "outputs": [],
   "source": [
    "df_concat=df_concat.filter(['sequence','experimental_characteristics','modifications','vivo_or_vitro','is_mod','half_life_seconds'])"
   ]
  },
  {
   "cell_type": "code",
   "execution_count": 34,
   "metadata": {},
   "outputs": [
    {
     "data": {
      "application/vnd.microsoft.datawrangler.viewer.v0+json": {
       "columns": [
        {
         "name": "index",
         "rawType": "int64",
         "type": "integer"
        },
        {
         "name": "sequence",
         "rawType": "object",
         "type": "string"
        },
        {
         "name": "experimental_characteristics",
         "rawType": "object",
         "type": "string"
        },
        {
         "name": "modifications",
         "rawType": "object",
         "type": "string"
        },
        {
         "name": "vivo_or_vitro",
         "rawType": "object",
         "type": "string"
        },
        {
         "name": "is_mod",
         "rawType": "object",
         "type": "string"
        },
        {
         "name": "half_life_seconds",
         "rawType": "object",
         "type": "string"
        }
       ],
       "conversionMethod": "pd.DataFrame",
       "ref": "4e0fdaad-9c28-4c8d-9b6d-3e5af1fb05dc",
       "rows": [
        [
         "0",
         "RRWQWR",
         "Human serum",
         "",
         "in vitro",
         "False",
         "1800"
        ],
        [
         "1",
         "RRWWRF",
         "Human serum",
         "",
         "in vitro",
         "False",
         "1800"
        ],
        [
         "2",
         "RRWQWR",
         "Human serum",
         "C-Terminal Amidation",
         "in vitro",
         "True",
         "1800"
        ],
        [
         "3",
         "RRWWRF",
         "Human serum",
         "C-Terminal Amidation",
         "in vitro",
         "True",
         "1800"
        ],
        [
         "4",
         "RRWQWR",
         "Human serum",
         "N-Terminal",
         "in vitro",
         "True",
         "3600"
        ],
        [
         "5",
         "RRWWRF",
         "Human serum",
         "N-Terminal",
         "in vitro",
         "True",
         "3600"
        ],
        [
         "6",
         "RRWQWR",
         "Human serum",
         "C-Terminal Amidation, N-Terminal",
         "in vitro",
         "True",
         "5400"
        ],
        [
         "7",
         "RRWWRF",
         "Human serum",
         "C-Terminal Amidation, N-Terminal",
         "in vitro",
         "True",
         "5400"
        ],
        [
         "8",
         "RRWQWR",
         "Human serum",
         "Cyclic",
         "in vitro",
         "True",
         "86400"
        ],
        [
         "9",
         "RRWWRF",
         "Human serum",
         "Cyclic",
         "in vitro",
         "True",
         "86400"
        ],
        [
         "10",
         "CRRWQWRC",
         "Human serum",
         "C-Terminal Amidation, Cyclic",
         "in vitro",
         "True",
         "5400"
        ],
        [
         "11",
         "CRRWWRFC",
         "Human serum",
         "C-Terminal Amidation, Cyclic",
         "in vitro",
         "True",
         "23400"
        ],
        [
         "12",
         "RRWQWRMKKLG",
         "Human serum",
         "",
         "in vitro",
         "False",
         "1800"
        ],
        [
         "13",
         "CRRWWRFC",
         "Human serum",
         "C-Terminal Amidation, N-Terminal, Cyclic",
         "in vitro",
         "True",
         "23400"
        ],
        [
         "14",
         "RRWQWRMKKLG",
         "Human serum",
         "Cyclic",
         "in vitro",
         "True",
         "6600"
        ],
        [
         "15",
         "CRRWQWRMKKLGC",
         "Human serum",
         "C-Terminal Amidation, Cyclic",
         "in vitro",
         "True",
         "6600"
        ],
        [
         "16",
         "AAGIGILTV",
         "VMM5 cytotoxic T-lymphocyte line incubated in human plasma",
         "",
         "in vitro",
         "False",
         "22"
        ],
        [
         "17",
         "AAGIGILTV",
         "VMM5 cytotoxic T-lymphocyte line incubated in human plasma",
         "Stereochemistry",
         "in vitro",
         "True",
         "Stability increased"
        ],
        [
         "18",
         "AAGIGILTV",
         "VMM5 cytotoxic T-lymphocyte line incubated in human plasma",
         "N-Terminal",
         "in vitro",
         "True",
         "Stability increased"
        ],
        [
         "19",
         "AAGIGILTV",
         "VMM5 cytotoxic T-lymphocyte line incubated in human plasma",
         "C-Terminal Amidation, N-Terminal",
         "in vitro",
         "True",
         "Stability increased"
        ],
        [
         "20",
         "AAGIGILTV",
         "VMM5 cytotoxic T-lymphocyte line incubated in human plasma",
         "C-Terminal Amidation",
         "in vitro",
         "True",
         "Stability increased"
        ],
        [
         "21",
         "ALCDNPRIDRWYCQFVEG",
         "Intravenouly administered into rabbit blood",
         "C-Terminal Amidation, N-Terminal",
         "in vivo",
         "True",
         "456"
        ],
        [
         "22",
         "DAEFRHDSGYEVHHQKLVFFAEDVGSNKGAIIGLMVGGVV",
         "Intravenouly injected into male B6SJLF1/J mice and blood samples collected from tail vein to prepare plasma samples",
         "",
         "in vivo",
         "False",
         "144"
        ],
        [
         "23",
         "DAEFRHDSGYEVHHQKLVFFAEDVGSNKGAIIGLMVGGVVIA",
         "Intravenouly injected into male B6SJLF1/J mice and blood samples collected from tail vein to prepare plasma samples",
         "",
         "in vivo",
         "False",
         "168"
        ],
        [
         "24",
         "HAEGTFTSDVSSYLEGQAAKEFIAWLVKGR",
         "DPP IV",
         "",
         "in vitro",
         "False",
         "20880"
        ],
        [
         "25",
         "HAEGTFTSDVSSYLEGQAAKEFIAWLVKGR",
         "DPP IV",
         "N-Terminal",
         "in vitro",
         "True",
         "43200"
        ],
        [
         "26",
         "GVQLDLDEAI",
         "Intravenously injected in male New Zealand white rabbits and blood samples withdrawn  and plasma sample prepared",
         "",
         "in vivo",
         "False",
         "4800"
        ],
        [
         "27",
         "PINPRLDG",
         "Intravenously injected in male New Zealand white rabbits and blood samples withdrawn  and plasma sample prepared",
         "",
         "in vivo",
         "False",
         "900"
        ],
        [
         "28",
         "DGEQLADLIV",
         "Intravenously injected in Male New Zealand white rabbits and blood samples withdrawn  and plasma sample prepared",
         "",
         "in vivo",
         "False",
         "900"
        ],
        [
         "29",
         "KKKQYTSIHHGVVEVDAAVTPEERHLSKMQQNGYENPTYKFFEQMQNIATVIVITLVML",
         "BHK cell line",
         "",
         "in vitro",
         "False",
         "300"
        ],
        [
         "30",
         "RQIKIWFQNRRMKWKKNELKRAFAALRDQI",
         "Fetal bovine serum batch1",
         "",
         "in vitro",
         "False",
         "43020"
        ],
        [
         "31",
         "HAEGTFTSDVSSYLEGQAAKEFIAWLVKGR",
         "Rat plasma",
         "C-Terminal Amidation",
         "in vivo",
         "True",
         "195"
        ],
        [
         "32",
         "SPKMMHKSGCFGRRLDRIGSLSGLGCNVLRKY",
         "Injected intravenously into dogs",
         "",
         "in vivo",
         "False",
         "94.2"
        ],
        [
         "33",
         "LPFFD",
         "Human plasma",
         "",
         "in vitro",
         "False",
         "86400"
        ],
        [
         "34",
         "LP-(NME)-FFD",
         "Human plasma",
         "C-Terminal Amidation, N-Terminal, Chemical Modification: Nme",
         "in vitro",
         "True",
         "86400"
        ],
        [
         "35",
         "LP-(NME)-FF-(NME)-D",
         "Human plasma",
         "C-Terminal Amidation, N-Terminal, Chemical Modification: Nme",
         "in vitro",
         "True",
         "86400"
        ],
        [
         "36",
         "LP-(NME)-F-(NME)-FD",
         "Human plasma",
         "C-Terminal Amidation, N-Terminal, Chemical Modification: Nme",
         "in vitro",
         "True",
         "86400"
        ],
        [
         "37",
         "LP-(NME)-F-(NME)-F-(NME)-D",
         "Human plasma",
         "C-Terminal Amidation, N-Terminal, Chemical Modification: Nme",
         "in vitro",
         "True",
         "86400"
        ],
        [
         "38",
         "LP-(ΑME)-F-(ΑME)-FD",
         "Human plasma",
         "C-Terminal Amidation, N-Terminal, Chemical Modification: Αme",
         "in vitro",
         "True",
         "86400"
        ],
        [
         "39",
         "LPFFD",
         "Human plasma",
         "C-Terminal Amidation",
         "in vitro",
         "True",
         "300"
        ],
        [
         "40",
         "SAR-LPFFD",
         "Human plasma",
         "C-Terminal Amidation, N-Terminal",
         "in vitro",
         "True",
         "25200"
        ],
        [
         "41",
         "(NME)-SAR-LPFFD",
         "Human plasma",
         "C-Terminal Amidation, N-Terminal",
         "in vitro",
         "True",
         "21600"
        ],
        [
         "42",
         "H-ABU-EGTFTSDVSSYLEGQAAKEFIAWLVKGR",
         "Human plasma",
         "Chemical Modification: 2-Aminobutyric Acid Abu",
         "in vitro",
         "True",
         "43200"
        ],
        [
         "43",
         "YAEGTFISDYSIAMDKIHQQDFVNWLLAQKGKKNDWKHNITQ",
         "Human plasma",
         "",
         "in vitro",
         "False",
         "21600"
        ],
        [
         "44",
         "Y-ABU-EGTFISDYSIAMDKIHQQDFVNWLLAQKGKKNDWKHNITQ",
         "Human plasma",
         "Chemical Modification: 2-Aminobutyric Acid Abu",
         "in vitro",
         "True",
         "25560"
        ],
        [
         "45",
         "N-((R)-(((2S)-2-((-P-AMIDOBENZYL)CARBAMOYL)-1-AZETIDINYL)CARBONYL)CYCLOHEXYLMETHYL)GLYCINE",
         "Human plasma",
         "N-Terminal, Chemical Modification: N.A.",
         "in vivo",
         "True",
         "14400"
        ],
        [
         "46",
         "KKVVFKVKFK",
         "Mouse serum",
         "",
         "in vitro",
         "False",
         "360"
        ],
        [
         "47",
         "KΨ[CH2NH]KVVFKVKFK",
         "Mouse serum",
         "Chemical Modification: Reduced Amide Bonds Ψch2Nh",
         "in vitro",
         "True",
         "840"
        ],
        [
         "48",
         "KΨ[CH2NH]KVVFKVKFK",
         "Mouse serum",
         "Stereochemistry, Chemical Modification: Reduced Amide Bonds Ψch2Nh",
         "in vitro",
         "True",
         "1380"
        ],
        [
         "49",
         "KKΨ[CH2NH]VVFKVKFK",
         "Mouse serum",
         "Stereochemistry, Chemical Modification: Reduced Amide Bonds Ψch2Nh",
         "in vitro",
         "True",
         "4860"
        ]
       ],
       "shape": {
        "columns": 6,
        "rows": 1137
       }
      },
      "text/html": [
       "<div>\n",
       "<style scoped>\n",
       "    .dataframe tbody tr th:only-of-type {\n",
       "        vertical-align: middle;\n",
       "    }\n",
       "\n",
       "    .dataframe tbody tr th {\n",
       "        vertical-align: top;\n",
       "    }\n",
       "\n",
       "    .dataframe thead th {\n",
       "        text-align: right;\n",
       "    }\n",
       "</style>\n",
       "<table border=\"1\" class=\"dataframe\">\n",
       "  <thead>\n",
       "    <tr style=\"text-align: right;\">\n",
       "      <th></th>\n",
       "      <th>sequence</th>\n",
       "      <th>experimental_characteristics</th>\n",
       "      <th>modifications</th>\n",
       "      <th>vivo_or_vitro</th>\n",
       "      <th>is_mod</th>\n",
       "      <th>half_life_seconds</th>\n",
       "    </tr>\n",
       "  </thead>\n",
       "  <tbody>\n",
       "    <tr>\n",
       "      <th>0</th>\n",
       "      <td>RRWQWR</td>\n",
       "      <td>Human serum</td>\n",
       "      <td></td>\n",
       "      <td>in vitro</td>\n",
       "      <td>False</td>\n",
       "      <td>1800</td>\n",
       "    </tr>\n",
       "    <tr>\n",
       "      <th>1</th>\n",
       "      <td>RRWWRF</td>\n",
       "      <td>Human serum</td>\n",
       "      <td></td>\n",
       "      <td>in vitro</td>\n",
       "      <td>False</td>\n",
       "      <td>1800</td>\n",
       "    </tr>\n",
       "    <tr>\n",
       "      <th>2</th>\n",
       "      <td>RRWQWR</td>\n",
       "      <td>Human serum</td>\n",
       "      <td>C-Terminal Amidation</td>\n",
       "      <td>in vitro</td>\n",
       "      <td>True</td>\n",
       "      <td>1800</td>\n",
       "    </tr>\n",
       "    <tr>\n",
       "      <th>3</th>\n",
       "      <td>RRWWRF</td>\n",
       "      <td>Human serum</td>\n",
       "      <td>C-Terminal Amidation</td>\n",
       "      <td>in vitro</td>\n",
       "      <td>True</td>\n",
       "      <td>1800</td>\n",
       "    </tr>\n",
       "    <tr>\n",
       "      <th>4</th>\n",
       "      <td>RRWQWR</td>\n",
       "      <td>Human serum</td>\n",
       "      <td>N-Terminal</td>\n",
       "      <td>in vitro</td>\n",
       "      <td>True</td>\n",
       "      <td>3600</td>\n",
       "    </tr>\n",
       "    <tr>\n",
       "      <th>...</th>\n",
       "      <td>...</td>\n",
       "      <td>...</td>\n",
       "      <td>...</td>\n",
       "      <td>...</td>\n",
       "      <td>...</td>\n",
       "      <td>...</td>\n",
       "    </tr>\n",
       "    <tr>\n",
       "      <th>1132</th>\n",
       "      <td>FNAPFDVGIKLSGAQYQQHGRAL</td>\n",
       "      <td>Intravenous injection of  peptide into Sprague...</td>\n",
       "      <td>C-Terminal Amidation</td>\n",
       "      <td>in vivo</td>\n",
       "      <td>True</td>\n",
       "      <td>1320</td>\n",
       "    </tr>\n",
       "    <tr>\n",
       "      <th>1133</th>\n",
       "      <td>FNAPFDVGIKLSGVQYQQHSQAL</td>\n",
       "      <td>Mouse plasma</td>\n",
       "      <td>C-Terminal Amidation</td>\n",
       "      <td>in vitro</td>\n",
       "      <td>True</td>\n",
       "      <td>3906</td>\n",
       "    </tr>\n",
       "    <tr>\n",
       "      <th>1134</th>\n",
       "      <td>FNAPFDVGIKLSGVQYQQHSQAL</td>\n",
       "      <td>Mouse liver homogenate</td>\n",
       "      <td>C-Terminal Amidation, Chemical Modification: I...</td>\n",
       "      <td>in vitro</td>\n",
       "      <td>True</td>\n",
       "      <td>906</td>\n",
       "    </tr>\n",
       "    <tr>\n",
       "      <th>1135</th>\n",
       "      <td>ASISGRDTHRLTRTLNCSSIVKEIIGKLPEPELKTDDEGPSLRNKS...</td>\n",
       "      <td>Injected intravenously in Balb/c mice blood</td>\n",
       "      <td>Cyclic, Chemical Modification: Glycosylation A...</td>\n",
       "      <td>in vivo</td>\n",
       "      <td>True</td>\n",
       "      <td>126</td>\n",
       "    </tr>\n",
       "    <tr>\n",
       "      <th>1136</th>\n",
       "      <td>HPAGKRPCKMQAFRIWDTNQKTFYLRNNQLIAGYLQGPNTKLEEKI...</td>\n",
       "      <td>Rat blood</td>\n",
       "      <td>Cyclic, Chemical Modification: Glycosylation A...</td>\n",
       "      <td>in vivo</td>\n",
       "      <td>True</td>\n",
       "      <td>630</td>\n",
       "    </tr>\n",
       "  </tbody>\n",
       "</table>\n",
       "<p>1137 rows × 6 columns</p>\n",
       "</div>"
      ],
      "text/plain": [
       "                                               sequence  \\\n",
       "0                                                RRWQWR   \n",
       "1                                                RRWWRF   \n",
       "2                                                RRWQWR   \n",
       "3                                                RRWWRF   \n",
       "4                                                RRWQWR   \n",
       "...                                                 ...   \n",
       "1132                            FNAPFDVGIKLSGAQYQQHGRAL   \n",
       "1133                            FNAPFDVGIKLSGVQYQQHSQAL   \n",
       "1134                            FNAPFDVGIKLSGVQYQQHSQAL   \n",
       "1135  ASISGRDTHRLTRTLNCSSIVKEIIGKLPEPELKTDDEGPSLRNKS...   \n",
       "1136  HPAGKRPCKMQAFRIWDTNQKTFYLRNNQLIAGYLQGPNTKLEEKI...   \n",
       "\n",
       "                           experimental_characteristics  \\\n",
       "0                                           Human serum   \n",
       "1                                           Human serum   \n",
       "2                                           Human serum   \n",
       "3                                           Human serum   \n",
       "4                                           Human serum   \n",
       "...                                                 ...   \n",
       "1132  Intravenous injection of  peptide into Sprague...   \n",
       "1133                                       Mouse plasma   \n",
       "1134                             Mouse liver homogenate   \n",
       "1135        Injected intravenously in Balb/c mice blood   \n",
       "1136                                          Rat blood   \n",
       "\n",
       "                                          modifications vivo_or_vitro is_mod  \\\n",
       "0                                                            in vitro  False   \n",
       "1                                                            in vitro  False   \n",
       "2                                  C-Terminal Amidation      in vitro   True   \n",
       "3                                  C-Terminal Amidation      in vitro   True   \n",
       "4                                            N-Terminal      in vitro   True   \n",
       "...                                                 ...           ...    ...   \n",
       "1132                               C-Terminal Amidation       in vivo   True   \n",
       "1133                               C-Terminal Amidation      in vitro   True   \n",
       "1134  C-Terminal Amidation, Chemical Modification: I...      in vitro   True   \n",
       "1135  Cyclic, Chemical Modification: Glycosylation A...       in vivo   True   \n",
       "1136  Cyclic, Chemical Modification: Glycosylation A...       in vivo   True   \n",
       "\n",
       "     half_life_seconds  \n",
       "0                 1800  \n",
       "1                 1800  \n",
       "2                 1800  \n",
       "3                 1800  \n",
       "4                 3600  \n",
       "...                ...  \n",
       "1132              1320  \n",
       "1133              3906  \n",
       "1134               906  \n",
       "1135               126  \n",
       "1136               630  \n",
       "\n",
       "[1137 rows x 6 columns]"
      ]
     },
     "execution_count": 34,
     "metadata": {},
     "output_type": "execute_result"
    }
   ],
   "source": [
    "df_concat"
   ]
  },
  {
   "cell_type": "code",
   "execution_count": 35,
   "metadata": {},
   "outputs": [],
   "source": [
    "# Intenta convertir a float, si no puede, pone False\n",
    "df_concat['hl_is_float'] = df_concat['half_life_seconds'].apply(funct.float_or_false)\n",
    "df_float=df_concat[df_concat['hl_is_float']==True]\n",
    "df_object=df_concat[df_concat['hl_is_float']==False]"
   ]
  },
  {
   "cell_type": "code",
   "execution_count": 36,
   "metadata": {},
   "outputs": [
    {
     "name": "stderr",
     "output_type": "stream",
     "text": [
      "C:\\Users\\hantr\\AppData\\Local\\Temp\\ipykernel_28476\\3790089144.py:1: SettingWithCopyWarning: \n",
      "A value is trying to be set on a copy of a slice from a DataFrame.\n",
      "Try using .loc[row_indexer,col_indexer] = value instead\n",
      "\n",
      "See the caveats in the documentation: https://pandas.pydata.org/pandas-docs/stable/user_guide/indexing.html#returning-a-view-versus-a-copy\n",
      "  df_float['half_life_seconds'] = df_float['half_life_seconds'].astype(float)\n"
     ]
    }
   ],
   "source": [
    "df_float['half_life_seconds'] = df_float['half_life_seconds'].astype(float)"
   ]
  },
  {
   "cell_type": "code",
   "execution_count": 37,
   "metadata": {},
   "outputs": [],
   "source": [
    "df_float=df_float.drop(columns=['vivo_or_vitro', 'hl_is_float'])"
   ]
  },
  {
   "cell_type": "code",
   "execution_count": 38,
   "metadata": {},
   "outputs": [],
   "source": [
    "df_float=df_float.filter(['sequence', 'half_life_seconds', 'is_mod', 'modifications', 'experimental_characteristics'])"
   ]
  },
  {
   "cell_type": "code",
   "execution_count": 39,
   "metadata": {},
   "outputs": [
    {
     "data": {
      "application/vnd.microsoft.datawrangler.viewer.v0+json": {
       "columns": [
        {
         "name": "index",
         "rawType": "int64",
         "type": "integer"
        },
        {
         "name": "sequence",
         "rawType": "object",
         "type": "string"
        },
        {
         "name": "half_life_seconds",
         "rawType": "float64",
         "type": "float"
        },
        {
         "name": "is_mod",
         "rawType": "object",
         "type": "string"
        },
        {
         "name": "modifications",
         "rawType": "object",
         "type": "string"
        },
        {
         "name": "experimental_characteristics",
         "rawType": "object",
         "type": "string"
        }
       ],
       "conversionMethod": "pd.DataFrame",
       "ref": "d2263b5b-75b2-4765-aa95-b4be0ced51ae",
       "rows": [
        [
         "0",
         "RRWQWR",
         "1800.0",
         "False",
         "",
         "Human serum"
        ],
        [
         "1",
         "RRWWRF",
         "1800.0",
         "False",
         "",
         "Human serum"
        ],
        [
         "2",
         "RRWQWR",
         "1800.0",
         "True",
         "C-Terminal Amidation",
         "Human serum"
        ],
        [
         "3",
         "RRWWRF",
         "1800.0",
         "True",
         "C-Terminal Amidation",
         "Human serum"
        ],
        [
         "4",
         "RRWQWR",
         "3600.0",
         "True",
         "N-Terminal",
         "Human serum"
        ],
        [
         "5",
         "RRWWRF",
         "3600.0",
         "True",
         "N-Terminal",
         "Human serum"
        ],
        [
         "6",
         "RRWQWR",
         "5400.0",
         "True",
         "C-Terminal Amidation, N-Terminal",
         "Human serum"
        ],
        [
         "7",
         "RRWWRF",
         "5400.0",
         "True",
         "C-Terminal Amidation, N-Terminal",
         "Human serum"
        ],
        [
         "8",
         "RRWQWR",
         "86400.0",
         "True",
         "Cyclic",
         "Human serum"
        ],
        [
         "9",
         "RRWWRF",
         "86400.0",
         "True",
         "Cyclic",
         "Human serum"
        ],
        [
         "10",
         "CRRWQWRC",
         "5400.0",
         "True",
         "C-Terminal Amidation, Cyclic",
         "Human serum"
        ],
        [
         "11",
         "CRRWWRFC",
         "23400.0",
         "True",
         "C-Terminal Amidation, Cyclic",
         "Human serum"
        ],
        [
         "12",
         "RRWQWRMKKLG",
         "1800.0",
         "False",
         "",
         "Human serum"
        ],
        [
         "13",
         "CRRWWRFC",
         "23400.0",
         "True",
         "C-Terminal Amidation, N-Terminal, Cyclic",
         "Human serum"
        ],
        [
         "14",
         "RRWQWRMKKLG",
         "6600.0",
         "True",
         "Cyclic",
         "Human serum"
        ],
        [
         "15",
         "CRRWQWRMKKLGC",
         "6600.0",
         "True",
         "C-Terminal Amidation, Cyclic",
         "Human serum"
        ],
        [
         "16",
         "AAGIGILTV",
         "22.0",
         "False",
         "",
         "VMM5 cytotoxic T-lymphocyte line incubated in human plasma"
        ],
        [
         "21",
         "ALCDNPRIDRWYCQFVEG",
         "456.0",
         "True",
         "C-Terminal Amidation, N-Terminal",
         "Intravenouly administered into rabbit blood"
        ],
        [
         "22",
         "DAEFRHDSGYEVHHQKLVFFAEDVGSNKGAIIGLMVGGVV",
         "144.0",
         "False",
         "",
         "Intravenouly injected into male B6SJLF1/J mice and blood samples collected from tail vein to prepare plasma samples"
        ],
        [
         "23",
         "DAEFRHDSGYEVHHQKLVFFAEDVGSNKGAIIGLMVGGVVIA",
         "168.0",
         "False",
         "",
         "Intravenouly injected into male B6SJLF1/J mice and blood samples collected from tail vein to prepare plasma samples"
        ],
        [
         "24",
         "HAEGTFTSDVSSYLEGQAAKEFIAWLVKGR",
         "20880.0",
         "False",
         "",
         "DPP IV"
        ],
        [
         "25",
         "HAEGTFTSDVSSYLEGQAAKEFIAWLVKGR",
         "43200.0",
         "True",
         "N-Terminal",
         "DPP IV"
        ],
        [
         "26",
         "GVQLDLDEAI",
         "4800.0",
         "False",
         "",
         "Intravenously injected in male New Zealand white rabbits and blood samples withdrawn  and plasma sample prepared"
        ],
        [
         "27",
         "PINPRLDG",
         "900.0",
         "False",
         "",
         "Intravenously injected in male New Zealand white rabbits and blood samples withdrawn  and plasma sample prepared"
        ],
        [
         "28",
         "DGEQLADLIV",
         "900.0",
         "False",
         "",
         "Intravenously injected in Male New Zealand white rabbits and blood samples withdrawn  and plasma sample prepared"
        ],
        [
         "29",
         "KKKQYTSIHHGVVEVDAAVTPEERHLSKMQQNGYENPTYKFFEQMQNIATVIVITLVML",
         "300.0",
         "False",
         "",
         "BHK cell line"
        ],
        [
         "30",
         "RQIKIWFQNRRMKWKKNELKRAFAALRDQI",
         "43020.0",
         "False",
         "",
         "Fetal bovine serum batch1"
        ],
        [
         "31",
         "HAEGTFTSDVSSYLEGQAAKEFIAWLVKGR",
         "195.0",
         "True",
         "C-Terminal Amidation",
         "Rat plasma"
        ],
        [
         "32",
         "SPKMMHKSGCFGRRLDRIGSLSGLGCNVLRKY",
         "94.2",
         "False",
         "",
         "Injected intravenously into dogs"
        ],
        [
         "33",
         "LPFFD",
         "86400.0",
         "False",
         "",
         "Human plasma"
        ],
        [
         "34",
         "LP-(NME)-FFD",
         "86400.0",
         "True",
         "C-Terminal Amidation, N-Terminal, Chemical Modification: Nme",
         "Human plasma"
        ],
        [
         "35",
         "LP-(NME)-FF-(NME)-D",
         "86400.0",
         "True",
         "C-Terminal Amidation, N-Terminal, Chemical Modification: Nme",
         "Human plasma"
        ],
        [
         "36",
         "LP-(NME)-F-(NME)-FD",
         "86400.0",
         "True",
         "C-Terminal Amidation, N-Terminal, Chemical Modification: Nme",
         "Human plasma"
        ],
        [
         "37",
         "LP-(NME)-F-(NME)-F-(NME)-D",
         "86400.0",
         "True",
         "C-Terminal Amidation, N-Terminal, Chemical Modification: Nme",
         "Human plasma"
        ],
        [
         "38",
         "LP-(ΑME)-F-(ΑME)-FD",
         "86400.0",
         "True",
         "C-Terminal Amidation, N-Terminal, Chemical Modification: Αme",
         "Human plasma"
        ],
        [
         "39",
         "LPFFD",
         "300.0",
         "True",
         "C-Terminal Amidation",
         "Human plasma"
        ],
        [
         "40",
         "SAR-LPFFD",
         "25200.0",
         "True",
         "C-Terminal Amidation, N-Terminal",
         "Human plasma"
        ],
        [
         "41",
         "(NME)-SAR-LPFFD",
         "21600.0",
         "True",
         "C-Terminal Amidation, N-Terminal",
         "Human plasma"
        ],
        [
         "42",
         "H-ABU-EGTFTSDVSSYLEGQAAKEFIAWLVKGR",
         "43200.0",
         "True",
         "Chemical Modification: 2-Aminobutyric Acid Abu",
         "Human plasma"
        ],
        [
         "43",
         "YAEGTFISDYSIAMDKIHQQDFVNWLLAQKGKKNDWKHNITQ",
         "21600.0",
         "False",
         "",
         "Human plasma"
        ],
        [
         "44",
         "Y-ABU-EGTFISDYSIAMDKIHQQDFVNWLLAQKGKKNDWKHNITQ",
         "25560.0",
         "True",
         "Chemical Modification: 2-Aminobutyric Acid Abu",
         "Human plasma"
        ],
        [
         "45",
         "N-((R)-(((2S)-2-((-P-AMIDOBENZYL)CARBAMOYL)-1-AZETIDINYL)CARBONYL)CYCLOHEXYLMETHYL)GLYCINE",
         "14400.0",
         "True",
         "N-Terminal, Chemical Modification: N.A.",
         "Human plasma"
        ],
        [
         "46",
         "KKVVFKVKFK",
         "360.0",
         "False",
         "",
         "Mouse serum"
        ],
        [
         "47",
         "KΨ[CH2NH]KVVFKVKFK",
         "840.0",
         "True",
         "Chemical Modification: Reduced Amide Bonds Ψch2Nh",
         "Mouse serum"
        ],
        [
         "48",
         "KΨ[CH2NH]KVVFKVKFK",
         "1380.0",
         "True",
         "Stereochemistry, Chemical Modification: Reduced Amide Bonds Ψch2Nh",
         "Mouse serum"
        ],
        [
         "49",
         "KKΨ[CH2NH]VVFKVKFK",
         "4860.0",
         "True",
         "Stereochemistry, Chemical Modification: Reduced Amide Bonds Ψch2Nh",
         "Mouse serum"
        ],
        [
         "50",
         "KΨ[CH2NH]KΨ[CH2NH]VVFKVKFK",
         "4860.0",
         "True",
         "Stereochemistry, Chemical Modification: Reduced Amide Bonds Ψch2Nh",
         "Mouse serum"
        ],
        [
         "51",
         "KΨ[CH2OCONH]KVVFKVKFK",
         "1380.0",
         "True",
         "Stereochemistry, Chemical Modification: Reduced Carbamate Ψch2Oconh",
         "Mouse serum"
        ],
        [
         "52",
         "KΨ[CH2OCONH]KΨ[CH2OCONH]VVFKVKFK",
         "4020.0",
         "True",
         "Stereochemistry, Chemical Modification: Reduced Carbamate Ψch2Oconh",
         "Mouse serum"
        ],
        [
         "53",
         "KKVVFKVKFK",
         "1320.0",
         "True",
         "Stereochemistry",
         "Mouse serum"
        ]
       ],
       "shape": {
        "columns": 5,
        "rows": 1131
       }
      },
      "text/html": [
       "<div>\n",
       "<style scoped>\n",
       "    .dataframe tbody tr th:only-of-type {\n",
       "        vertical-align: middle;\n",
       "    }\n",
       "\n",
       "    .dataframe tbody tr th {\n",
       "        vertical-align: top;\n",
       "    }\n",
       "\n",
       "    .dataframe thead th {\n",
       "        text-align: right;\n",
       "    }\n",
       "</style>\n",
       "<table border=\"1\" class=\"dataframe\">\n",
       "  <thead>\n",
       "    <tr style=\"text-align: right;\">\n",
       "      <th></th>\n",
       "      <th>sequence</th>\n",
       "      <th>half_life_seconds</th>\n",
       "      <th>is_mod</th>\n",
       "      <th>modifications</th>\n",
       "      <th>experimental_characteristics</th>\n",
       "    </tr>\n",
       "  </thead>\n",
       "  <tbody>\n",
       "    <tr>\n",
       "      <th>0</th>\n",
       "      <td>RRWQWR</td>\n",
       "      <td>1800.0</td>\n",
       "      <td>False</td>\n",
       "      <td></td>\n",
       "      <td>Human serum</td>\n",
       "    </tr>\n",
       "    <tr>\n",
       "      <th>1</th>\n",
       "      <td>RRWWRF</td>\n",
       "      <td>1800.0</td>\n",
       "      <td>False</td>\n",
       "      <td></td>\n",
       "      <td>Human serum</td>\n",
       "    </tr>\n",
       "    <tr>\n",
       "      <th>2</th>\n",
       "      <td>RRWQWR</td>\n",
       "      <td>1800.0</td>\n",
       "      <td>True</td>\n",
       "      <td>C-Terminal Amidation</td>\n",
       "      <td>Human serum</td>\n",
       "    </tr>\n",
       "    <tr>\n",
       "      <th>3</th>\n",
       "      <td>RRWWRF</td>\n",
       "      <td>1800.0</td>\n",
       "      <td>True</td>\n",
       "      <td>C-Terminal Amidation</td>\n",
       "      <td>Human serum</td>\n",
       "    </tr>\n",
       "    <tr>\n",
       "      <th>4</th>\n",
       "      <td>RRWQWR</td>\n",
       "      <td>3600.0</td>\n",
       "      <td>True</td>\n",
       "      <td>N-Terminal</td>\n",
       "      <td>Human serum</td>\n",
       "    </tr>\n",
       "    <tr>\n",
       "      <th>...</th>\n",
       "      <td>...</td>\n",
       "      <td>...</td>\n",
       "      <td>...</td>\n",
       "      <td>...</td>\n",
       "      <td>...</td>\n",
       "    </tr>\n",
       "    <tr>\n",
       "      <th>1132</th>\n",
       "      <td>FNAPFDVGIKLSGAQYQQHGRAL</td>\n",
       "      <td>1320.0</td>\n",
       "      <td>True</td>\n",
       "      <td>C-Terminal Amidation</td>\n",
       "      <td>Intravenous injection of  peptide into Sprague...</td>\n",
       "    </tr>\n",
       "    <tr>\n",
       "      <th>1133</th>\n",
       "      <td>FNAPFDVGIKLSGVQYQQHSQAL</td>\n",
       "      <td>3906.0</td>\n",
       "      <td>True</td>\n",
       "      <td>C-Terminal Amidation</td>\n",
       "      <td>Mouse plasma</td>\n",
       "    </tr>\n",
       "    <tr>\n",
       "      <th>1134</th>\n",
       "      <td>FNAPFDVGIKLSGVQYQQHSQAL</td>\n",
       "      <td>906.0</td>\n",
       "      <td>True</td>\n",
       "      <td>C-Terminal Amidation, Chemical Modification: I...</td>\n",
       "      <td>Mouse liver homogenate</td>\n",
       "    </tr>\n",
       "    <tr>\n",
       "      <th>1135</th>\n",
       "      <td>ASISGRDTHRLTRTLNCSSIVKEIIGKLPEPELKTDDEGPSLRNKS...</td>\n",
       "      <td>126.0</td>\n",
       "      <td>True</td>\n",
       "      <td>Cyclic, Chemical Modification: Glycosylation A...</td>\n",
       "      <td>Injected intravenously in Balb/c mice blood</td>\n",
       "    </tr>\n",
       "    <tr>\n",
       "      <th>1136</th>\n",
       "      <td>HPAGKRPCKMQAFRIWDTNQKTFYLRNNQLIAGYLQGPNTKLEEKI...</td>\n",
       "      <td>630.0</td>\n",
       "      <td>True</td>\n",
       "      <td>Cyclic, Chemical Modification: Glycosylation A...</td>\n",
       "      <td>Rat blood</td>\n",
       "    </tr>\n",
       "  </tbody>\n",
       "</table>\n",
       "<p>1131 rows × 5 columns</p>\n",
       "</div>"
      ],
      "text/plain": [
       "                                               sequence  half_life_seconds  \\\n",
       "0                                                RRWQWR             1800.0   \n",
       "1                                                RRWWRF             1800.0   \n",
       "2                                                RRWQWR             1800.0   \n",
       "3                                                RRWWRF             1800.0   \n",
       "4                                                RRWQWR             3600.0   \n",
       "...                                                 ...                ...   \n",
       "1132                            FNAPFDVGIKLSGAQYQQHGRAL             1320.0   \n",
       "1133                            FNAPFDVGIKLSGVQYQQHSQAL             3906.0   \n",
       "1134                            FNAPFDVGIKLSGVQYQQHSQAL              906.0   \n",
       "1135  ASISGRDTHRLTRTLNCSSIVKEIIGKLPEPELKTDDEGPSLRNKS...              126.0   \n",
       "1136  HPAGKRPCKMQAFRIWDTNQKTFYLRNNQLIAGYLQGPNTKLEEKI...              630.0   \n",
       "\n",
       "     is_mod                                      modifications  \\\n",
       "0     False                                                      \n",
       "1     False                                                      \n",
       "2      True                               C-Terminal Amidation   \n",
       "3      True                               C-Terminal Amidation   \n",
       "4      True                                         N-Terminal   \n",
       "...     ...                                                ...   \n",
       "1132   True                               C-Terminal Amidation   \n",
       "1133   True                               C-Terminal Amidation   \n",
       "1134   True  C-Terminal Amidation, Chemical Modification: I...   \n",
       "1135   True  Cyclic, Chemical Modification: Glycosylation A...   \n",
       "1136   True  Cyclic, Chemical Modification: Glycosylation A...   \n",
       "\n",
       "                           experimental_characteristics  \n",
       "0                                           Human serum  \n",
       "1                                           Human serum  \n",
       "2                                           Human serum  \n",
       "3                                           Human serum  \n",
       "4                                           Human serum  \n",
       "...                                                 ...  \n",
       "1132  Intravenous injection of  peptide into Sprague...  \n",
       "1133                                       Mouse plasma  \n",
       "1134                             Mouse liver homogenate  \n",
       "1135        Injected intravenously in Balb/c mice blood  \n",
       "1136                                          Rat blood  \n",
       "\n",
       "[1131 rows x 5 columns]"
      ]
     },
     "execution_count": 39,
     "metadata": {},
     "output_type": "execute_result"
    }
   ],
   "source": [
    "df_float"
   ]
  },
  {
   "cell_type": "code",
   "execution_count": null,
   "metadata": {},
   "outputs": [],
   "source": [
    "df_float.to_csv('../../data/regular/PEP_LIFE.csv', index=False)"
   ]
  }
 ],
 "metadata": {
  "kernelspec": {
   "display_name": "ML_Class",
   "language": "python",
   "name": "python3"
  },
  "language_info": {
   "codemirror_mode": {
    "name": "ipython",
    "version": 3
   },
   "file_extension": ".py",
   "mimetype": "text/x-python",
   "name": "python",
   "nbconvert_exporter": "python",
   "pygments_lexer": "ipython3",
   "version": "3.9.21"
  }
 },
 "nbformat": 4,
 "nbformat_minor": 2
}
