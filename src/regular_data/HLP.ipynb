{
 "cells": [
  {
   "cell_type": "code",
   "execution_count": 1,
   "metadata": {},
   "outputs": [],
   "source": [
    "import pandas as pd"
   ]
  },
  {
   "cell_type": "code",
   "execution_count": 2,
   "metadata": {},
   "outputs": [],
   "source": [
    "df = pd.read_csv('../../data/raw/10mer-peptides.txt', delimiter=\"\\t\")\n",
    "df=df.rename(columns={'## Peptide Sequence(10mer)':'sequence', 'Half-life(Sec)': 'half_life_seconds'})\n",
    "df=df.dropna()\n",
    "df['sequence'] = df['sequence'].str.upper()\n",
    "df=df.drop_duplicates(subset='sequence')\n",
    "df['experimental_characteristics'] = 'intestinal proteasa'\n",
    "df['is_mod']=False\n",
    "df=df[['sequence','experimental_characteristics', 'is_mod', 'half_life_seconds']]\n",
    "df.to_csv('../../data/regular/HLP_10.csv', index=False)"
   ]
  },
  {
   "cell_type": "code",
   "execution_count": 3,
   "metadata": {},
   "outputs": [
    {
     "data": {
      "application/vnd.microsoft.datawrangler.viewer.v0+json": {
       "columns": [
        {
         "name": "index",
         "rawType": "int64",
         "type": "integer"
        },
        {
         "name": "sequence",
         "rawType": "object",
         "type": "string"
        },
        {
         "name": "experimental_characteristics",
         "rawType": "object",
         "type": "string"
        },
        {
         "name": "is_mod",
         "rawType": "bool",
         "type": "boolean"
        },
        {
         "name": "half_life_seconds",
         "rawType": "float64",
         "type": "float"
        }
       ],
       "conversionMethod": "pd.DataFrame",
       "ref": "862c027a-0e8b-455a-bdf9-01f817573ffd",
       "rows": [
        [
         "0",
         "GSIGAASMEF",
         "intestinal proteasa",
         "False",
         "2.7013"
        ],
        [
         "1",
         "IGAASMEFCF",
         "intestinal proteasa",
         "False",
         "0.0629"
        ],
        [
         "2",
         "AASMEFCFDV",
         "intestinal proteasa",
         "False",
         "0.0556"
        ],
        [
         "3",
         "SMEFCFDVFK",
         "intestinal proteasa",
         "False",
         "0.0103"
        ],
        [
         "4",
         "EFCFDVFKEL",
         "intestinal proteasa",
         "False",
         "0.0088"
        ],
        [
         "5",
         "CFDVFKELKV",
         "intestinal proteasa",
         "False",
         "0.0122"
        ],
        [
         "6",
         "DVFKELKVHH",
         "intestinal proteasa",
         "False",
         "0.0101"
        ],
        [
         "7",
         "FKELKVHHAN",
         "intestinal proteasa",
         "False",
         "0.0094"
        ],
        [
         "8",
         "ELKVHHANEN",
         "intestinal proteasa",
         "False",
         "0.1969"
        ],
        [
         "9",
         "KVHHANENIF",
         "intestinal proteasa",
         "False",
         "1.2897"
        ],
        [
         "10",
         "HHANENIFYC",
         "intestinal proteasa",
         "False",
         "0.0485"
        ],
        [
         "11",
         "ANENIFYCPI",
         "intestinal proteasa",
         "False",
         "0.1557"
        ],
        [
         "12",
         "ENIFYCPIAI",
         "intestinal proteasa",
         "False",
         "0.089"
        ],
        [
         "13",
         "IFYCPIAIMS",
         "intestinal proteasa",
         "False",
         "0.0469"
        ],
        [
         "14",
         "YCPIAIMSAL",
         "intestinal proteasa",
         "False",
         "0.2911"
        ],
        [
         "15",
         "PIAIMSALAM",
         "intestinal proteasa",
         "False",
         "0.1596"
        ],
        [
         "16",
         "AIMSALAMVY",
         "intestinal proteasa",
         "False",
         "0.0512"
        ],
        [
         "17",
         "MSALAMVYLG",
         "intestinal proteasa",
         "False",
         "0.0132"
        ],
        [
         "18",
         "ALAMVYLGAK",
         "intestinal proteasa",
         "False",
         "0.0077"
        ],
        [
         "19",
         "AMVYLGAKDS",
         "intestinal proteasa",
         "False",
         "0.0111"
        ],
        [
         "20",
         "VYLGAKDSTR",
         "intestinal proteasa",
         "False",
         "0.0135"
        ],
        [
         "21",
         "LGAKDSTRTQ",
         "intestinal proteasa",
         "False",
         "0.0122"
        ],
        [
         "22",
         "AKDSTRTQIN",
         "intestinal proteasa",
         "False",
         "0.0092"
        ],
        [
         "23",
         "DSTRTQINKV",
         "intestinal proteasa",
         "False",
         "0.021"
        ],
        [
         "24",
         "TRTQINKVVR",
         "intestinal proteasa",
         "False",
         "0.0027"
        ],
        [
         "25",
         "TQINKVVRFD",
         "intestinal proteasa",
         "False",
         "0.0094"
        ],
        [
         "26",
         "INKVVRFDKL",
         "intestinal proteasa",
         "False",
         "0.0069"
        ],
        [
         "27",
         "KVVRFDKLPG",
         "intestinal proteasa",
         "False",
         "0.0119"
        ],
        [
         "28",
         "VRFDKLPGFG",
         "intestinal proteasa",
         "False",
         "0.1526"
        ],
        [
         "29",
         "FDKLPGFGDS",
         "intestinal proteasa",
         "False",
         "25.2445"
        ],
        [
         "30",
         "KLPGFGDSIE",
         "intestinal proteasa",
         "False",
         "40.1296"
        ],
        [
         "31",
         "PGFGDSIEAQ",
         "intestinal proteasa",
         "False",
         "17.8114"
        ],
        [
         "32",
         "FGDSIEAQCG",
         "intestinal proteasa",
         "False",
         "7.122"
        ],
        [
         "33",
         "DSIEAQCGTS",
         "intestinal proteasa",
         "False",
         "13.4815"
        ],
        [
         "34",
         "IEAQCGTSVN",
         "intestinal proteasa",
         "False",
         "6.4814"
        ],
        [
         "35",
         "AQCGTSVNVH",
         "intestinal proteasa",
         "False",
         "4.3435"
        ],
        [
         "36",
         "CGTSVNVHSS",
         "intestinal proteasa",
         "False",
         "1.1378"
        ],
        [
         "37",
         "TSVNVHSSLR",
         "intestinal proteasa",
         "False",
         "0.1177"
        ],
        [
         "38",
         "VNVHSSLRDI",
         "intestinal proteasa",
         "False",
         "0.0148"
        ],
        [
         "39",
         "VHSSLRDILN",
         "intestinal proteasa",
         "False",
         "0.0527"
        ],
        [
         "40",
         "SSLRDILNQI",
         "intestinal proteasa",
         "False",
         "0.1504"
        ],
        [
         "41",
         "LRDILNQITK",
         "intestinal proteasa",
         "False",
         "0.0939"
        ],
        [
         "42",
         "DILNQITKPN",
         "intestinal proteasa",
         "False",
         "4.1593"
        ],
        [
         "43",
         "LNQITKPNDV",
         "intestinal proteasa",
         "False",
         "20.6999"
        ],
        [
         "44",
         "QITKPNDVYS",
         "intestinal proteasa",
         "False",
         "0.2963"
        ],
        [
         "45",
         "TKPNDVYSFS",
         "intestinal proteasa",
         "False",
         "0.012"
        ],
        [
         "46",
         "PNDVYSFSLA",
         "intestinal proteasa",
         "False",
         "0.0026"
        ],
        [
         "47",
         "DVYSFSLASR",
         "intestinal proteasa",
         "False",
         "0.0037"
        ],
        [
         "48",
         "YSFSLASRLY",
         "intestinal proteasa",
         "False",
         "0.0019"
        ],
        [
         "49",
         "FSLASRLYAE",
         "intestinal proteasa",
         "False",
         "0.0035"
        ]
       ],
       "shape": {
        "columns": 4,
        "rows": 189
       }
      },
      "text/html": [
       "<div>\n",
       "<style scoped>\n",
       "    .dataframe tbody tr th:only-of-type {\n",
       "        vertical-align: middle;\n",
       "    }\n",
       "\n",
       "    .dataframe tbody tr th {\n",
       "        vertical-align: top;\n",
       "    }\n",
       "\n",
       "    .dataframe thead th {\n",
       "        text-align: right;\n",
       "    }\n",
       "</style>\n",
       "<table border=\"1\" class=\"dataframe\">\n",
       "  <thead>\n",
       "    <tr style=\"text-align: right;\">\n",
       "      <th></th>\n",
       "      <th>sequence</th>\n",
       "      <th>experimental_characteristics</th>\n",
       "      <th>is_mod</th>\n",
       "      <th>half_life_seconds</th>\n",
       "    </tr>\n",
       "  </thead>\n",
       "  <tbody>\n",
       "    <tr>\n",
       "      <th>0</th>\n",
       "      <td>GSIGAASMEF</td>\n",
       "      <td>intestinal proteasa</td>\n",
       "      <td>False</td>\n",
       "      <td>2.7013</td>\n",
       "    </tr>\n",
       "    <tr>\n",
       "      <th>1</th>\n",
       "      <td>IGAASMEFCF</td>\n",
       "      <td>intestinal proteasa</td>\n",
       "      <td>False</td>\n",
       "      <td>0.0629</td>\n",
       "    </tr>\n",
       "    <tr>\n",
       "      <th>2</th>\n",
       "      <td>AASMEFCFDV</td>\n",
       "      <td>intestinal proteasa</td>\n",
       "      <td>False</td>\n",
       "      <td>0.0556</td>\n",
       "    </tr>\n",
       "    <tr>\n",
       "      <th>3</th>\n",
       "      <td>SMEFCFDVFK</td>\n",
       "      <td>intestinal proteasa</td>\n",
       "      <td>False</td>\n",
       "      <td>0.0103</td>\n",
       "    </tr>\n",
       "    <tr>\n",
       "      <th>4</th>\n",
       "      <td>EFCFDVFKEL</td>\n",
       "      <td>intestinal proteasa</td>\n",
       "      <td>False</td>\n",
       "      <td>0.0088</td>\n",
       "    </tr>\n",
       "    <tr>\n",
       "      <th>...</th>\n",
       "      <td>...</td>\n",
       "      <td>...</td>\n",
       "      <td>...</td>\n",
       "      <td>...</td>\n",
       "    </tr>\n",
       "    <tr>\n",
       "      <th>184</th>\n",
       "      <td>KHIATNAVLF</td>\n",
       "      <td>intestinal proteasa</td>\n",
       "      <td>False</td>\n",
       "      <td>0.0719</td>\n",
       "    </tr>\n",
       "    <tr>\n",
       "      <th>185</th>\n",
       "      <td>IATNAVLFFG</td>\n",
       "      <td>intestinal proteasa</td>\n",
       "      <td>False</td>\n",
       "      <td>0.0048</td>\n",
       "    </tr>\n",
       "    <tr>\n",
       "      <th>186</th>\n",
       "      <td>TNAVLFFGRC</td>\n",
       "      <td>intestinal proteasa</td>\n",
       "      <td>False</td>\n",
       "      <td>0.0015</td>\n",
       "    </tr>\n",
       "    <tr>\n",
       "      <th>187</th>\n",
       "      <td>AVLFFGRCVS</td>\n",
       "      <td>intestinal proteasa</td>\n",
       "      <td>False</td>\n",
       "      <td>0.0012</td>\n",
       "    </tr>\n",
       "    <tr>\n",
       "      <th>188</th>\n",
       "      <td>VLFFGRCVSP</td>\n",
       "      <td>intestinal proteasa</td>\n",
       "      <td>False</td>\n",
       "      <td>0.0014</td>\n",
       "    </tr>\n",
       "  </tbody>\n",
       "</table>\n",
       "<p>189 rows × 4 columns</p>\n",
       "</div>"
      ],
      "text/plain": [
       "       sequence experimental_characteristics  is_mod  half_life_seconds\n",
       "0    GSIGAASMEF          intestinal proteasa   False             2.7013\n",
       "1    IGAASMEFCF          intestinal proteasa   False             0.0629\n",
       "2    AASMEFCFDV          intestinal proteasa   False             0.0556\n",
       "3    SMEFCFDVFK          intestinal proteasa   False             0.0103\n",
       "4    EFCFDVFKEL          intestinal proteasa   False             0.0088\n",
       "..          ...                          ...     ...                ...\n",
       "184  KHIATNAVLF          intestinal proteasa   False             0.0719\n",
       "185  IATNAVLFFG          intestinal proteasa   False             0.0048\n",
       "186  TNAVLFFGRC          intestinal proteasa   False             0.0015\n",
       "187  AVLFFGRCVS          intestinal proteasa   False             0.0012\n",
       "188  VLFFGRCVSP          intestinal proteasa   False             0.0014\n",
       "\n",
       "[189 rows x 4 columns]"
      ]
     },
     "execution_count": 3,
     "metadata": {},
     "output_type": "execute_result"
    }
   ],
   "source": [
    "df"
   ]
  },
  {
   "cell_type": "code",
   "execution_count": 4,
   "metadata": {},
   "outputs": [],
   "source": [
    "df = pd.read_csv('../../data/raw/16mer-peptides.txt', delimiter=\"\\t\")\n",
    "df=df.rename(columns={'## Peptide Sequence(16mer)':'sequence', 'Half-life (Sec)': 'half_life_seconds'})\n",
    "df=df.dropna()\n",
    "df['sequence'] = df['sequence'].str.upper()\n",
    "df=df.drop_duplicates(subset='sequence')\n",
    "df['experimental_characteristics'] = 'intestinal proteasa'\n",
    "df['is_mod']=False\n",
    "df=df[['sequence','experimental_characteristics', 'is_mod', 'half_life_seconds']]\n",
    "df.to_csv('../../data/regular/HLP_16.csv', index=False)"
   ]
  },
  {
   "cell_type": "code",
   "execution_count": 5,
   "metadata": {},
   "outputs": [
    {
     "data": {
      "application/vnd.microsoft.datawrangler.viewer.v0+json": {
       "columns": [
        {
         "name": "index",
         "rawType": "int64",
         "type": "integer"
        },
        {
         "name": "sequence",
         "rawType": "object",
         "type": "string"
        },
        {
         "name": "experimental_characteristics",
         "rawType": "object",
         "type": "string"
        },
        {
         "name": "is_mod",
         "rawType": "bool",
         "type": "boolean"
        },
        {
         "name": "half_life_seconds",
         "rawType": "float64",
         "type": "float"
        }
       ],
       "conversionMethod": "pd.DataFrame",
       "ref": "b522096e-e4a0-49ba-8d87-4affabb71fb2",
       "rows": [
        [
         "0",
         "GSIGAASMEFCFDVFK",
         "intestinal proteasa",
         "False",
         "0.0097"
        ],
        [
         "1",
         "IGAASMEFCFDVFKEL",
         "intestinal proteasa",
         "False",
         "0.0084"
        ],
        [
         "2",
         "AASMEFCFDVFKELKV",
         "intestinal proteasa",
         "False",
         "0.0068"
        ],
        [
         "3",
         "SMEFCFDVFKELKVHH",
         "intestinal proteasa",
         "False",
         "0.0084"
        ],
        [
         "4",
         "EFCFDVFKELKVHHAN",
         "intestinal proteasa",
         "False",
         "0.0098"
        ],
        [
         "5",
         "CFDVFKELKVHHANEN",
         "intestinal proteasa",
         "False",
         "0.0103"
        ],
        [
         "6",
         "DVFKELKVHHANENIF",
         "intestinal proteasa",
         "False",
         "0.0201"
        ],
        [
         "7",
         "FKELKVHHANENIFYC",
         "intestinal proteasa",
         "False",
         "0.0074"
        ],
        [
         "8",
         "ELKVHHANENIFYCPI",
         "intestinal proteasa",
         "False",
         "0.0851"
        ],
        [
         "9",
         "KVHHANENIFYCPIAI",
         "intestinal proteasa",
         "False",
         "0.0892"
        ],
        [
         "10",
         "HHANENIFYCPIAIMS",
         "intestinal proteasa",
         "False",
         "0.0575"
        ],
        [
         "11",
         "ANENIFYCPIAIMSAL",
         "intestinal proteasa",
         "False",
         "0.0425"
        ],
        [
         "12",
         "ENIFYCPIAIMSALAM",
         "intestinal proteasa",
         "False",
         "0.0327"
        ],
        [
         "13",
         "IFYCPIAIMSALAMVY",
         "intestinal proteasa",
         "False",
         "0.0167"
        ],
        [
         "14",
         "YCPIAIMSALAMVYLG",
         "intestinal proteasa",
         "False",
         "0.0125"
        ],
        [
         "15",
         "PIAIMSALAMVYLGAK",
         "intestinal proteasa",
         "False",
         "0.0077"
        ],
        [
         "16",
         "AIMSALAMVYLGAKDS",
         "intestinal proteasa",
         "False",
         "0.0088"
        ],
        [
         "17",
         "MSALAMVYLGAKDSTR",
         "intestinal proteasa",
         "False",
         "0.0063"
        ],
        [
         "18",
         "ALAMVYLGAKDSTRTQ",
         "intestinal proteasa",
         "False",
         "0.0045"
        ],
        [
         "19",
         "AMVYLGAKDSTRTQIN",
         "intestinal proteasa",
         "False",
         "0.0037"
        ],
        [
         "20",
         "VYLGAKDSTRTQINKV",
         "intestinal proteasa",
         "False",
         "0.004"
        ],
        [
         "21",
         "LGAKDSTRTQINKVVR",
         "intestinal proteasa",
         "False",
         "0.0033"
        ],
        [
         "22",
         "AKDSTRTQINKVVRFD",
         "intestinal proteasa",
         "False",
         "0.0038"
        ],
        [
         "23",
         "DSTRTQINKVVRFDKL",
         "intestinal proteasa",
         "False",
         "0.0044"
        ],
        [
         "24",
         "TRTQINKVVRFDKLPG",
         "intestinal proteasa",
         "False",
         "0.0045"
        ],
        [
         "25",
         "TQINKVVRFDKLPGFG",
         "intestinal proteasa",
         "False",
         "0.0085"
        ],
        [
         "26",
         "INKVVRFDKLPGFGDS",
         "intestinal proteasa",
         "False",
         "0.0111"
        ],
        [
         "27",
         "KVVRFDKLPGFGDSIE",
         "intestinal proteasa",
         "False",
         "0.0131"
        ],
        [
         "28",
         "VRFDKLPGFGDSIEAQ",
         "intestinal proteasa",
         "False",
         "0.1209"
        ],
        [
         "29",
         "FDKLPGFGDSIEAQCG",
         "intestinal proteasa",
         "False",
         "5.693"
        ],
        [
         "30",
         "KLPGFGDSIEAQCGTS",
         "intestinal proteasa",
         "False",
         "6.4211"
        ],
        [
         "31",
         "PGFGDSIEAQCGTSVN",
         "intestinal proteasa",
         "False",
         "5.0348"
        ],
        [
         "32",
         "FGDSIEAQCGTSVNVH",
         "intestinal proteasa",
         "False",
         "1.3951"
        ],
        [
         "33",
         "DSIEAQCGTSVNVHSS",
         "intestinal proteasa",
         "False",
         "0.4688"
        ],
        [
         "34",
         "IEAQCGTSVNVHSSLR",
         "intestinal proteasa",
         "False",
         "0.193"
        ],
        [
         "35",
         "AQCGTSVNVHSSLRDI",
         "intestinal proteasa",
         "False",
         "0.0267"
        ],
        [
         "36",
         "CGTSVNVHSSLRDILN",
         "intestinal proteasa",
         "False",
         "0.0499"
        ],
        [
         "37",
         "TSVNVHSSLRDILNQI",
         "intestinal proteasa",
         "False",
         "0.1029"
        ],
        [
         "38",
         "VNVHSSLRDILNQITK",
         "intestinal proteasa",
         "False",
         "0.0614"
        ],
        [
         "39",
         "VHSSLRDILNQITKPN",
         "intestinal proteasa",
         "False",
         "0.1104"
        ],
        [
         "40",
         "SSLRDILNQITKPNDV",
         "intestinal proteasa",
         "False",
         "0.1963"
        ],
        [
         "41",
         "LRDILNQITKPNDVYS",
         "intestinal proteasa",
         "False",
         "0.0514"
        ],
        [
         "42",
         "DILNQITKPNDVYSFS",
         "intestinal proteasa",
         "False",
         "0.0223"
        ],
        [
         "43",
         "LNQITKPNDVYSFSLA",
         "intestinal proteasa",
         "False",
         "0.0054"
        ],
        [
         "44",
         "QITKPNDVYSFSLASR",
         "intestinal proteasa",
         "False",
         "0.0025"
        ],
        [
         "45",
         "TKPNDVYSFSLASRLY",
         "intestinal proteasa",
         "False",
         "0.0011"
        ],
        [
         "46",
         "PNDVYSFSLASRLYAE",
         "intestinal proteasa",
         "False",
         "0.0014"
        ],
        [
         "47",
         "DVYSFSLASRLYAEER",
         "intestinal proteasa",
         "False",
         "0.0011"
        ],
        [
         "48",
         "YSFSLASRLYAEERYP",
         "intestinal proteasa",
         "False",
         "0.0032"
        ],
        [
         "49",
         "FSLASRLYAEERYPIL",
         "intestinal proteasa",
         "False",
         "0.0031"
        ]
       ],
       "shape": {
        "columns": 4,
        "rows": 186
       }
      },
      "text/html": [
       "<div>\n",
       "<style scoped>\n",
       "    .dataframe tbody tr th:only-of-type {\n",
       "        vertical-align: middle;\n",
       "    }\n",
       "\n",
       "    .dataframe tbody tr th {\n",
       "        vertical-align: top;\n",
       "    }\n",
       "\n",
       "    .dataframe thead th {\n",
       "        text-align: right;\n",
       "    }\n",
       "</style>\n",
       "<table border=\"1\" class=\"dataframe\">\n",
       "  <thead>\n",
       "    <tr style=\"text-align: right;\">\n",
       "      <th></th>\n",
       "      <th>sequence</th>\n",
       "      <th>experimental_characteristics</th>\n",
       "      <th>is_mod</th>\n",
       "      <th>half_life_seconds</th>\n",
       "    </tr>\n",
       "  </thead>\n",
       "  <tbody>\n",
       "    <tr>\n",
       "      <th>0</th>\n",
       "      <td>GSIGAASMEFCFDVFK</td>\n",
       "      <td>intestinal proteasa</td>\n",
       "      <td>False</td>\n",
       "      <td>0.0097</td>\n",
       "    </tr>\n",
       "    <tr>\n",
       "      <th>1</th>\n",
       "      <td>IGAASMEFCFDVFKEL</td>\n",
       "      <td>intestinal proteasa</td>\n",
       "      <td>False</td>\n",
       "      <td>0.0084</td>\n",
       "    </tr>\n",
       "    <tr>\n",
       "      <th>2</th>\n",
       "      <td>AASMEFCFDVFKELKV</td>\n",
       "      <td>intestinal proteasa</td>\n",
       "      <td>False</td>\n",
       "      <td>0.0068</td>\n",
       "    </tr>\n",
       "    <tr>\n",
       "      <th>3</th>\n",
       "      <td>SMEFCFDVFKELKVHH</td>\n",
       "      <td>intestinal proteasa</td>\n",
       "      <td>False</td>\n",
       "      <td>0.0084</td>\n",
       "    </tr>\n",
       "    <tr>\n",
       "      <th>4</th>\n",
       "      <td>EFCFDVFKELKVHHAN</td>\n",
       "      <td>intestinal proteasa</td>\n",
       "      <td>False</td>\n",
       "      <td>0.0098</td>\n",
       "    </tr>\n",
       "    <tr>\n",
       "      <th>...</th>\n",
       "      <td>...</td>\n",
       "      <td>...</td>\n",
       "      <td>...</td>\n",
       "      <td>...</td>\n",
       "    </tr>\n",
       "    <tr>\n",
       "      <th>181</th>\n",
       "      <td>PFLFCIKHIATNAVLF</td>\n",
       "      <td>intestinal proteasa</td>\n",
       "      <td>False</td>\n",
       "      <td>0.0055</td>\n",
       "    </tr>\n",
       "    <tr>\n",
       "      <th>182</th>\n",
       "      <td>LFCIKHIATNAVLFFG</td>\n",
       "      <td>intestinal proteasa</td>\n",
       "      <td>False</td>\n",
       "      <td>0.0038</td>\n",
       "    </tr>\n",
       "    <tr>\n",
       "      <th>183</th>\n",
       "      <td>CIKHIATNAVLFFGRC</td>\n",
       "      <td>intestinal proteasa</td>\n",
       "      <td>False</td>\n",
       "      <td>0.0025</td>\n",
       "    </tr>\n",
       "    <tr>\n",
       "      <th>184</th>\n",
       "      <td>KHIATNAVLFFGRCVS</td>\n",
       "      <td>intestinal proteasa</td>\n",
       "      <td>False</td>\n",
       "      <td>0.0008</td>\n",
       "    </tr>\n",
       "    <tr>\n",
       "      <th>185</th>\n",
       "      <td>HIATNAVLFFGRCVSP</td>\n",
       "      <td>intestinal proteasa</td>\n",
       "      <td>False</td>\n",
       "      <td>0.0009</td>\n",
       "    </tr>\n",
       "  </tbody>\n",
       "</table>\n",
       "<p>186 rows × 4 columns</p>\n",
       "</div>"
      ],
      "text/plain": [
       "             sequence experimental_characteristics  is_mod  half_life_seconds\n",
       "0    GSIGAASMEFCFDVFK          intestinal proteasa   False             0.0097\n",
       "1    IGAASMEFCFDVFKEL          intestinal proteasa   False             0.0084\n",
       "2    AASMEFCFDVFKELKV          intestinal proteasa   False             0.0068\n",
       "3    SMEFCFDVFKELKVHH          intestinal proteasa   False             0.0084\n",
       "4    EFCFDVFKELKVHHAN          intestinal proteasa   False             0.0098\n",
       "..                ...                          ...     ...                ...\n",
       "181  PFLFCIKHIATNAVLF          intestinal proteasa   False             0.0055\n",
       "182  LFCIKHIATNAVLFFG          intestinal proteasa   False             0.0038\n",
       "183  CIKHIATNAVLFFGRC          intestinal proteasa   False             0.0025\n",
       "184  KHIATNAVLFFGRCVS          intestinal proteasa   False             0.0008\n",
       "185  HIATNAVLFFGRCVSP          intestinal proteasa   False             0.0009\n",
       "\n",
       "[186 rows x 4 columns]"
      ]
     },
     "execution_count": 5,
     "metadata": {},
     "output_type": "execute_result"
    }
   ],
   "source": [
    "df"
   ]
  }
 ],
 "metadata": {
  "kernelspec": {
   "display_name": "ML_Class",
   "language": "python",
   "name": "python3"
  },
  "language_info": {
   "codemirror_mode": {
    "name": "ipython",
    "version": 3
   },
   "file_extension": ".py",
   "mimetype": "text/x-python",
   "name": "python",
   "nbconvert_exporter": "python",
   "pygments_lexer": "ipython3",
   "version": "3.9.20"
  }
 },
 "nbformat": 4,
 "nbformat_minor": 2
}
