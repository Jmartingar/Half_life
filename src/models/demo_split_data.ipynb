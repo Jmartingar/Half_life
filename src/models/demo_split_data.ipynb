{
 "cells": [
  {
   "cell_type": "code",
   "execution_count": 37,
   "metadata": {},
   "outputs": [],
   "source": [
    "import pandas as pd\n",
    "import seaborn as sns\n",
    "from sklearn.model_selection import train_test_split"
   ]
  },
  {
   "cell_type": "code",
   "execution_count": 38,
   "metadata": {},
   "outputs": [
    {
     "data": {
      "application/vnd.microsoft.datawrangler.viewer.v0+json": {
       "columns": [
        {
         "name": "index",
         "rawType": "int64",
         "type": "integer"
        },
        {
         "name": "p_0",
         "rawType": "int64",
         "type": "integer"
        },
        {
         "name": "p_1",
         "rawType": "int64",
         "type": "integer"
        },
        {
         "name": "p_2",
         "rawType": "int64",
         "type": "integer"
        },
        {
         "name": "p_3",
         "rawType": "int64",
         "type": "integer"
        },
        {
         "name": "p_4",
         "rawType": "int64",
         "type": "integer"
        },
        {
         "name": "p_5",
         "rawType": "int64",
         "type": "integer"
        },
        {
         "name": "p_6",
         "rawType": "int64",
         "type": "integer"
        },
        {
         "name": "p_7",
         "rawType": "int64",
         "type": "integer"
        },
        {
         "name": "p_8",
         "rawType": "int64",
         "type": "integer"
        },
        {
         "name": "p_9",
         "rawType": "int64",
         "type": "integer"
        },
        {
         "name": "p_10",
         "rawType": "int64",
         "type": "integer"
        },
        {
         "name": "p_11",
         "rawType": "int64",
         "type": "integer"
        },
        {
         "name": "p_12",
         "rawType": "int64",
         "type": "integer"
        },
        {
         "name": "p_13",
         "rawType": "int64",
         "type": "integer"
        },
        {
         "name": "p_14",
         "rawType": "int64",
         "type": "integer"
        },
        {
         "name": "p_15",
         "rawType": "int64",
         "type": "integer"
        },
        {
         "name": "p_16",
         "rawType": "int64",
         "type": "integer"
        },
        {
         "name": "p_17",
         "rawType": "int64",
         "type": "integer"
        },
        {
         "name": "p_18",
         "rawType": "int64",
         "type": "integer"
        },
        {
         "name": "p_19",
         "rawType": "int64",
         "type": "integer"
        },
        {
         "name": "p_20",
         "rawType": "int64",
         "type": "integer"
        },
        {
         "name": "p_21",
         "rawType": "int64",
         "type": "integer"
        },
        {
         "name": "p_22",
         "rawType": "int64",
         "type": "integer"
        },
        {
         "name": "p_23",
         "rawType": "int64",
         "type": "integer"
        },
        {
         "name": "p_24",
         "rawType": "int64",
         "type": "integer"
        },
        {
         "name": "p_25",
         "rawType": "int64",
         "type": "integer"
        },
        {
         "name": "p_26",
         "rawType": "int64",
         "type": "integer"
        },
        {
         "name": "p_27",
         "rawType": "int64",
         "type": "integer"
        },
        {
         "name": "p_28",
         "rawType": "int64",
         "type": "integer"
        },
        {
         "name": "p_29",
         "rawType": "int64",
         "type": "integer"
        },
        {
         "name": "p_30",
         "rawType": "int64",
         "type": "integer"
        },
        {
         "name": "p_31",
         "rawType": "int64",
         "type": "integer"
        },
        {
         "name": "p_32",
         "rawType": "int64",
         "type": "integer"
        },
        {
         "name": "p_33",
         "rawType": "int64",
         "type": "integer"
        },
        {
         "name": "p_34",
         "rawType": "int64",
         "type": "integer"
        },
        {
         "name": "p_35",
         "rawType": "int64",
         "type": "integer"
        },
        {
         "name": "p_36",
         "rawType": "int64",
         "type": "integer"
        },
        {
         "name": "p_37",
         "rawType": "int64",
         "type": "integer"
        },
        {
         "name": "p_38",
         "rawType": "int64",
         "type": "integer"
        },
        {
         "name": "p_39",
         "rawType": "int64",
         "type": "integer"
        },
        {
         "name": "p_40",
         "rawType": "int64",
         "type": "integer"
        },
        {
         "name": "p_41",
         "rawType": "int64",
         "type": "integer"
        },
        {
         "name": "p_42",
         "rawType": "int64",
         "type": "integer"
        },
        {
         "name": "p_43",
         "rawType": "int64",
         "type": "integer"
        },
        {
         "name": "p_44",
         "rawType": "int64",
         "type": "integer"
        },
        {
         "name": "p_45",
         "rawType": "int64",
         "type": "integer"
        },
        {
         "name": "p_46",
         "rawType": "int64",
         "type": "integer"
        },
        {
         "name": "p_47",
         "rawType": "int64",
         "type": "integer"
        },
        {
         "name": "p_48",
         "rawType": "int64",
         "type": "integer"
        },
        {
         "name": "p_49",
         "rawType": "int64",
         "type": "integer"
        },
        {
         "name": "p_50",
         "rawType": "int64",
         "type": "integer"
        },
        {
         "name": "target",
         "rawType": "int64",
         "type": "integer"
        },
        {
         "name": "experimental_characteristics",
         "rawType": "object",
         "type": "string"
        }
       ],
       "conversionMethod": "pd.DataFrame",
       "ref": "bd511bc1-4ad2-4343-b039-f888de7b52f0",
       "rows": [
        [
         "0",
         "0",
         "0",
         "0",
         "11",
         "15",
         "13",
         "17",
         "16",
         "8",
         "0",
         "0",
         "0",
         "0",
         "0",
         "0",
         "0",
         "0",
         "0",
         "0",
         "0",
         "0",
         "0",
         "0",
         "0",
         "0",
         "0",
         "0",
         "0",
         "0",
         "0",
         "0",
         "0",
         "0",
         "0",
         "0",
         "0",
         "0",
         "0",
         "0",
         "0",
         "0",
         "0",
         "0",
         "0",
         "0",
         "0",
         "0",
         "0",
         "0",
         "0",
         "0",
         "1",
         "Mammalian"
        ],
        [
         "1",
         "0",
         "0",
         "1",
         "3",
         "17",
         "0",
         "9",
         "8",
         "10",
         "8",
         "3",
         "15",
         "10",
         "7",
         "2",
         "10",
         "13",
         "3",
         "10",
         "5",
         "9",
         "19",
         "3",
         "13",
         "19",
         "7",
         "9",
         "18",
         "0",
         "0",
         "0",
         "0",
         "0",
         "0",
         "0",
         "0",
         "0",
         "0",
         "0",
         "0",
         "0",
         "0",
         "0",
         "0",
         "0",
         "0",
         "0",
         "0",
         "0",
         "0",
         "0",
         "1",
         "Mammalian"
        ],
        [
         "2",
         "0",
         "0",
         "5",
         "0",
         "17",
         "17",
         "8",
         "2",
         "10",
         "0",
         "0",
         "0",
         "0",
         "0",
         "0",
         "0",
         "0",
         "0",
         "0",
         "0",
         "0",
         "0",
         "0",
         "0",
         "0",
         "0",
         "0",
         "0",
         "0",
         "0",
         "0",
         "0",
         "0",
         "0",
         "0",
         "0",
         "0",
         "0",
         "0",
         "0",
         "0",
         "0",
         "0",
         "0",
         "0",
         "0",
         "0",
         "0",
         "0",
         "0",
         "0",
         "1",
         "Mammalian"
        ],
        [
         "3",
         "0",
         "0",
         "6",
         "10",
         "7",
         "2",
         "0",
         "10",
         "19",
         "0",
         "3",
         "4",
         "10",
         "5",
         "5",
         "14",
         "17",
         "10",
         "16",
         "16",
         "12",
         "17",
         "17",
         "6",
         "14",
         "0",
         "10",
         "4",
         "19",
         "0",
         "15",
         "0",
         "17",
         "10",
         "14",
         "13",
         "12",
         "4",
         "10",
         "0",
         "5",
         "17",
         "12",
         "15",
         "0",
         "0",
         "0",
         "0",
         "0",
         "0",
         "0",
         "1",
         "Mammalian"
        ],
        [
         "4",
         "0",
         "0",
         "9",
         "0",
         "18",
         "9",
         "9",
         "0",
         "9",
         "0",
         "18",
         "9",
         "9",
         "0",
         "9",
         "18",
         "18",
         "9",
         "9",
         "0",
         "0",
         "0",
         "0",
         "0",
         "0",
         "0",
         "0",
         "0",
         "0",
         "0",
         "0",
         "0",
         "0",
         "0",
         "0",
         "0",
         "0",
         "0",
         "0",
         "0",
         "0",
         "0",
         "0",
         "0",
         "0",
         "0",
         "0",
         "0",
         "0",
         "0",
         "0",
         "1",
         "Mammalian"
        ]
       ],
       "shape": {
        "columns": 53,
        "rows": 5
       }
      },
      "text/html": [
       "<div>\n",
       "<style scoped>\n",
       "    .dataframe tbody tr th:only-of-type {\n",
       "        vertical-align: middle;\n",
       "    }\n",
       "\n",
       "    .dataframe tbody tr th {\n",
       "        vertical-align: top;\n",
       "    }\n",
       "\n",
       "    .dataframe thead th {\n",
       "        text-align: right;\n",
       "    }\n",
       "</style>\n",
       "<table border=\"1\" class=\"dataframe\">\n",
       "  <thead>\n",
       "    <tr style=\"text-align: right;\">\n",
       "      <th></th>\n",
       "      <th>p_0</th>\n",
       "      <th>p_1</th>\n",
       "      <th>p_2</th>\n",
       "      <th>p_3</th>\n",
       "      <th>p_4</th>\n",
       "      <th>p_5</th>\n",
       "      <th>p_6</th>\n",
       "      <th>p_7</th>\n",
       "      <th>p_8</th>\n",
       "      <th>p_9</th>\n",
       "      <th>...</th>\n",
       "      <th>p_43</th>\n",
       "      <th>p_44</th>\n",
       "      <th>p_45</th>\n",
       "      <th>p_46</th>\n",
       "      <th>p_47</th>\n",
       "      <th>p_48</th>\n",
       "      <th>p_49</th>\n",
       "      <th>p_50</th>\n",
       "      <th>target</th>\n",
       "      <th>experimental_characteristics</th>\n",
       "    </tr>\n",
       "  </thead>\n",
       "  <tbody>\n",
       "    <tr>\n",
       "      <th>0</th>\n",
       "      <td>0</td>\n",
       "      <td>0</td>\n",
       "      <td>0</td>\n",
       "      <td>11</td>\n",
       "      <td>15</td>\n",
       "      <td>13</td>\n",
       "      <td>17</td>\n",
       "      <td>16</td>\n",
       "      <td>8</td>\n",
       "      <td>0</td>\n",
       "      <td>...</td>\n",
       "      <td>0</td>\n",
       "      <td>0</td>\n",
       "      <td>0</td>\n",
       "      <td>0</td>\n",
       "      <td>0</td>\n",
       "      <td>0</td>\n",
       "      <td>0</td>\n",
       "      <td>0</td>\n",
       "      <td>1</td>\n",
       "      <td>Mammalian</td>\n",
       "    </tr>\n",
       "    <tr>\n",
       "      <th>1</th>\n",
       "      <td>0</td>\n",
       "      <td>0</td>\n",
       "      <td>1</td>\n",
       "      <td>3</td>\n",
       "      <td>17</td>\n",
       "      <td>0</td>\n",
       "      <td>9</td>\n",
       "      <td>8</td>\n",
       "      <td>10</td>\n",
       "      <td>8</td>\n",
       "      <td>...</td>\n",
       "      <td>0</td>\n",
       "      <td>0</td>\n",
       "      <td>0</td>\n",
       "      <td>0</td>\n",
       "      <td>0</td>\n",
       "      <td>0</td>\n",
       "      <td>0</td>\n",
       "      <td>0</td>\n",
       "      <td>1</td>\n",
       "      <td>Mammalian</td>\n",
       "    </tr>\n",
       "    <tr>\n",
       "      <th>2</th>\n",
       "      <td>0</td>\n",
       "      <td>0</td>\n",
       "      <td>5</td>\n",
       "      <td>0</td>\n",
       "      <td>17</td>\n",
       "      <td>17</td>\n",
       "      <td>8</td>\n",
       "      <td>2</td>\n",
       "      <td>10</td>\n",
       "      <td>0</td>\n",
       "      <td>...</td>\n",
       "      <td>0</td>\n",
       "      <td>0</td>\n",
       "      <td>0</td>\n",
       "      <td>0</td>\n",
       "      <td>0</td>\n",
       "      <td>0</td>\n",
       "      <td>0</td>\n",
       "      <td>0</td>\n",
       "      <td>1</td>\n",
       "      <td>Mammalian</td>\n",
       "    </tr>\n",
       "    <tr>\n",
       "      <th>3</th>\n",
       "      <td>0</td>\n",
       "      <td>0</td>\n",
       "      <td>6</td>\n",
       "      <td>10</td>\n",
       "      <td>7</td>\n",
       "      <td>2</td>\n",
       "      <td>0</td>\n",
       "      <td>10</td>\n",
       "      <td>19</td>\n",
       "      <td>0</td>\n",
       "      <td>...</td>\n",
       "      <td>15</td>\n",
       "      <td>0</td>\n",
       "      <td>0</td>\n",
       "      <td>0</td>\n",
       "      <td>0</td>\n",
       "      <td>0</td>\n",
       "      <td>0</td>\n",
       "      <td>0</td>\n",
       "      <td>1</td>\n",
       "      <td>Mammalian</td>\n",
       "    </tr>\n",
       "    <tr>\n",
       "      <th>4</th>\n",
       "      <td>0</td>\n",
       "      <td>0</td>\n",
       "      <td>9</td>\n",
       "      <td>0</td>\n",
       "      <td>18</td>\n",
       "      <td>9</td>\n",
       "      <td>9</td>\n",
       "      <td>0</td>\n",
       "      <td>9</td>\n",
       "      <td>0</td>\n",
       "      <td>...</td>\n",
       "      <td>0</td>\n",
       "      <td>0</td>\n",
       "      <td>0</td>\n",
       "      <td>0</td>\n",
       "      <td>0</td>\n",
       "      <td>0</td>\n",
       "      <td>0</td>\n",
       "      <td>0</td>\n",
       "      <td>1</td>\n",
       "      <td>Mammalian</td>\n",
       "    </tr>\n",
       "  </tbody>\n",
       "</table>\n",
       "<p>5 rows × 53 columns</p>\n",
       "</div>"
      ],
      "text/plain": [
       "   p_0  p_1  p_2  p_3  p_4  p_5  p_6  p_7  p_8  p_9  ...  p_43  p_44  p_45  \\\n",
       "0    0    0    0   11   15   13   17   16    8    0  ...     0     0     0   \n",
       "1    0    0    1    3   17    0    9    8   10    8  ...     0     0     0   \n",
       "2    0    0    5    0   17   17    8    2   10    0  ...     0     0     0   \n",
       "3    0    0    6   10    7    2    0   10   19    0  ...    15     0     0   \n",
       "4    0    0    9    0   18    9    9    0    9    0  ...     0     0     0   \n",
       "\n",
       "   p_46  p_47  p_48  p_49  p_50  target  experimental_characteristics  \n",
       "0     0     0     0     0     0       1                     Mammalian  \n",
       "1     0     0     0     0     0       1                     Mammalian  \n",
       "2     0     0     0     0     0       1                     Mammalian  \n",
       "3     0     0     0     0     0       1                     Mammalian  \n",
       "4     0     0     0     0     0       1                     Mammalian  \n",
       "\n",
       "[5 rows x 53 columns]"
      ]
     },
     "execution_count": 38,
     "metadata": {},
     "output_type": "execute_result"
    }
   ],
   "source": [
    "df_data = pd.read_csv(\"../../data/numerical_rep/one_hot_antiviral_homology_90.csv\")\n",
    "df_data.head(5)"
   ]
  },
  {
   "cell_type": "code",
   "execution_count": 39,
   "metadata": {},
   "outputs": [
    {
     "data": {
      "application/vnd.microsoft.datawrangler.viewer.v0+json": {
       "columns": [
        {
         "name": "index",
         "rawType": "int64",
         "type": "integer"
        },
        {
         "name": "p_0",
         "rawType": "int64",
         "type": "integer"
        },
        {
         "name": "p_1",
         "rawType": "int64",
         "type": "integer"
        },
        {
         "name": "p_2",
         "rawType": "int64",
         "type": "integer"
        },
        {
         "name": "p_3",
         "rawType": "int64",
         "type": "integer"
        },
        {
         "name": "p_4",
         "rawType": "int64",
         "type": "integer"
        },
        {
         "name": "p_5",
         "rawType": "int64",
         "type": "integer"
        },
        {
         "name": "p_6",
         "rawType": "int64",
         "type": "integer"
        },
        {
         "name": "p_7",
         "rawType": "int64",
         "type": "integer"
        },
        {
         "name": "p_8",
         "rawType": "int64",
         "type": "integer"
        },
        {
         "name": "p_9",
         "rawType": "int64",
         "type": "integer"
        },
        {
         "name": "p_10",
         "rawType": "int64",
         "type": "integer"
        },
        {
         "name": "p_11",
         "rawType": "int64",
         "type": "integer"
        },
        {
         "name": "p_12",
         "rawType": "int64",
         "type": "integer"
        },
        {
         "name": "p_13",
         "rawType": "int64",
         "type": "integer"
        },
        {
         "name": "p_14",
         "rawType": "int64",
         "type": "integer"
        },
        {
         "name": "p_15",
         "rawType": "int64",
         "type": "integer"
        },
        {
         "name": "p_16",
         "rawType": "int64",
         "type": "integer"
        },
        {
         "name": "p_17",
         "rawType": "int64",
         "type": "integer"
        },
        {
         "name": "p_18",
         "rawType": "int64",
         "type": "integer"
        },
        {
         "name": "p_19",
         "rawType": "int64",
         "type": "integer"
        },
        {
         "name": "p_20",
         "rawType": "int64",
         "type": "integer"
        },
        {
         "name": "p_21",
         "rawType": "int64",
         "type": "integer"
        },
        {
         "name": "p_22",
         "rawType": "int64",
         "type": "integer"
        },
        {
         "name": "p_23",
         "rawType": "int64",
         "type": "integer"
        },
        {
         "name": "p_24",
         "rawType": "int64",
         "type": "integer"
        },
        {
         "name": "p_25",
         "rawType": "int64",
         "type": "integer"
        },
        {
         "name": "p_26",
         "rawType": "int64",
         "type": "integer"
        },
        {
         "name": "p_27",
         "rawType": "int64",
         "type": "integer"
        },
        {
         "name": "p_28",
         "rawType": "int64",
         "type": "integer"
        },
        {
         "name": "p_29",
         "rawType": "int64",
         "type": "integer"
        },
        {
         "name": "p_30",
         "rawType": "int64",
         "type": "integer"
        },
        {
         "name": "p_31",
         "rawType": "int64",
         "type": "integer"
        },
        {
         "name": "p_32",
         "rawType": "int64",
         "type": "integer"
        },
        {
         "name": "p_33",
         "rawType": "int64",
         "type": "integer"
        },
        {
         "name": "p_34",
         "rawType": "int64",
         "type": "integer"
        },
        {
         "name": "p_35",
         "rawType": "int64",
         "type": "integer"
        },
        {
         "name": "p_36",
         "rawType": "int64",
         "type": "integer"
        },
        {
         "name": "p_37",
         "rawType": "int64",
         "type": "integer"
        },
        {
         "name": "p_38",
         "rawType": "int64",
         "type": "integer"
        },
        {
         "name": "p_39",
         "rawType": "int64",
         "type": "integer"
        },
        {
         "name": "p_40",
         "rawType": "int64",
         "type": "integer"
        },
        {
         "name": "p_41",
         "rawType": "int64",
         "type": "integer"
        },
        {
         "name": "p_42",
         "rawType": "int64",
         "type": "integer"
        },
        {
         "name": "p_43",
         "rawType": "int64",
         "type": "integer"
        },
        {
         "name": "p_44",
         "rawType": "int64",
         "type": "integer"
        },
        {
         "name": "p_45",
         "rawType": "int64",
         "type": "integer"
        },
        {
         "name": "p_46",
         "rawType": "int64",
         "type": "integer"
        },
        {
         "name": "p_47",
         "rawType": "int64",
         "type": "integer"
        },
        {
         "name": "p_48",
         "rawType": "int64",
         "type": "integer"
        },
        {
         "name": "p_49",
         "rawType": "int64",
         "type": "integer"
        },
        {
         "name": "p_50",
         "rawType": "int64",
         "type": "integer"
        },
        {
         "name": "target",
         "rawType": "int64",
         "type": "integer"
        }
       ],
       "conversionMethod": "pd.DataFrame",
       "ref": "2a4a171b-18dd-47b7-8986-e54c87578833",
       "rows": [
        [
         "0",
         "0",
         "0",
         "0",
         "11",
         "15",
         "13",
         "17",
         "16",
         "8",
         "0",
         "0",
         "0",
         "0",
         "0",
         "0",
         "0",
         "0",
         "0",
         "0",
         "0",
         "0",
         "0",
         "0",
         "0",
         "0",
         "0",
         "0",
         "0",
         "0",
         "0",
         "0",
         "0",
         "0",
         "0",
         "0",
         "0",
         "0",
         "0",
         "0",
         "0",
         "0",
         "0",
         "0",
         "0",
         "0",
         "0",
         "0",
         "0",
         "0",
         "0",
         "0",
         "1"
        ],
        [
         "1",
         "0",
         "0",
         "1",
         "3",
         "17",
         "0",
         "9",
         "8",
         "10",
         "8",
         "3",
         "15",
         "10",
         "7",
         "2",
         "10",
         "13",
         "3",
         "10",
         "5",
         "9",
         "19",
         "3",
         "13",
         "19",
         "7",
         "9",
         "18",
         "0",
         "0",
         "0",
         "0",
         "0",
         "0",
         "0",
         "0",
         "0",
         "0",
         "0",
         "0",
         "0",
         "0",
         "0",
         "0",
         "0",
         "0",
         "0",
         "0",
         "0",
         "0",
         "0",
         "1"
        ],
        [
         "2",
         "0",
         "0",
         "5",
         "0",
         "17",
         "17",
         "8",
         "2",
         "10",
         "0",
         "0",
         "0",
         "0",
         "0",
         "0",
         "0",
         "0",
         "0",
         "0",
         "0",
         "0",
         "0",
         "0",
         "0",
         "0",
         "0",
         "0",
         "0",
         "0",
         "0",
         "0",
         "0",
         "0",
         "0",
         "0",
         "0",
         "0",
         "0",
         "0",
         "0",
         "0",
         "0",
         "0",
         "0",
         "0",
         "0",
         "0",
         "0",
         "0",
         "0",
         "0",
         "1"
        ],
        [
         "3",
         "0",
         "0",
         "6",
         "10",
         "7",
         "2",
         "0",
         "10",
         "19",
         "0",
         "3",
         "4",
         "10",
         "5",
         "5",
         "14",
         "17",
         "10",
         "16",
         "16",
         "12",
         "17",
         "17",
         "6",
         "14",
         "0",
         "10",
         "4",
         "19",
         "0",
         "15",
         "0",
         "17",
         "10",
         "14",
         "13",
         "12",
         "4",
         "10",
         "0",
         "5",
         "17",
         "12",
         "15",
         "0",
         "0",
         "0",
         "0",
         "0",
         "0",
         "0",
         "1"
        ],
        [
         "4",
         "0",
         "0",
         "9",
         "0",
         "18",
         "9",
         "9",
         "0",
         "9",
         "0",
         "18",
         "9",
         "9",
         "0",
         "9",
         "18",
         "18",
         "9",
         "9",
         "0",
         "0",
         "0",
         "0",
         "0",
         "0",
         "0",
         "0",
         "0",
         "0",
         "0",
         "0",
         "0",
         "0",
         "0",
         "0",
         "0",
         "0",
         "0",
         "0",
         "0",
         "0",
         "0",
         "0",
         "0",
         "0",
         "0",
         "0",
         "0",
         "0",
         "0",
         "0",
         "1"
        ]
       ],
       "shape": {
        "columns": 52,
        "rows": 5
       }
      },
      "text/html": [
       "<div>\n",
       "<style scoped>\n",
       "    .dataframe tbody tr th:only-of-type {\n",
       "        vertical-align: middle;\n",
       "    }\n",
       "\n",
       "    .dataframe tbody tr th {\n",
       "        vertical-align: top;\n",
       "    }\n",
       "\n",
       "    .dataframe thead th {\n",
       "        text-align: right;\n",
       "    }\n",
       "</style>\n",
       "<table border=\"1\" class=\"dataframe\">\n",
       "  <thead>\n",
       "    <tr style=\"text-align: right;\">\n",
       "      <th></th>\n",
       "      <th>p_0</th>\n",
       "      <th>p_1</th>\n",
       "      <th>p_2</th>\n",
       "      <th>p_3</th>\n",
       "      <th>p_4</th>\n",
       "      <th>p_5</th>\n",
       "      <th>p_6</th>\n",
       "      <th>p_7</th>\n",
       "      <th>p_8</th>\n",
       "      <th>p_9</th>\n",
       "      <th>...</th>\n",
       "      <th>p_42</th>\n",
       "      <th>p_43</th>\n",
       "      <th>p_44</th>\n",
       "      <th>p_45</th>\n",
       "      <th>p_46</th>\n",
       "      <th>p_47</th>\n",
       "      <th>p_48</th>\n",
       "      <th>p_49</th>\n",
       "      <th>p_50</th>\n",
       "      <th>target</th>\n",
       "    </tr>\n",
       "  </thead>\n",
       "  <tbody>\n",
       "    <tr>\n",
       "      <th>0</th>\n",
       "      <td>0</td>\n",
       "      <td>0</td>\n",
       "      <td>0</td>\n",
       "      <td>11</td>\n",
       "      <td>15</td>\n",
       "      <td>13</td>\n",
       "      <td>17</td>\n",
       "      <td>16</td>\n",
       "      <td>8</td>\n",
       "      <td>0</td>\n",
       "      <td>...</td>\n",
       "      <td>0</td>\n",
       "      <td>0</td>\n",
       "      <td>0</td>\n",
       "      <td>0</td>\n",
       "      <td>0</td>\n",
       "      <td>0</td>\n",
       "      <td>0</td>\n",
       "      <td>0</td>\n",
       "      <td>0</td>\n",
       "      <td>1</td>\n",
       "    </tr>\n",
       "    <tr>\n",
       "      <th>1</th>\n",
       "      <td>0</td>\n",
       "      <td>0</td>\n",
       "      <td>1</td>\n",
       "      <td>3</td>\n",
       "      <td>17</td>\n",
       "      <td>0</td>\n",
       "      <td>9</td>\n",
       "      <td>8</td>\n",
       "      <td>10</td>\n",
       "      <td>8</td>\n",
       "      <td>...</td>\n",
       "      <td>0</td>\n",
       "      <td>0</td>\n",
       "      <td>0</td>\n",
       "      <td>0</td>\n",
       "      <td>0</td>\n",
       "      <td>0</td>\n",
       "      <td>0</td>\n",
       "      <td>0</td>\n",
       "      <td>0</td>\n",
       "      <td>1</td>\n",
       "    </tr>\n",
       "    <tr>\n",
       "      <th>2</th>\n",
       "      <td>0</td>\n",
       "      <td>0</td>\n",
       "      <td>5</td>\n",
       "      <td>0</td>\n",
       "      <td>17</td>\n",
       "      <td>17</td>\n",
       "      <td>8</td>\n",
       "      <td>2</td>\n",
       "      <td>10</td>\n",
       "      <td>0</td>\n",
       "      <td>...</td>\n",
       "      <td>0</td>\n",
       "      <td>0</td>\n",
       "      <td>0</td>\n",
       "      <td>0</td>\n",
       "      <td>0</td>\n",
       "      <td>0</td>\n",
       "      <td>0</td>\n",
       "      <td>0</td>\n",
       "      <td>0</td>\n",
       "      <td>1</td>\n",
       "    </tr>\n",
       "    <tr>\n",
       "      <th>3</th>\n",
       "      <td>0</td>\n",
       "      <td>0</td>\n",
       "      <td>6</td>\n",
       "      <td>10</td>\n",
       "      <td>7</td>\n",
       "      <td>2</td>\n",
       "      <td>0</td>\n",
       "      <td>10</td>\n",
       "      <td>19</td>\n",
       "      <td>0</td>\n",
       "      <td>...</td>\n",
       "      <td>12</td>\n",
       "      <td>15</td>\n",
       "      <td>0</td>\n",
       "      <td>0</td>\n",
       "      <td>0</td>\n",
       "      <td>0</td>\n",
       "      <td>0</td>\n",
       "      <td>0</td>\n",
       "      <td>0</td>\n",
       "      <td>1</td>\n",
       "    </tr>\n",
       "    <tr>\n",
       "      <th>4</th>\n",
       "      <td>0</td>\n",
       "      <td>0</td>\n",
       "      <td>9</td>\n",
       "      <td>0</td>\n",
       "      <td>18</td>\n",
       "      <td>9</td>\n",
       "      <td>9</td>\n",
       "      <td>0</td>\n",
       "      <td>9</td>\n",
       "      <td>0</td>\n",
       "      <td>...</td>\n",
       "      <td>0</td>\n",
       "      <td>0</td>\n",
       "      <td>0</td>\n",
       "      <td>0</td>\n",
       "      <td>0</td>\n",
       "      <td>0</td>\n",
       "      <td>0</td>\n",
       "      <td>0</td>\n",
       "      <td>0</td>\n",
       "      <td>1</td>\n",
       "    </tr>\n",
       "  </tbody>\n",
       "</table>\n",
       "<p>5 rows × 52 columns</p>\n",
       "</div>"
      ],
      "text/plain": [
       "   p_0  p_1  p_2  p_3  p_4  p_5  p_6  p_7  p_8  p_9  ...  p_42  p_43  p_44  \\\n",
       "0    0    0    0   11   15   13   17   16    8    0  ...     0     0     0   \n",
       "1    0    0    1    3   17    0    9    8   10    8  ...     0     0     0   \n",
       "2    0    0    5    0   17   17    8    2   10    0  ...     0     0     0   \n",
       "3    0    0    6   10    7    2    0   10   19    0  ...    12    15     0   \n",
       "4    0    0    9    0   18    9    9    0    9    0  ...     0     0     0   \n",
       "\n",
       "   p_45  p_46  p_47  p_48  p_49  p_50  target  \n",
       "0     0     0     0     0     0     0       1  \n",
       "1     0     0     0     0     0     0       1  \n",
       "2     0     0     0     0     0     0       1  \n",
       "3     0     0     0     0     0     0       1  \n",
       "4     0     0     0     0     0     0       1  \n",
       "\n",
       "[5 rows x 52 columns]"
      ]
     },
     "execution_count": 39,
     "metadata": {},
     "output_type": "execute_result"
    }
   ],
   "source": [
    "df_data.drop([\"experimental_characteristics\"], axis=1, inplace=True)\n",
    "df_data.head()"
   ]
  },
  {
   "cell_type": "code",
   "execution_count": 40,
   "metadata": {},
   "outputs": [
    {
     "data": {
      "text/plain": [
       "<Axes: xlabel='target', ylabel='Count'>"
      ]
     },
     "execution_count": 40,
     "metadata": {},
     "output_type": "execute_result"
    },
    {
     "data": {
      "image/png": "[encoded data removed]",
      "text/plain": [
       "<Figure size 640x480 with 1 Axes>"
      ]
     },
     "metadata": {},
     "output_type": "display_data"
    }
   ],
   "source": [
    "sns.histplot(data=df_data, x=\"target\", fill=False)"
   ]
  },
  {
   "cell_type": "code",
   "execution_count": 41,
   "metadata": {},
   "outputs": [],
   "source": [
    "train_data, val_data = train_test_split(df_data, test_size=0.2, random_state=42)"
   ]
  },
  {
   "cell_type": "code",
   "execution_count": 42,
   "metadata": {},
   "outputs": [],
   "source": [
    "train_data[\"source\"] = \"Train\"\n",
    "val_data[\"source\"] = \"Validation\"\n",
    "\n",
    "full_data = pd.concat([train_data, val_data], axis=0)"
   ]
  },
  {
   "cell_type": "code",
   "execution_count": 43,
   "metadata": {},
   "outputs": [
    {
     "data": {
      "text/plain": [
       "<Axes: xlabel='target', ylabel='Count'>"
      ]
     },
     "execution_count": 43,
     "metadata": {},
     "output_type": "execute_result"
    },
    {
     "data": {
      "image/png": "[encoded data removed]",
      "text/plain": [
       "<Figure size 640x480 with 1 Axes>"
      ]
     },
     "metadata": {},
     "output_type": "display_data"
    }
   ],
   "source": [
    "sns.histplot(data=full_data, x=\"target\", hue=\"source\", fill=False)"
   ]
  },
  {
   "cell_type": "code",
   "execution_count": 44,
   "metadata": {},
   "outputs": [],
   "source": [
    "train_data.to_csv(\n",
    "    \"../../data/split_data/train_data.csv\", index=False\n",
    ")\n",
    "val_data.to_csv(\n",
    "    \"../../data/split_data/val_data.csv\", index=False\n",
    ")"
   ]
  }
 ],
 "metadata": {
  "kernelspec": {
   "display_name": "ML_Class",
   "language": "python",
   "name": "python3"
  },
  "language_info": {
   "codemirror_mode": {
    "name": "ipython",
    "version": 3
   },
   "file_extension": ".py",
   "mimetype": "text/x-python",
   "name": "python",
   "nbconvert_exporter": "python",
   "pygments_lexer": "ipython3",
   "version": "3.9.20"
  }
 },
 "nbformat": 4,
 "nbformat_minor": 2
}
