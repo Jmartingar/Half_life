{
 "cells": [
  {
   "cell_type": "markdown",
   "metadata": {},
   "source": [
    "### Demonstrative notebook to develop predictive models\n",
    "\n",
    "This notebook facilitates the implementation of predictive models using machine learning strategies. Specifically, this notebook trains classification models for antimicrobial peptides and predictive models for protein solubility. \n",
    "\n",
    "The notebook also shows how to export models and how to use with new data"
   ]
  },
  {
   "cell_type": "code",
   "execution_count": 110,
   "metadata": {},
   "outputs": [],
   "source": [
    "import warnings\n",
    "\n",
    "warnings.filterwarnings(\"ignore\")"
   ]
  },
  {
   "cell_type": "markdown",
   "metadata": {},
   "source": [
    "- Loading libraries"
   ]
  },
  {
   "cell_type": "code",
   "execution_count": 111,
   "metadata": {},
   "outputs": [],
   "source": [
    "import sys\n",
    "\n",
    "sys.path.insert(0, \"../../utils/\")"
   ]
  },
  {
   "cell_type": "code",
   "execution_count": 112,
   "metadata": {},
   "outputs": [],
   "source": [
    "import pandas as pd\n",
    "import seaborn as sns\n",
    "\n",
    "from training_models.classification_models import ClassificationModels\n",
    "from training_models.performance_models import *\n",
    "from training_models.regression_models import RegressionModels"
   ]
  },
  {
   "cell_type": "markdown",
   "metadata": {},
   "source": [
    "- Loading datasets: Train, validation, and testing dataset, all encoders with physicochemical properties. In all cases, we will remove the label from the dataset and generate a matrix data with the input for training model and an array with the response."
   ]
  },
  {
   "cell_type": "code",
   "execution_count": 113,
   "metadata": {},
   "outputs": [],
   "source": [
    "df_train = pd.read_csv(\"../../data/split_data/train_data.csv\")\n",
    "df_val = pd.read_csv(\"../../data/split_data/val_data.csv\")"
   ]
  },
  {
   "cell_type": "code",
   "execution_count": 114,
   "metadata": {},
   "outputs": [],
   "source": [
    "train_values = df_train.drop(columns=[\"target\", \"source\"]).values\n",
    "train_response = df_train[\"target\"].values\n",
    "\n",
    "validation_values = df_val.drop(columns=[\"target\", \"source\"]).values\n",
    "validation_response = df_val[\"target\"].values"
   ]
  },
  {
   "cell_type": "markdown",
   "metadata": {},
   "source": [
    "- Instance a classificationModels object to facilitate the training of a model"
   ]
  },
  {
   "cell_type": "code",
   "execution_count": 115,
   "metadata": {},
   "outputs": [
    {
     "data": {
      "text/plain": [
       "array([[ 0, 10, 12, ...,  0,  0,  0],\n",
       "       [ 9,  9,  9, ...,  0,  0,  0],\n",
       "       [10,  9,  0, ...,  0,  0,  0],\n",
       "       ...,\n",
       "       [ 9,  9,  9, ...,  0,  0,  0],\n",
       "       [ 4,  7,  9, ...,  0,  0,  0],\n",
       "       [ 9,  9,  9, ...,  0,  0,  0]])"
      ]
     },
     "execution_count": 115,
     "metadata": {},
     "output_type": "execute_result"
    }
   ],
   "source": [
    "validation_values"
   ]
  },
  {
   "cell_type": "code",
   "execution_count": 116,
   "metadata": {},
   "outputs": [],
   "source": [
    "clf_model = ClassificationModels(\n",
    "    X_train=train_values, X_val=validation_values, y_train=train_response, y_val=validation_response\n",
    ")"
   ]
  },
  {
   "cell_type": "markdown",
   "metadata": {},
   "source": [
    "- We will train a model with k-fold cross validation with k=5"
   ]
  },
  {
   "cell_type": "code",
   "execution_count": 117,
   "metadata": {},
   "outputs": [],
   "source": [
    "clf_model.instance_linear_svc()\n",
    "clf_model.process_model(kfold=True, k=5)"
   ]
  },
  {
   "cell_type": "markdown",
   "metadata": {},
   "source": [
    "- We can show the performances"
   ]
  },
  {
   "cell_type": "code",
   "execution_count": 118,
   "metadata": {},
   "outputs": [
    {
     "data": {
      "text/plain": [
       "{'training_metrics': {'f1_weighted': 0.41689481622576263,\n",
       "  'recall_weighted': 0.45714285714285713,\n",
       "  'precision_weighted': 0.44178460082015975,\n",
       "  'accuracy': 0.45714285714285713},\n",
       " 'validation_metrics': {'Accuracy': 0.5019011406844106,\n",
       "  'Precision': 0.44000287432153,\n",
       "  'Recall': 0.5019011406844106,\n",
       "  'F1-score': 0.44593373887398063,\n",
       "  'MCC': 0.10087367162448285,\n",
       "  'Confusion Matrix': [[0.8175182481751825,\n",
       "    0.11678832116788321,\n",
       "    0.06569343065693431],\n",
       "   [0.7411764705882353, 0.11764705882352941, 0.1411764705882353],\n",
       "   [0.5609756097560976, 0.1951219512195122, 0.24390243902439024]]}}"
      ]
     },
     "execution_count": 118,
     "metadata": {},
     "output_type": "execute_result"
    }
   ],
   "source": [
    "clf_model.performances"
   ]
  },
  {
   "cell_type": "code",
   "execution_count": 119,
   "metadata": {},
   "outputs": [
    {
     "data": {
      "text/plain": [
       "[[0.8175182481751825, 0.11678832116788321, 0.06569343065693431],\n",
       " [0.7411764705882353, 0.11764705882352941, 0.1411764705882353],\n",
       " [0.5609756097560976, 0.1951219512195122, 0.24390243902439024]]"
      ]
     },
     "execution_count": 119,
     "metadata": {},
     "output_type": "execute_result"
    }
   ],
   "source": [
    "train=clf_model.performances[\"training_metrics\"]\n",
    "valid=clf_model.performances[\"validation_metrics\"]\n",
    "valid.pop(\"Confusion Matrix\", None)"
   ]
  },
  {
   "cell_type": "code",
   "execution_count": 120,
   "metadata": {},
   "outputs": [],
   "source": [
    "rename_map = {\n",
    "    \"f1_weighted\": \"F1-score\",\n",
    "    \"recall_weighted\": \"Recall\",\n",
    "    \"precision_weighted\": \"Precision\",\n",
    "    \"accuracy\": \"Accuracy\"\n",
    "}"
   ]
  },
  {
   "cell_type": "code",
   "execution_count": 121,
   "metadata": {},
   "outputs": [],
   "source": [
    "train_r = {rename_map.get(k, k): v for k, v in train.items()}"
   ]
  },
  {
   "cell_type": "code",
   "execution_count": 122,
   "metadata": {},
   "outputs": [
    {
     "data": {
      "text/plain": [
       "{'training_metrics': {'f1_weighted': 0.41689481622576263,\n",
       "  'recall_weighted': 0.45714285714285713,\n",
       "  'precision_weighted': 0.44178460082015975,\n",
       "  'accuracy': 0.45714285714285713},\n",
       " 'validation_metrics': {'Accuracy': 0.5019011406844106,\n",
       "  'Precision': 0.44000287432153,\n",
       "  'Recall': 0.5019011406844106,\n",
       "  'F1-score': 0.44593373887398063,\n",
       "  'MCC': 0.10087367162448285}}"
      ]
     },
     "execution_count": 122,
     "metadata": {},
     "output_type": "execute_result"
    }
   ],
   "source": [
    "clf_model.performances"
   ]
  },
  {
   "cell_type": "code",
   "execution_count": 123,
   "metadata": {},
   "outputs": [
    {
     "data": {
      "text/plain": [
       "{'Accuracy': 0.5019011406844106,\n",
       " 'Precision': 0.44000287432153,\n",
       " 'Recall': 0.5019011406844106,\n",
       " 'F1-score': 0.44593373887398063,\n",
       " 'MCC': 0.10087367162448285}"
      ]
     },
     "execution_count": 123,
     "metadata": {},
     "output_type": "execute_result"
    }
   ],
   "source": [
    "valid"
   ]
  },
  {
   "cell_type": "code",
   "execution_count": 124,
   "metadata": {},
   "outputs": [
    {
     "data": {
      "text/plain": [
       "{'F1-score': 0.41689481622576263,\n",
       " 'Recall': 0.45714285714285713,\n",
       " 'Precision': 0.44178460082015975,\n",
       " 'Accuracy': 0.45714285714285713}"
      ]
     },
     "execution_count": 124,
     "metadata": {},
     "output_type": "execute_result"
    }
   ],
   "source": [
    "train_r"
   ]
  },
  {
   "cell_type": "code",
   "execution_count": 125,
   "metadata": {},
   "outputs": [],
   "source": [
    "df_metrics = pd.DataFrame({\n",
    "    \"Training\": train_r,\n",
    "    \"Validation\": valid\n",
    "})"
   ]
  },
  {
   "cell_type": "code",
   "execution_count": 126,
   "metadata": {},
   "outputs": [
    {
     "data": {
      "application/vnd.microsoft.datawrangler.viewer.v0+json": {
       "columns": [
        {
         "name": "index",
         "rawType": "object",
         "type": "string"
        },
        {
         "name": "Training",
         "rawType": "float64",
         "type": "float"
        },
        {
         "name": "Validation",
         "rawType": "float64",
         "type": "float"
        }
       ],
       "conversionMethod": "pd.DataFrame",
       "ref": "6ddb8230-db17-46c1-ba9e-f0a7aaa7ef7b",
       "rows": [
        [
         "F1-score",
         "0.41689481622576263",
         "0.44593373887398063"
        ],
        [
         "Recall",
         "0.45714285714285713",
         "0.5019011406844106"
        ],
        [
         "Precision",
         "0.44178460082015975",
         "0.44000287432153"
        ],
        [
         "Accuracy",
         "0.45714285714285713",
         "0.5019011406844106"
        ],
        [
         "MCC",
         null,
         "0.10087367162448285"
        ]
       ],
       "shape": {
        "columns": 2,
        "rows": 5
       }
      },
      "text/html": [
       "<div>\n",
       "<style scoped>\n",
       "    .dataframe tbody tr th:only-of-type {\n",
       "        vertical-align: middle;\n",
       "    }\n",
       "\n",
       "    .dataframe tbody tr th {\n",
       "        vertical-align: top;\n",
       "    }\n",
       "\n",
       "    .dataframe thead th {\n",
       "        text-align: right;\n",
       "    }\n",
       "</style>\n",
       "<table border=\"1\" class=\"dataframe\">\n",
       "  <thead>\n",
       "    <tr style=\"text-align: right;\">\n",
       "      <th></th>\n",
       "      <th>Training</th>\n",
       "      <th>Validation</th>\n",
       "    </tr>\n",
       "  </thead>\n",
       "  <tbody>\n",
       "    <tr>\n",
       "      <th>F1-score</th>\n",
       "      <td>0.416895</td>\n",
       "      <td>0.445934</td>\n",
       "    </tr>\n",
       "    <tr>\n",
       "      <th>Recall</th>\n",
       "      <td>0.457143</td>\n",
       "      <td>0.501901</td>\n",
       "    </tr>\n",
       "    <tr>\n",
       "      <th>Precision</th>\n",
       "      <td>0.441785</td>\n",
       "      <td>0.440003</td>\n",
       "    </tr>\n",
       "    <tr>\n",
       "      <th>Accuracy</th>\n",
       "      <td>0.457143</td>\n",
       "      <td>0.501901</td>\n",
       "    </tr>\n",
       "    <tr>\n",
       "      <th>MCC</th>\n",
       "      <td>NaN</td>\n",
       "      <td>0.100874</td>\n",
       "    </tr>\n",
       "  </tbody>\n",
       "</table>\n",
       "</div>"
      ],
      "text/plain": [
       "           Training  Validation\n",
       "F1-score   0.416895    0.445934\n",
       "Recall     0.457143    0.501901\n",
       "Precision  0.441785    0.440003\n",
       "Accuracy   0.457143    0.501901\n",
       "MCC             NaN    0.100874"
      ]
     },
     "execution_count": 126,
     "metadata": {},
     "output_type": "execute_result"
    }
   ],
   "source": [
    "df_metrics"
   ]
  }
 ],
 "metadata": {
  "kernelspec": {
   "display_name": "ML_Class",
   "language": "python",
   "name": "python3"
  },
  "language_info": {
   "codemirror_mode": {
    "name": "ipython",
    "version": 3
   },
   "file_extension": ".py",
   "mimetype": "text/x-python",
   "name": "python",
   "nbconvert_exporter": "python",
   "pygments_lexer": "ipython3",
   "version": "3.9.20"
  }
 },
 "nbformat": 4,
 "nbformat_minor": 2
}
