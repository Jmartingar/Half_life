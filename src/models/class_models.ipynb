{
 "cells": [
  {
   "cell_type": "code",
   "execution_count": null,
   "id": "442a4885",
   "metadata": {},
   "outputs": [],
   "source": [
    "import pandas as pd\n",
    "from sklearn.model_selection import train_test_split"
   ]
  },
  {
   "cell_type": "code",
   "execution_count": null,
   "id": "1f2d4dfd",
   "metadata": {},
   "outputs": [],
   "source": [
    "class sampling(object):\n",
    "\n",
    "    def __init__(\n",
    "            self,\n",
    "            high=None,\n",
    "            mid=None,\n",
    "            low=None,\n",
    "            n_samples=30):\n",
    "        self.high = high\n",
    "        self.mid = mid\n",
    "        self.low = low\n",
    "        self.n_samples = n_samples\n",
    "\n",
    "    def undersampling(self, df):\n",
    "        df_high = df[df['target'] == self.high]\n",
    "        df_mid = df[df['target'] == self.mid]\n",
    "        df_low = df[df['target'] == self.low]\n",
    "\n",
    "        # Randomly sample from the majority class\n",
    "        df_high_sampled = df_high.sample(n=self.n_samples, random_state=42)\n",
    "\n",
    "        # Concatenate the sampled majority class with the minority class\n",
    "        df_balanced = pd.concat([df_high_sampled, df_mid, df_low], axis=0)\n",
    "\n",
    "        return df_balanced\n"
   ]
  },
  {
   "cell_type": "code",
   "execution_count": null,
   "id": "8ac2f7f5",
   "metadata": {},
   "outputs": [],
   "source": [
    "class clasification_model:\n",
    "    def __init__(\n",
    "            self, \n",
    "            dataset=None,\n",
    "            column_r=None):\n",
    "        self.dataset = dataset\n",
    "        self.column_r = column_r\n",
    "\n",
    "        self.scores = {\n",
    "            'accuracy': None,\n",
    "            'precision': None,\n",
    "            'recall': None,\n",
    "            'f1_score': None\n",
    "        }\n",
    "\n",
    "        self.model = None\n",
    "\n",
    "    def split(self, val_size=0.2, random_state=42):\n",
    "\n",
    "        train_data, val_data = train_test_split(self.dataset, test_size=val_size, random_state=random_state)\n",
    "\n",
    "        self.X_train = train_data.drop(columns=[self.column_r])\n",
    "        self.y_train = train_data[self.column_r]\n",
    "        self.X_test = val_data.drop(columns=[self.column_r])\n",
    "        self.y_test = val_data[self.column_r]"
   ]
  }
 ],
 "metadata": {
  "language_info": {
   "name": "python"
  }
 },
 "nbformat": 4,
 "nbformat_minor": 5
}
