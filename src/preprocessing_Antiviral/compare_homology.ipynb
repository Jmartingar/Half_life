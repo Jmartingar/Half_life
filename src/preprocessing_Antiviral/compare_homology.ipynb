{
 "cells": [
  {
   "cell_type": "code",
   "execution_count": 58,
   "id": "42291211",
   "metadata": {},
   "outputs": [],
   "source": [
    "import pandas as pd"
   ]
  },
  {
   "cell_type": "code",
   "execution_count": 59,
   "id": "cb4c25c8",
   "metadata": {},
   "outputs": [],
   "source": [
    "df_h=pd.read_csv('../../data/homology/csv_files/high_data_filter.csv')\n",
    "df_m=pd.read_csv('../../data/homology/csv_files/medium_data_filter.csv')\n",
    "df_l=pd.read_csv('../../data/homology/csv_files/low_data_filter.csv')\n",
    "df=pd.read_csv('../../data/not_outliers/notout_antiviral.csv')"
   ]
  },
  {
   "cell_type": "code",
   "execution_count": 60,
   "id": "9caa0c23",
   "metadata": {},
   "outputs": [],
   "source": [
    "name='antiviral_homology_90'"
   ]
  },
  {
   "cell_type": "code",
   "execution_count": 61,
   "id": "dd66e8b7",
   "metadata": {},
   "outputs": [],
   "source": [
    "df_all=pd.concat([df_h, df_m, df_l], axis=0)"
   ]
  },
  {
   "cell_type": "code",
   "execution_count": 62,
   "id": "b82c14c2",
   "metadata": {},
   "outputs": [
    {
     "data": {
      "application/vnd.microsoft.datawrangler.viewer.v0+json": {
       "columns": [
        {
         "name": "index",
         "rawType": "int64",
         "type": "integer"
        },
        {
         "name": "sequence",
         "rawType": "object",
         "type": "string"
        },
        {
         "name": "experimental_characteristics",
         "rawType": "object",
         "type": "string"
        },
        {
         "name": "half_life_seconds",
         "rawType": "float64",
         "type": "float"
        },
        {
         "name": "length_sequence",
         "rawType": "int64",
         "type": "integer"
        },
        {
         "name": "target",
         "rawType": "int64",
         "type": "integer"
        }
       ],
       "conversionMethod": "pd.DataFrame",
       "ref": "bb3e1e7e-a747-4194-b6bd-582aa7942b94",
       "rows": [
        [
         "0",
         "AAAMSQVTN",
         "Mammalian",
         "15840.0",
         "9",
         "1"
        ],
        [
         "1",
         "AACEVAKNLNESLIDLQELGKYEQYIKW",
         "Mammalian",
         "15840.0",
         "28",
         "1"
        ],
        [
         "2",
         "AAGAVVNDL",
         "Mammalian",
         "15840.0",
         "9",
         "1"
        ],
        [
         "3",
         "AAHLIDALYAEFLGGRVLTT",
         "Mammalian",
         "15840.0",
         "20",
         "1"
        ],
        [
         "4",
         "AAHLIDALYAEFLGGRVLTTPVVHRALFYASAVLRQPFLAGVPSA",
         "Mammalian",
         "15840.0",
         "45",
         "1"
        ],
        [
         "5",
         "AAKAWKKAKAWKKAKWWKKAA",
         "Mammalian",
         "15840.0",
         "21",
         "1"
        ],
        [
         "6",
         "AALGDTAWDFGSIGGVFNSIGRAVHQVFGGAFRTL",
         "Mammalian",
         "15840.0",
         "35",
         "1"
        ],
        [
         "7",
         "AAQRRGRIGRNPSQVGD",
         "Mammalian",
         "15840.0",
         "17",
         "1"
        ],
        [
         "8",
         "AAQRRGRVGRNPNQVGD",
         "Mammalian",
         "15840.0",
         "17",
         "1"
        ],
        [
         "9",
         "AAWWAGIKQEF",
         "Mammalian",
         "15840.0",
         "11",
         "1"
        ],
        [
         "10",
         "AAYFLLKLAGRW",
         "Mammalian",
         "15840.0",
         "12",
         "1"
        ],
        [
         "11",
         "ACAWAGIKQEF",
         "Mammalian",
         "15840.0",
         "11",
         "1"
        ],
        [
         "12",
         "ACELKWESEFWRWTEQLA",
         "Mammalian",
         "15840.0",
         "18",
         "1"
        ],
        [
         "13",
         "ACFPWGKEYCGGK",
         "Mammalian",
         "15840.0",
         "13",
         "1"
        ],
        [
         "14",
         "ACWAAGIKQEF",
         "Mammalian",
         "15840.0",
         "11",
         "1"
        ],
        [
         "15",
         "ACWWAAIKQEF",
         "Mammalian",
         "15840.0",
         "11",
         "1"
        ],
        [
         "16",
         "ACWWAGAKQEF",
         "Mammalian",
         "15840.0",
         "11",
         "1"
        ],
        [
         "17",
         "ACWWAGIAQEF",
         "Mammalian",
         "15840.0",
         "11",
         "1"
        ],
        [
         "18",
         "ACWWAGIKAEF",
         "Mammalian",
         "15840.0",
         "11",
         "1"
        ],
        [
         "19",
         "ACWWAGIKQAF",
         "Mammalian",
         "15840.0",
         "11",
         "1"
        ],
        [
         "20",
         "ACWWAGIKQEA",
         "Mammalian",
         "15840.0",
         "11",
         "1"
        ],
        [
         "21",
         "ADLEVVAATFVLVA",
         "Mammalian",
         "15840.0",
         "14",
         "1"
        ],
        [
         "22",
         "ADLEVVAATHVLVA",
         "Mammalian",
         "15840.0",
         "14",
         "1"
        ],
        [
         "23",
         "ADLEVVAATYAAAA",
         "Mammalian",
         "15840.0",
         "14",
         "1"
        ],
        [
         "24",
         "ADLEVVAATYKKKK",
         "Mammalian",
         "15840.0",
         "14",
         "1"
        ],
        [
         "25",
         "ADLEVVAATYV",
         "Mammalian",
         "15840.0",
         "11",
         "1"
        ],
        [
         "26",
         "ADLEVVAATYVDDA",
         "Mammalian",
         "15840.0",
         "14",
         "1"
        ],
        [
         "27",
         "ADLEVVAATYVDDD",
         "Mammalian",
         "15840.0",
         "14",
         "1"
        ],
        [
         "28",
         "ADLEVVAATYVDVA",
         "Mammalian",
         "15840.0",
         "14",
         "1"
        ],
        [
         "29",
         "ADLEVVAATYVDVD",
         "Mammalian",
         "15840.0",
         "14",
         "1"
        ],
        [
         "30",
         "ADLEVVAATYVKKK",
         "Mammalian",
         "15840.0",
         "14",
         "1"
        ],
        [
         "31",
         "ADLEVVAATYVLDA",
         "Mammalian",
         "15840.0",
         "14",
         "1"
        ],
        [
         "32",
         "ADLEVVAATYVLDD",
         "Mammalian",
         "15840.0",
         "14",
         "1"
        ],
        [
         "33",
         "ADLEVVAATYVLVA",
         "Mammalian",
         "15840.0",
         "14",
         "1"
        ],
        [
         "34",
         "ADLEVVAATYVLVD",
         "Mammalian",
         "15840.0",
         "14",
         "1"
        ],
        [
         "35",
         "ADVILMCFSIDSPDSLENI",
         "Mammalian",
         "15840.0",
         "19",
         "1"
        ],
        [
         "36",
         "AEAASQVTNTATIM",
         "Mammalian",
         "15840.0",
         "14",
         "1"
        ],
        [
         "37",
         "AEAIPMSIPPEVKFNKPFVF",
         "Mammalian",
         "15840.0",
         "20",
         "1"
        ],
        [
         "38",
         "AEAMAQVTN",
         "Mammalian",
         "15840.0",
         "9",
         "1"
        ],
        [
         "39",
         "AEAMSQVANTATIM",
         "Mammalian",
         "15840.0",
         "14",
         "1"
        ],
        [
         "40",
         "AEAMSQVTN",
         "Mammalian",
         "15840.0",
         "9",
         "1"
        ],
        [
         "41",
         "AEAMSQVTNTATIM",
         "Mammalian",
         "15840.0",
         "14",
         "1"
        ],
        [
         "42",
         "AEASQVTNTATIM",
         "Mammalian",
         "15840.0",
         "13",
         "1"
        ],
        [
         "43",
         "AECVVSCSMSYTKA",
         "Mammalian",
         "15840.0",
         "14",
         "1"
        ],
        [
         "44",
         "AEDWVRWI",
         "Mammalian",
         "15840.0",
         "8",
         "1"
        ],
        [
         "45",
         "AEPERRNIKYL",
         "Mammalian",
         "15840.0",
         "11",
         "1"
        ],
        [
         "46",
         "AFLGWIGAIVSTALPQWR",
         "Mammalian",
         "15840.0",
         "18",
         "1"
        ],
        [
         "47",
         "AGAGTGATAIGMVTQYHQVL",
         "Mammalian",
         "15840.0",
         "20",
         "1"
        ],
        [
         "48",
         "AGALMFAWLLLGLQGIFN",
         "Mammalian",
         "15840.0",
         "18",
         "1"
        ],
        [
         "49",
         "AGAVVNDL",
         "Mammalian",
         "15840.0",
         "8",
         "1"
        ]
       ],
       "shape": {
        "columns": 5,
        "rows": 1929
       }
      },
      "text/html": [
       "<div>\n",
       "<style scoped>\n",
       "    .dataframe tbody tr th:only-of-type {\n",
       "        vertical-align: middle;\n",
       "    }\n",
       "\n",
       "    .dataframe tbody tr th {\n",
       "        vertical-align: top;\n",
       "    }\n",
       "\n",
       "    .dataframe thead th {\n",
       "        text-align: right;\n",
       "    }\n",
       "</style>\n",
       "<table border=\"1\" class=\"dataframe\">\n",
       "  <thead>\n",
       "    <tr style=\"text-align: right;\">\n",
       "      <th></th>\n",
       "      <th>sequence</th>\n",
       "      <th>experimental_characteristics</th>\n",
       "      <th>half_life_seconds</th>\n",
       "      <th>length_sequence</th>\n",
       "      <th>target</th>\n",
       "    </tr>\n",
       "  </thead>\n",
       "  <tbody>\n",
       "    <tr>\n",
       "      <th>0</th>\n",
       "      <td>AAAMSQVTN</td>\n",
       "      <td>Mammalian</td>\n",
       "      <td>15840.0</td>\n",
       "      <td>9</td>\n",
       "      <td>1</td>\n",
       "    </tr>\n",
       "    <tr>\n",
       "      <th>1</th>\n",
       "      <td>AACEVAKNLNESLIDLQELGKYEQYIKW</td>\n",
       "      <td>Mammalian</td>\n",
       "      <td>15840.0</td>\n",
       "      <td>28</td>\n",
       "      <td>1</td>\n",
       "    </tr>\n",
       "    <tr>\n",
       "      <th>2</th>\n",
       "      <td>AAGAVVNDL</td>\n",
       "      <td>Mammalian</td>\n",
       "      <td>15840.0</td>\n",
       "      <td>9</td>\n",
       "      <td>1</td>\n",
       "    </tr>\n",
       "    <tr>\n",
       "      <th>3</th>\n",
       "      <td>AAHLIDALYAEFLGGRVLTT</td>\n",
       "      <td>Mammalian</td>\n",
       "      <td>15840.0</td>\n",
       "      <td>20</td>\n",
       "      <td>1</td>\n",
       "    </tr>\n",
       "    <tr>\n",
       "      <th>4</th>\n",
       "      <td>AAHLIDALYAEFLGGRVLTTPVVHRALFYASAVLRQPFLAGVPSA</td>\n",
       "      <td>Mammalian</td>\n",
       "      <td>15840.0</td>\n",
       "      <td>45</td>\n",
       "      <td>1</td>\n",
       "    </tr>\n",
       "    <tr>\n",
       "      <th>...</th>\n",
       "      <td>...</td>\n",
       "      <td>...</td>\n",
       "      <td>...</td>\n",
       "      <td>...</td>\n",
       "      <td>...</td>\n",
       "    </tr>\n",
       "    <tr>\n",
       "      <th>1924</th>\n",
       "      <td>YVREHGVPIHADKYFEQVLK</td>\n",
       "      <td>Mammalian</td>\n",
       "      <td>10080.0</td>\n",
       "      <td>20</td>\n",
       "      <td>1</td>\n",
       "    </tr>\n",
       "    <tr>\n",
       "      <th>1925</th>\n",
       "      <td>YWILEYLWKVPFDFWRGV</td>\n",
       "      <td>E_coli</td>\n",
       "      <td>7200.0</td>\n",
       "      <td>18</td>\n",
       "      <td>0</td>\n",
       "    </tr>\n",
       "    <tr>\n",
       "      <th>1926</th>\n",
       "      <td>YWILEYLWKVPFDFWRGV</td>\n",
       "      <td>Mammalian</td>\n",
       "      <td>10080.0</td>\n",
       "      <td>18</td>\n",
       "      <td>1</td>\n",
       "    </tr>\n",
       "    <tr>\n",
       "      <th>1927</th>\n",
       "      <td>YWILEYLWKVPFDFWRGV</td>\n",
       "      <td>Yeast</td>\n",
       "      <td>36000.0</td>\n",
       "      <td>18</td>\n",
       "      <td>2</td>\n",
       "    </tr>\n",
       "    <tr>\n",
       "      <th>1928</th>\n",
       "      <td>YAGAVVNDL</td>\n",
       "      <td>E_coli</td>\n",
       "      <td>7200.0</td>\n",
       "      <td>9</td>\n",
       "      <td>0</td>\n",
       "    </tr>\n",
       "  </tbody>\n",
       "</table>\n",
       "<p>1929 rows × 5 columns</p>\n",
       "</div>"
      ],
      "text/plain": [
       "                                           sequence  \\\n",
       "0                                         AAAMSQVTN   \n",
       "1                      AACEVAKNLNESLIDLQELGKYEQYIKW   \n",
       "2                                         AAGAVVNDL   \n",
       "3                              AAHLIDALYAEFLGGRVLTT   \n",
       "4     AAHLIDALYAEFLGGRVLTTPVVHRALFYASAVLRQPFLAGVPSA   \n",
       "...                                             ...   \n",
       "1924                           YVREHGVPIHADKYFEQVLK   \n",
       "1925                             YWILEYLWKVPFDFWRGV   \n",
       "1926                             YWILEYLWKVPFDFWRGV   \n",
       "1927                             YWILEYLWKVPFDFWRGV   \n",
       "1928                                      YAGAVVNDL   \n",
       "\n",
       "     experimental_characteristics  half_life_seconds  length_sequence  target  \n",
       "0                       Mammalian            15840.0                9       1  \n",
       "1                       Mammalian            15840.0               28       1  \n",
       "2                       Mammalian            15840.0                9       1  \n",
       "3                       Mammalian            15840.0               20       1  \n",
       "4                       Mammalian            15840.0               45       1  \n",
       "...                           ...                ...              ...     ...  \n",
       "1924                    Mammalian            10080.0               20       1  \n",
       "1925                       E_coli             7200.0               18       0  \n",
       "1926                    Mammalian            10080.0               18       1  \n",
       "1927                        Yeast            36000.0               18       2  \n",
       "1928                       E_coli             7200.0                9       0  \n",
       "\n",
       "[1929 rows x 5 columns]"
      ]
     },
     "execution_count": 62,
     "metadata": {},
     "output_type": "execute_result"
    }
   ],
   "source": [
    "df"
   ]
  },
  {
   "cell_type": "code",
   "execution_count": 63,
   "id": "31c6bf2c",
   "metadata": {},
   "outputs": [
    {
     "data": {
      "application/vnd.microsoft.datawrangler.viewer.v0+json": {
       "columns": [
        {
         "name": "index",
         "rawType": "int64",
         "type": "integer"
        },
        {
         "name": "sequence",
         "rawType": "object",
         "type": "string"
        }
       ],
       "conversionMethod": "pd.DataFrame",
       "ref": "9e52c6c4-902a-46ab-9825-50478ef23bfd",
       "rows": [
        [
         "0",
         "HFPRIWLHSLGQHIY"
        ],
        [
         "1",
         "HGNITLGEWYNQTKDLQQKF"
        ],
        [
         "2",
         "HGQNRWPLSCPQYVYGSV"
        ],
        [
         "3",
         "HGVHG"
        ],
        [
         "4",
         "HGVSGHGQHG"
        ],
        [
         "5",
         "HKILGYTVIAMPEVEGEEIQ"
        ],
        [
         "6",
         "HRALMRIRQMMT"
        ],
        [
         "7",
         "HRIAMRIRQMMT"
        ],
        [
         "8",
         "HRILARIRQMMT"
        ],
        [
         "9",
         "HRILMRARQMMT"
        ],
        [
         "10",
         "HRILMRIAQMMT"
        ],
        [
         "11",
         "HRILMRIRAMMT"
        ],
        [
         "12",
         "HRILMRIRQAMT"
        ],
        [
         "13",
         "HRILMRIRQMAT"
        ],
        [
         "14",
         "HRILMRIRQMMA"
        ],
        [
         "15",
         "HRRYFTFGGGYVYF"
        ],
        [
         "16",
         "HSLIEESQNQQEKNEQELLELDKWASLWNWFNITNW"
        ],
        [
         "17",
         "HTGERDWHLGQGVSI"
        ],
        [
         "18",
         "HVDKKVADKVLLLKQLRIMRLLTRL"
        ],
        [
         "19",
         "HVMLALATVLSIAGAGTGATAI"
        ],
        [
         "20",
         "IAEIQKQGQGQWTYQIYQEP"
        ],
        [
         "21",
         "IEVTFVNRRGDGAELWYLSA"
        ],
        [
         "22",
         "IGLKVEAMEKFLYTAFAMQE"
        ],
        [
         "23",
         "IGNIPQYLKGLLGGILGIGL"
        ],
        [
         "24",
         "IGVTVI"
        ],
        [
         "25",
         "IGVTVIKNNMI"
        ],
        [
         "26",
         "IHAEIKNSLKIDNLDVNRCIEAL"
        ],
        [
         "27",
         "IKKEKVYLAWVPAHKGIGN"
        ],
        [
         "28",
         "IKWEYVLLLFLL"
        ],
        [
         "29",
         "ILEYLWKVPFDFWRGVIS"
        ],
        [
         "30",
         "ILGPVLGLVSDTLDDVLGIL"
        ],
        [
         "31",
         "ILGPVLGLVSRTLRRVLGIL"
        ],
        [
         "32",
         "ILMCFS"
        ],
        [
         "33",
         "INLKAIAALAKKLL"
        ],
        [
         "34",
         "IPLRGAFINGRWDSQCHRFS"
        ],
        [
         "35",
         "IQAQPDQSESELVNQIIEQL"
        ],
        [
         "36",
         "IRILQQLLFIHFRIG"
        ],
        [
         "37",
         "ISLTPLLVCVAALLLLEQ"
        ],
        [
         "38",
         "IWLTALKFLGKHAAKHLAKQQLSKL"
        ],
        [
         "39",
         "LAAIPMSIPPEVKFNKPFVF"
        ],
        [
         "40",
         "LAQMYPL"
        ],
        [
         "41",
         "LASNYWILEYLWKVPFDF"
        ],
        [
         "42",
         "LCDCPNGPWVWVPAFCQAVG"
        ],
        [
         "43",
         "LCLRNWDQGHRP"
        ],
        [
         "44",
         "LDLEYEMKKLEEAIKKLEESYIDLKELGTYEYYVKW"
        ],
        [
         "45",
         "LDLSDEMAMLLQEVVKQLNDSYIDLKELGNYTYYNKW"
        ],
        [
         "46",
         "LEAAPMSIPPEVKFNKPFVF"
        ],
        [
         "47",
         "LEAIAMSIPPEVKFNKPFVF"
        ],
        [
         "48",
         "LEAIPASIPPEVKFNKPFVF"
        ],
        [
         "49",
         "LEAIPMSAPPEVKFNKPFVF"
        ]
       ],
       "shape": {
        "columns": 1,
        "rows": 1025
       }
      },
      "text/html": [
       "<div>\n",
       "<style scoped>\n",
       "    .dataframe tbody tr th:only-of-type {\n",
       "        vertical-align: middle;\n",
       "    }\n",
       "\n",
       "    .dataframe tbody tr th {\n",
       "        vertical-align: top;\n",
       "    }\n",
       "\n",
       "    .dataframe thead th {\n",
       "        text-align: right;\n",
       "    }\n",
       "</style>\n",
       "<table border=\"1\" class=\"dataframe\">\n",
       "  <thead>\n",
       "    <tr style=\"text-align: right;\">\n",
       "      <th></th>\n",
       "      <th>sequence</th>\n",
       "    </tr>\n",
       "  </thead>\n",
       "  <tbody>\n",
       "    <tr>\n",
       "      <th>0</th>\n",
       "      <td>HFPRIWLHSLGQHIY</td>\n",
       "    </tr>\n",
       "    <tr>\n",
       "      <th>1</th>\n",
       "      <td>HGNITLGEWYNQTKDLQQKF</td>\n",
       "    </tr>\n",
       "    <tr>\n",
       "      <th>2</th>\n",
       "      <td>HGQNRWPLSCPQYVYGSV</td>\n",
       "    </tr>\n",
       "    <tr>\n",
       "      <th>3</th>\n",
       "      <td>HGVHG</td>\n",
       "    </tr>\n",
       "    <tr>\n",
       "      <th>4</th>\n",
       "      <td>HGVSGHGQHG</td>\n",
       "    </tr>\n",
       "    <tr>\n",
       "      <th>...</th>\n",
       "      <td>...</td>\n",
       "    </tr>\n",
       "    <tr>\n",
       "      <th>433</th>\n",
       "      <td>YQVVKQPDYLLVPEEVMEYK</td>\n",
       "    </tr>\n",
       "    <tr>\n",
       "      <th>434</th>\n",
       "      <td>YRWWRWARRWYRWWRWARRW</td>\n",
       "    </tr>\n",
       "    <tr>\n",
       "      <th>435</th>\n",
       "      <td>YTMLVVDDL</td>\n",
       "    </tr>\n",
       "    <tr>\n",
       "      <th>436</th>\n",
       "      <td>YTSLIHSLIEEAQNQQEKNEQELLELDKWASLWNWF</td>\n",
       "    </tr>\n",
       "    <tr>\n",
       "      <th>437</th>\n",
       "      <td>YVREHGVPIHADKYFEQVLK</td>\n",
       "    </tr>\n",
       "  </tbody>\n",
       "</table>\n",
       "<p>1025 rows × 1 columns</p>\n",
       "</div>"
      ],
      "text/plain": [
       "                                 sequence\n",
       "0                         HFPRIWLHSLGQHIY\n",
       "1                    HGNITLGEWYNQTKDLQQKF\n",
       "2                      HGQNRWPLSCPQYVYGSV\n",
       "3                                   HGVHG\n",
       "4                              HGVSGHGQHG\n",
       "..                                    ...\n",
       "433                  YQVVKQPDYLLVPEEVMEYK\n",
       "434                  YRWWRWARRWYRWWRWARRW\n",
       "435                             YTMLVVDDL\n",
       "436  YTSLIHSLIEEAQNQQEKNEQELLELDKWASLWNWF\n",
       "437                  YVREHGVPIHADKYFEQVLK\n",
       "\n",
       "[1025 rows x 1 columns]"
      ]
     },
     "execution_count": 63,
     "metadata": {},
     "output_type": "execute_result"
    }
   ],
   "source": [
    "concat=pd.concat([df_h, df_m, df_l], axis=0)\n",
    "concat"
   ]
  },
  {
   "cell_type": "code",
   "execution_count": 64,
   "id": "61f0d514",
   "metadata": {},
   "outputs": [
    {
     "data": {
      "text/plain": [
       "(623,)"
      ]
     },
     "execution_count": 64,
     "metadata": {},
     "output_type": "execute_result"
    }
   ],
   "source": [
    "concat['sequence'].unique().shape"
   ]
  },
  {
   "cell_type": "code",
   "execution_count": 65,
   "id": "07b31e1f",
   "metadata": {},
   "outputs": [
    {
     "data": {
      "application/vnd.microsoft.datawrangler.viewer.v0+json": {
       "columns": [
        {
         "name": "index",
         "rawType": "int64",
         "type": "integer"
        },
        {
         "name": "sequence",
         "rawType": "object",
         "type": "string"
        },
        {
         "name": "experimental_characteristics",
         "rawType": "object",
         "type": "string"
        },
        {
         "name": "half_life_seconds",
         "rawType": "float64",
         "type": "float"
        },
        {
         "name": "length_sequence",
         "rawType": "int64",
         "type": "integer"
        },
        {
         "name": "target",
         "rawType": "int64",
         "type": "integer"
        }
       ],
       "conversionMethod": "pd.DataFrame",
       "ref": "f337fae4-38cd-4cd6-82dd-c888a25cfd46",
       "rows": [
        [
         "0",
         "AAAMSQVTN",
         "Mammalian",
         "15840.0",
         "9",
         "1"
        ],
        [
         "1",
         "AACEVAKNLNESLIDLQELGKYEQYIKW",
         "Mammalian",
         "15840.0",
         "28",
         "1"
        ],
        [
         "2",
         "AAGAVVNDL",
         "Mammalian",
         "15840.0",
         "9",
         "1"
        ],
        [
         "4",
         "AAHLIDALYAEFLGGRVLTTPVVHRALFYASAVLRQPFLAGVPSA",
         "Mammalian",
         "15840.0",
         "45",
         "1"
        ],
        [
         "5",
         "AAKAWKKAKAWKKAKWWKKAA",
         "Mammalian",
         "15840.0",
         "21",
         "1"
        ],
        [
         "6",
         "AALGDTAWDFGSIGGVFNSIGRAVHQVFGGAFRTL",
         "Mammalian",
         "15840.0",
         "35",
         "1"
        ],
        [
         "7",
         "AAQRRGRIGRNPSQVGD",
         "Mammalian",
         "15840.0",
         "17",
         "1"
        ],
        [
         "8",
         "AAQRRGRVGRNPNQVGD",
         "Mammalian",
         "15840.0",
         "17",
         "1"
        ],
        [
         "9",
         "AAWWAGIKQEF",
         "Mammalian",
         "15840.0",
         "11",
         "1"
        ],
        [
         "10",
         "AAYFLLKLAGRW",
         "Mammalian",
         "15840.0",
         "12",
         "1"
        ],
        [
         "11",
         "ACAWAGIKQEF",
         "Mammalian",
         "15840.0",
         "11",
         "1"
        ],
        [
         "12",
         "ACELKWESEFWRWTEQLA",
         "Mammalian",
         "15840.0",
         "18",
         "1"
        ],
        [
         "13",
         "ACFPWGKEYCGGK",
         "Mammalian",
         "15840.0",
         "13",
         "1"
        ],
        [
         "14",
         "ACWAAGIKQEF",
         "Mammalian",
         "15840.0",
         "11",
         "1"
        ],
        [
         "15",
         "ACWWAAIKQEF",
         "Mammalian",
         "15840.0",
         "11",
         "1"
        ],
        [
         "16",
         "ACWWAGAKQEF",
         "Mammalian",
         "15840.0",
         "11",
         "1"
        ],
        [
         "17",
         "ACWWAGIAQEF",
         "Mammalian",
         "15840.0",
         "11",
         "1"
        ],
        [
         "18",
         "ACWWAGIKAEF",
         "Mammalian",
         "15840.0",
         "11",
         "1"
        ],
        [
         "19",
         "ACWWAGIKQAF",
         "Mammalian",
         "15840.0",
         "11",
         "1"
        ],
        [
         "20",
         "ACWWAGIKQEA",
         "Mammalian",
         "15840.0",
         "11",
         "1"
        ],
        [
         "21",
         "ADLEVVAATFVLVA",
         "Mammalian",
         "15840.0",
         "14",
         "1"
        ],
        [
         "23",
         "ADLEVVAATYAAAA",
         "Mammalian",
         "15840.0",
         "14",
         "1"
        ],
        [
         "24",
         "ADLEVVAATYKKKK",
         "Mammalian",
         "15840.0",
         "14",
         "1"
        ],
        [
         "26",
         "ADLEVVAATYVDDA",
         "Mammalian",
         "15840.0",
         "14",
         "1"
        ],
        [
         "29",
         "ADLEVVAATYVDVD",
         "Mammalian",
         "15840.0",
         "14",
         "1"
        ],
        [
         "35",
         "ADVILMCFSIDSPDSLENI",
         "Mammalian",
         "15840.0",
         "19",
         "1"
        ],
        [
         "36",
         "AEAASQVTNTATIM",
         "Mammalian",
         "15840.0",
         "14",
         "1"
        ],
        [
         "37",
         "AEAIPMSIPPEVKFNKPFVF",
         "Mammalian",
         "15840.0",
         "20",
         "1"
        ],
        [
         "38",
         "AEAMAQVTN",
         "Mammalian",
         "15840.0",
         "9",
         "1"
        ],
        [
         "39",
         "AEAMSQVANTATIM",
         "Mammalian",
         "15840.0",
         "14",
         "1"
        ],
        [
         "40",
         "AEAMSQVTN",
         "Mammalian",
         "15840.0",
         "9",
         "1"
        ],
        [
         "43",
         "AECVVSCSMSYTKA",
         "Mammalian",
         "15840.0",
         "14",
         "1"
        ],
        [
         "44",
         "AEDWVRWI",
         "Mammalian",
         "15840.0",
         "8",
         "1"
        ],
        [
         "45",
         "AEPERRNIKYL",
         "Mammalian",
         "15840.0",
         "11",
         "1"
        ],
        [
         "46",
         "AFLGWIGAIVSTALPQWR",
         "Mammalian",
         "15840.0",
         "18",
         "1"
        ],
        [
         "47",
         "AGAGTGATAIGMVTQYHQVL",
         "Mammalian",
         "15840.0",
         "20",
         "1"
        ],
        [
         "48",
         "AGALMFAWLLLGLQGIFN",
         "Mammalian",
         "15840.0",
         "18",
         "1"
        ],
        [
         "50",
         "AGDDQGLDKCVPNSKEK",
         "Mammalian",
         "15840.0",
         "17",
         "1"
        ],
        [
         "51",
         "AGHNKVGSLQYLALA",
         "Mammalian",
         "15840.0",
         "15",
         "1"
        ],
        [
         "52",
         "AGVKDGKLDF",
         "Mammalian",
         "15840.0",
         "10",
         "1"
        ],
        [
         "53",
         "AGVSGHGQHGVHG",
         "Mammalian",
         "15840.0",
         "13",
         "1"
        ],
        [
         "54",
         "AIGWGDPITHWSHGQNRW",
         "Mammalian",
         "15840.0",
         "18",
         "1"
        ],
        [
         "56",
         "AKDLEVVCSTYVLVEA",
         "Mammalian",
         "15840.0",
         "16",
         "1"
        ],
        [
         "58",
         "AKKAAKKAKKAAKKAKKAAKK",
         "Mammalian",
         "15840.0",
         "21",
         "1"
        ],
        [
         "61",
         "AKKAKKKAKKAAKKIKKKAKK",
         "Mammalian",
         "15840.0",
         "21",
         "1"
        ],
        [
         "63",
         "AKLKVVAATYVLKK",
         "Mammalian",
         "15840.0",
         "14",
         "1"
        ],
        [
         "64",
         "AKTIRLESEVTAIKNALKKTNEAVSTLGNGVRVLATAVRELKDFVSKN",
         "Mammalian",
         "15840.0",
         "48",
         "1"
        ],
        [
         "65",
         "AKVNGQSGRMEFFWTILK",
         "Mammalian",
         "15840.0",
         "18",
         "1"
        ],
        [
         "66",
         "AKVTMTCSAS",
         "Mammalian",
         "15840.0",
         "10",
         "1"
        ],
        [
         "67",
         "ALAALITPKKIKPPL",
         "Mammalian",
         "15840.0",
         "15",
         "1"
        ]
       ],
       "shape": {
        "columns": 5,
        "rows": 1313
       }
      },
      "text/html": [
       "<div>\n",
       "<style scoped>\n",
       "    .dataframe tbody tr th:only-of-type {\n",
       "        vertical-align: middle;\n",
       "    }\n",
       "\n",
       "    .dataframe tbody tr th {\n",
       "        vertical-align: top;\n",
       "    }\n",
       "\n",
       "    .dataframe thead th {\n",
       "        text-align: right;\n",
       "    }\n",
       "</style>\n",
       "<table border=\"1\" class=\"dataframe\">\n",
       "  <thead>\n",
       "    <tr style=\"text-align: right;\">\n",
       "      <th></th>\n",
       "      <th>sequence</th>\n",
       "      <th>experimental_characteristics</th>\n",
       "      <th>half_life_seconds</th>\n",
       "      <th>length_sequence</th>\n",
       "      <th>target</th>\n",
       "    </tr>\n",
       "  </thead>\n",
       "  <tbody>\n",
       "    <tr>\n",
       "      <th>0</th>\n",
       "      <td>AAAMSQVTN</td>\n",
       "      <td>Mammalian</td>\n",
       "      <td>15840.0</td>\n",
       "      <td>9</td>\n",
       "      <td>1</td>\n",
       "    </tr>\n",
       "    <tr>\n",
       "      <th>1</th>\n",
       "      <td>AACEVAKNLNESLIDLQELGKYEQYIKW</td>\n",
       "      <td>Mammalian</td>\n",
       "      <td>15840.0</td>\n",
       "      <td>28</td>\n",
       "      <td>1</td>\n",
       "    </tr>\n",
       "    <tr>\n",
       "      <th>2</th>\n",
       "      <td>AAGAVVNDL</td>\n",
       "      <td>Mammalian</td>\n",
       "      <td>15840.0</td>\n",
       "      <td>9</td>\n",
       "      <td>1</td>\n",
       "    </tr>\n",
       "    <tr>\n",
       "      <th>4</th>\n",
       "      <td>AAHLIDALYAEFLGGRVLTTPVVHRALFYASAVLRQPFLAGVPSA</td>\n",
       "      <td>Mammalian</td>\n",
       "      <td>15840.0</td>\n",
       "      <td>45</td>\n",
       "      <td>1</td>\n",
       "    </tr>\n",
       "    <tr>\n",
       "      <th>5</th>\n",
       "      <td>AAKAWKKAKAWKKAKWWKKAA</td>\n",
       "      <td>Mammalian</td>\n",
       "      <td>15840.0</td>\n",
       "      <td>21</td>\n",
       "      <td>1</td>\n",
       "    </tr>\n",
       "    <tr>\n",
       "      <th>...</th>\n",
       "      <td>...</td>\n",
       "      <td>...</td>\n",
       "      <td>...</td>\n",
       "      <td>...</td>\n",
       "      <td>...</td>\n",
       "    </tr>\n",
       "    <tr>\n",
       "      <th>1924</th>\n",
       "      <td>YVREHGVPIHADKYFEQVLK</td>\n",
       "      <td>Mammalian</td>\n",
       "      <td>10080.0</td>\n",
       "      <td>20</td>\n",
       "      <td>1</td>\n",
       "    </tr>\n",
       "    <tr>\n",
       "      <th>1925</th>\n",
       "      <td>YWILEYLWKVPFDFWRGV</td>\n",
       "      <td>E_coli</td>\n",
       "      <td>7200.0</td>\n",
       "      <td>18</td>\n",
       "      <td>0</td>\n",
       "    </tr>\n",
       "    <tr>\n",
       "      <th>1926</th>\n",
       "      <td>YWILEYLWKVPFDFWRGV</td>\n",
       "      <td>Mammalian</td>\n",
       "      <td>10080.0</td>\n",
       "      <td>18</td>\n",
       "      <td>1</td>\n",
       "    </tr>\n",
       "    <tr>\n",
       "      <th>1927</th>\n",
       "      <td>YWILEYLWKVPFDFWRGV</td>\n",
       "      <td>Yeast</td>\n",
       "      <td>36000.0</td>\n",
       "      <td>18</td>\n",
       "      <td>2</td>\n",
       "    </tr>\n",
       "    <tr>\n",
       "      <th>1928</th>\n",
       "      <td>YAGAVVNDL</td>\n",
       "      <td>E_coli</td>\n",
       "      <td>7200.0</td>\n",
       "      <td>9</td>\n",
       "      <td>0</td>\n",
       "    </tr>\n",
       "  </tbody>\n",
       "</table>\n",
       "<p>1313 rows × 5 columns</p>\n",
       "</div>"
      ],
      "text/plain": [
       "                                           sequence  \\\n",
       "0                                         AAAMSQVTN   \n",
       "1                      AACEVAKNLNESLIDLQELGKYEQYIKW   \n",
       "2                                         AAGAVVNDL   \n",
       "4     AAHLIDALYAEFLGGRVLTTPVVHRALFYASAVLRQPFLAGVPSA   \n",
       "5                             AAKAWKKAKAWKKAKWWKKAA   \n",
       "...                                             ...   \n",
       "1924                           YVREHGVPIHADKYFEQVLK   \n",
       "1925                             YWILEYLWKVPFDFWRGV   \n",
       "1926                             YWILEYLWKVPFDFWRGV   \n",
       "1927                             YWILEYLWKVPFDFWRGV   \n",
       "1928                                      YAGAVVNDL   \n",
       "\n",
       "     experimental_characteristics  half_life_seconds  length_sequence  target  \n",
       "0                       Mammalian            15840.0                9       1  \n",
       "1                       Mammalian            15840.0               28       1  \n",
       "2                       Mammalian            15840.0                9       1  \n",
       "4                       Mammalian            15840.0               45       1  \n",
       "5                       Mammalian            15840.0               21       1  \n",
       "...                           ...                ...              ...     ...  \n",
       "1924                    Mammalian            10080.0               20       1  \n",
       "1925                       E_coli             7200.0               18       0  \n",
       "1926                    Mammalian            10080.0               18       1  \n",
       "1927                        Yeast            36000.0               18       2  \n",
       "1928                       E_coli             7200.0                9       0  \n",
       "\n",
       "[1313 rows x 5 columns]"
      ]
     },
     "execution_count": 65,
     "metadata": {},
     "output_type": "execute_result"
    }
   ],
   "source": [
    "filtered_df = df[df['sequence'].isin(df_all['sequence'])]\n",
    "filtered_df"
   ]
  },
  {
   "cell_type": "code",
   "execution_count": 66,
   "id": "ea01f744",
   "metadata": {},
   "outputs": [
    {
     "data": {
      "text/plain": [
       "target\n",
       "0    678\n",
       "1    437\n",
       "2    198\n",
       "Name: count, dtype: int64"
      ]
     },
     "execution_count": 66,
     "metadata": {},
     "output_type": "execute_result"
    }
   ],
   "source": [
    "filtered_df.value_counts('target')"
   ]
  },
  {
   "cell_type": "code",
   "execution_count": 67,
   "id": "fe5463a0",
   "metadata": {},
   "outputs": [],
   "source": [
    "#filtered_df.to_csv(\"../data/all/antiviral_filtered.csv\", index=False)\n",
    "#filtered_df=filtered_df.filter(items=['sequence', 'experimental_characteristics', 'target'])\n",
    "filtered_df.to_csv(f\"../../data/{name}.csv\", index=False)"
   ]
  }
 ],
 "metadata": {
  "kernelspec": {
   "display_name": "ML_Class",
   "language": "python",
   "name": "python3"
  },
  "language_info": {
   "codemirror_mode": {
    "name": "ipython",
    "version": 3
   },
   "file_extension": ".py",
   "mimetype": "text/x-python",
   "name": "python",
   "nbconvert_exporter": "python",
   "pygments_lexer": "ipython3",
   "version": "3.9.20"
  }
 },
 "nbformat": 4,
 "nbformat_minor": 5
}
