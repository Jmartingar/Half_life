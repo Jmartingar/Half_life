{
 "cells": [
  {
   "cell_type": "code",
   "execution_count": 261,
   "metadata": {},
   "outputs": [],
   "source": [
    "import pandas as pd\n",
    "import matplotlib.pyplot as plt\n",
    "import seaborn as sns\n",
    "import numpy as np"
   ]
  },
  {
   "cell_type": "code",
   "execution_count": 262,
   "metadata": {},
   "outputs": [],
   "source": [
    "df = pd.read_csv('../../data/canon/Antiviral_canon.csv')"
   ]
  },
  {
   "cell_type": "code",
   "execution_count": 263,
   "metadata": {},
   "outputs": [
    {
     "data": {
      "application/vnd.microsoft.datawrangler.viewer.v0+json": {
       "columns": [
        {
         "name": "index",
         "rawType": "int64",
         "type": "integer"
        },
        {
         "name": "sequence",
         "rawType": "object",
         "type": "string"
        },
        {
         "name": "experimental_characteristics",
         "rawType": "object",
         "type": "string"
        },
        {
         "name": "half_life_seconds",
         "rawType": "float64",
         "type": "float"
        },
        {
         "name": "length_sequence",
         "rawType": "int64",
         "type": "integer"
        },
        {
         "name": "hl_category",
         "rawType": "object",
         "type": "string"
        }
       ],
       "conversionMethod": "pd.DataFrame",
       "ref": "53405eb4-48bc-4141-b389-7e1ef1869fc5",
       "rows": [
        [
         "0",
         "AAAMSQVTN",
         "Mammalian",
         "15840.0",
         "9",
         "Medium"
        ],
        [
         "1",
         "AACEVAKNLNESLIDLQELGKYEQYIKW",
         "Mammalian",
         "15840.0",
         "28",
         "Medium"
        ],
        [
         "2",
         "AAGAVVNDL",
         "Mammalian",
         "15840.0",
         "9",
         "Medium"
        ],
        [
         "3",
         "AAHLIDALYAEFLGGRVLTT",
         "Mammalian",
         "15840.0",
         "20",
         "Medium"
        ],
        [
         "4",
         "AAHLIDALYAEFLGGRVLTTPVVHRALFYASAVLRQPFLAGVPSA",
         "Mammalian",
         "15840.0",
         "45",
         "Medium"
        ],
        [
         "5",
         "AAKAWKKAKAWKKAKWWKKAA",
         "Mammalian",
         "15840.0",
         "21",
         "Medium"
        ],
        [
         "6",
         "AALGDTAWDFGSIGGVFNSIGRAVHQVFGGAFRTL",
         "Mammalian",
         "15840.0",
         "35",
         "Medium"
        ],
        [
         "7",
         "AAQRRGRIGRNPSQVGD",
         "Mammalian",
         "15840.0",
         "17",
         "Medium"
        ],
        [
         "8",
         "AAQRRGRVGRNPNQVGD",
         "Mammalian",
         "15840.0",
         "17",
         "Medium"
        ],
        [
         "9",
         "AAWWAGIKQEF",
         "Mammalian",
         "15840.0",
         "11",
         "Medium"
        ],
        [
         "10",
         "AAYFLLKLAGRW",
         "Mammalian",
         "15840.0",
         "12",
         "Medium"
        ],
        [
         "11",
         "ACAWAGIKQEF",
         "Mammalian",
         "15840.0",
         "11",
         "Medium"
        ],
        [
         "12",
         "ACELKWESEFWRWTEQLA",
         "Mammalian",
         "15840.0",
         "18",
         "Medium"
        ],
        [
         "13",
         "ACFPWGKEYCGGK",
         "Mammalian",
         "15840.0",
         "13",
         "Medium"
        ],
        [
         "14",
         "ACWAAGIKQEF",
         "Mammalian",
         "15840.0",
         "11",
         "Medium"
        ],
        [
         "15",
         "ACWWAAIKQEF",
         "Mammalian",
         "15840.0",
         "11",
         "Medium"
        ],
        [
         "16",
         "ACWWAGAKQEF",
         "Mammalian",
         "15840.0",
         "11",
         "Medium"
        ],
        [
         "17",
         "ACWWAGIAQEF",
         "Mammalian",
         "15840.0",
         "11",
         "Medium"
        ],
        [
         "18",
         "ACWWAGIKAEF",
         "Mammalian",
         "15840.0",
         "11",
         "Medium"
        ],
        [
         "19",
         "ACWWAGIKQAF",
         "Mammalian",
         "15840.0",
         "11",
         "Medium"
        ],
        [
         "20",
         "ACWWAGIKQEA",
         "Mammalian",
         "15840.0",
         "11",
         "Medium"
        ],
        [
         "21",
         "ADLEVVAATFVLVA",
         "Mammalian",
         "15840.0",
         "14",
         "Medium"
        ],
        [
         "22",
         "ADLEVVAATHVLVA",
         "Mammalian",
         "15840.0",
         "14",
         "Medium"
        ],
        [
         "23",
         "ADLEVVAATYAAAA",
         "Mammalian",
         "15840.0",
         "14",
         "Medium"
        ],
        [
         "24",
         "ADLEVVAATYKKKK",
         "Mammalian",
         "15840.0",
         "14",
         "Medium"
        ],
        [
         "25",
         "ADLEVVAATYV",
         "Mammalian",
         "15840.0",
         "11",
         "Medium"
        ],
        [
         "26",
         "ADLEVVAATYVDDA",
         "Mammalian",
         "15840.0",
         "14",
         "Medium"
        ],
        [
         "27",
         "ADLEVVAATYVDDD",
         "Mammalian",
         "15840.0",
         "14",
         "Medium"
        ],
        [
         "28",
         "ADLEVVAATYVDVA",
         "Mammalian",
         "15840.0",
         "14",
         "Medium"
        ],
        [
         "29",
         "ADLEVVAATYVDVD",
         "Mammalian",
         "15840.0",
         "14",
         "Medium"
        ],
        [
         "30",
         "ADLEVVAATYVKKK",
         "Mammalian",
         "15840.0",
         "14",
         "Medium"
        ],
        [
         "31",
         "ADLEVVAATYVLDA",
         "Mammalian",
         "15840.0",
         "14",
         "Medium"
        ],
        [
         "32",
         "ADLEVVAATYVLDD",
         "Mammalian",
         "15840.0",
         "14",
         "Medium"
        ],
        [
         "33",
         "ADLEVVAATYVLVA",
         "Mammalian",
         "15840.0",
         "14",
         "Medium"
        ],
        [
         "34",
         "ADLEVVAATYVLVD",
         "Mammalian",
         "15840.0",
         "14",
         "Medium"
        ],
        [
         "35",
         "ADVILMCFSIDSPDSLENI",
         "Mammalian",
         "15840.0",
         "19",
         "Medium"
        ],
        [
         "36",
         "AEAASQVTNTATIM",
         "Mammalian",
         "15840.0",
         "14",
         "Medium"
        ],
        [
         "37",
         "AEAIPMSIPPEVKFNKPFVF",
         "Mammalian",
         "15840.0",
         "20",
         "Medium"
        ],
        [
         "38",
         "AEAMAQVTN",
         "Mammalian",
         "15840.0",
         "9",
         "Medium"
        ],
        [
         "39",
         "AEAMSQVANTATIM",
         "Mammalian",
         "15840.0",
         "14",
         "Medium"
        ],
        [
         "40",
         "AEAMSQVTN",
         "Mammalian",
         "15840.0",
         "9",
         "Medium"
        ],
        [
         "41",
         "AEAMSQVTNTATIM",
         "Mammalian",
         "15840.0",
         "14",
         "Medium"
        ],
        [
         "42",
         "AEASQVTNTATIM",
         "Mammalian",
         "15840.0",
         "13",
         "Medium"
        ],
        [
         "43",
         "AECVVSCSMSYTKA",
         "Mammalian",
         "15840.0",
         "14",
         "Medium"
        ],
        [
         "44",
         "AEDWVRWI",
         "Mammalian",
         "15840.0",
         "8",
         "Medium"
        ],
        [
         "45",
         "AEPERRNIKYL",
         "Mammalian",
         "15840.0",
         "11",
         "Medium"
        ],
        [
         "46",
         "AFLGWIGAIVSTALPQWR",
         "Mammalian",
         "15840.0",
         "18",
         "Medium"
        ],
        [
         "47",
         "AGAGTGATAIGMVTQYHQVL",
         "Mammalian",
         "15840.0",
         "20",
         "Medium"
        ],
        [
         "48",
         "AGALMFAWLLLGLQGIFN",
         "Mammalian",
         "15840.0",
         "18",
         "Medium"
        ],
        [
         "49",
         "AGAVVNDL",
         "Mammalian",
         "15840.0",
         "8",
         "Medium"
        ]
       ],
       "shape": {
        "columns": 5,
        "rows": 2181
       }
      },
      "text/html": [
       "<div>\n",
       "<style scoped>\n",
       "    .dataframe tbody tr th:only-of-type {\n",
       "        vertical-align: middle;\n",
       "    }\n",
       "\n",
       "    .dataframe tbody tr th {\n",
       "        vertical-align: top;\n",
       "    }\n",
       "\n",
       "    .dataframe thead th {\n",
       "        text-align: right;\n",
       "    }\n",
       "</style>\n",
       "<table border=\"1\" class=\"dataframe\">\n",
       "  <thead>\n",
       "    <tr style=\"text-align: right;\">\n",
       "      <th></th>\n",
       "      <th>sequence</th>\n",
       "      <th>experimental_characteristics</th>\n",
       "      <th>half_life_seconds</th>\n",
       "      <th>length_sequence</th>\n",
       "      <th>hl_category</th>\n",
       "    </tr>\n",
       "  </thead>\n",
       "  <tbody>\n",
       "    <tr>\n",
       "      <th>0</th>\n",
       "      <td>AAAMSQVTN</td>\n",
       "      <td>Mammalian</td>\n",
       "      <td>15840.0</td>\n",
       "      <td>9</td>\n",
       "      <td>Medium</td>\n",
       "    </tr>\n",
       "    <tr>\n",
       "      <th>1</th>\n",
       "      <td>AACEVAKNLNESLIDLQELGKYEQYIKW</td>\n",
       "      <td>Mammalian</td>\n",
       "      <td>15840.0</td>\n",
       "      <td>28</td>\n",
       "      <td>Medium</td>\n",
       "    </tr>\n",
       "    <tr>\n",
       "      <th>2</th>\n",
       "      <td>AAGAVVNDL</td>\n",
       "      <td>Mammalian</td>\n",
       "      <td>15840.0</td>\n",
       "      <td>9</td>\n",
       "      <td>Medium</td>\n",
       "    </tr>\n",
       "    <tr>\n",
       "      <th>3</th>\n",
       "      <td>AAHLIDALYAEFLGGRVLTT</td>\n",
       "      <td>Mammalian</td>\n",
       "      <td>15840.0</td>\n",
       "      <td>20</td>\n",
       "      <td>Medium</td>\n",
       "    </tr>\n",
       "    <tr>\n",
       "      <th>4</th>\n",
       "      <td>AAHLIDALYAEFLGGRVLTTPVVHRALFYASAVLRQPFLAGVPSA</td>\n",
       "      <td>Mammalian</td>\n",
       "      <td>15840.0</td>\n",
       "      <td>45</td>\n",
       "      <td>Medium</td>\n",
       "    </tr>\n",
       "    <tr>\n",
       "      <th>...</th>\n",
       "      <td>...</td>\n",
       "      <td>...</td>\n",
       "      <td>...</td>\n",
       "      <td>...</td>\n",
       "      <td>...</td>\n",
       "    </tr>\n",
       "    <tr>\n",
       "      <th>2176</th>\n",
       "      <td>YVREHGVPIHADKYFEQVLK</td>\n",
       "      <td>Mammalian</td>\n",
       "      <td>10080.0</td>\n",
       "      <td>20</td>\n",
       "      <td>Medium</td>\n",
       "    </tr>\n",
       "    <tr>\n",
       "      <th>2177</th>\n",
       "      <td>YWILEYLWKVPFDFWRGV</td>\n",
       "      <td>E_coli</td>\n",
       "      <td>7200.0</td>\n",
       "      <td>18</td>\n",
       "      <td>Low</td>\n",
       "    </tr>\n",
       "    <tr>\n",
       "      <th>2178</th>\n",
       "      <td>YWILEYLWKVPFDFWRGV</td>\n",
       "      <td>Mammalian</td>\n",
       "      <td>10080.0</td>\n",
       "      <td>18</td>\n",
       "      <td>Medium</td>\n",
       "    </tr>\n",
       "    <tr>\n",
       "      <th>2179</th>\n",
       "      <td>YWILEYLWKVPFDFWRGV</td>\n",
       "      <td>Yeast</td>\n",
       "      <td>36000.0</td>\n",
       "      <td>18</td>\n",
       "      <td>High</td>\n",
       "    </tr>\n",
       "    <tr>\n",
       "      <th>2180</th>\n",
       "      <td>YAGAVVNDL</td>\n",
       "      <td>E_coli</td>\n",
       "      <td>7200.0</td>\n",
       "      <td>9</td>\n",
       "      <td>Low</td>\n",
       "    </tr>\n",
       "  </tbody>\n",
       "</table>\n",
       "<p>2181 rows × 5 columns</p>\n",
       "</div>"
      ],
      "text/plain": [
       "                                           sequence  \\\n",
       "0                                         AAAMSQVTN   \n",
       "1                      AACEVAKNLNESLIDLQELGKYEQYIKW   \n",
       "2                                         AAGAVVNDL   \n",
       "3                              AAHLIDALYAEFLGGRVLTT   \n",
       "4     AAHLIDALYAEFLGGRVLTTPVVHRALFYASAVLRQPFLAGVPSA   \n",
       "...                                             ...   \n",
       "2176                           YVREHGVPIHADKYFEQVLK   \n",
       "2177                             YWILEYLWKVPFDFWRGV   \n",
       "2178                             YWILEYLWKVPFDFWRGV   \n",
       "2179                             YWILEYLWKVPFDFWRGV   \n",
       "2180                                      YAGAVVNDL   \n",
       "\n",
       "     experimental_characteristics  half_life_seconds  length_sequence  \\\n",
       "0                       Mammalian            15840.0                9   \n",
       "1                       Mammalian            15840.0               28   \n",
       "2                       Mammalian            15840.0                9   \n",
       "3                       Mammalian            15840.0               20   \n",
       "4                       Mammalian            15840.0               45   \n",
       "...                           ...                ...              ...   \n",
       "2176                    Mammalian            10080.0               20   \n",
       "2177                       E_coli             7200.0               18   \n",
       "2178                    Mammalian            10080.0               18   \n",
       "2179                        Yeast            36000.0               18   \n",
       "2180                       E_coli             7200.0                9   \n",
       "\n",
       "     hl_category  \n",
       "0         Medium  \n",
       "1         Medium  \n",
       "2         Medium  \n",
       "3         Medium  \n",
       "4         Medium  \n",
       "...          ...  \n",
       "2176      Medium  \n",
       "2177         Low  \n",
       "2178      Medium  \n",
       "2179        High  \n",
       "2180         Low  \n",
       "\n",
       "[2181 rows x 5 columns]"
      ]
     },
     "execution_count": 263,
     "metadata": {},
     "output_type": "execute_result"
    }
   ],
   "source": [
    "df"
   ]
  },
  {
   "cell_type": "code",
   "execution_count": 264,
   "metadata": {},
   "outputs": [
    {
     "data": {
      "text/plain": [
       "(2181, 5)"
      ]
     },
     "execution_count": 264,
     "metadata": {},
     "output_type": "execute_result"
    }
   ],
   "source": [
    "df.shape"
   ]
  },
  {
   "cell_type": "code",
   "execution_count": 265,
   "metadata": {},
   "outputs": [
    {
     "data": {
      "application/vnd.microsoft.datawrangler.viewer.v0+json": {
       "columns": [
        {
         "name": "index",
         "rawType": "object",
         "type": "string"
        },
        {
         "name": "count",
         "rawType": "float64",
         "type": "float"
        },
        {
         "name": "mean",
         "rawType": "float64",
         "type": "float"
        },
        {
         "name": "std",
         "rawType": "float64",
         "type": "float"
        },
        {
         "name": "min",
         "rawType": "float64",
         "type": "float"
        },
        {
         "name": "25%",
         "rawType": "float64",
         "type": "float"
        },
        {
         "name": "50%",
         "rawType": "float64",
         "type": "float"
        },
        {
         "name": "75%",
         "rawType": "float64",
         "type": "float"
        },
        {
         "name": "max",
         "rawType": "float64",
         "type": "float"
        }
       ],
       "conversionMethod": "pd.DataFrame",
       "ref": "a5522dd0-c2b2-42c1-9e9b-0471796a6ccb",
       "rows": [
        [
         "half_life_seconds",
         "2181.0",
         "26935.7909215956",
         "53316.38793178005",
         "2880.0",
         "7200.0",
         "10080.0",
         "15840.0",
         "360000.0"
        ],
        [
         "length_sequence",
         "2181.0",
         "17.71205868867492",
         "8.001868269706037",
         "2.0",
         "13.0",
         "16.0",
         "20.0",
         "48.0"
        ]
       ],
       "shape": {
        "columns": 8,
        "rows": 2
       }
      },
      "text/html": [
       "<div>\n",
       "<style scoped>\n",
       "    .dataframe tbody tr th:only-of-type {\n",
       "        vertical-align: middle;\n",
       "    }\n",
       "\n",
       "    .dataframe tbody tr th {\n",
       "        vertical-align: top;\n",
       "    }\n",
       "\n",
       "    .dataframe thead th {\n",
       "        text-align: right;\n",
       "    }\n",
       "</style>\n",
       "<table border=\"1\" class=\"dataframe\">\n",
       "  <thead>\n",
       "    <tr style=\"text-align: right;\">\n",
       "      <th></th>\n",
       "      <th>count</th>\n",
       "      <th>mean</th>\n",
       "      <th>std</th>\n",
       "      <th>min</th>\n",
       "      <th>25%</th>\n",
       "      <th>50%</th>\n",
       "      <th>75%</th>\n",
       "      <th>max</th>\n",
       "    </tr>\n",
       "  </thead>\n",
       "  <tbody>\n",
       "    <tr>\n",
       "      <th>half_life_seconds</th>\n",
       "      <td>2181.0</td>\n",
       "      <td>26935.790922</td>\n",
       "      <td>53316.387932</td>\n",
       "      <td>2880.0</td>\n",
       "      <td>7200.0</td>\n",
       "      <td>10080.0</td>\n",
       "      <td>15840.0</td>\n",
       "      <td>360000.0</td>\n",
       "    </tr>\n",
       "    <tr>\n",
       "      <th>length_sequence</th>\n",
       "      <td>2181.0</td>\n",
       "      <td>17.712059</td>\n",
       "      <td>8.001868</td>\n",
       "      <td>2.0</td>\n",
       "      <td>13.0</td>\n",
       "      <td>16.0</td>\n",
       "      <td>20.0</td>\n",
       "      <td>48.0</td>\n",
       "    </tr>\n",
       "  </tbody>\n",
       "</table>\n",
       "</div>"
      ],
      "text/plain": [
       "                    count          mean           std     min     25%  \\\n",
       "half_life_seconds  2181.0  26935.790922  53316.387932  2880.0  7200.0   \n",
       "length_sequence    2181.0     17.712059      8.001868     2.0    13.0   \n",
       "\n",
       "                       50%      75%       max  \n",
       "half_life_seconds  10080.0  15840.0  360000.0  \n",
       "length_sequence       16.0     20.0      48.0  "
      ]
     },
     "execution_count": 265,
     "metadata": {},
     "output_type": "execute_result"
    }
   ],
   "source": [
    "df.describe().T"
   ]
  },
  {
   "cell_type": "code",
   "execution_count": 266,
   "metadata": {},
   "outputs": [
    {
     "data": {
      "text/plain": [
       "hl_category\n",
       "Low       1027\n",
       "Medium     634\n",
       "High       520\n",
       "Name: count, dtype: int64"
      ]
     },
     "execution_count": 266,
     "metadata": {},
     "output_type": "execute_result"
    }
   ],
   "source": [
    "grouped=df.groupby(['experimental_characteristics', 'hl_category']).size()\n",
    "grouped=pd.DataFrame(grouped)\n",
    "df['hl_category'].value_counts()"
   ]
  },
  {
   "cell_type": "code",
   "execution_count": 267,
   "metadata": {},
   "outputs": [
    {
     "data": {
      "application/vnd.microsoft.datawrangler.viewer.v0+json": {
       "columns": [
        {
         "name": "('experimental_characteristics', 'hl_category')",
         "rawType": "object",
         "type": "unknown"
        },
        {
         "name": "0",
         "rawType": "int64",
         "type": "integer"
        }
       ],
       "conversionMethod": "pd.DataFrame",
       "ref": "6702a1e6-18f6-41a5-bb83-274b40bb63ce",
       "rows": [
        [
         "('E_coli', 'Low')",
         "458"
        ],
        [
         "('Mammalian', 'High')",
         "362"
        ],
        [
         "('Mammalian', 'Low')",
         "493"
        ],
        [
         "('Mammalian', 'Medium')",
         "245"
        ],
        [
         "('Yeast', 'High')",
         "158"
        ],
        [
         "('Yeast', 'Low')",
         "76"
        ],
        [
         "('Yeast', 'Medium')",
         "389"
        ]
       ],
       "shape": {
        "columns": 1,
        "rows": 7
       }
      },
      "text/html": [
       "<div>\n",
       "<style scoped>\n",
       "    .dataframe tbody tr th:only-of-type {\n",
       "        vertical-align: middle;\n",
       "    }\n",
       "\n",
       "    .dataframe tbody tr th {\n",
       "        vertical-align: top;\n",
       "    }\n",
       "\n",
       "    .dataframe thead th {\n",
       "        text-align: right;\n",
       "    }\n",
       "</style>\n",
       "<table border=\"1\" class=\"dataframe\">\n",
       "  <thead>\n",
       "    <tr style=\"text-align: right;\">\n",
       "      <th></th>\n",
       "      <th></th>\n",
       "      <th>0</th>\n",
       "    </tr>\n",
       "    <tr>\n",
       "      <th>experimental_characteristics</th>\n",
       "      <th>hl_category</th>\n",
       "      <th></th>\n",
       "    </tr>\n",
       "  </thead>\n",
       "  <tbody>\n",
       "    <tr>\n",
       "      <th>E_coli</th>\n",
       "      <th>Low</th>\n",
       "      <td>458</td>\n",
       "    </tr>\n",
       "    <tr>\n",
       "      <th rowspan=\"3\" valign=\"top\">Mammalian</th>\n",
       "      <th>High</th>\n",
       "      <td>362</td>\n",
       "    </tr>\n",
       "    <tr>\n",
       "      <th>Low</th>\n",
       "      <td>493</td>\n",
       "    </tr>\n",
       "    <tr>\n",
       "      <th>Medium</th>\n",
       "      <td>245</td>\n",
       "    </tr>\n",
       "    <tr>\n",
       "      <th rowspan=\"3\" valign=\"top\">Yeast</th>\n",
       "      <th>High</th>\n",
       "      <td>158</td>\n",
       "    </tr>\n",
       "    <tr>\n",
       "      <th>Low</th>\n",
       "      <td>76</td>\n",
       "    </tr>\n",
       "    <tr>\n",
       "      <th>Medium</th>\n",
       "      <td>389</td>\n",
       "    </tr>\n",
       "  </tbody>\n",
       "</table>\n",
       "</div>"
      ],
      "text/plain": [
       "                                            0\n",
       "experimental_characteristics hl_category     \n",
       "E_coli                       Low          458\n",
       "Mammalian                    High         362\n",
       "                             Low          493\n",
       "                             Medium       245\n",
       "Yeast                        High         158\n",
       "                             Low           76\n",
       "                             Medium       389"
      ]
     },
     "metadata": {},
     "output_type": "display_data"
    }
   ],
   "source": [
    "display(grouped)"
   ]
  },
  {
   "cell_type": "code",
   "execution_count": 268,
   "metadata": {},
   "outputs": [],
   "source": [
    "#df.to_csv('../../not_outliers/original.csv')"
   ]
  },
  {
   "cell_type": "code",
   "execution_count": null,
   "metadata": {},
   "outputs": [],
   "source": []
  },
  {
   "cell_type": "code",
   "execution_count": 269,
   "metadata": {},
   "outputs": [
    {
     "data": {
      "image/png": "[encoded data removed]",
      "text/plain": [
       "<Figure size 640x480 with 1 Axes>"
      ]
     },
     "metadata": {},
     "output_type": "display_data"
    }
   ],
   "source": [
    "sns.boxplot(data=df, x='half_life_seconds')\n",
    "plt.show()"
   ]
  },
  {
   "cell_type": "code",
   "execution_count": 270,
   "metadata": {},
   "outputs": [
    {
     "name": "stderr",
     "output_type": "stream",
     "text": [
      "/tmp/ipykernel_24187/3250544861.py:3: FutureWarning: Downcasting behavior in `replace` is deprecated and will be removed in a future version. To retain the old behavior, explicitly call `result.infer_objects(copy=False)`. To opt-in to the future behavior, set `pd.set_option('future.no_silent_downcasting', True)`\n",
      "  df_no_outliers['hl_category']=df['hl_category'].replace({'Low': 0, 'Medium': 1, 'High': 2})\n",
      "/tmp/ipykernel_24187/3250544861.py:3: SettingWithCopyWarning: \n",
      "A value is trying to be set on a copy of a slice from a DataFrame.\n",
      "Try using .loc[row_indexer,col_indexer] = value instead\n",
      "\n",
      "See the caveats in the documentation: https://pandas.pydata.org/pandas-docs/stable/user_guide/indexing.html#returning-a-view-versus-a-copy\n",
      "  df_no_outliers['hl_category']=df['hl_category'].replace({'Low': 0, 'Medium': 1, 'High': 2})\n",
      "/tmp/ipykernel_24187/3250544861.py:4: SettingWithCopyWarning: \n",
      "A value is trying to be set on a copy of a slice from a DataFrame\n",
      "\n",
      "See the caveats in the documentation: https://pandas.pydata.org/pandas-docs/stable/user_guide/indexing.html#returning-a-view-versus-a-copy\n",
      "  df_no_outliers.rename(columns={'hl_category': 'target'}, inplace=True)\n"
     ]
    }
   ],
   "source": [
    "df_no_outliers=df[df['half_life_seconds'] < 86400]\n",
    "\n",
    "df_no_outliers['hl_category']=df['hl_category'].replace({'Low': 0, 'Medium': 1, 'High': 2})\n",
    "df_no_outliers.rename(columns={'hl_category': 'target'}, inplace=True)\n",
    "df_no_outliers.to_csv('../../data/not_outliers/notout_antiviral.csv', index=False)"
   ]
  },
  {
   "cell_type": "code",
   "execution_count": 271,
   "metadata": {},
   "outputs": [
    {
     "data": {
      "application/vnd.microsoft.datawrangler.viewer.v0+json": {
       "columns": [
        {
         "name": "('experimental_characteristics', 'hl_category')",
         "rawType": "object",
         "type": "unknown"
        },
        {
         "name": "0",
         "rawType": "int64",
         "type": "integer"
        }
       ],
       "conversionMethod": "pd.DataFrame",
       "ref": "07dd529b-6af9-47a7-8385-5e82be8dae9c",
       "rows": [
        [
         "('E_coli', 'Low')",
         "458"
        ],
        [
         "('Mammalian', 'High')",
         "362"
        ],
        [
         "('Mammalian', 'Low')",
         "493"
        ],
        [
         "('Mammalian', 'Medium')",
         "245"
        ],
        [
         "('Yeast', 'High')",
         "158"
        ],
        [
         "('Yeast', 'Low')",
         "76"
        ],
        [
         "('Yeast', 'Medium')",
         "389"
        ]
       ],
       "shape": {
        "columns": 1,
        "rows": 7
       }
      },
      "text/html": [
       "<div>\n",
       "<style scoped>\n",
       "    .dataframe tbody tr th:only-of-type {\n",
       "        vertical-align: middle;\n",
       "    }\n",
       "\n",
       "    .dataframe tbody tr th {\n",
       "        vertical-align: top;\n",
       "    }\n",
       "\n",
       "    .dataframe thead th {\n",
       "        text-align: right;\n",
       "    }\n",
       "</style>\n",
       "<table border=\"1\" class=\"dataframe\">\n",
       "  <thead>\n",
       "    <tr style=\"text-align: right;\">\n",
       "      <th></th>\n",
       "      <th></th>\n",
       "      <th>0</th>\n",
       "    </tr>\n",
       "    <tr>\n",
       "      <th>experimental_characteristics</th>\n",
       "      <th>hl_category</th>\n",
       "      <th></th>\n",
       "    </tr>\n",
       "  </thead>\n",
       "  <tbody>\n",
       "    <tr>\n",
       "      <th>E_coli</th>\n",
       "      <th>Low</th>\n",
       "      <td>458</td>\n",
       "    </tr>\n",
       "    <tr>\n",
       "      <th rowspan=\"3\" valign=\"top\">Mammalian</th>\n",
       "      <th>High</th>\n",
       "      <td>362</td>\n",
       "    </tr>\n",
       "    <tr>\n",
       "      <th>Low</th>\n",
       "      <td>493</td>\n",
       "    </tr>\n",
       "    <tr>\n",
       "      <th>Medium</th>\n",
       "      <td>245</td>\n",
       "    </tr>\n",
       "    <tr>\n",
       "      <th rowspan=\"3\" valign=\"top\">Yeast</th>\n",
       "      <th>High</th>\n",
       "      <td>158</td>\n",
       "    </tr>\n",
       "    <tr>\n",
       "      <th>Low</th>\n",
       "      <td>76</td>\n",
       "    </tr>\n",
       "    <tr>\n",
       "      <th>Medium</th>\n",
       "      <td>389</td>\n",
       "    </tr>\n",
       "  </tbody>\n",
       "</table>\n",
       "</div>"
      ],
      "text/plain": [
       "                                            0\n",
       "experimental_characteristics hl_category     \n",
       "E_coli                       Low          458\n",
       "Mammalian                    High         362\n",
       "                             Low          493\n",
       "                             Medium       245\n",
       "Yeast                        High         158\n",
       "                             Low           76\n",
       "                             Medium       389"
      ]
     },
     "metadata": {},
     "output_type": "display_data"
    }
   ],
   "source": [
    "grouped=df.groupby(['experimental_characteristics', 'hl_category']).size()\n",
    "grouped=pd.DataFrame(grouped)\n",
    "df['hl_category'].value_counts()\n",
    "display(grouped)"
   ]
  },
  {
   "cell_type": "code",
   "execution_count": 272,
   "metadata": {},
   "outputs": [
    {
     "data": {
      "image/png": "[encoded data removed]",
      "text/plain": [
       "<Figure size 640x480 with 1 Axes>"
      ]
     },
     "metadata": {},
     "output_type": "display_data"
    }
   ],
   "source": [
    "sns.boxplot(data=df_no_outliers, x='half_life_seconds')\n",
    "plt.show()"
   ]
  },
  {
   "cell_type": "code",
   "execution_count": 273,
   "metadata": {},
   "outputs": [],
   "source": [
    "#quitar outliers por intercuartil estos se definen típicamente como los valores que están por debajo de Q1−1.5×IQRQ1−1.5×IQR o por encima de Q3+1.5×IQRQ3+1.5×IQR, donde Q1Q1 es el primer cuartil (25%) y Q3Q3 es el tercer cuartil (75%)."
   ]
  },
  {
   "cell_type": "code",
   "execution_count": 274,
   "metadata": {},
   "outputs": [],
   "source": [
    "Q1 = df['half_life_seconds'].quantile(0.25)\n",
    "Q3 = df['half_life_seconds'].quantile(0.75)\n",
    "IQR = Q3 - Q1\n",
    "lower_bound = Q1 - 1.5 * IQR\n",
    "upper_bound = Q3 + 1.5 * IQR\n",
    "df_no_outliers = df[(df['half_life_seconds'] >= lower_bound) & (df['half_life_seconds'] <= upper_bound)]"
   ]
  },
  {
   "cell_type": "code",
   "execution_count": 275,
   "metadata": {},
   "outputs": [],
   "source": [
    "#df_no_outliers.to_csv('../../not_outliers/quantile.csv')"
   ]
  },
  {
   "cell_type": "code",
   "execution_count": 276,
   "metadata": {},
   "outputs": [
    {
     "data": {
      "image/png": "[encoded data removed]",
      "text/plain": [
       "<Figure size 640x480 with 1 Axes>"
      ]
     },
     "metadata": {},
     "output_type": "display_data"
    }
   ],
   "source": [
    "sns.boxplot(data=df_no_outliers, x='half_life_seconds')\n",
    "plt.show()"
   ]
  },
  {
   "cell_type": "code",
   "execution_count": 277,
   "metadata": {},
   "outputs": [],
   "source": [
    "#hacerlo por categoria y hacerlo por n veces\n",
    "mean_value = df['half_life_seconds'].mean()\n",
    "umbral = mean_value * 3\n",
    "df_no_outliers = df[df['half_life_seconds'] <= umbral]\n",
    "#df_no_outliers.to_csv('../../not_outliers/umbral.csv')"
   ]
  },
  {
   "cell_type": "code",
   "execution_count": 278,
   "metadata": {},
   "outputs": [
    {
     "data": {
      "image/png": "[encoded data removed]",
      "text/plain": [
       "<Figure size 640x480 with 1 Axes>"
      ]
     },
     "metadata": {},
     "output_type": "display_data"
    }
   ],
   "source": [
    "sns.boxplot(data=df_no_outliers, x='half_life_seconds')\n",
    "plt.show()"
   ]
  },
  {
   "cell_type": "code",
   "execution_count": 279,
   "metadata": {},
   "outputs": [],
   "source": [
    "df_scaler=df"
   ]
  },
  {
   "cell_type": "code",
   "execution_count": 280,
   "metadata": {},
   "outputs": [],
   "source": [
    "df_scaler['half_life_seconds_log'] = np.log(df['half_life_seconds'] + 1)"
   ]
  },
  {
   "cell_type": "code",
   "execution_count": 281,
   "metadata": {},
   "outputs": [],
   "source": [
    "#df_scaler.to_csv('../../not_outliers/scaler.csv')"
   ]
  },
  {
   "cell_type": "code",
   "execution_count": 282,
   "metadata": {},
   "outputs": [
    {
     "data": {
      "image/png": "[encoded data removed]",
      "text/plain": [
       "<Figure size 640x480 with 1 Axes>"
      ]
     },
     "metadata": {},
     "output_type": "display_data"
    }
   ],
   "source": [
    "sns.boxplot(data=df_scaler, x='half_life_seconds_log')\n",
    "plt.show()"
   ]
  },
  {
   "cell_type": "code",
   "execution_count": 283,
   "metadata": {},
   "outputs": [],
   "source": [
    "mean_value = df['half_life_seconds'].mean()\n",
    "std_dev = df['half_life_seconds'].std()\n",
    "\n",
    "umbral_superior = mean_value + 3 * std_dev\n",
    "umbral_inferior = mean_value - 3 * std_dev\n",
    "\n",
    "df_no_outliers = df[(df['half_life_seconds'] <= umbral_superior) & (df['half_life_seconds'] >= umbral_inferior)]\n",
    "#df_no_outliers.to_csv('../../not_outliers/standardesv.csv')"
   ]
  },
  {
   "cell_type": "code",
   "execution_count": 284,
   "metadata": {},
   "outputs": [
    {
     "data": {
      "image/png": "[encoded data removed]",
      "text/plain": [
       "<Figure size 640x480 with 1 Axes>"
      ]
     },
     "metadata": {},
     "output_type": "display_data"
    }
   ],
   "source": [
    "sns.boxplot(data=df_no_outliers, x='half_life_seconds')\n",
    "plt.show()"
   ]
  },
  {
   "cell_type": "code",
   "execution_count": 285,
   "metadata": {},
   "outputs": [],
   "source": [
    "lower_percentile = df['half_life_seconds'].quantile(0.01)\n",
    "upper_percentile = df['half_life_seconds'].quantile(0.99)\n",
    "\n",
    "df_no_outliers = df[(df['half_life_seconds'] >= lower_percentile) & (df['half_life_seconds'] <= upper_percentile)]\n",
    "#df_no_outliers.to_csv('../../not_outliers/percentil.csv')"
   ]
  },
  {
   "cell_type": "code",
   "execution_count": 286,
   "metadata": {},
   "outputs": [
    {
     "data": {
      "image/png": "[encoded data removed]",
      "text/plain": [
       "<Figure size 640x480 with 1 Axes>"
      ]
     },
     "metadata": {},
     "output_type": "display_data"
    }
   ],
   "source": [
    "sns.boxplot(data=df_no_outliers, x='half_life_seconds')\n",
    "plt.show()"
   ]
  },
  {
   "cell_type": "code",
   "execution_count": 287,
   "metadata": {},
   "outputs": [],
   "source": [
    "from sklearn.cluster import DBSCAN\n",
    "\n",
    "# Usar DBSCAN para detectar outliers\n",
    "db = DBSCAN(eps=0.5, min_samples=5)\n",
    "df['cluster'] = db.fit_predict(df[['half_life_seconds']])\n",
    "\n",
    "# Filtrar los outliers (identificados con -1)\n",
    "df_no_outliers = df[df['cluster'] != -1]\n",
    "#df_no_outliers.to_csv('../../not_outliers/clust.csv')"
   ]
  },
  {
   "cell_type": "code",
   "execution_count": 288,
   "metadata": {},
   "outputs": [
    {
     "data": {
      "image/png": "[encoded data removed]",
      "text/plain": [
       "<Figure size 640x480 with 1 Axes>"
      ]
     },
     "metadata": {},
     "output_type": "display_data"
    }
   ],
   "source": [
    "sns.boxplot(data=df_no_outliers, x='half_life_seconds')\n",
    "plt.show()"
   ]
  },
  {
   "cell_type": "code",
   "execution_count": 289,
   "metadata": {},
   "outputs": [],
   "source": [
    "from scipy.stats import mstats\n",
    "\n",
    "df['half_life_seconds_winsorized'] = mstats.winsorize(df['half_life_seconds'], limits=[0.05, 0.05])\n",
    "#df.to_csv('../../not_outliers/winsor.csv')"
   ]
  },
  {
   "cell_type": "code",
   "execution_count": 290,
   "metadata": {},
   "outputs": [
    {
     "data": {
      "image/png": "[encoded data removed]",
      "text/plain": [
       "<Figure size 640x480 with 1 Axes>"
      ]
     },
     "metadata": {},
     "output_type": "display_data"
    }
   ],
   "source": [
    "sns.boxplot(data=df_no_outliers, x='half_life_seconds')\n",
    "plt.show()"
   ]
  },
  {
   "cell_type": "code",
   "execution_count": 291,
   "metadata": {},
   "outputs": [],
   "source": [
    "from scipy.stats import zscore\n",
    "\n",
    "df['zscore'] = zscore(df['half_life_seconds'])\n",
    "df_no_outliers = df[df['zscore'].abs() <= 3]\n",
    "#df_no_outliers.to_csv('../../not_outliers/zscore.csv')"
   ]
  },
  {
   "cell_type": "code",
   "execution_count": 292,
   "metadata": {},
   "outputs": [
    {
     "data": {
      "image/png": "[encoded data removed]",
      "text/plain": [
       "<Figure size 640x480 with 1 Axes>"
      ]
     },
     "metadata": {},
     "output_type": "display_data"
    }
   ],
   "source": [
    "sns.boxplot(data=df_no_outliers, x='half_life_seconds')\n",
    "plt.show()"
   ]
  }
 ],
 "metadata": {
  "kernelspec": {
   "display_name": "ML_Class",
   "language": "python",
   "name": "python3"
  },
  "language_info": {
   "codemirror_mode": {
    "name": "ipython",
    "version": 3
   },
   "file_extension": ".py",
   "mimetype": "text/x-python",
   "name": "python",
   "nbconvert_exporter": "python",
   "pygments_lexer": "ipython3",
   "version": "3.9.20"
  }
 },
 "nbformat": 4,
 "nbformat_minor": 2
}
