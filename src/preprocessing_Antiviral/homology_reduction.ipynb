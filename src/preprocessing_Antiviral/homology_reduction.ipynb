{
 "cells": [
  {
   "cell_type": "markdown",
   "metadata": {},
   "source": [
    "### Homology reduction of sequences"
   ]
  },
  {
   "cell_type": "code",
   "execution_count": 60,
   "metadata": {},
   "outputs": [],
   "source": [
    "import pandas as pd\n",
    "import sys\n",
    "sys.path.insert(0, \"../../\")\n",
    "from utils.filter_homology import HomologyReduction\n",
    "filter_sequences = HomologyReduction()"
   ]
  },
  {
   "cell_type": "code",
   "execution_count": 61,
   "metadata": {},
   "outputs": [],
   "source": [
    "df = pd.read_csv('../../data/not_outliers/notout_antiviral.csv')"
   ]
  },
  {
   "cell_type": "code",
   "execution_count": 62,
   "metadata": {},
   "outputs": [
    {
     "data": {
      "application/vnd.microsoft.datawrangler.viewer.v0+json": {
       "columns": [
        {
         "name": "index",
         "rawType": "int64",
         "type": "integer"
        },
        {
         "name": "sequence",
         "rawType": "object",
         "type": "string"
        },
        {
         "name": "experimental_characteristics",
         "rawType": "object",
         "type": "string"
        },
        {
         "name": "half_life_seconds",
         "rawType": "float64",
         "type": "float"
        },
        {
         "name": "length_sequence",
         "rawType": "int64",
         "type": "integer"
        },
        {
         "name": "target",
         "rawType": "int64",
         "type": "integer"
        }
       ],
       "conversionMethod": "pd.DataFrame",
       "ref": "944a9542-2b6f-46c0-a94d-b8ff9a9709a9",
       "rows": [
        [
         "0",
         "AAAMSQVTN",
         "Mammalian",
         "15840.0",
         "9",
         "1"
        ],
        [
         "1",
         "AACEVAKNLNESLIDLQELGKYEQYIKW",
         "Mammalian",
         "15840.0",
         "28",
         "1"
        ],
        [
         "2",
         "AAGAVVNDL",
         "Mammalian",
         "15840.0",
         "9",
         "1"
        ],
        [
         "3",
         "AAHLIDALYAEFLGGRVLTT",
         "Mammalian",
         "15840.0",
         "20",
         "1"
        ],
        [
         "4",
         "AAHLIDALYAEFLGGRVLTTPVVHRALFYASAVLRQPFLAGVPSA",
         "Mammalian",
         "15840.0",
         "45",
         "1"
        ],
        [
         "5",
         "AAKAWKKAKAWKKAKWWKKAA",
         "Mammalian",
         "15840.0",
         "21",
         "1"
        ],
        [
         "6",
         "AALGDTAWDFGSIGGVFNSIGRAVHQVFGGAFRTL",
         "Mammalian",
         "15840.0",
         "35",
         "1"
        ],
        [
         "7",
         "AAQRRGRIGRNPSQVGD",
         "Mammalian",
         "15840.0",
         "17",
         "1"
        ],
        [
         "8",
         "AAQRRGRVGRNPNQVGD",
         "Mammalian",
         "15840.0",
         "17",
         "1"
        ],
        [
         "9",
         "AAWWAGIKQEF",
         "Mammalian",
         "15840.0",
         "11",
         "1"
        ],
        [
         "10",
         "AAYFLLKLAGRW",
         "Mammalian",
         "15840.0",
         "12",
         "1"
        ],
        [
         "11",
         "ACAWAGIKQEF",
         "Mammalian",
         "15840.0",
         "11",
         "1"
        ],
        [
         "12",
         "ACELKWESEFWRWTEQLA",
         "Mammalian",
         "15840.0",
         "18",
         "1"
        ],
        [
         "13",
         "ACFPWGKEYCGGK",
         "Mammalian",
         "15840.0",
         "13",
         "1"
        ],
        [
         "14",
         "ACWAAGIKQEF",
         "Mammalian",
         "15840.0",
         "11",
         "1"
        ],
        [
         "15",
         "ACWWAAIKQEF",
         "Mammalian",
         "15840.0",
         "11",
         "1"
        ],
        [
         "16",
         "ACWWAGAKQEF",
         "Mammalian",
         "15840.0",
         "11",
         "1"
        ],
        [
         "17",
         "ACWWAGIAQEF",
         "Mammalian",
         "15840.0",
         "11",
         "1"
        ],
        [
         "18",
         "ACWWAGIKAEF",
         "Mammalian",
         "15840.0",
         "11",
         "1"
        ],
        [
         "19",
         "ACWWAGIKQAF",
         "Mammalian",
         "15840.0",
         "11",
         "1"
        ],
        [
         "20",
         "ACWWAGIKQEA",
         "Mammalian",
         "15840.0",
         "11",
         "1"
        ],
        [
         "21",
         "ADLEVVAATFVLVA",
         "Mammalian",
         "15840.0",
         "14",
         "1"
        ],
        [
         "22",
         "ADLEVVAATHVLVA",
         "Mammalian",
         "15840.0",
         "14",
         "1"
        ],
        [
         "23",
         "ADLEVVAATYAAAA",
         "Mammalian",
         "15840.0",
         "14",
         "1"
        ],
        [
         "24",
         "ADLEVVAATYKKKK",
         "Mammalian",
         "15840.0",
         "14",
         "1"
        ],
        [
         "25",
         "ADLEVVAATYV",
         "Mammalian",
         "15840.0",
         "11",
         "1"
        ],
        [
         "26",
         "ADLEVVAATYVDDA",
         "Mammalian",
         "15840.0",
         "14",
         "1"
        ],
        [
         "27",
         "ADLEVVAATYVDDD",
         "Mammalian",
         "15840.0",
         "14",
         "1"
        ],
        [
         "28",
         "ADLEVVAATYVDVA",
         "Mammalian",
         "15840.0",
         "14",
         "1"
        ],
        [
         "29",
         "ADLEVVAATYVDVD",
         "Mammalian",
         "15840.0",
         "14",
         "1"
        ],
        [
         "30",
         "ADLEVVAATYVKKK",
         "Mammalian",
         "15840.0",
         "14",
         "1"
        ],
        [
         "31",
         "ADLEVVAATYVLDA",
         "Mammalian",
         "15840.0",
         "14",
         "1"
        ],
        [
         "32",
         "ADLEVVAATYVLDD",
         "Mammalian",
         "15840.0",
         "14",
         "1"
        ],
        [
         "33",
         "ADLEVVAATYVLVA",
         "Mammalian",
         "15840.0",
         "14",
         "1"
        ],
        [
         "34",
         "ADLEVVAATYVLVD",
         "Mammalian",
         "15840.0",
         "14",
         "1"
        ],
        [
         "35",
         "ADVILMCFSIDSPDSLENI",
         "Mammalian",
         "15840.0",
         "19",
         "1"
        ],
        [
         "36",
         "AEAASQVTNTATIM",
         "Mammalian",
         "15840.0",
         "14",
         "1"
        ],
        [
         "37",
         "AEAIPMSIPPEVKFNKPFVF",
         "Mammalian",
         "15840.0",
         "20",
         "1"
        ],
        [
         "38",
         "AEAMAQVTN",
         "Mammalian",
         "15840.0",
         "9",
         "1"
        ],
        [
         "39",
         "AEAMSQVANTATIM",
         "Mammalian",
         "15840.0",
         "14",
         "1"
        ],
        [
         "40",
         "AEAMSQVTN",
         "Mammalian",
         "15840.0",
         "9",
         "1"
        ],
        [
         "41",
         "AEAMSQVTNTATIM",
         "Mammalian",
         "15840.0",
         "14",
         "1"
        ],
        [
         "42",
         "AEASQVTNTATIM",
         "Mammalian",
         "15840.0",
         "13",
         "1"
        ],
        [
         "43",
         "AECVVSCSMSYTKA",
         "Mammalian",
         "15840.0",
         "14",
         "1"
        ],
        [
         "44",
         "AEDWVRWI",
         "Mammalian",
         "15840.0",
         "8",
         "1"
        ],
        [
         "45",
         "AEPERRNIKYL",
         "Mammalian",
         "15840.0",
         "11",
         "1"
        ],
        [
         "46",
         "AFLGWIGAIVSTALPQWR",
         "Mammalian",
         "15840.0",
         "18",
         "1"
        ],
        [
         "47",
         "AGAGTGATAIGMVTQYHQVL",
         "Mammalian",
         "15840.0",
         "20",
         "1"
        ],
        [
         "48",
         "AGALMFAWLLLGLQGIFN",
         "Mammalian",
         "15840.0",
         "18",
         "1"
        ],
        [
         "49",
         "AGAVVNDL",
         "Mammalian",
         "15840.0",
         "8",
         "1"
        ]
       ],
       "shape": {
        "columns": 5,
        "rows": 1929
       }
      },
      "text/html": [
       "<div>\n",
       "<style scoped>\n",
       "    .dataframe tbody tr th:only-of-type {\n",
       "        vertical-align: middle;\n",
       "    }\n",
       "\n",
       "    .dataframe tbody tr th {\n",
       "        vertical-align: top;\n",
       "    }\n",
       "\n",
       "    .dataframe thead th {\n",
       "        text-align: right;\n",
       "    }\n",
       "</style>\n",
       "<table border=\"1\" class=\"dataframe\">\n",
       "  <thead>\n",
       "    <tr style=\"text-align: right;\">\n",
       "      <th></th>\n",
       "      <th>sequence</th>\n",
       "      <th>experimental_characteristics</th>\n",
       "      <th>half_life_seconds</th>\n",
       "      <th>length_sequence</th>\n",
       "      <th>target</th>\n",
       "    </tr>\n",
       "  </thead>\n",
       "  <tbody>\n",
       "    <tr>\n",
       "      <th>0</th>\n",
       "      <td>AAAMSQVTN</td>\n",
       "      <td>Mammalian</td>\n",
       "      <td>15840.0</td>\n",
       "      <td>9</td>\n",
       "      <td>1</td>\n",
       "    </tr>\n",
       "    <tr>\n",
       "      <th>1</th>\n",
       "      <td>AACEVAKNLNESLIDLQELGKYEQYIKW</td>\n",
       "      <td>Mammalian</td>\n",
       "      <td>15840.0</td>\n",
       "      <td>28</td>\n",
       "      <td>1</td>\n",
       "    </tr>\n",
       "    <tr>\n",
       "      <th>2</th>\n",
       "      <td>AAGAVVNDL</td>\n",
       "      <td>Mammalian</td>\n",
       "      <td>15840.0</td>\n",
       "      <td>9</td>\n",
       "      <td>1</td>\n",
       "    </tr>\n",
       "    <tr>\n",
       "      <th>3</th>\n",
       "      <td>AAHLIDALYAEFLGGRVLTT</td>\n",
       "      <td>Mammalian</td>\n",
       "      <td>15840.0</td>\n",
       "      <td>20</td>\n",
       "      <td>1</td>\n",
       "    </tr>\n",
       "    <tr>\n",
       "      <th>4</th>\n",
       "      <td>AAHLIDALYAEFLGGRVLTTPVVHRALFYASAVLRQPFLAGVPSA</td>\n",
       "      <td>Mammalian</td>\n",
       "      <td>15840.0</td>\n",
       "      <td>45</td>\n",
       "      <td>1</td>\n",
       "    </tr>\n",
       "    <tr>\n",
       "      <th>...</th>\n",
       "      <td>...</td>\n",
       "      <td>...</td>\n",
       "      <td>...</td>\n",
       "      <td>...</td>\n",
       "      <td>...</td>\n",
       "    </tr>\n",
       "    <tr>\n",
       "      <th>1924</th>\n",
       "      <td>YVREHGVPIHADKYFEQVLK</td>\n",
       "      <td>Mammalian</td>\n",
       "      <td>10080.0</td>\n",
       "      <td>20</td>\n",
       "      <td>1</td>\n",
       "    </tr>\n",
       "    <tr>\n",
       "      <th>1925</th>\n",
       "      <td>YWILEYLWKVPFDFWRGV</td>\n",
       "      <td>E_coli</td>\n",
       "      <td>7200.0</td>\n",
       "      <td>18</td>\n",
       "      <td>0</td>\n",
       "    </tr>\n",
       "    <tr>\n",
       "      <th>1926</th>\n",
       "      <td>YWILEYLWKVPFDFWRGV</td>\n",
       "      <td>Mammalian</td>\n",
       "      <td>10080.0</td>\n",
       "      <td>18</td>\n",
       "      <td>1</td>\n",
       "    </tr>\n",
       "    <tr>\n",
       "      <th>1927</th>\n",
       "      <td>YWILEYLWKVPFDFWRGV</td>\n",
       "      <td>Yeast</td>\n",
       "      <td>36000.0</td>\n",
       "      <td>18</td>\n",
       "      <td>2</td>\n",
       "    </tr>\n",
       "    <tr>\n",
       "      <th>1928</th>\n",
       "      <td>YAGAVVNDL</td>\n",
       "      <td>E_coli</td>\n",
       "      <td>7200.0</td>\n",
       "      <td>9</td>\n",
       "      <td>0</td>\n",
       "    </tr>\n",
       "  </tbody>\n",
       "</table>\n",
       "<p>1929 rows × 5 columns</p>\n",
       "</div>"
      ],
      "text/plain": [
       "                                           sequence  \\\n",
       "0                                         AAAMSQVTN   \n",
       "1                      AACEVAKNLNESLIDLQELGKYEQYIKW   \n",
       "2                                         AAGAVVNDL   \n",
       "3                              AAHLIDALYAEFLGGRVLTT   \n",
       "4     AAHLIDALYAEFLGGRVLTTPVVHRALFYASAVLRQPFLAGVPSA   \n",
       "...                                             ...   \n",
       "1924                           YVREHGVPIHADKYFEQVLK   \n",
       "1925                             YWILEYLWKVPFDFWRGV   \n",
       "1926                             YWILEYLWKVPFDFWRGV   \n",
       "1927                             YWILEYLWKVPFDFWRGV   \n",
       "1928                                      YAGAVVNDL   \n",
       "\n",
       "     experimental_characteristics  half_life_seconds  length_sequence  target  \n",
       "0                       Mammalian            15840.0                9       1  \n",
       "1                       Mammalian            15840.0               28       1  \n",
       "2                       Mammalian            15840.0                9       1  \n",
       "3                       Mammalian            15840.0               20       1  \n",
       "4                       Mammalian            15840.0               45       1  \n",
       "...                           ...                ...              ...     ...  \n",
       "1924                    Mammalian            10080.0               20       1  \n",
       "1925                       E_coli             7200.0               18       0  \n",
       "1926                    Mammalian            10080.0               18       1  \n",
       "1927                        Yeast            36000.0               18       2  \n",
       "1928                       E_coli             7200.0                9       0  \n",
       "\n",
       "[1929 rows x 5 columns]"
      ]
     },
     "execution_count": 62,
     "metadata": {},
     "output_type": "execute_result"
    }
   ],
   "source": [
    "df"
   ]
  },
  {
   "cell_type": "code",
   "execution_count": 63,
   "metadata": {},
   "outputs": [],
   "source": [
    "df_high = df[df['target'] == 2]\n",
    "df_mid = df[df['target'] == 1]\n",
    "df_low = df[df['target'] == 0]"
   ]
  },
  {
   "cell_type": "code",
   "execution_count": 64,
   "metadata": {},
   "outputs": [
    {
     "name": "stdout",
     "output_type": "stream",
     "text": [
      "================================================================\n",
      "Program: CD-HIT, V4.8.1 (+OpenMP), Aug 20 2021, 08:39:56\n",
      "Command: cd-hit -i\n",
      "         ../../data/homology/fasta_files/medium_data.fasta -o\n",
      "         ../../data/homology/fasta_files/medium_data_filter.fasta\n",
      "         -c 0.9 -l 4 -M 1000\n",
      "\n",
      "Started: Thu May  8 11:32:47 2025\n",
      "================================================================\n",
      "                            Output                              \n",
      "----------------------------------------------------------------\n",
      "total seq: 629\n",
      "longest and shortest : 48 and 5\n",
      "Total letters: 11190\n",
      "Sequences have been sorted\n",
      "\n",
      "Approximated minimal memory consumption:\n",
      "Sequence        : 0M\n",
      "Buffer          : 1 X 10M = 10M\n",
      "Table           : 1 X 65M = 65M\n",
      "Miscellaneous   : 0M\n",
      "Total           : 75M\n",
      "\n",
      "Table limit with the given memory limit:\n",
      "Max number of representatives: 4000000\n",
      "Max number of word counting entries: 115505265\n",
      "\n",
      "comparing sequences from          0  to        629\n",
      "\n",
      "      629  finished        394  clusters\n",
      "\n",
      "Approximated maximum memory consumption: 75M\n",
      "writing new database\n",
      "writing clustering information\n",
      "program completed !\n",
      "\n",
      "Total CPU time 0.04\n"
     ]
    }
   ],
   "source": [
    "filter_sequences.process(df=df_mid,\n",
    "                         path_export=\"homology\",\n",
    "                         data_type=\"medium\",\n",
    "                         value_filter=0.90,\n",
    "                         len=4)"
   ]
  }
 ],
 "metadata": {
  "kernelspec": {
   "display_name": "ML_Class",
   "language": "python",
   "name": "python3"
  },
  "language_info": {
   "codemirror_mode": {
    "name": "ipython",
    "version": 3
   },
   "file_extension": ".py",
   "mimetype": "text/x-python",
   "name": "python",
   "nbconvert_exporter": "python",
   "pygments_lexer": "ipython3",
   "version": "3.9.20"
  }
 },
 "nbformat": 4,
 "nbformat_minor": 2
}
