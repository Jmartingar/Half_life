{
 "cells": [
  {
   "cell_type": "code",
   "execution_count": 37,
   "metadata": {},
   "outputs": [],
   "source": [
    "import pandas as pd\n",
    "\n",
    "import importlib.util\n",
    "import os\n",
    "\n",
    "funct_path= os.path.abspath('../../utils/functions.py')\n",
    "spec = importlib.util.spec_from_file_location(\"functions\", funct_path)\n",
    "funct = importlib.util.module_from_spec(spec)\n",
    "spec.loader.exec_module(funct)"
   ]
  },
  {
   "cell_type": "code",
   "execution_count": 38,
   "metadata": {},
   "outputs": [],
   "source": [
    "canon= []\n",
    "notcanon= []"
   ]
  },
  {
   "cell_type": "code",
   "execution_count": 39,
   "metadata": {},
   "outputs": [],
   "source": [
    "antiviral=pd.read_csv('../../data/not_mod/Antiviral_nomod.csv')\n",
    "hlp_10=pd.read_csv(\"../../data/not_mod/HLP_10_nomod.csv\")\n",
    "hlp_16=pd.read_csv(\"../../data/not_mod/HLP_16_nomod.csv\")\n",
    "peplife=pd.read_csv(\"../../data/not_mod/PEP_LIFE_nomod.csv\")\n",
    "plifepred=pd.read_csv(\"../../data/not_mod/Plifepred_nomod.csv\")\n",
    "serum=pd.read_csv(\"../../data/not_mod/Serum_nomod.csv\")"
   ]
  },
  {
   "cell_type": "code",
   "execution_count": 40,
   "metadata": {},
   "outputs": [],
   "source": [
    "dataframes = {\n",
    "    \"Antiviral\": antiviral,\n",
    "    \"HLP_10\": hlp_10,\n",
    "    \"HLP_16\": hlp_16,\n",
    "    \"PEP_LIFE\": peplife,\n",
    "    \"Plifepred\": plifepred,\n",
    "    \"Serum\": serum\n",
    "}"
   ]
  },
  {
   "cell_type": "code",
   "execution_count": 41,
   "metadata": {},
   "outputs": [
    {
     "name": "stdout",
     "output_type": "stream",
     "text": [
      "Antiviral: (2214, 5)\n",
      "HLP_10: (189, 5)\n",
      "HLP_16: (186, 5)\n",
      "PEP_LIFE: (193, 5)\n",
      "Plifepred: (179, 5)\n",
      "Serum: (81, 5)\n"
     ]
    }
   ],
   "source": [
    "for name, df in dataframes.items():\n",
    "    print(f\"{name}: {df.shape}\")"
   ]
  },
  {
   "cell_type": "code",
   "execution_count": 42,
   "metadata": {},
   "outputs": [],
   "source": [
    "for key, df in dataframes.items():\n",
    "    # Clasificar las secuencias\n",
    "    for sequence in df[\"sequence\"]:\n",
    "        if funct.canon_or_notcanon(sequence):  \n",
    "            canon.append(sequence)\n",
    "        else:\n",
    "            notcanon.append(sequence)\n",
    "\n",
    "    # Crear DataFrames separados\n",
    "    df_canon = df[df[\"sequence\"].isin(canon)]\n",
    "    df_notcanon = df[df[\"sequence\"].isin(notcanon)]\n",
    "\n",
    "    # Guardar los archivos si no están vacíos\n",
    "    if not df_canon.empty:\n",
    "        df_canon.to_csv(f\"../../data/canon/{key}_canon.csv\", index=False)\n",
    "\n",
    "    if not df_notcanon.empty:\n",
    "        df_notcanon.to_csv(f\"../../data/canon/not_canon/{key}_notcanon.csv\", index=False, columns=[\"sequence\", \"half_life_seconds\"])\n"
   ]
  }
 ],
 "metadata": {
  "kernelspec": {
   "display_name": "ML_Class",
   "language": "python",
   "name": "python3"
  },
  "language_info": {
   "codemirror_mode": {
    "name": "ipython",
    "version": 3
   },
   "file_extension": ".py",
   "mimetype": "text/x-python",
   "name": "python",
   "nbconvert_exporter": "python",
   "pygments_lexer": "ipython3",
   "version": "3.9.20"
  }
 },
 "nbformat": 4,
 "nbformat_minor": 2
}
