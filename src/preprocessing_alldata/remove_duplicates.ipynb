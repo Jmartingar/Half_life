{
 "cells": [
  {
   "cell_type": "code",
   "execution_count": 36,
   "metadata": {},
   "outputs": [],
   "source": [
    "import pandas as pd\n",
    "\n",
    "import importlib.util\n",
    "import os\n",
    "\n",
    "funct_path= os.path.abspath('../../utils/functions.py')\n",
    "spec = importlib.util.spec_from_file_location(\"functions\", funct_path)\n",
    "funct = importlib.util.module_from_spec(spec)\n",
    "spec.loader.exec_module(funct)"
   ]
  },
  {
   "cell_type": "code",
   "execution_count": 37,
   "metadata": {},
   "outputs": [],
   "source": [
    "antiviral=pd.read_csv('../../data/regular/Antiviral.csv')\n",
    "hlp_10=pd.read_csv(\"../../data/regular/HLP_10.csv\")\n",
    "hlp_16=pd.read_csv(\"../../data/regular/HLP_16.csv\")\n",
    "peplife=pd.read_csv(\"../../data/regular/PEP_LIFE.csv\")\n",
    "peptherdia=pd.read_csv(\"../../data/regular/PepTherDia.csv\")\n",
    "plifepred=pd.read_csv(\"../../data/regular/Plifepred.csv\")\n",
    "serum=pd.read_csv(\"../../data/regular/Serum.csv\")"
   ]
  },
  {
   "cell_type": "code",
   "execution_count": 38,
   "metadata": {},
   "outputs": [],
   "source": [
    "dataframes = {\n",
    "    \"Antiviral\": antiviral,\n",
    "    \"HLP_10\": hlp_10,\n",
    "    \"HLP_16\": hlp_16,\n",
    "    \"PEP_LIFE\": peplife,\n",
    "    \"PepTherDia\": peptherdia,\n",
    "    \"Plifepred\": plifepred,\n",
    "    \"Serum\": serum\n",
    "}"
   ]
  },
  {
   "cell_type": "code",
   "execution_count": 39,
   "metadata": {},
   "outputs": [],
   "source": [
    "#peptherdia y plifepred tienen por modificacion"
   ]
  },
  {
   "cell_type": "code",
   "execution_count": 40,
   "metadata": {},
   "outputs": [
    {
     "name": "stdout",
     "output_type": "stream",
     "text": [
      "DataFrame: Antiviral, Duplicated Rows Shape: (457, 5)\n",
      "DataFrame: Antiviral, Unique Rows Shape: (3316, 5)\n",
      "DataFrame: Antiviral, Duplicated Rows Shape: (439, 6)\n",
      "DataFrame: Antiviral, Unique Rows Shape: (3281, 6)\n",
      "DataFrame: HLP_10, Duplicated Rows Shape: (0, 4)\n",
      "DataFrame: HLP_10, Unique Rows Shape: (189, 4)\n",
      "DataFrame: HLP_10, Duplicated Rows Shape: (0, 5)\n",
      "DataFrame: HLP_10, Unique Rows Shape: (189, 5)\n",
      "DataFrame: HLP_16, Duplicated Rows Shape: (0, 4)\n",
      "DataFrame: HLP_16, Unique Rows Shape: (186, 4)\n",
      "DataFrame: HLP_16, Duplicated Rows Shape: (0, 5)\n",
      "DataFrame: HLP_16, Unique Rows Shape: (186, 5)\n",
      "DataFrame: PEP_LIFE, Duplicated Rows Shape: (194, 5)\n",
      "DataFrame: PEP_LIFE, Unique Rows Shape: (937, 5)\n",
      "DataFrame: PEP_LIFE, Duplicated Rows Shape: (181, 6)\n",
      "DataFrame: PEP_LIFE, Unique Rows Shape: (884, 6)\n",
      "DataFrame: PepTherDia, Duplicated Rows Shape: (4, 5)\n",
      "DataFrame: PepTherDia, Unique Rows Shape: (38, 5)\n",
      "DataFrame: PepTherDia, Duplicated Rows Shape: (4, 6)\n",
      "DataFrame: PepTherDia, Unique Rows Shape: (38, 6)\n",
      "DataFrame: Plifepred, Duplicated Rows Shape: (13, 5)\n",
      "DataFrame: Plifepred, Unique Rows Shape: (248, 5)\n",
      "DataFrame: Plifepred, Duplicated Rows Shape: (13, 6)\n",
      "DataFrame: Plifepred, Unique Rows Shape: (248, 6)\n",
      "DataFrame: Serum, Duplicated Rows Shape: (66, 5)\n",
      "DataFrame: Serum, Unique Rows Shape: (263, 5)\n",
      "DataFrame: Serum, Duplicated Rows Shape: (62, 6)\n",
      "DataFrame: Serum, Unique Rows Shape: (254, 6)\n"
     ]
    }
   ],
   "source": [
    "for name, df in dataframes.items():\n",
    "    if name == 'PepTherDia' or name == 'Plifepred':\n",
    "        funct.show_duplicates(dataframes[name], name, 'sequence', 'modifications')\n",
    "    else:\n",
    "        funct.show_duplicates(dataframes[name], name, 'sequence', 'experimental_characteristics')\n",
    "    df[\"length_sequence\"] = df[\"sequence\"].str.len()\n",
    "    dataframes[name] = df[df[\"length_sequence\"] < 50]\n",
    "    if name == 'PepTherDia' or name == 'Plifepred':\n",
    "        funct.show_duplicates(dataframes[name], name, 'sequence', 'modifications')\n",
    "    else:\n",
    "        funct.show_duplicates(dataframes[name], name, 'sequence', 'experimental_characteristics')"
   ]
  },
  {
   "cell_type": "code",
   "execution_count": 41,
   "metadata": {},
   "outputs": [
    {
     "name": "stdout",
     "output_type": "stream",
     "text": [
      "Procesando dataframe: Antiviral\n",
      "DataFrame: Antiviral, Duplicated Rows Shape: (0, 6)\n",
      "DataFrame: Antiviral, Unique Rows Shape: (3456, 6)\n",
      "Procesando dataframe: HLP_10\n",
      "DataFrame: HLP_10, Duplicated Rows Shape: (0, 5)\n",
      "DataFrame: HLP_10, Unique Rows Shape: (189, 5)\n",
      "Procesando dataframe: HLP_16\n",
      "DataFrame: HLP_16, Duplicated Rows Shape: (0, 5)\n",
      "DataFrame: HLP_16, Unique Rows Shape: (186, 5)\n",
      "Procesando dataframe: PEP_LIFE\n",
      "DataFrame: PEP_LIFE, Duplicated Rows Shape: (2, 6)\n",
      "DataFrame: PEP_LIFE, Unique Rows Shape: (893, 6)\n",
      "Procesando dataframe: PepTherDia\n",
      "DataFrame: PepTherDia, Duplicated Rows Shape: (0, 6)\n",
      "DataFrame: PepTherDia, Unique Rows Shape: (38, 6)\n",
      "Procesando dataframe: Plifepred\n",
      "DataFrame: Plifepred, Duplicated Rows Shape: (0, 6)\n",
      "DataFrame: Plifepred, Unique Rows Shape: (248, 6)\n",
      "Procesando dataframe: Serum\n",
      "DataFrame: Serum, Duplicated Rows Shape: (0, 6)\n",
      "DataFrame: Serum, Unique Rows Shape: (254, 6)\n"
     ]
    }
   ],
   "source": [
    "for name, df in dataframes.items():\n",
    "    print(f\"Procesando dataframe: {name}\")\n",
    "    if name == 'PepTherDia' or name == 'Plifepred':\n",
    "        dfres = funct.remove_duplicates(df, pd, 'sequence', 'modifications', 'half_life_seconds')\n",
    "        funct.show_duplicates(dfres, name, 'sequence', 'modifications')\n",
    "\n",
    "    else:\n",
    "        dfres = funct.remove_duplicates(df, pd, 'sequence', 'experimental_characteristics', 'half_life_seconds')\n",
    "        funct.show_duplicates(dfres, name, 'sequence', 'experimental_characteristics')\n",
    "    dataframes[name] = dfres "
   ]
  },
  {
   "cell_type": "code",
   "execution_count": 42,
   "metadata": {},
   "outputs": [
    {
     "name": "stdout",
     "output_type": "stream",
     "text": [
      "Antiviral: 1242 modificados, 2214 no modificados\n",
      "HLP_10: 0 modificados, 189 no modificados\n",
      "HLP_16: 0 modificados, 186 no modificados\n",
      "PEP_LIFE: 702 modificados, 193 no modificados\n",
      "PepTherDia: 38 modificados, 0 no modificados\n",
      "PepTherDia no se ha podido guardar en archivo csv porque no existen secuencias sin modificaciones\n",
      "Plifepred: 69 modificados, 179 no modificados\n",
      "Serum: 173 modificados, 81 no modificados\n"
     ]
    }
   ],
   "source": [
    "for key, dfres in dataframes.items():\n",
    "    dfres.reset_index(drop=True, inplace=True)  \n",
    "    count_mod = (dfres['is_mod'] == True).sum()   # Cuenta los modificados\n",
    "    count_nomod = (dfres['is_mod'] == False).sum()  # Cuenta los no modificados\n",
    "    \n",
    "    print(f\"{key}: {count_mod} modificados, {count_nomod} no modificados\")\n",
    "    dfres['hl_category'] = dfres['half_life_seconds'].apply(funct.categorize_hl) \n",
    "    #Esto actualiza el dataframe en el diccionario\n",
    "    dataframes[key] = dfres\n",
    "    #Esto filtra para solo los dataset que no tienen peptidos modificados\n",
    "    dfres = dfres[dfres['is_mod'] == False].copy()\n",
    "    #Se elimina columna is_mod\n",
    "    dfres.drop(columns=['is_mod'], inplace=True)\n",
    "    if 'modifications' in dfres.columns:\n",
    "        dfres.drop(columns=['modifications'], inplace=True)\n",
    "    #Verifica que el dataframe no estee vacio\n",
    "    if not dfres.empty:\n",
    "        dfres.to_csv(f\"../../data/not_mod/{key}_nomod.csv\", index=False)\n",
    "    else:\n",
    "        print(f\"{key} no se ha podido guardar en archivo csv porque no existen secuencias sin modificaciones\")"
   ]
  }
 ],
 "metadata": {
  "kernelspec": {
   "display_name": "ML_Class",
   "language": "python",
   "name": "python3"
  },
  "language_info": {
   "codemirror_mode": {
    "name": "ipython",
    "version": 3
   },
   "file_extension": ".py",
   "mimetype": "text/x-python",
   "name": "python",
   "nbconvert_exporter": "python",
   "pygments_lexer": "ipython3",
   "version": "3.9.20"
  }
 },
 "nbformat": 4,
 "nbformat_minor": 2
}
