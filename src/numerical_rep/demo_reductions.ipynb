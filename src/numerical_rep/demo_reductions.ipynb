{
 "cells": [
  {
   "cell_type": "code",
   "execution_count": 1,
   "metadata": {},
   "outputs": [],
   "source": [
    "import warnings\n",
    "warnings.filterwarnings('ignore')\n",
    "import pandas as pd\n",
    "import sys\n",
    "sys.path.insert(0, \"../../src/\")\n",
    "import seaborn as sns\n",
    "import matplotlib.pyplot as plt\n",
    "from dimensionality_reductions.linear_reductions import LinearReduction\n",
    "from dimensionality_reductions.non_linear_reductions import NonLinearReductions\n",
    "import math"
   ]
  },
  {
   "cell_type": "code",
   "execution_count": 2,
   "metadata": {},
   "outputs": [],
   "source": [
    "palette_values = ['#00B0BE', '#F45F74', '#98C127']\n",
    "colors = sns.color_palette(palette_values)"
   ]
  },
  {
   "cell_type": "code",
   "execution_count": 3,
   "metadata": {},
   "outputs": [],
   "source": [
    "name_repr_list = {\n",
    "    \"basic\": [\n",
    "        \"ordinal_antiviral_homology_90\", \n",
    "        \"one_hot_antiviral_homology_90\", \n",
    "        \"frequency_antiviral_homology_90\"\n",
    "    ],\n",
    "     \"demo\": [\n",
    "        \"demo_antiviral_homology_90_esm1b_t33_650M_UR50S\",\n",
    "        \"demo_antiviral_homology_90_esm2_t6_8M_UR50D\",\n",
    "        \"demo_antiviral_homology_90_esm2_t12_35M_UR50D\",\n",
    "        \"demo_antiviral_homology_90_esm2_t36_3B_UR50D\",\n",
    "        \"demo_antiviral_homology_90_prot_t5_xl_bfd\",\n",
    "        #\"demo_antiviral_homology_90_prot_t5_xl_uniref50\",\n",
    "    ],\n",
    "    \"fft\": [\n",
    "        \"fft/fft_antiviral_homology_90_FASG760101\",\n",
    "        \"fft/fft_antiviral_homology_90_FAUJ880111\",\n",
    "        \"fft/fft_antiviral_homology_90_FAUJ880112\",\n",
    "        \"fft/fft_antiviral_homology_90_GEIM800101\",\n",
    "        \"fft/fft_antiviral_homology_90_GEIM800105\",\n",
    "        \"fft/fft_antiviral_homology_90_JOND750101\",\n",
    "        \"fft/fft_antiviral_homology_90_KLEP840101\",\n",
    "        \"fft/fft_antiviral_homology_90_ROBB760113\",\n",
    "        \"fft/fft_antiviral_homology_90_ZIMJ680104\",\n",
    "    ],\n",
    "    \"pc\": [\n",
    "        \"pc/pc_antiviral_homology_90_FASG760101\",\n",
    "        \"pc/pc_antiviral_homology_90_FAUJ880111\",\n",
    "        \"pc/pc_antiviral_homology_90_FAUJ880112\",\n",
    "        \"pc/pc_antiviral_homology_90_GEIM800101\",\n",
    "        \"pc/pc_antiviral_homology_90_GEIM800105\",\n",
    "        \"pc/pc_antiviral_homology_90_JOND750101\",\n",
    "        \"pc/pc_antiviral_homology_90_KLEP840101\",\n",
    "        \"pc/pc_antiviral_homology_90_ROBB760113\",\n",
    "        \"pc/pc_antiviral_homology_90_ZIMJ680104\",\n",
    "    ]\n",
    "}"
   ]
  },
  {
   "cell_type": "code",
   "execution_count": 4,
   "metadata": {},
   "outputs": [],
   "source": [
    "def plot_group(group_name, repr_list, visualization_type):\n",
    "    n = len(repr_list)\n",
    "    cols = 3\n",
    "    rows = math.ceil(n / cols)\n",
    "\n",
    "    fig, axs = plt.subplots(rows, cols, figsize=(cols * 5, rows * 4))\n",
    "    axs = axs.flatten()\n",
    "\n",
    "    for i, name_repr in enumerate(repr_list):\n",
    "        df_data = pd.read_csv(f\"../../results_demos/{name_repr}.csv\")\n",
    "        df_values = df_data.drop(columns=[\"target\", \"experimental_characteristics\"])\n",
    "\n",
    "        if visualization_type==\"PCA\":\n",
    "            linear_instance = LinearReduction(dataset=df_values)\n",
    "            pca_instance, transform_values_pca = linear_instance.applyPCA()\n",
    "            transform_values_pca[\"target\"] = df_data[\"target\"].values\n",
    "\n",
    "            sns.scatterplot(data=transform_values_pca, x=\"p_1\", y=\"p_2\", hue=\"target\", palette=colors, ax=axs[i])\n",
    "        elif visualization_type==\"UMAP\" or visualization_type==\"TSNE\":\n",
    "            non_linear_instance = NonLinearReductions(dataset=df_values)\n",
    "            if visualization_type == \"UMAP\":\n",
    "                transform_values_umap = non_linear_instance.applyUMAP()\n",
    "                transform_values_umap[\"target\"] = df_data[\"target\"].values\n",
    "                sns.scatterplot(data=transform_values_umap, x=\"p_1\", y=\"p_2\", hue=\"target\", palette=colors, ax=axs[i])\n",
    "            else:\n",
    "                transform_values_tsne = non_linear_instance.applyTSNE()\n",
    "                transform_values_tsne[\"target\"] = df_data[\"target\"].values\n",
    "                sns.scatterplot(data=transform_values_tsne, x=\"p_1\", y=\"p_2\", hue=\"target\", palette=colors, ax=axs[i])\n",
    "\n",
    "        axs[i].set_title(name_repr.split(\"/\")[-1], fontsize=10)\n",
    "        axs[i].legend().remove()\n",
    "    # Oculta los subplots sobrantes\n",
    "    for j in range(i + 1, len(axs)):\n",
    "        axs[j].axis('off')\n",
    "\n",
    "    plt.tight_layout()\n",
    "    plt.savefig(f\"../../img/{visualization_type}_group_{group_name}.png\", dpi=300, bbox_inches='tight')\n",
    "    plt.close()"
   ]
  },
  {
   "cell_type": "code",
   "execution_count": null,
   "metadata": {},
   "outputs": [],
   "source": [
    "# Ejecuta para cada grupo\n",
    "for group_name, repr_list in name_repr_list.items():\n",
    "    #plot_group(group_name, repr_list, 'PCA')\n",
    "    plot_group(group_name, repr_list, 'UMAP')\n",
    "    #plot_group(group_name, repr_list, 'TSNE')"
   ]
  }
 ],
 "metadata": {
  "kernelspec": {
   "display_name": "ML_Class",
   "language": "python",
   "name": "python3"
  },
  "language_info": {
   "codemirror_mode": {
    "name": "ipython",
    "version": 3
   },
   "file_extension": ".py",
   "mimetype": "text/x-python",
   "name": "python",
   "nbconvert_exporter": "python",
   "pygments_lexer": "ipython3",
   "version": "3.9.20"
  }
 },
 "nbformat": 4,
 "nbformat_minor": 2
}
