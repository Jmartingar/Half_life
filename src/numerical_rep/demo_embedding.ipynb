{
 "cells": [
  {
   "cell_type": "code",
   "execution_count": 25,
   "metadata": {},
   "outputs": [],
   "source": [
    "import pandas as pd\n",
    "import sys\n",
    "sys.path.insert(0, \"../../src/\")\n",
    "\n",
    "import torch\n",
    "\n",
    "from embedding_representation.ESMBasedEmbedding import ESMBasedEmbedding\n",
    "from embedding_representation.MistralBasedEmbedding import MistralBasedEmbedding\n",
    "from embedding_representation.Prot5BasedEmbedding import Prot5BasedEmbedding"
   ]
  },
  {
   "cell_type": "code",
   "execution_count": 26,
   "metadata": {},
   "outputs": [],
   "source": [
    "torch.cuda.empty_cache()"
   ]
  },
  {
   "cell_type": "code",
   "execution_count": 27,
   "metadata": {},
   "outputs": [],
   "source": [
    "model_table = pd.DataFrame({\n",
    "    \"model_name\": [\n",
    "        \"Rostlab/prot_t5_xl_uniref50\",\n",
    "        \"Rostlab/prot_t5_xl_bfd\",\n",
    "        \"RaphaelMourad/Mistral-Peptide-v1-15M\",\n",
    "        \"RaphaelMourad/Mistral-Peptide-v1-134M\",\n",
    "        \"RaphaelMourad/Mistral-Peptide-v1-422M\"\n",
    "    ],\n",
    "    \"embedding_dim\": [\n",
    "        1024,\n",
    "        1024,\n",
    "        256,\n",
    "        768,\n",
    "        768\n",
    "    ]\n",
    "})"
   ]
  },
  {
   "cell_type": "code",
   "execution_count": 28,
   "metadata": {},
   "outputs": [],
   "source": [
    "def get_embedding_class(model_name):\n",
    "    if model_name.startswith(\"facebook/\"):\n",
    "        return ESMBasedEmbedding\n",
    "    elif model_name.startswith(\"Rostlab/\"):\n",
    "        return Prot5BasedEmbedding\n",
    "    elif model_name.startswith(\"RaphaelMourad/\"):\n",
    "        return MistralBasedEmbedding\n",
    "    else:\n",
    "        raise ValueError(f\"No se reconoce clase para el modelo: {model_name}\")"
   ]
  },
  {
   "cell_type": "code",
   "execution_count": 29,
   "metadata": {},
   "outputs": [],
   "source": [
    "def process_model(row, df_data):\n",
    "    import gc\n",
    "    # Se obtiene el nombre del modelo y la dimensión de embedding\n",
    "    model_name = row[\"model_name\"]\n",
    "    embedding_dim = row[\"embedding_dim\"]\n",
    "    model_id = model_name.split(\"/\")[-1]\n",
    "\n",
    "    print(f\"{model_name} is processing...\")\n",
    "\n",
    "    # Se define device: forzamos CPU si es ProtT5\n",
    "    if \"prot_t5\" in model_name.lower():\n",
    "        device_name = \"cpu\"\n",
    "    else:\n",
    "        device_name = \"cuda\" if torch.cuda.is_available() else \"cpu\"\n",
    "\n",
    "    # Se crea la clase de embedding\n",
    "    EmbeddingClass = get_embedding_class(model_name)\n",
    "    model = EmbeddingClass(\n",
    "        name_model=model_name,\n",
    "        name_tokenizer=model_name,\n",
    "        dataset=df_data,\n",
    "        column_seq=\"sequence\",\n",
    "        columns_ignore=[\"target\"],\n",
    "        name_device=device_name\n",
    "    )\n",
    "\n",
    "    # Se carga el modelo y el tokenizer\n",
    "    model.loadModelTokenizer()\n",
    "\n",
    "    # Se generan embeddings\n",
    "    model.getEmbedding()\n",
    "\n",
    "    # Se reduce dimensionalidad a 1D\n",
    "    reduced_embedding = model.reduceEmbedding(\n",
    "        type_reduction=1,\n",
    "        embedding_matrix=model.embeddings,\n",
    "        dimension_based=1\n",
    "    )\n",
    "    reduced_embedding[\"target\"] = df_data[\"target\"].values\n",
    "\n",
    "    model.exportingEmbeddings(\n",
    "        embeddings=reduced_embedding,\n",
    "        name_export=f\"../../results_demos/demo_{name_data}_{model_id}\"\n",
    "    )\n",
    "\n",
    "    # Zero Padding\n",
    "    embeddings_processed = model.zeroPaddingEmbedding(\n",
    "        embedding_matrix=model.embeddings,\n",
    "        max_length=50,\n",
    "        embedding_dimension=embedding_dim\n",
    "    )\n",
    "\n",
    "    model.exportingEmbeddings(\n",
    "        embeddings=embeddings_processed,\n",
    "        type_export=2,\n",
    "        name_export=f\"../../results_demos/demo_non_reduced_{name_data}_{model_id}\",\n",
    "        extension=\"npz\"\n",
    "    )\n",
    "\n",
    "    # Liberar memoria\n",
    "    del model\n",
    "    torch.cuda.empty_cache()\n",
    "    gc.collect()\n",
    "\n",
    "    return f\"{model_id} is done\"\n"
   ]
  },
  {
   "cell_type": "code",
   "execution_count": 30,
   "metadata": {},
   "outputs": [],
   "source": [
    "name_data = \"antiviral_homology_90\"\n",
    "df_data = pd.read_csv(f\"../../dataset_demos/{name_data}.csv\")"
   ]
  },
  {
   "cell_type": "code",
   "execution_count": null,
   "metadata": {},
   "outputs": [
    {
     "name": "stdout",
     "output_type": "stream",
     "text": [
      "Rostlab/prot_t5_xl_uniref50 is processing...\n",
      "Using device:  cpu\n"
     ]
    }
   ],
   "source": [
    "results = model_table.apply(process_model, axis=1, df_data=df_data)\n",
    "print(results)"
   ]
  }
 ],
 "metadata": {
  "kernelspec": {
   "display_name": "ML_Class",
   "language": "python",
   "name": "python3"
  },
  "language_info": {
   "codemirror_mode": {
    "name": "ipython",
    "version": 3
   },
   "file_extension": ".py",
   "mimetype": "text/x-python",
   "name": "python",
   "nbconvert_exporter": "python",
   "pygments_lexer": "ipython3",
   "version": "3.9.20"
  }
 },
 "nbformat": 4,
 "nbformat_minor": 2
}
