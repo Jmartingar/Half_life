{
 "cells": [
  {
   "cell_type": "markdown",
   "id": "3c4c7312",
   "metadata": {},
   "source": [
    "## Demo embedding extraction\n",
    "\n",
    "This notebook shows how to use the embedding extraction module for generating numerical representation using the pre-trained models.\n",
    "\n",
    "The following family of pre-trained models is available for testing\n",
    "\n",
    "- Prot5Based\n",
    "- ESMBasedEmbedding\n",
    "- Ankh2BasedEmbedding\n",
    "- BertBasedMebedding\n",
    "- MistralBasedEmbedding"
   ]
  },
  {
   "cell_type": "code",
   "execution_count": 27,
   "id": "67f933e5",
   "metadata": {},
   "outputs": [],
   "source": [
    "import warnings\n",
    "warnings.filterwarnings(\"ignore\")"
   ]
  },
  {
   "cell_type": "code",
   "execution_count": 28,
   "id": "08911398",
   "metadata": {},
   "outputs": [],
   "source": [
    "import sys\n",
    "sys.path.insert(0, \"../../utils/\")"
   ]
  },
  {
   "cell_type": "code",
   "execution_count": 29,
   "id": "e6a1a34a",
   "metadata": {},
   "outputs": [],
   "source": [
    "import pandas as pd"
   ]
  },
  {
   "cell_type": "markdown",
   "id": "017a8709",
   "metadata": {},
   "source": [
    "- Loading modules"
   ]
  },
  {
   "cell_type": "code",
   "execution_count": 30,
   "id": "6456dad0",
   "metadata": {},
   "outputs": [
    {
     "ename": "ModuleNotFoundError",
     "evalue": "No module named 'umap'",
     "output_type": "error",
     "traceback": [
      "\u001b[0;31m---------------------------------------------------------------------------\u001b[0m",
      "\u001b[0;31mModuleNotFoundError\u001b[0m                       Traceback (most recent call last)",
      "Cell \u001b[0;32mIn[30], line 5\u001b[0m\n\u001b[1;32m      3\u001b[0m \u001b[38;5;28;01mfrom\u001b[39;00m\u001b[38;5;250m \u001b[39m\u001b[38;5;21;01membedding_extraction\u001b[39;00m\u001b[38;5;21;01m.\u001b[39;00m\u001b[38;5;21;01mbert_based\u001b[39;00m\u001b[38;5;250m \u001b[39m\u001b[38;5;28;01mimport\u001b[39;00m BertBasedMebedding\n\u001b[1;32m      4\u001b[0m \u001b[38;5;28;01mfrom\u001b[39;00m\u001b[38;5;250m \u001b[39m\u001b[38;5;21;01membedding_extraction\u001b[39;00m\u001b[38;5;21;01m.\u001b[39;00m\u001b[38;5;21;01mmistral_based\u001b[39;00m\u001b[38;5;250m \u001b[39m\u001b[38;5;28;01mimport\u001b[39;00m MistralBasedEmbedding\n\u001b[0;32m----> 5\u001b[0m \u001b[38;5;28;01mfrom\u001b[39;00m\u001b[38;5;250m \u001b[39m\u001b[38;5;21;01mdimensionality_reductions\u001b[39;00m\u001b[38;5;21;01m.\u001b[39;00m\u001b[38;5;21;01mnon_linear_reductions\u001b[39;00m\u001b[38;5;250m \u001b[39m\u001b[38;5;28;01mimport\u001b[39;00m NonLinearReductions\n",
      "File \u001b[0;32m~/Escritorio/Half_Life/HL/src/numerical_rep/../../utils/dimensionality_reductions/non_linear_reductions.py:5\u001b[0m\n\u001b[1;32m      1\u001b[0m \u001b[38;5;28;01mfrom\u001b[39;00m\u001b[38;5;250m \u001b[39m\u001b[38;5;21;01mdimensionality_reductions\u001b[39;00m\u001b[38;5;21;01m.\u001b[39;00m\u001b[38;5;21;01mreductionMethods\u001b[39;00m\u001b[38;5;250m \u001b[39m\u001b[38;5;28;01mimport\u001b[39;00m Reductions\n\u001b[1;32m      3\u001b[0m \u001b[38;5;28;01mfrom\u001b[39;00m\u001b[38;5;250m \u001b[39m\u001b[38;5;21;01msklearn\u001b[39;00m\u001b[38;5;21;01m.\u001b[39;00m\u001b[38;5;21;01mmanifold\u001b[39;00m\u001b[38;5;250m \u001b[39m\u001b[38;5;28;01mimport\u001b[39;00m (TSNE, Isomap, LocallyLinearEmbedding, \n\u001b[1;32m      4\u001b[0m                               MDS, SpectralEmbedding)\n\u001b[0;32m----> 5\u001b[0m \u001b[38;5;28;01mimport\u001b[39;00m\u001b[38;5;250m \u001b[39m\u001b[38;5;21;01mumap\u001b[39;00m\u001b[38;5;21;01m.\u001b[39;00m\u001b[38;5;21;01mumap_\u001b[39;00m\u001b[38;5;250m \u001b[39m\u001b[38;5;28;01mas\u001b[39;00m\u001b[38;5;250m \u001b[39m\u001b[38;5;21;01mumap\u001b[39;00m\n\u001b[1;32m      7\u001b[0m \u001b[38;5;28;01mclass\u001b[39;00m\u001b[38;5;250m \u001b[39m\u001b[38;5;21;01mNonLinearReductions\u001b[39;00m(Reductions):\n\u001b[1;32m      9\u001b[0m     \u001b[38;5;28;01mdef\u001b[39;00m\u001b[38;5;250m \u001b[39m\u001b[38;5;21m__init__\u001b[39m(\n\u001b[1;32m     10\u001b[0m             \u001b[38;5;28mself\u001b[39m,\n\u001b[1;32m     11\u001b[0m             dataset\u001b[38;5;241m=\u001b[39m\u001b[38;5;28;01mNone\u001b[39;00m):\n",
      "\u001b[0;31mModuleNotFoundError\u001b[0m: No module named 'umap'"
     ]
    }
   ],
   "source": [
    "from embedding_extraction.prot5_based import Prot5Based\n",
    "from embedding_extraction.esm_based import ESMBasedEmbedding\n",
    "from embedding_extraction.bert_based import BertBasedMebedding\n",
    "from embedding_extraction.mistral_based import MistralBasedEmbedding\n",
    "from dimensionality_reductions.non_linear_reductions import NonLinearReductions"
   ]
  },
  {
   "cell_type": "code",
   "execution_count": null,
   "id": "eaa816a9",
   "metadata": {},
   "outputs": [],
   "source": [
    "import seaborn as sns"
   ]
  },
  {
   "cell_type": "markdown",
   "id": "6eeca857",
   "metadata": {},
   "source": [
    "- Read AMP dataset and select only 10 examples"
   ]
  },
  {
   "cell_type": "code",
   "execution_count": null,
   "id": "c8143fc4",
   "metadata": {},
   "outputs": [],
   "source": [
    "name_data = \"antiviral_homology_90\"\n",
    "df_data = pd.read_csv(f\"../../dataset_demos/{name_data}.csv\")\n",
    "\n",
    "df_data.head(5)"
   ]
  },
  {
   "cell_type": "markdown",
   "id": "0e98227d",
   "metadata": {},
   "source": [
    "### ProT5 evaluation"
   ]
  },
  {
   "cell_type": "code",
   "execution_count": null,
   "id": "fa29dc84",
   "metadata": {},
   "outputs": [],
   "source": [
    "df_to_prot5 = df_data.copy()\n",
    "df_to_prot5[\"sequence\"] = df_to_prot5[\"sequence\"].apply(lambda x: \" \".join(x)) # this process is necessary for the application of the pre-trained model\n",
    "\n",
    "prot5_based = Prot5Based(\n",
    "    name_device=\"cuda\",\n",
    "    dataset=df_to_prot5,\n",
    "    name_model=\"Rostlab/ProstT5\",\n",
    "    name_tokenizer=\"Rostlab/ProstT5\",\n",
    "    column_seq=\"sequence\",\n",
    "    columns_ignore=[\"label\"],\n",
    ")\n",
    "\n",
    "print(\"Loading model/tokenizer\")\n",
    "prot5_based.load_model_tokenizer()\n",
    "\n",
    "print(\"Generating embedding\")\n",
    "df_embedding = prot5_based.embedding_process(batch_size=5)\n",
    "\n",
    "prot5_based.cleaning_memory()\n",
    "print(\"Process finished\")\n",
    "\n",
    "df_embedding"
   ]
  },
  {
   "cell_type": "code",
   "execution_count": null,
   "id": "ab239559",
   "metadata": {},
   "outputs": [],
   "source": [
    "df_values = df_embedding.drop(columns=[\"label\"])\n",
    "nonlinear_instance = NonLinearReductions(dataset=df_values)\n",
    "\n",
    "transform_values_umap = nonlinear_instance.applyUMAP()\n",
    "transform_values_umap[\"label\"] = df_embedding[\"label\"].values\n",
    "\n",
    "sns.scatterplot(data=transform_values_umap, x=\"p_1\", y=\"p_2\", hue=\"label\", palette=\"Set2\")\n"
   ]
  },
  {
   "cell_type": "markdown",
   "id": "faf53300",
   "metadata": {},
   "source": [
    "### ESM evaluation"
   ]
  },
  {
   "cell_type": "code",
   "execution_count": null,
   "id": "b62ec862",
   "metadata": {},
   "outputs": [],
   "source": [
    "esm_based = ESMBasedEmbedding(\n",
    "    name_device=\"cuda\",\n",
    "    dataset=df_data,\n",
    "    name_model=\"facebook/esm2_t6_8M_UR50D\",\n",
    "    name_tokenizer=\"facebook/esm2_t6_8M_UR50D\",\n",
    "    column_seq=\"sequence\",\n",
    "    columns_ignore=[\"label\"],\n",
    ")\n",
    "\n",
    "print(\"Loading model/tokenizer\")\n",
    "esm_based.load_model_tokenizer()\n",
    "\n",
    "print(\"Generating embedding\")\n",
    "df_embedding = esm_based.embedding_process(batch_size=5)\n",
    "\n",
    "esm_based.cleaning_memory()\n",
    "print(\"Process finished\")\n",
    "\n",
    "df_embedding"
   ]
  },
  {
   "cell_type": "code",
   "execution_count": null,
   "id": "12af0dbc",
   "metadata": {},
   "outputs": [],
   "source": [
    "df_values = df_embedding.drop(columns=[\"label\"])\n",
    "nonlinear_instance = NonLinearReductions(dataset=df_values)\n",
    "\n",
    "transform_values_umap = nonlinear_instance.applyUMAP()\n",
    "transform_values_umap[\"label\"] = df_embedding[\"label\"].values\n",
    "\n",
    "sns.scatterplot(data=transform_values_umap, x=\"p_1\", y=\"p_2\", hue=\"label\", palette=\"Set2\")\n"
   ]
  },
  {
   "cell_type": "markdown",
   "id": "b1c8ab71",
   "metadata": {},
   "source": [
    "### Bert evaluation"
   ]
  },
  {
   "cell_type": "code",
   "execution_count": null,
   "id": "d3bcc17f",
   "metadata": {},
   "outputs": [],
   "source": [
    "df_to_bert = df_data.copy()\n",
    "df_to_bert[\"sequence\"] = df_to_bert[\"sequence\"].apply(lambda x: \" \".join(x)) # this process is necessary for the application of the pre-trained model\n",
    "\n",
    "bert_based = BertBasedMebedding(\n",
    "    name_device=\"cuda\",\n",
    "    dataset=df_to_bert,\n",
    "    name_model=\"Rostlab/prot_bert_bfd_ss3\",\n",
    "    name_tokenizer=\"Rostlab/prot_bert_bfd_ss3\",\n",
    "    column_seq=\"sequence\",\n",
    "    columns_ignore=[\"label\"],\n",
    ")\n",
    "\n",
    "print(\"Loading model/tokenizer\")\n",
    "bert_based.load_model_tokenizer()\n",
    "\n",
    "print(\"Generating embedding\")\n",
    "df_embedding = bert_based.embedding_process(batch_size=5)\n",
    "\n",
    "bert_based.cleaning_memory()\n",
    "print(\"Process finished\")\n",
    "\n",
    "df_embedding"
   ]
  },
  {
   "cell_type": "code",
   "execution_count": null,
   "id": "04d2abb7",
   "metadata": {},
   "outputs": [],
   "source": [
    "df_values = df_embedding.drop(columns=[\"label\"])\n",
    "nonlinear_instance = NonLinearReductions(dataset=df_values)\n",
    "\n",
    "transform_values_umap = nonlinear_instance.applyUMAP()\n",
    "transform_values_umap[\"label\"] = df_embedding[\"label\"].values\n",
    "\n",
    "sns.scatterplot(data=transform_values_umap, x=\"p_1\", y=\"p_2\", hue=\"label\", palette=\"Set2\")\n"
   ]
  }
 ],
 "metadata": {
  "kernelspec": {
   "display_name": "ML_Class",
   "language": "python",
   "name": "python3"
  },
  "language_info": {
   "codemirror_mode": {
    "name": "ipython",
    "version": 3
   },
   "file_extension": ".py",
   "mimetype": "text/x-python",
   "name": "python",
   "nbconvert_exporter": "python",
   "pygments_lexer": "ipython3",
   "version": "3.9.20"
  }
 },
 "nbformat": 4,
 "nbformat_minor": 5
}
